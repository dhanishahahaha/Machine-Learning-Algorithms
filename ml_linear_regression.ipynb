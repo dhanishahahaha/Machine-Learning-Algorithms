{
  "nbformat": 4,
  "nbformat_minor": 0,
  "metadata": {
    "colab": {
      "provenance": []
    },
    "kernelspec": {
      "name": "python3",
      "display_name": "Python 3"
    },
    "language_info": {
      "name": "python"
    }
  },
  "cells": [
    {
      "cell_type": "code",
      "execution_count": null,
      "metadata": {
        "id": "m893QW-8QytO"
      },
      "outputs": [],
      "source": [
        "'''\n",
        "Linear Regression\n",
        "\n",
        "what is Linear Regression?\n",
        "- A supervised learning algorithm which predicts a output value based on single/multiple input values. \n",
        "- it works on the equation, Y=mX+C   where Y is the dependent variable/output\n",
        "                                     m is the slpoe of the line\n",
        "                                     X is the independent variable/input\n",
        "                                     C is the intercept of the line.\n",
        "\n",
        "There are different kinds of Linear Regression Model:-\n",
        "\n",
        "Simple Linear Regression: A linear regression model with one independent and one dependent variable.\n",
        "\n",
        "Multiple Linear Regression: A linear regression model with more than one independent variable and one dependent variable.\n",
        "\n",
        "Polynomial Linear Regression:  polynomial regression is a form of regression analysis in which the relationship between the independent variable x \n",
        "and the dependent variable y is modelled as an nth degree polynomial in x. \n",
        "or in simple words when the data is not linear.\n",
        "\n",
        "Regularisation: Regularization refers to techniques that are used to calibrate machine learning models in order to minimize the adjusted loss function \n",
        "and prevent overfitting or underfitting.\n",
        "'''"
      ]
    },
    {
      "cell_type": "code",
      "source": [
        "'''\n",
        "when do we use Linear Regression?\n",
        "when we are given a input value(s) and we want to predict the output values.\n",
        "\n",
        "for example: if we want to predict the packages of students based on the cgpa of the students, we use a linear regression model.\n",
        "prediction= m*cgpa + C\n",
        "\n",
        "in real life data is not exactly linear but it is sort of linear, and when the data is sort of linear it finds or gives a best fit line. \n",
        "'''"
      ],
      "metadata": {
        "id": "82j5Aqh7Uoro"
      },
      "execution_count": null,
      "outputs": []
    },
    {
      "cell_type": "code",
      "source": [
        "import matplotlib.pyplot as plt\n",
        "import numpy as np\n",
        "import pandas as pd\n",
        "from google.colab import files\n"
      ],
      "metadata": {
        "id": "Bj6CU2oZU51T"
      },
      "execution_count": null,
      "outputs": []
    },
    {
      "cell_type": "markdown",
      "source": [
        "Simple Linear Regression\n",
        "\n",
        "example 1"
      ],
      "metadata": {
        "id": "txSHh3-dozNx"
      }
    },
    {
      "cell_type": "code",
      "source": [
        "upload= files.upload()\n"
      ],
      "metadata": {
        "colab": {
          "base_uri": "https://localhost:8080/",
          "height": 73
        },
        "id": "OoGeUpZbU8Be",
        "outputId": "37f16046-84fb-4c09-b98a-6bc4079ae709"
      },
      "execution_count": null,
      "outputs": [
        {
          "output_type": "display_data",
          "data": {
            "text/plain": [
              "<IPython.core.display.HTML object>"
            ],
            "text/html": [
              "\n",
              "     <input type=\"file\" id=\"files-2a0ae16b-c455-4ccc-a4b2-ce8a5ff6ea32\" name=\"files[]\" multiple disabled\n",
              "        style=\"border:none\" />\n",
              "     <output id=\"result-2a0ae16b-c455-4ccc-a4b2-ce8a5ff6ea32\">\n",
              "      Upload widget is only available when the cell has been executed in the\n",
              "      current browser session. Please rerun this cell to enable.\n",
              "      </output>\n",
              "      <script>// Copyright 2017 Google LLC\n",
              "//\n",
              "// Licensed under the Apache License, Version 2.0 (the \"License\");\n",
              "// you may not use this file except in compliance with the License.\n",
              "// You may obtain a copy of the License at\n",
              "//\n",
              "//      http://www.apache.org/licenses/LICENSE-2.0\n",
              "//\n",
              "// Unless required by applicable law or agreed to in writing, software\n",
              "// distributed under the License is distributed on an \"AS IS\" BASIS,\n",
              "// WITHOUT WARRANTIES OR CONDITIONS OF ANY KIND, either express or implied.\n",
              "// See the License for the specific language governing permissions and\n",
              "// limitations under the License.\n",
              "\n",
              "/**\n",
              " * @fileoverview Helpers for google.colab Python module.\n",
              " */\n",
              "(function(scope) {\n",
              "function span(text, styleAttributes = {}) {\n",
              "  const element = document.createElement('span');\n",
              "  element.textContent = text;\n",
              "  for (const key of Object.keys(styleAttributes)) {\n",
              "    element.style[key] = styleAttributes[key];\n",
              "  }\n",
              "  return element;\n",
              "}\n",
              "\n",
              "// Max number of bytes which will be uploaded at a time.\n",
              "const MAX_PAYLOAD_SIZE = 100 * 1024;\n",
              "\n",
              "function _uploadFiles(inputId, outputId) {\n",
              "  const steps = uploadFilesStep(inputId, outputId);\n",
              "  const outputElement = document.getElementById(outputId);\n",
              "  // Cache steps on the outputElement to make it available for the next call\n",
              "  // to uploadFilesContinue from Python.\n",
              "  outputElement.steps = steps;\n",
              "\n",
              "  return _uploadFilesContinue(outputId);\n",
              "}\n",
              "\n",
              "// This is roughly an async generator (not supported in the browser yet),\n",
              "// where there are multiple asynchronous steps and the Python side is going\n",
              "// to poll for completion of each step.\n",
              "// This uses a Promise to block the python side on completion of each step,\n",
              "// then passes the result of the previous step as the input to the next step.\n",
              "function _uploadFilesContinue(outputId) {\n",
              "  const outputElement = document.getElementById(outputId);\n",
              "  const steps = outputElement.steps;\n",
              "\n",
              "  const next = steps.next(outputElement.lastPromiseValue);\n",
              "  return Promise.resolve(next.value.promise).then((value) => {\n",
              "    // Cache the last promise value to make it available to the next\n",
              "    // step of the generator.\n",
              "    outputElement.lastPromiseValue = value;\n",
              "    return next.value.response;\n",
              "  });\n",
              "}\n",
              "\n",
              "/**\n",
              " * Generator function which is called between each async step of the upload\n",
              " * process.\n",
              " * @param {string} inputId Element ID of the input file picker element.\n",
              " * @param {string} outputId Element ID of the output display.\n",
              " * @return {!Iterable<!Object>} Iterable of next steps.\n",
              " */\n",
              "function* uploadFilesStep(inputId, outputId) {\n",
              "  const inputElement = document.getElementById(inputId);\n",
              "  inputElement.disabled = false;\n",
              "\n",
              "  const outputElement = document.getElementById(outputId);\n",
              "  outputElement.innerHTML = '';\n",
              "\n",
              "  const pickedPromise = new Promise((resolve) => {\n",
              "    inputElement.addEventListener('change', (e) => {\n",
              "      resolve(e.target.files);\n",
              "    });\n",
              "  });\n",
              "\n",
              "  const cancel = document.createElement('button');\n",
              "  inputElement.parentElement.appendChild(cancel);\n",
              "  cancel.textContent = 'Cancel upload';\n",
              "  const cancelPromise = new Promise((resolve) => {\n",
              "    cancel.onclick = () => {\n",
              "      resolve(null);\n",
              "    };\n",
              "  });\n",
              "\n",
              "  // Wait for the user to pick the files.\n",
              "  const files = yield {\n",
              "    promise: Promise.race([pickedPromise, cancelPromise]),\n",
              "    response: {\n",
              "      action: 'starting',\n",
              "    }\n",
              "  };\n",
              "\n",
              "  cancel.remove();\n",
              "\n",
              "  // Disable the input element since further picks are not allowed.\n",
              "  inputElement.disabled = true;\n",
              "\n",
              "  if (!files) {\n",
              "    return {\n",
              "      response: {\n",
              "        action: 'complete',\n",
              "      }\n",
              "    };\n",
              "  }\n",
              "\n",
              "  for (const file of files) {\n",
              "    const li = document.createElement('li');\n",
              "    li.append(span(file.name, {fontWeight: 'bold'}));\n",
              "    li.append(span(\n",
              "        `(${file.type || 'n/a'}) - ${file.size} bytes, ` +\n",
              "        `last modified: ${\n",
              "            file.lastModifiedDate ? file.lastModifiedDate.toLocaleDateString() :\n",
              "                                    'n/a'} - `));\n",
              "    const percent = span('0% done');\n",
              "    li.appendChild(percent);\n",
              "\n",
              "    outputElement.appendChild(li);\n",
              "\n",
              "    const fileDataPromise = new Promise((resolve) => {\n",
              "      const reader = new FileReader();\n",
              "      reader.onload = (e) => {\n",
              "        resolve(e.target.result);\n",
              "      };\n",
              "      reader.readAsArrayBuffer(file);\n",
              "    });\n",
              "    // Wait for the data to be ready.\n",
              "    let fileData = yield {\n",
              "      promise: fileDataPromise,\n",
              "      response: {\n",
              "        action: 'continue',\n",
              "      }\n",
              "    };\n",
              "\n",
              "    // Use a chunked sending to avoid message size limits. See b/62115660.\n",
              "    let position = 0;\n",
              "    do {\n",
              "      const length = Math.min(fileData.byteLength - position, MAX_PAYLOAD_SIZE);\n",
              "      const chunk = new Uint8Array(fileData, position, length);\n",
              "      position += length;\n",
              "\n",
              "      const base64 = btoa(String.fromCharCode.apply(null, chunk));\n",
              "      yield {\n",
              "        response: {\n",
              "          action: 'append',\n",
              "          file: file.name,\n",
              "          data: base64,\n",
              "        },\n",
              "      };\n",
              "\n",
              "      let percentDone = fileData.byteLength === 0 ?\n",
              "          100 :\n",
              "          Math.round((position / fileData.byteLength) * 100);\n",
              "      percent.textContent = `${percentDone}% done`;\n",
              "\n",
              "    } while (position < fileData.byteLength);\n",
              "  }\n",
              "\n",
              "  // All done.\n",
              "  yield {\n",
              "    response: {\n",
              "      action: 'complete',\n",
              "    }\n",
              "  };\n",
              "}\n",
              "\n",
              "scope.google = scope.google || {};\n",
              "scope.google.colab = scope.google.colab || {};\n",
              "scope.google.colab._files = {\n",
              "  _uploadFiles,\n",
              "  _uploadFilesContinue,\n",
              "};\n",
              "})(self);\n",
              "</script> "
            ]
          },
          "metadata": {}
        },
        {
          "output_type": "stream",
          "name": "stdout",
          "text": [
            "Saving 1.01. Simple linear regression.csv to 1.01. Simple linear regression.csv\n"
          ]
        }
      ]
    },
    {
      "cell_type": "code",
      "source": [
        "df= pd.read_csv('1.01. Simple linear regression.csv')\n",
        "df.shape"
      ],
      "metadata": {
        "colab": {
          "base_uri": "https://localhost:8080/"
        },
        "id": "HeayHo_4U8II",
        "outputId": "7271f3c6-f284-4d3f-945c-0ee0e13837d3"
      },
      "execution_count": null,
      "outputs": [
        {
          "output_type": "execute_result",
          "data": {
            "text/plain": [
              "(84, 2)"
            ]
          },
          "metadata": {},
          "execution_count": 58
        }
      ]
    },
    {
      "cell_type": "code",
      "source": [
        "df.head()"
      ],
      "metadata": {
        "colab": {
          "base_uri": "https://localhost:8080/",
          "height": 206
        },
        "id": "jnJSqfl0U8Kd",
        "outputId": "dff7bee1-da95-46f0-a2df-b524ad7b4c61"
      },
      "execution_count": null,
      "outputs": [
        {
          "output_type": "execute_result",
          "data": {
            "text/plain": [
              "    SAT   GPA\n",
              "0  1714  2.40\n",
              "1  1664  2.52\n",
              "2  1760  2.54\n",
              "3  1685  2.74\n",
              "4  1693  2.83"
            ],
            "text/html": [
              "\n",
              "  <div id=\"df-c4377fde-6992-4b98-b7fa-dd47e5fb924a\">\n",
              "    <div class=\"colab-df-container\">\n",
              "      <div>\n",
              "<style scoped>\n",
              "    .dataframe tbody tr th:only-of-type {\n",
              "        vertical-align: middle;\n",
              "    }\n",
              "\n",
              "    .dataframe tbody tr th {\n",
              "        vertical-align: top;\n",
              "    }\n",
              "\n",
              "    .dataframe thead th {\n",
              "        text-align: right;\n",
              "    }\n",
              "</style>\n",
              "<table border=\"1\" class=\"dataframe\">\n",
              "  <thead>\n",
              "    <tr style=\"text-align: right;\">\n",
              "      <th></th>\n",
              "      <th>SAT</th>\n",
              "      <th>GPA</th>\n",
              "    </tr>\n",
              "  </thead>\n",
              "  <tbody>\n",
              "    <tr>\n",
              "      <th>0</th>\n",
              "      <td>1714</td>\n",
              "      <td>2.40</td>\n",
              "    </tr>\n",
              "    <tr>\n",
              "      <th>1</th>\n",
              "      <td>1664</td>\n",
              "      <td>2.52</td>\n",
              "    </tr>\n",
              "    <tr>\n",
              "      <th>2</th>\n",
              "      <td>1760</td>\n",
              "      <td>2.54</td>\n",
              "    </tr>\n",
              "    <tr>\n",
              "      <th>3</th>\n",
              "      <td>1685</td>\n",
              "      <td>2.74</td>\n",
              "    </tr>\n",
              "    <tr>\n",
              "      <th>4</th>\n",
              "      <td>1693</td>\n",
              "      <td>2.83</td>\n",
              "    </tr>\n",
              "  </tbody>\n",
              "</table>\n",
              "</div>\n",
              "      <button class=\"colab-df-convert\" onclick=\"convertToInteractive('df-c4377fde-6992-4b98-b7fa-dd47e5fb924a')\"\n",
              "              title=\"Convert this dataframe to an interactive table.\"\n",
              "              style=\"display:none;\">\n",
              "        \n",
              "  <svg xmlns=\"http://www.w3.org/2000/svg\" height=\"24px\"viewBox=\"0 0 24 24\"\n",
              "       width=\"24px\">\n",
              "    <path d=\"M0 0h24v24H0V0z\" fill=\"none\"/>\n",
              "    <path d=\"M18.56 5.44l.94 2.06.94-2.06 2.06-.94-2.06-.94-.94-2.06-.94 2.06-2.06.94zm-11 1L8.5 8.5l.94-2.06 2.06-.94-2.06-.94L8.5 2.5l-.94 2.06-2.06.94zm10 10l.94 2.06.94-2.06 2.06-.94-2.06-.94-.94-2.06-.94 2.06-2.06.94z\"/><path d=\"M17.41 7.96l-1.37-1.37c-.4-.4-.92-.59-1.43-.59-.52 0-1.04.2-1.43.59L10.3 9.45l-7.72 7.72c-.78.78-.78 2.05 0 2.83L4 21.41c.39.39.9.59 1.41.59.51 0 1.02-.2 1.41-.59l7.78-7.78 2.81-2.81c.8-.78.8-2.07 0-2.86zM5.41 20L4 18.59l7.72-7.72 1.47 1.35L5.41 20z\"/>\n",
              "  </svg>\n",
              "      </button>\n",
              "      \n",
              "  <style>\n",
              "    .colab-df-container {\n",
              "      display:flex;\n",
              "      flex-wrap:wrap;\n",
              "      gap: 12px;\n",
              "    }\n",
              "\n",
              "    .colab-df-convert {\n",
              "      background-color: #E8F0FE;\n",
              "      border: none;\n",
              "      border-radius: 50%;\n",
              "      cursor: pointer;\n",
              "      display: none;\n",
              "      fill: #1967D2;\n",
              "      height: 32px;\n",
              "      padding: 0 0 0 0;\n",
              "      width: 32px;\n",
              "    }\n",
              "\n",
              "    .colab-df-convert:hover {\n",
              "      background-color: #E2EBFA;\n",
              "      box-shadow: 0px 1px 2px rgba(60, 64, 67, 0.3), 0px 1px 3px 1px rgba(60, 64, 67, 0.15);\n",
              "      fill: #174EA6;\n",
              "    }\n",
              "\n",
              "    [theme=dark] .colab-df-convert {\n",
              "      background-color: #3B4455;\n",
              "      fill: #D2E3FC;\n",
              "    }\n",
              "\n",
              "    [theme=dark] .colab-df-convert:hover {\n",
              "      background-color: #434B5C;\n",
              "      box-shadow: 0px 1px 3px 1px rgba(0, 0, 0, 0.15);\n",
              "      filter: drop-shadow(0px 1px 2px rgba(0, 0, 0, 0.3));\n",
              "      fill: #FFFFFF;\n",
              "    }\n",
              "  </style>\n",
              "\n",
              "      <script>\n",
              "        const buttonEl =\n",
              "          document.querySelector('#df-c4377fde-6992-4b98-b7fa-dd47e5fb924a button.colab-df-convert');\n",
              "        buttonEl.style.display =\n",
              "          google.colab.kernel.accessAllowed ? 'block' : 'none';\n",
              "\n",
              "        async function convertToInteractive(key) {\n",
              "          const element = document.querySelector('#df-c4377fde-6992-4b98-b7fa-dd47e5fb924a');\n",
              "          const dataTable =\n",
              "            await google.colab.kernel.invokeFunction('convertToInteractive',\n",
              "                                                     [key], {});\n",
              "          if (!dataTable) return;\n",
              "\n",
              "          const docLinkHtml = 'Like what you see? Visit the ' +\n",
              "            '<a target=\"_blank\" href=https://colab.research.google.com/notebooks/data_table.ipynb>data table notebook</a>'\n",
              "            + ' to learn more about interactive tables.';\n",
              "          element.innerHTML = '';\n",
              "          dataTable['output_type'] = 'display_data';\n",
              "          await google.colab.output.renderOutput(dataTable, element);\n",
              "          const docLink = document.createElement('div');\n",
              "          docLink.innerHTML = docLinkHtml;\n",
              "          element.appendChild(docLink);\n",
              "        }\n",
              "      </script>\n",
              "    </div>\n",
              "  </div>\n",
              "  "
            ]
          },
          "metadata": {},
          "execution_count": 59
        }
      ]
    },
    {
      "cell_type": "code",
      "source": [
        "#looking at the data and its linear fit line.\n",
        "plt.scatter(df['SAT'],df['GPA'])\n",
        "plt.xlabel('SAT SCORE')\n",
        "plt.ylabel('GPA')"
      ],
      "metadata": {
        "colab": {
          "base_uri": "https://localhost:8080/",
          "height": 296
        },
        "id": "AOgT9nn1caGR",
        "outputId": "651d327b-880e-414e-af94-5c99f30f6c39"
      },
      "execution_count": null,
      "outputs": [
        {
          "output_type": "execute_result",
          "data": {
            "text/plain": [
              "Text(0, 0.5, 'GPA')"
            ]
          },
          "metadata": {},
          "execution_count": 60
        },
        {
          "output_type": "display_data",
          "data": {
            "text/plain": [
              "<Figure size 432x288 with 1 Axes>"
            ],
            "image/png": "[encoded data removed]"
          },
          "metadata": {
            "needs_background": "light"
          }
        }
      ]
    },
    {
      "cell_type": "code",
      "source": [
        "#separating x and y for independent and dependent variable\n",
        "x=df.iloc[:,0:1]\n",
        "y=df.iloc[:,-1]"
      ],
      "metadata": {
        "id": "yIUlx-g1ga6P"
      },
      "execution_count": 61,
      "outputs": []
    },
    {
      "cell_type": "code",
      "source": [
        "x"
      ],
      "metadata": {
        "colab": {
          "base_uri": "https://localhost:8080/",
          "height": 424
        },
        "id": "wlwx33_BgwHz",
        "outputId": "aa9bb60b-6626-4a40-82e7-cdf357f610cc"
      },
      "execution_count": 62,
      "outputs": [
        {
          "output_type": "execute_result",
          "data": {
            "text/plain": [
              "     SAT\n",
              "0   1714\n",
              "1   1664\n",
              "2   1760\n",
              "3   1685\n",
              "4   1693\n",
              "..   ...\n",
              "79  1936\n",
              "80  1810\n",
              "81  1987\n",
              "82  1962\n",
              "83  2050\n",
              "\n",
              "[84 rows x 1 columns]"
            ],
            "text/html": [
              "\n",
              "  <div id=\"df-689e6e25-0fb2-43f0-bb2a-98e5764e4668\">\n",
              "    <div class=\"colab-df-container\">\n",
              "      <div>\n",
              "<style scoped>\n",
              "    .dataframe tbody tr th:only-of-type {\n",
              "        vertical-align: middle;\n",
              "    }\n",
              "\n",
              "    .dataframe tbody tr th {\n",
              "        vertical-align: top;\n",
              "    }\n",
              "\n",
              "    .dataframe thead th {\n",
              "        text-align: right;\n",
              "    }\n",
              "</style>\n",
              "<table border=\"1\" class=\"dataframe\">\n",
              "  <thead>\n",
              "    <tr style=\"text-align: right;\">\n",
              "      <th></th>\n",
              "      <th>SAT</th>\n",
              "    </tr>\n",
              "  </thead>\n",
              "  <tbody>\n",
              "    <tr>\n",
              "      <th>0</th>\n",
              "      <td>1714</td>\n",
              "    </tr>\n",
              "    <tr>\n",
              "      <th>1</th>\n",
              "      <td>1664</td>\n",
              "    </tr>\n",
              "    <tr>\n",
              "      <th>2</th>\n",
              "      <td>1760</td>\n",
              "    </tr>\n",
              "    <tr>\n",
              "      <th>3</th>\n",
              "      <td>1685</td>\n",
              "    </tr>\n",
              "    <tr>\n",
              "      <th>4</th>\n",
              "      <td>1693</td>\n",
              "    </tr>\n",
              "    <tr>\n",
              "      <th>...</th>\n",
              "      <td>...</td>\n",
              "    </tr>\n",
              "    <tr>\n",
              "      <th>79</th>\n",
              "      <td>1936</td>\n",
              "    </tr>\n",
              "    <tr>\n",
              "      <th>80</th>\n",
              "      <td>1810</td>\n",
              "    </tr>\n",
              "    <tr>\n",
              "      <th>81</th>\n",
              "      <td>1987</td>\n",
              "    </tr>\n",
              "    <tr>\n",
              "      <th>82</th>\n",
              "      <td>1962</td>\n",
              "    </tr>\n",
              "    <tr>\n",
              "      <th>83</th>\n",
              "      <td>2050</td>\n",
              "    </tr>\n",
              "  </tbody>\n",
              "</table>\n",
              "<p>84 rows × 1 columns</p>\n",
              "</div>\n",
              "      <button class=\"colab-df-convert\" onclick=\"convertToInteractive('df-689e6e25-0fb2-43f0-bb2a-98e5764e4668')\"\n",
              "              title=\"Convert this dataframe to an interactive table.\"\n",
              "              style=\"display:none;\">\n",
              "        \n",
              "  <svg xmlns=\"http://www.w3.org/2000/svg\" height=\"24px\"viewBox=\"0 0 24 24\"\n",
              "       width=\"24px\">\n",
              "    <path d=\"M0 0h24v24H0V0z\" fill=\"none\"/>\n",
              "    <path d=\"M18.56 5.44l.94 2.06.94-2.06 2.06-.94-2.06-.94-.94-2.06-.94 2.06-2.06.94zm-11 1L8.5 8.5l.94-2.06 2.06-.94-2.06-.94L8.5 2.5l-.94 2.06-2.06.94zm10 10l.94 2.06.94-2.06 2.06-.94-2.06-.94-.94-2.06-.94 2.06-2.06.94z\"/><path d=\"M17.41 7.96l-1.37-1.37c-.4-.4-.92-.59-1.43-.59-.52 0-1.04.2-1.43.59L10.3 9.45l-7.72 7.72c-.78.78-.78 2.05 0 2.83L4 21.41c.39.39.9.59 1.41.59.51 0 1.02-.2 1.41-.59l7.78-7.78 2.81-2.81c.8-.78.8-2.07 0-2.86zM5.41 20L4 18.59l7.72-7.72 1.47 1.35L5.41 20z\"/>\n",
              "  </svg>\n",
              "      </button>\n",
              "      \n",
              "  <style>\n",
              "    .colab-df-container {\n",
              "      display:flex;\n",
              "      flex-wrap:wrap;\n",
              "      gap: 12px;\n",
              "    }\n",
              "\n",
              "    .colab-df-convert {\n",
              "      background-color: #E8F0FE;\n",
              "      border: none;\n",
              "      border-radius: 50%;\n",
              "      cursor: pointer;\n",
              "      display: none;\n",
              "      fill: #1967D2;\n",
              "      height: 32px;\n",
              "      padding: 0 0 0 0;\n",
              "      width: 32px;\n",
              "    }\n",
              "\n",
              "    .colab-df-convert:hover {\n",
              "      background-color: #E2EBFA;\n",
              "      box-shadow: 0px 1px 2px rgba(60, 64, 67, 0.3), 0px 1px 3px 1px rgba(60, 64, 67, 0.15);\n",
              "      fill: #174EA6;\n",
              "    }\n",
              "\n",
              "    [theme=dark] .colab-df-convert {\n",
              "      background-color: #3B4455;\n",
              "      fill: #D2E3FC;\n",
              "    }\n",
              "\n",
              "    [theme=dark] .colab-df-convert:hover {\n",
              "      background-color: #434B5C;\n",
              "      box-shadow: 0px 1px 3px 1px rgba(0, 0, 0, 0.15);\n",
              "      filter: drop-shadow(0px 1px 2px rgba(0, 0, 0, 0.3));\n",
              "      fill: #FFFFFF;\n",
              "    }\n",
              "  </style>\n",
              "\n",
              "      <script>\n",
              "        const buttonEl =\n",
              "          document.querySelector('#df-689e6e25-0fb2-43f0-bb2a-98e5764e4668 button.colab-df-convert');\n",
              "        buttonEl.style.display =\n",
              "          google.colab.kernel.accessAllowed ? 'block' : 'none';\n",
              "\n",
              "        async function convertToInteractive(key) {\n",
              "          const element = document.querySelector('#df-689e6e25-0fb2-43f0-bb2a-98e5764e4668');\n",
              "          const dataTable =\n",
              "            await google.colab.kernel.invokeFunction('convertToInteractive',\n",
              "                                                     [key], {});\n",
              "          if (!dataTable) return;\n",
              "\n",
              "          const docLinkHtml = 'Like what you see? Visit the ' +\n",
              "            '<a target=\"_blank\" href=https://colab.research.google.com/notebooks/data_table.ipynb>data table notebook</a>'\n",
              "            + ' to learn more about interactive tables.';\n",
              "          element.innerHTML = '';\n",
              "          dataTable['output_type'] = 'display_data';\n",
              "          await google.colab.output.renderOutput(dataTable, element);\n",
              "          const docLink = document.createElement('div');\n",
              "          docLink.innerHTML = docLinkHtml;\n",
              "          element.appendChild(docLink);\n",
              "        }\n",
              "      </script>\n",
              "    </div>\n",
              "  </div>\n",
              "  "
            ]
          },
          "metadata": {},
          "execution_count": 62
        }
      ]
    },
    {
      "cell_type": "code",
      "source": [
        "y"
      ],
      "metadata": {
        "colab": {
          "base_uri": "https://localhost:8080/"
        },
        "id": "HrWnRV1Og1Me",
        "outputId": "28bc39ee-ca2c-435f-dfad-52788e364cdc"
      },
      "execution_count": 63,
      "outputs": [
        {
          "output_type": "execute_result",
          "data": {
            "text/plain": [
              "0     2.40\n",
              "1     2.52\n",
              "2     2.54\n",
              "3     2.74\n",
              "4     2.83\n",
              "      ... \n",
              "79    3.71\n",
              "80    3.71\n",
              "81    3.73\n",
              "82    3.76\n",
              "83    3.81\n",
              "Name: GPA, Length: 84, dtype: float64"
            ]
          },
          "metadata": {},
          "execution_count": 63
        }
      ]
    },
    {
      "cell_type": "code",
      "source": [
        "from sklearn.model_selection import train_test_split\n",
        "x_train, x_test, y_train, y_test= train_test_split(x,y, test_size=0.2, random_state=2)"
      ],
      "metadata": {
        "id": "6skfsdlGg3Od"
      },
      "execution_count": 64,
      "outputs": []
    },
    {
      "cell_type": "code",
      "source": [
        "from sklearn.linear_model import LinearRegression\n",
        "lr= LinearRegression()"
      ],
      "metadata": {
        "id": "ZnbWkAVzhCIR"
      },
      "execution_count": 65,
      "outputs": []
    },
    {
      "cell_type": "code",
      "source": [
        "#this fit method is used to train the data\n",
        "lr.fit(x_train,y_train)"
      ],
      "metadata": {
        "colab": {
          "base_uri": "https://localhost:8080/"
        },
        "id": "0qQTDjbnhc64",
        "outputId": "0e2b6af1-52cf-4411-d9b5-de196eae3fbc"
      },
      "execution_count": 66,
      "outputs": [
        {
          "output_type": "execute_result",
          "data": {
            "text/plain": [
              "LinearRegression()"
            ]
          },
          "metadata": {},
          "execution_count": 66
        }
      ]
    },
    {
      "cell_type": "code",
      "source": [
        "x_test"
      ],
      "metadata": {
        "colab": {
          "base_uri": "https://localhost:8080/",
          "height": 582
        },
        "id": "RUDd7YP1hs_8",
        "outputId": "62a6e710-6b12-4611-92c9-7c9de1aac833"
      },
      "execution_count": 67,
      "outputs": [
        {
          "output_type": "execute_result",
          "data": {
            "text/plain": [
              "     SAT\n",
              "11  1775\n",
              "0   1714\n",
              "77  2020\n",
              "28  2020\n",
              "78  1843\n",
              "59  1891\n",
              "14  1773\n",
              "29  1794\n",
              "79  1936\n",
              "62  1893\n",
              "41  1850\n",
              "23  1687\n",
              "25  1826\n",
              "21  1722\n",
              "13  1712\n",
              "71  1778\n",
              "27  1821"
            ],
            "text/html": [
              "\n",
              "  <div id=\"df-257b5498-db15-421a-b723-229c4020b726\">\n",
              "    <div class=\"colab-df-container\">\n",
              "      <div>\n",
              "<style scoped>\n",
              "    .dataframe tbody tr th:only-of-type {\n",
              "        vertical-align: middle;\n",
              "    }\n",
              "\n",
              "    .dataframe tbody tr th {\n",
              "        vertical-align: top;\n",
              "    }\n",
              "\n",
              "    .dataframe thead th {\n",
              "        text-align: right;\n",
              "    }\n",
              "</style>\n",
              "<table border=\"1\" class=\"dataframe\">\n",
              "  <thead>\n",
              "    <tr style=\"text-align: right;\">\n",
              "      <th></th>\n",
              "      <th>SAT</th>\n",
              "    </tr>\n",
              "  </thead>\n",
              "  <tbody>\n",
              "    <tr>\n",
              "      <th>11</th>\n",
              "      <td>1775</td>\n",
              "    </tr>\n",
              "    <tr>\n",
              "      <th>0</th>\n",
              "      <td>1714</td>\n",
              "    </tr>\n",
              "    <tr>\n",
              "      <th>77</th>\n",
              "      <td>2020</td>\n",
              "    </tr>\n",
              "    <tr>\n",
              "      <th>28</th>\n",
              "      <td>2020</td>\n",
              "    </tr>\n",
              "    <tr>\n",
              "      <th>78</th>\n",
              "      <td>1843</td>\n",
              "    </tr>\n",
              "    <tr>\n",
              "      <th>59</th>\n",
              "      <td>1891</td>\n",
              "    </tr>\n",
              "    <tr>\n",
              "      <th>14</th>\n",
              "      <td>1773</td>\n",
              "    </tr>\n",
              "    <tr>\n",
              "      <th>29</th>\n",
              "      <td>1794</td>\n",
              "    </tr>\n",
              "    <tr>\n",
              "      <th>79</th>\n",
              "      <td>1936</td>\n",
              "    </tr>\n",
              "    <tr>\n",
              "      <th>62</th>\n",
              "      <td>1893</td>\n",
              "    </tr>\n",
              "    <tr>\n",
              "      <th>41</th>\n",
              "      <td>1850</td>\n",
              "    </tr>\n",
              "    <tr>\n",
              "      <th>23</th>\n",
              "      <td>1687</td>\n",
              "    </tr>\n",
              "    <tr>\n",
              "      <th>25</th>\n",
              "      <td>1826</td>\n",
              "    </tr>\n",
              "    <tr>\n",
              "      <th>21</th>\n",
              "      <td>1722</td>\n",
              "    </tr>\n",
              "    <tr>\n",
              "      <th>13</th>\n",
              "      <td>1712</td>\n",
              "    </tr>\n",
              "    <tr>\n",
              "      <th>71</th>\n",
              "      <td>1778</td>\n",
              "    </tr>\n",
              "    <tr>\n",
              "      <th>27</th>\n",
              "      <td>1821</td>\n",
              "    </tr>\n",
              "  </tbody>\n",
              "</table>\n",
              "</div>\n",
              "      <button class=\"colab-df-convert\" onclick=\"convertToInteractive('df-257b5498-db15-421a-b723-229c4020b726')\"\n",
              "              title=\"Convert this dataframe to an interactive table.\"\n",
              "              style=\"display:none;\">\n",
              "        \n",
              "  <svg xmlns=\"http://www.w3.org/2000/svg\" height=\"24px\"viewBox=\"0 0 24 24\"\n",
              "       width=\"24px\">\n",
              "    <path d=\"M0 0h24v24H0V0z\" fill=\"none\"/>\n",
              "    <path d=\"M18.56 5.44l.94 2.06.94-2.06 2.06-.94-2.06-.94-.94-2.06-.94 2.06-2.06.94zm-11 1L8.5 8.5l.94-2.06 2.06-.94-2.06-.94L8.5 2.5l-.94 2.06-2.06.94zm10 10l.94 2.06.94-2.06 2.06-.94-2.06-.94-.94-2.06-.94 2.06-2.06.94z\"/><path d=\"M17.41 7.96l-1.37-1.37c-.4-.4-.92-.59-1.43-.59-.52 0-1.04.2-1.43.59L10.3 9.45l-7.72 7.72c-.78.78-.78 2.05 0 2.83L4 21.41c.39.39.9.59 1.41.59.51 0 1.02-.2 1.41-.59l7.78-7.78 2.81-2.81c.8-.78.8-2.07 0-2.86zM5.41 20L4 18.59l7.72-7.72 1.47 1.35L5.41 20z\"/>\n",
              "  </svg>\n",
              "      </button>\n",
              "      \n",
              "  <style>\n",
              "    .colab-df-container {\n",
              "      display:flex;\n",
              "      flex-wrap:wrap;\n",
              "      gap: 12px;\n",
              "    }\n",
              "\n",
              "    .colab-df-convert {\n",
              "      background-color: #E8F0FE;\n",
              "      border: none;\n",
              "      border-radius: 50%;\n",
              "      cursor: pointer;\n",
              "      display: none;\n",
              "      fill: #1967D2;\n",
              "      height: 32px;\n",
              "      padding: 0 0 0 0;\n",
              "      width: 32px;\n",
              "    }\n",
              "\n",
              "    .colab-df-convert:hover {\n",
              "      background-color: #E2EBFA;\n",
              "      box-shadow: 0px 1px 2px rgba(60, 64, 67, 0.3), 0px 1px 3px 1px rgba(60, 64, 67, 0.15);\n",
              "      fill: #174EA6;\n",
              "    }\n",
              "\n",
              "    [theme=dark] .colab-df-convert {\n",
              "      background-color: #3B4455;\n",
              "      fill: #D2E3FC;\n",
              "    }\n",
              "\n",
              "    [theme=dark] .colab-df-convert:hover {\n",
              "      background-color: #434B5C;\n",
              "      box-shadow: 0px 1px 3px 1px rgba(0, 0, 0, 0.15);\n",
              "      filter: drop-shadow(0px 1px 2px rgba(0, 0, 0, 0.3));\n",
              "      fill: #FFFFFF;\n",
              "    }\n",
              "  </style>\n",
              "\n",
              "      <script>\n",
              "        const buttonEl =\n",
              "          document.querySelector('#df-257b5498-db15-421a-b723-229c4020b726 button.colab-df-convert');\n",
              "        buttonEl.style.display =\n",
              "          google.colab.kernel.accessAllowed ? 'block' : 'none';\n",
              "\n",
              "        async function convertToInteractive(key) {\n",
              "          const element = document.querySelector('#df-257b5498-db15-421a-b723-229c4020b726');\n",
              "          const dataTable =\n",
              "            await google.colab.kernel.invokeFunction('convertToInteractive',\n",
              "                                                     [key], {});\n",
              "          if (!dataTable) return;\n",
              "\n",
              "          const docLinkHtml = 'Like what you see? Visit the ' +\n",
              "            '<a target=\"_blank\" href=https://colab.research.google.com/notebooks/data_table.ipynb>data table notebook</a>'\n",
              "            + ' to learn more about interactive tables.';\n",
              "          element.innerHTML = '';\n",
              "          dataTable['output_type'] = 'display_data';\n",
              "          await google.colab.output.renderOutput(dataTable, element);\n",
              "          const docLink = document.createElement('div');\n",
              "          docLink.innerHTML = docLinkHtml;\n",
              "          element.appendChild(docLink);\n",
              "        }\n",
              "      </script>\n",
              "    </div>\n",
              "  </div>\n",
              "  "
            ]
          },
          "metadata": {},
          "execution_count": 67
        }
      ]
    },
    {
      "cell_type": "code",
      "source": [
        "y_test"
      ],
      "metadata": {
        "colab": {
          "base_uri": "https://localhost:8080/"
        },
        "id": "n6rw0YFDhxQK",
        "outputId": "041eac99-eb68-4d5f-e9cd-346b717370e4"
      },
      "execution_count": 68,
      "outputs": [
        {
          "output_type": "execute_result",
          "data": {
            "text/plain": [
              "11    3.07\n",
              "0     2.40\n",
              "77    3.65\n",
              "28    3.28\n",
              "78    3.71\n",
              "59    3.48\n",
              "14    3.12\n",
              "29    3.28\n",
              "79    3.71\n",
              "62    3.50\n",
              "41    3.38\n",
              "23    3.21\n",
              "25    3.28\n",
              "21    3.19\n",
              "13    3.08\n",
              "71    3.59\n",
              "27    3.28\n",
              "Name: GPA, dtype: float64"
            ]
          },
          "metadata": {},
          "execution_count": 68
        }
      ]
    },
    {
      "cell_type": "code",
      "source": [
        "lr.predict(x_test.iloc[4].values.reshape(-1,1))"
      ],
      "metadata": {
        "colab": {
          "base_uri": "https://localhost:8080/"
        },
        "id": "2lFgSb66iDPY",
        "outputId": "87709554-5db9-44ed-cd16-7c773d6f99ed"
      },
      "execution_count": 69,
      "outputs": [
        {
          "output_type": "stream",
          "name": "stderr",
          "text": [
            "/usr/local/lib/python3.8/dist-packages/sklearn/base.py:450: UserWarning: X does not have valid feature names, but LinearRegression was fitted with feature names\n",
            "  warnings.warn(\n"
          ]
        },
        {
          "output_type": "execute_result",
          "data": {
            "text/plain": [
              "array([3.3250213])"
            ]
          },
          "metadata": {},
          "execution_count": 69
        }
      ]
    },
    {
      "cell_type": "code",
      "source": [
        "#plotting a best fit line\n",
        "plt.scatter(df['SAT'],df['GPA'])\n",
        "plt.plot(x_train,lr.predict(x_train),color='red')\n",
        "plt.xlabel('SAT SCORE')\n",
        "plt.ylabel('GPA')"
      ],
      "metadata": {
        "colab": {
          "base_uri": "https://localhost:8080/",
          "height": 296
        },
        "id": "m88EqF8Vj27V",
        "outputId": "de29b4c8-3bbf-40e2-e9b3-f2ba701339e4"
      },
      "execution_count": 70,
      "outputs": [
        {
          "output_type": "execute_result",
          "data": {
            "text/plain": [
              "Text(0, 0.5, 'GPA')"
            ]
          },
          "metadata": {},
          "execution_count": 70
        },
        {
          "output_type": "display_data",
          "data": {
            "text/plain": [
              "<Figure size 432x288 with 1 Axes>"
            ],
            "image/png": "[encoded data removed]"
          },
          "metadata": {
            "needs_background": "light"
          }
        }
      ]
    },
    {
      "cell_type": "code",
      "source": [
        "#looking for slope m and intercept c\n",
        "m= lr.coef_\n",
        "m"
      ],
      "metadata": {
        "colab": {
          "base_uri": "https://localhost:8080/"
        },
        "id": "v8nRGgkEl140",
        "outputId": "f5372e13-7a3f-4a88-ac1b-2a56b3d9793b"
      },
      "execution_count": 71,
      "outputs": [
        {
          "output_type": "execute_result",
          "data": {
            "text/plain": [
              "array([0.00161365])"
            ]
          },
          "metadata": {},
          "execution_count": 71
        }
      ]
    },
    {
      "cell_type": "code",
      "source": [
        "c= lr.intercept_\n",
        "c"
      ],
      "metadata": {
        "colab": {
          "base_uri": "https://localhost:8080/"
        },
        "id": "qDDE3ZlOmAyA",
        "outputId": "a4111b73-aca3-4269-9a39-80b9a0dec2b4"
      },
      "execution_count": 72,
      "outputs": [
        {
          "output_type": "execute_result",
          "data": {
            "text/plain": [
              "0.35106985312952865"
            ]
          },
          "metadata": {},
          "execution_count": 72
        }
      ]
    },
    {
      "cell_type": "code",
      "source": [
        "#y=m*X+c\n",
        "#gpa= m*sat + c\n",
        "m * 1857 + c"
      ],
      "metadata": {
        "colab": {
          "base_uri": "https://localhost:8080/"
        },
        "id": "ckbzrD-0mUkJ",
        "outputId": "4fb54cf7-534b-4cb5-a6e1-45827aca6519"
      },
      "execution_count": 73,
      "outputs": [
        {
          "output_type": "execute_result",
          "data": {
            "text/plain": [
              "array([3.34761235])"
            ]
          },
          "metadata": {},
          "execution_count": 73
        }
      ]
    },
    {
      "cell_type": "code",
      "source": [
        "#this means for the given sat score, following will be the gpa of the student.\n"
      ],
      "metadata": {
        "id": "gyVuVZmXnTt_"
      },
      "execution_count": 74,
      "outputs": []
    },
    {
      "cell_type": "markdown",
      "source": [
        "Different ways to find the value of m and c"
      ],
      "metadata": {
        "id": "OmruMowxpEiE"
      }
    },
    {
      "cell_type": "code",
      "source": [
        "'''\n",
        "there are 2 ways to find the value of m and c :\n",
        "\n",
        "1. Closed form expression: in mathematics, if we can form a formula to any problem using operations and functions. \n",
        "so one way is to use OLS (Oridinary Least Squares) which is also used by Scikit learn to find m and c. this is the direct formula.\n",
        "\n",
        "2. Non-Closed form expression: approximation based technique using differentiation called GRADIENT DESCENT.\n",
        "'''\n",
        "\n",
        "\n",
        "'''\n",
        "ques) why do we use gradient descent when we have direct formula?\n",
        "- when we work with higher dimensions of data it becomes very difficult to use the direct formula and it becomes efficient to use gradient descent.\n",
        "'''"
      ],
      "metadata": {
        "id": "rmGuEwCcn6yw"
      },
      "execution_count": null,
      "outputs": []
    },
    {
      "cell_type": "markdown",
      "source": [
        "b = Y-mX\n",
        "\n",
        "where\n",
        "\n",
        "![image.png](data:image/png;base64,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)"
      ],
      "metadata": {
        "id": "7B7eBHD5wkJ-"
      }
    },
    {
      "cell_type": "code",
      "source": [
        "#the prediction value in ML is represented by hat."
      ],
      "metadata": {
        "id": "Xl_Jgia69TlD"
      },
      "execution_count": 76,
      "outputs": []
    },
    {
      "cell_type": "code",
      "source": [
        "#error of best fit line: E= d1+d2+d3+...+dn    where n is the total number of points and d1,d2 are the distances of points.\n",
        "#                        E=d1sq+ d1sq+ d3sq+...+ dnsq squaring to make all distances positive\n",
        "#                        E= summation i=1 to n disq, we want such a value of m and c so that the value of this eq will be minimum.\n",
        "#                        di=(yi-yihat)  yi=actual value and yihat is value predicted by model\n",
        "#                        E= summation i=1 to n (yi-yihat)"
      ],
      "metadata": {
        "id": "70izIAK1vPoo"
      },
      "execution_count": 77,
      "outputs": []
    },
    {
      "cell_type": "markdown",
      "source": [
        "1/n is for mean average error. for total error 1/n can be removed.\n",
        "\n",
        "![image.png](data:image/png;base64,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)"
      ],
      "metadata": {
        "id": "dPu08zVu-oyO"
      }
    },
    {
      "cell_type": "code",
      "source": [
        "#         E(m,c)=summation i=1 to n (yi- mXi-b)sq\n",
        "#  finding the such a value of m and c so that the value of this eq will be minimum.\n",
        "#         E(m)=summation i=1 to n (yi- mXi)sq  if b=0, the line will pass through origin.\n",
        "#         E(c)=summation i=1 to n (yi- Xi-b)sq  if m=0\n",
        "# thus, the relationship between E,c and E,m is the same. "
      ],
      "metadata": {
        "id": "GmgMvgPzxgwW"
      },
      "execution_count": 78,
      "outputs": []
    },
    {
      "cell_type": "markdown",
      "source": [
        "3D visualisation of error function\n",
        "\n",
        "for a certain value of m and c the error is max at global maxima and for a certain value of m and c the error is max at global minima. At minima, m(slope)=0\n",
        "\n",
        "![image.png](data:image/png;base64,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)"
      ],
      "metadata": {
        "id": "OBPiFtcDCyjX"
      }
    },
    {
      "cell_type": "code",
      "source": [
        "#creating a python class using m and c\n",
        "class my_LR:\n",
        "   \n",
        "   def __init__(self):\n",
        "     self.m=None\n",
        "     self.c=None\n",
        "\n",
        "   def fit(self,x_train,y_train):\n",
        "\n",
        "     num=0\n",
        "     den=0\n",
        "     for i in range(x_train.shape[0]):                #the code will run 67 times\n",
        "       num = num + ((x_train[i] - x_train.mean())*(y_train[i] - y_train.mean()))\n",
        "       den = den + ((x_train[i] - x_train.mean())*(y_train[i] - y_train.mean()))\n",
        "     self.m = num/den\n",
        "     self.b = y_train.mean() - (self.m * x_train.mean())\n",
        "     print(self.m)\n",
        "     print(self.b)\n",
        "\n",
        "     \n",
        "   \n",
        "   def predict(self,x_test):\n",
        "     pass\n",
        "\n",
        "#here we will get x_train and y_train and we will train the model. in LR to train the model means to find/calculate the value of m and c."
      ],
      "metadata": {
        "id": "wgnCwlqwAQWw"
      },
      "execution_count": 79,
      "outputs": []
    },
    {
      "cell_type": "code",
      "source": [
        "#using the same dataset\n",
        "df= pd.read_csv('1.01. Simple linear regression.csv')\n",
        "df.shape"
      ],
      "metadata": {
        "colab": {
          "base_uri": "https://localhost:8080/"
        },
        "id": "g4q9FkKHD8yG",
        "outputId": "062a6764-a684-486e-f090-95e4872855d0"
      },
      "execution_count": 80,
      "outputs": [
        {
          "output_type": "execute_result",
          "data": {
            "text/plain": [
              "(84, 2)"
            ]
          },
          "metadata": {},
          "execution_count": 80
        }
      ]
    },
    {
      "cell_type": "code",
      "source": [
        "df.head()"
      ],
      "metadata": {
        "colab": {
          "base_uri": "https://localhost:8080/",
          "height": 206
        },
        "id": "Bc4r-AvQFqZa",
        "outputId": "8913ba87-5a2c-4bc9-c6dd-3a176c181f27"
      },
      "execution_count": 81,
      "outputs": [
        {
          "output_type": "execute_result",
          "data": {
            "text/plain": [
              "    SAT   GPA\n",
              "0  1714  2.40\n",
              "1  1664  2.52\n",
              "2  1760  2.54\n",
              "3  1685  2.74\n",
              "4  1693  2.83"
            ],
            "text/html": [
              "\n",
              "  <div id=\"df-bf12f2ce-8e4b-405a-9a98-4c9af384e723\">\n",
              "    <div class=\"colab-df-container\">\n",
              "      <div>\n",
              "<style scoped>\n",
              "    .dataframe tbody tr th:only-of-type {\n",
              "        vertical-align: middle;\n",
              "    }\n",
              "\n",
              "    .dataframe tbody tr th {\n",
              "        vertical-align: top;\n",
              "    }\n",
              "\n",
              "    .dataframe thead th {\n",
              "        text-align: right;\n",
              "    }\n",
              "</style>\n",
              "<table border=\"1\" class=\"dataframe\">\n",
              "  <thead>\n",
              "    <tr style=\"text-align: right;\">\n",
              "      <th></th>\n",
              "      <th>SAT</th>\n",
              "      <th>GPA</th>\n",
              "    </tr>\n",
              "  </thead>\n",
              "  <tbody>\n",
              "    <tr>\n",
              "      <th>0</th>\n",
              "      <td>1714</td>\n",
              "      <td>2.40</td>\n",
              "    </tr>\n",
              "    <tr>\n",
              "      <th>1</th>\n",
              "      <td>1664</td>\n",
              "      <td>2.52</td>\n",
              "    </tr>\n",
              "    <tr>\n",
              "      <th>2</th>\n",
              "      <td>1760</td>\n",
              "      <td>2.54</td>\n",
              "    </tr>\n",
              "    <tr>\n",
              "      <th>3</th>\n",
              "      <td>1685</td>\n",
              "      <td>2.74</td>\n",
              "    </tr>\n",
              "    <tr>\n",
              "      <th>4</th>\n",
              "      <td>1693</td>\n",
              "      <td>2.83</td>\n",
              "    </tr>\n",
              "  </tbody>\n",
              "</table>\n",
              "</div>\n",
              "      <button class=\"colab-df-convert\" onclick=\"convertToInteractive('df-bf12f2ce-8e4b-405a-9a98-4c9af384e723')\"\n",
              "              title=\"Convert this dataframe to an interactive table.\"\n",
              "              style=\"display:none;\">\n",
              "        \n",
              "  <svg xmlns=\"http://www.w3.org/2000/svg\" height=\"24px\"viewBox=\"0 0 24 24\"\n",
              "       width=\"24px\">\n",
              "    <path d=\"M0 0h24v24H0V0z\" fill=\"none\"/>\n",
              "    <path d=\"M18.56 5.44l.94 2.06.94-2.06 2.06-.94-2.06-.94-.94-2.06-.94 2.06-2.06.94zm-11 1L8.5 8.5l.94-2.06 2.06-.94-2.06-.94L8.5 2.5l-.94 2.06-2.06.94zm10 10l.94 2.06.94-2.06 2.06-.94-2.06-.94-.94-2.06-.94 2.06-2.06.94z\"/><path d=\"M17.41 7.96l-1.37-1.37c-.4-.4-.92-.59-1.43-.59-.52 0-1.04.2-1.43.59L10.3 9.45l-7.72 7.72c-.78.78-.78 2.05 0 2.83L4 21.41c.39.39.9.59 1.41.59.51 0 1.02-.2 1.41-.59l7.78-7.78 2.81-2.81c.8-.78.8-2.07 0-2.86zM5.41 20L4 18.59l7.72-7.72 1.47 1.35L5.41 20z\"/>\n",
              "  </svg>\n",
              "      </button>\n",
              "      \n",
              "  <style>\n",
              "    .colab-df-container {\n",
              "      display:flex;\n",
              "      flex-wrap:wrap;\n",
              "      gap: 12px;\n",
              "    }\n",
              "\n",
              "    .colab-df-convert {\n",
              "      background-color: #E8F0FE;\n",
              "      border: none;\n",
              "      border-radius: 50%;\n",
              "      cursor: pointer;\n",
              "      display: none;\n",
              "      fill: #1967D2;\n",
              "      height: 32px;\n",
              "      padding: 0 0 0 0;\n",
              "      width: 32px;\n",
              "    }\n",
              "\n",
              "    .colab-df-convert:hover {\n",
              "      background-color: #E2EBFA;\n",
              "      box-shadow: 0px 1px 2px rgba(60, 64, 67, 0.3), 0px 1px 3px 1px rgba(60, 64, 67, 0.15);\n",
              "      fill: #174EA6;\n",
              "    }\n",
              "\n",
              "    [theme=dark] .colab-df-convert {\n",
              "      background-color: #3B4455;\n",
              "      fill: #D2E3FC;\n",
              "    }\n",
              "\n",
              "    [theme=dark] .colab-df-convert:hover {\n",
              "      background-color: #434B5C;\n",
              "      box-shadow: 0px 1px 3px 1px rgba(0, 0, 0, 0.15);\n",
              "      filter: drop-shadow(0px 1px 2px rgba(0, 0, 0, 0.3));\n",
              "      fill: #FFFFFF;\n",
              "    }\n",
              "  </style>\n",
              "\n",
              "      <script>\n",
              "        const buttonEl =\n",
              "          document.querySelector('#df-bf12f2ce-8e4b-405a-9a98-4c9af384e723 button.colab-df-convert');\n",
              "        buttonEl.style.display =\n",
              "          google.colab.kernel.accessAllowed ? 'block' : 'none';\n",
              "\n",
              "        async function convertToInteractive(key) {\n",
              "          const element = document.querySelector('#df-bf12f2ce-8e4b-405a-9a98-4c9af384e723');\n",
              "          const dataTable =\n",
              "            await google.colab.kernel.invokeFunction('convertToInteractive',\n",
              "                                                     [key], {});\n",
              "          if (!dataTable) return;\n",
              "\n",
              "          const docLinkHtml = 'Like what you see? Visit the ' +\n",
              "            '<a target=\"_blank\" href=https://colab.research.google.com/notebooks/data_table.ipynb>data table notebook</a>'\n",
              "            + ' to learn more about interactive tables.';\n",
              "          element.innerHTML = '';\n",
              "          dataTable['output_type'] = 'display_data';\n",
              "          await google.colab.output.renderOutput(dataTable, element);\n",
              "          const docLink = document.createElement('div');\n",
              "          docLink.innerHTML = docLinkHtml;\n",
              "          element.appendChild(docLink);\n",
              "        }\n",
              "      </script>\n",
              "    </div>\n",
              "  </div>\n",
              "  "
            ]
          },
          "metadata": {},
          "execution_count": 81
        }
      ]
    },
    {
      "cell_type": "code",
      "source": [
        "#segregating the values of x and y\n",
        "x= df.iloc[:,0].values         #:,0 means all rows and 0th column\n",
        "y= df.iloc[:,1].values         #:,1 means all rows and 1st column"
      ],
      "metadata": {
        "id": "xnwwE4bhFqbs"
      },
      "execution_count": 82,
      "outputs": []
    },
    {
      "cell_type": "code",
      "source": [
        "#all sat scores\n",
        "x"
      ],
      "metadata": {
        "colab": {
          "base_uri": "https://localhost:8080/"
        },
        "id": "dVm1XxhPFqfq",
        "outputId": "44c04548-bd89-47f4-a363-61fdb194a047"
      },
      "execution_count": 83,
      "outputs": [
        {
          "output_type": "execute_result",
          "data": {
            "text/plain": [
              "array([1714, 1664, 1760, 1685, 1693, 1670, 1764, 1764, 1792, 1850, 1735,\n",
              "       1775, 1735, 1712, 1773, 1872, 1755, 1674, 1842, 1786, 1761, 1722,\n",
              "       1663, 1687, 1974, 1826, 1787, 1821, 2020, 1794, 1769, 1934, 1775,\n",
              "       1855, 1880, 1849, 1808, 1954, 1777, 1831, 1865, 1850, 1966, 1702,\n",
              "       1990, 1925, 1824, 1956, 1857, 1979, 1802, 1855, 1907, 1634, 1879,\n",
              "       1887, 1730, 1953, 1781, 1891, 1964, 1808, 1893, 2041, 1893, 1832,\n",
              "       1850, 1934, 1861, 1931, 1933, 1778, 1975, 1934, 2021, 2015, 1997,\n",
              "       2020, 1843, 1936, 1810, 1987, 1962, 2050])"
            ]
          },
          "metadata": {},
          "execution_count": 83
        }
      ]
    },
    {
      "cell_type": "code",
      "source": [
        "#all gpa values\n",
        "y"
      ],
      "metadata": {
        "colab": {
          "base_uri": "https://localhost:8080/"
        },
        "id": "mWzow6W6D81I",
        "outputId": "6467498a-e04e-48ee-8c96-63060b6bafcc"
      },
      "execution_count": 84,
      "outputs": [
        {
          "output_type": "execute_result",
          "data": {
            "text/plain": [
              "array([2.4 , 2.52, 2.54, 2.74, 2.83, 2.91, 3.  , 3.  , 3.01, 3.01, 3.02,\n",
              "       3.07, 3.08, 3.08, 3.12, 3.17, 3.17, 3.17, 3.17, 3.19, 3.19, 3.19,\n",
              "       3.2 , 3.21, 3.24, 3.28, 3.28, 3.28, 3.28, 3.28, 3.28, 3.28, 3.29,\n",
              "       3.29, 3.29, 3.31, 3.32, 3.34, 3.37, 3.37, 3.37, 3.38, 3.38, 3.39,\n",
              "       3.39, 3.4 , 3.4 , 3.4 , 3.41, 3.41, 3.41, 3.42, 3.42, 3.42, 3.44,\n",
              "       3.47, 3.47, 3.47, 3.47, 3.48, 3.49, 3.49, 3.5 , 3.51, 3.51, 3.52,\n",
              "       3.52, 3.54, 3.58, 3.58, 3.59, 3.59, 3.6 , 3.6 , 3.61, 3.62, 3.64,\n",
              "       3.65, 3.71, 3.71, 3.71, 3.73, 3.76, 3.81])"
            ]
          },
          "metadata": {},
          "execution_count": 84
        }
      ]
    },
    {
      "cell_type": "code",
      "source": [
        "from sklearn.model_selection import train_test_split\n",
        "x_train, x_test, y_train, y_test= train_test_split(x,y, test_size=0.2, random_state=2)"
      ],
      "metadata": {
        "id": "OqTfWjHKD85B"
      },
      "execution_count": 85,
      "outputs": []
    },
    {
      "cell_type": "code",
      "source": [
        "x_train.shape"
      ],
      "metadata": {
        "colab": {
          "base_uri": "https://localhost:8080/"
        },
        "id": "B4Fk6_OwD883",
        "outputId": "d2e0f09f-2826-47d7-d28a-5994d94c1098"
      },
      "execution_count": 86,
      "outputs": [
        {
          "output_type": "execute_result",
          "data": {
            "text/plain": [
              "(67,)"
            ]
          },
          "metadata": {},
          "execution_count": 86
        }
      ]
    },
    {
      "cell_type": "code",
      "source": [
        "model= my_LR()"
      ],
      "metadata": {
        "id": "y_zP7k2cD9CE"
      },
      "execution_count": 87,
      "outputs": []
    },
    {
      "cell_type": "code",
      "source": [
        "model.fit(x_train,y_train)  #we got the values of m and b"
      ],
      "metadata": {
        "colab": {
          "base_uri": "https://localhost:8080/"
        },
        "id": "0Jr5nB1NAQZx",
        "outputId": "91216a28-9f8a-473d-b227-e736dda7b3a6"
      },
      "execution_count": 88,
      "outputs": [
        {
          "output_type": "stream",
          "name": "stdout",
          "text": [
            "1.0\n",
            "-1846.633880597015\n"
          ]
        }
      ]
    },
    {
      "cell_type": "code",
      "source": [
        "x_train.shape[0] "
      ],
      "metadata": {
        "colab": {
          "base_uri": "https://localhost:8080/"
        },
        "id": "Oq8Tya4kAQbl",
        "outputId": "9c113c23-dcfb-4356-f11b-ee68d0ef9ac7"
      },
      "execution_count": 89,
      "outputs": [
        {
          "output_type": "execute_result",
          "data": {
            "text/plain": [
              "67"
            ]
          },
          "metadata": {},
          "execution_count": 89
        }
      ]
    },
    {
      "cell_type": "markdown",
      "source": [
        "Regression Metrics:\n",
        "\n",
        "1 MAE- MEAN ABSOLUTE ERROR\n",
        "\n",
        "![image.png](data:image/png;base64,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)\n",
        "\n",
        "\n",
        "advantages of MAE:\n",
        "\n",
        "1.the unit of MAE and the output column is same so it becomes easy to compare/calculate the loss.\n",
        "\n",
        "2.robust to outliers, or handles them.\n",
        "\n",
        "\n",
        "disadvantges of MAE:\n",
        "\n",
        "\n",
        "1.the graph of modulus function is not differentiable at zero. this is the reason why we had to introduce MSE.\n",
        "\n",
        "\n",
        "\n",
        "2 MSE- MEAN SQUARED ERROR\n",
        "\n",
        "\n",
        "the only difference is rather than using the mod we use the square function.\n",
        "\n",
        "\n",
        "![image.png](data:image/png;base64,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)\n",
        "\n",
        "\n",
        "the graph of square function is differentiable at all the points.\n",
        "\n",
        "\n",
        "advantage of MSE:\n",
        "\n",
        "1.can be used as a loss function since it is differentiable.\n",
        "\n",
        "\n",
        "\n",
        "dis-advantage of MSE:\n",
        "\n",
        "1.not robust(strong) to outliers.\n",
        "\n",
        "\n",
        "\n",
        "3 RMSE- ROOT MEAN SQUARED ERROR\n",
        "\n",
        "\n",
        "makes a smaller value smaller and larger value larger.\n",
        "\n",
        "\n",
        "\n",
        "![image.png](data:image/png;base64,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)\n",
        "\n",
        "its properties are very similar to that of MSE and its graph is also differentiable.\n",
        "\n",
        "\n",
        "advantage of RMSE:\n",
        "\n",
        "1.same unit\n",
        "\n",
        "\n",
        "\n",
        "disadvantage of RMSE:\n",
        "\n",
        "1.not robust to outliers.\n",
        "\n",
        "\n",
        "\n",
        "\n",
        "4 R2 SCORE- COEFFICIENT OF DETERMINATION\n",
        "\n",
        "\n",
        "if we had only one input data, we could either take the mean and that is the worst case or we could use linear regression that is the best. the comparision of the worst and best is R2SCORE. \n",
        "\n",
        "OR\n",
        "\n",
        "\n",
        "R2 SCORE is the value you get after comparing the mean value and the linear regression value.\n",
        "\n",
        "It is also known as 'goodness of fit'.\n",
        "\n",
        "![image.png](data:image/png;base64,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)\n",
        "\n",
        "\n",
        "\n",
        "![image.png](data:image/png;base64,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)\n",
        "\n",
        "\n",
        "if R2 SCORE= 0, the model is very bad, then we can say the mean line and the regression line are overlapping. \n",
        "\n",
        "\n",
        "R2 score nearest to 1 is towards perfection and closer to 0 is worsening of model.\n",
        "\n",
        "the R2 score should not be negative. it means that the linear regression model is doing more mistakes than the mean.\n",
        "\n",
        "\n",
        "\n",
        "5 ADJUSTED R2 SCORE-\n",
        "\n",
        "sometimes even after adding irrelevant columns to the data the R2SCORE either remains the same or increases, due to this we introduced ADJUSTED R2 SCORE.\n",
        "\n",
        "\n",
        "![image.png](data:image/png;base64,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)\n",
        "\n",
        "\n",
        "so after this if we add a irrelevant column the ADJUSTED R2SCORE decreases.\n",
        "and if some revent column is added ADJUSTED R2SCORE increases.\n"
      ],
      "metadata": {
        "id": "r76cYkmz0Dd3"
      }
    },
    {
      "cell_type": "code",
      "source": [
        "#if the data has too many outliers we should go with MAE and if it has less outliers we should go with less outliers.\n",
        "\n",
        "#if we are working wth multiple regression or data of too many columns, calculating ADJUSTED R2SCORE is a good idea."
      ],
      "metadata": {
        "id": "YRPeq5ufAQe1"
      },
      "execution_count": 91,
      "outputs": []
    },
    {
      "cell_type": "code",
      "source": [
        "#using the same dataset calculating MAE, MSE, RMSE, R2SCORE, ADJUSTED R2 SCORE\n",
        "df = pd.read_csv('1.01. Simple linear regression.csv')\n",
        "df.head()"
      ],
      "metadata": {
        "colab": {
          "base_uri": "https://localhost:8080/",
          "height": 206
        },
        "id": "UrB67OQjBrD8",
        "outputId": "b1a35ec3-7039-401d-93e1-32164a1df61d"
      },
      "execution_count": 92,
      "outputs": [
        {
          "output_type": "execute_result",
          "data": {
            "text/plain": [
              "    SAT   GPA\n",
              "0  1714  2.40\n",
              "1  1664  2.52\n",
              "2  1760  2.54\n",
              "3  1685  2.74\n",
              "4  1693  2.83"
            ],
            "text/html": [
              "\n",
              "  <div id=\"df-af2c4fe5-fd49-4794-bd42-63e9d78f2364\">\n",
              "    <div class=\"colab-df-container\">\n",
              "      <div>\n",
              "<style scoped>\n",
              "    .dataframe tbody tr th:only-of-type {\n",
              "        vertical-align: middle;\n",
              "    }\n",
              "\n",
              "    .dataframe tbody tr th {\n",
              "        vertical-align: top;\n",
              "    }\n",
              "\n",
              "    .dataframe thead th {\n",
              "        text-align: right;\n",
              "    }\n",
              "</style>\n",
              "<table border=\"1\" class=\"dataframe\">\n",
              "  <thead>\n",
              "    <tr style=\"text-align: right;\">\n",
              "      <th></th>\n",
              "      <th>SAT</th>\n",
              "      <th>GPA</th>\n",
              "    </tr>\n",
              "  </thead>\n",
              "  <tbody>\n",
              "    <tr>\n",
              "      <th>0</th>\n",
              "      <td>1714</td>\n",
              "      <td>2.40</td>\n",
              "    </tr>\n",
              "    <tr>\n",
              "      <th>1</th>\n",
              "      <td>1664</td>\n",
              "      <td>2.52</td>\n",
              "    </tr>\n",
              "    <tr>\n",
              "      <th>2</th>\n",
              "      <td>1760</td>\n",
              "      <td>2.54</td>\n",
              "    </tr>\n",
              "    <tr>\n",
              "      <th>3</th>\n",
              "      <td>1685</td>\n",
              "      <td>2.74</td>\n",
              "    </tr>\n",
              "    <tr>\n",
              "      <th>4</th>\n",
              "      <td>1693</td>\n",
              "      <td>2.83</td>\n",
              "    </tr>\n",
              "  </tbody>\n",
              "</table>\n",
              "</div>\n",
              "      <button class=\"colab-df-convert\" onclick=\"convertToInteractive('df-af2c4fe5-fd49-4794-bd42-63e9d78f2364')\"\n",
              "              title=\"Convert this dataframe to an interactive table.\"\n",
              "              style=\"display:none;\">\n",
              "        \n",
              "  <svg xmlns=\"http://www.w3.org/2000/svg\" height=\"24px\"viewBox=\"0 0 24 24\"\n",
              "       width=\"24px\">\n",
              "    <path d=\"M0 0h24v24H0V0z\" fill=\"none\"/>\n",
              "    <path d=\"M18.56 5.44l.94 2.06.94-2.06 2.06-.94-2.06-.94-.94-2.06-.94 2.06-2.06.94zm-11 1L8.5 8.5l.94-2.06 2.06-.94-2.06-.94L8.5 2.5l-.94 2.06-2.06.94zm10 10l.94 2.06.94-2.06 2.06-.94-2.06-.94-.94-2.06-.94 2.06-2.06.94z\"/><path d=\"M17.41 7.96l-1.37-1.37c-.4-.4-.92-.59-1.43-.59-.52 0-1.04.2-1.43.59L10.3 9.45l-7.72 7.72c-.78.78-.78 2.05 0 2.83L4 21.41c.39.39.9.59 1.41.59.51 0 1.02-.2 1.41-.59l7.78-7.78 2.81-2.81c.8-.78.8-2.07 0-2.86zM5.41 20L4 18.59l7.72-7.72 1.47 1.35L5.41 20z\"/>\n",
              "  </svg>\n",
              "      </button>\n",
              "      \n",
              "  <style>\n",
              "    .colab-df-container {\n",
              "      display:flex;\n",
              "      flex-wrap:wrap;\n",
              "      gap: 12px;\n",
              "    }\n",
              "\n",
              "    .colab-df-convert {\n",
              "      background-color: #E8F0FE;\n",
              "      border: none;\n",
              "      border-radius: 50%;\n",
              "      cursor: pointer;\n",
              "      display: none;\n",
              "      fill: #1967D2;\n",
              "      height: 32px;\n",
              "      padding: 0 0 0 0;\n",
              "      width: 32px;\n",
              "    }\n",
              "\n",
              "    .colab-df-convert:hover {\n",
              "      background-color: #E2EBFA;\n",
              "      box-shadow: 0px 1px 2px rgba(60, 64, 67, 0.3), 0px 1px 3px 1px rgba(60, 64, 67, 0.15);\n",
              "      fill: #174EA6;\n",
              "    }\n",
              "\n",
              "    [theme=dark] .colab-df-convert {\n",
              "      background-color: #3B4455;\n",
              "      fill: #D2E3FC;\n",
              "    }\n",
              "\n",
              "    [theme=dark] .colab-df-convert:hover {\n",
              "      background-color: #434B5C;\n",
              "      box-shadow: 0px 1px 3px 1px rgba(0, 0, 0, 0.15);\n",
              "      filter: drop-shadow(0px 1px 2px rgba(0, 0, 0, 0.3));\n",
              "      fill: #FFFFFF;\n",
              "    }\n",
              "  </style>\n",
              "\n",
              "      <script>\n",
              "        const buttonEl =\n",
              "          document.querySelector('#df-af2c4fe5-fd49-4794-bd42-63e9d78f2364 button.colab-df-convert');\n",
              "        buttonEl.style.display =\n",
              "          google.colab.kernel.accessAllowed ? 'block' : 'none';\n",
              "\n",
              "        async function convertToInteractive(key) {\n",
              "          const element = document.querySelector('#df-af2c4fe5-fd49-4794-bd42-63e9d78f2364');\n",
              "          const dataTable =\n",
              "            await google.colab.kernel.invokeFunction('convertToInteractive',\n",
              "                                                     [key], {});\n",
              "          if (!dataTable) return;\n",
              "\n",
              "          const docLinkHtml = 'Like what you see? Visit the ' +\n",
              "            '<a target=\"_blank\" href=https://colab.research.google.com/notebooks/data_table.ipynb>data table notebook</a>'\n",
              "            + ' to learn more about interactive tables.';\n",
              "          element.innerHTML = '';\n",
              "          dataTable['output_type'] = 'display_data';\n",
              "          await google.colab.output.renderOutput(dataTable, element);\n",
              "          const docLink = document.createElement('div');\n",
              "          docLink.innerHTML = docLinkHtml;\n",
              "          element.appendChild(docLink);\n",
              "        }\n",
              "      </script>\n",
              "    </div>\n",
              "  </div>\n",
              "  "
            ]
          },
          "metadata": {},
          "execution_count": 92
        }
      ]
    },
    {
      "cell_type": "code",
      "source": [
        "plt.scatter(df['SAT'],df['GPA'])\n",
        "plt.xlabel('SAT')\n",
        "plt.ylabel('GPA')"
      ],
      "metadata": {
        "colab": {
          "base_uri": "https://localhost:8080/",
          "height": 296
        },
        "id": "d2YMu6hKCAiZ",
        "outputId": "6a774798-d306-465c-d146-c64211242870"
      },
      "execution_count": 93,
      "outputs": [
        {
          "output_type": "execute_result",
          "data": {
            "text/plain": [
              "Text(0, 0.5, 'GPA')"
            ]
          },
          "metadata": {},
          "execution_count": 93
        },
        {
          "output_type": "display_data",
          "data": {
            "text/plain": [
              "<Figure size 432x288 with 1 Axes>"
            ],
            "image/png": "[encoded data removed]"
          },
          "metadata": {
            "needs_background": "light"
          }
        }
      ]
    },
    {
      "cell_type": "code",
      "source": [
        "#segregating x and y\n",
        "x=df.iloc[:,0:1]\n",
        "y=df.iloc[:,-1]"
      ],
      "metadata": {
        "id": "Bon7VXqXCTRs"
      },
      "execution_count": 94,
      "outputs": []
    },
    {
      "cell_type": "code",
      "source": [
        "x"
      ],
      "metadata": {
        "colab": {
          "base_uri": "https://localhost:8080/",
          "height": 424
        },
        "id": "KgCAT4paCkA1",
        "outputId": "985579ec-4a8a-4a93-f639-61b7e43bdc54"
      },
      "execution_count": 95,
      "outputs": [
        {
          "output_type": "execute_result",
          "data": {
            "text/plain": [
              "     SAT\n",
              "0   1714\n",
              "1   1664\n",
              "2   1760\n",
              "3   1685\n",
              "4   1693\n",
              "..   ...\n",
              "79  1936\n",
              "80  1810\n",
              "81  1987\n",
              "82  1962\n",
              "83  2050\n",
              "\n",
              "[84 rows x 1 columns]"
            ],
            "text/html": [
              "\n",
              "  <div id=\"df-d1f9fd90-1d22-473c-ba45-f8cb91459d28\">\n",
              "    <div class=\"colab-df-container\">\n",
              "      <div>\n",
              "<style scoped>\n",
              "    .dataframe tbody tr th:only-of-type {\n",
              "        vertical-align: middle;\n",
              "    }\n",
              "\n",
              "    .dataframe tbody tr th {\n",
              "        vertical-align: top;\n",
              "    }\n",
              "\n",
              "    .dataframe thead th {\n",
              "        text-align: right;\n",
              "    }\n",
              "</style>\n",
              "<table border=\"1\" class=\"dataframe\">\n",
              "  <thead>\n",
              "    <tr style=\"text-align: right;\">\n",
              "      <th></th>\n",
              "      <th>SAT</th>\n",
              "    </tr>\n",
              "  </thead>\n",
              "  <tbody>\n",
              "    <tr>\n",
              "      <th>0</th>\n",
              "      <td>1714</td>\n",
              "    </tr>\n",
              "    <tr>\n",
              "      <th>1</th>\n",
              "      <td>1664</td>\n",
              "    </tr>\n",
              "    <tr>\n",
              "      <th>2</th>\n",
              "      <td>1760</td>\n",
              "    </tr>\n",
              "    <tr>\n",
              "      <th>3</th>\n",
              "      <td>1685</td>\n",
              "    </tr>\n",
              "    <tr>\n",
              "      <th>4</th>\n",
              "      <td>1693</td>\n",
              "    </tr>\n",
              "    <tr>\n",
              "      <th>...</th>\n",
              "      <td>...</td>\n",
              "    </tr>\n",
              "    <tr>\n",
              "      <th>79</th>\n",
              "      <td>1936</td>\n",
              "    </tr>\n",
              "    <tr>\n",
              "      <th>80</th>\n",
              "      <td>1810</td>\n",
              "    </tr>\n",
              "    <tr>\n",
              "      <th>81</th>\n",
              "      <td>1987</td>\n",
              "    </tr>\n",
              "    <tr>\n",
              "      <th>82</th>\n",
              "      <td>1962</td>\n",
              "    </tr>\n",
              "    <tr>\n",
              "      <th>83</th>\n",
              "      <td>2050</td>\n",
              "    </tr>\n",
              "  </tbody>\n",
              "</table>\n",
              "<p>84 rows × 1 columns</p>\n",
              "</div>\n",
              "      <button class=\"colab-df-convert\" onclick=\"convertToInteractive('df-d1f9fd90-1d22-473c-ba45-f8cb91459d28')\"\n",
              "              title=\"Convert this dataframe to an interactive table.\"\n",
              "              style=\"display:none;\">\n",
              "        \n",
              "  <svg xmlns=\"http://www.w3.org/2000/svg\" height=\"24px\"viewBox=\"0 0 24 24\"\n",
              "       width=\"24px\">\n",
              "    <path d=\"M0 0h24v24H0V0z\" fill=\"none\"/>\n",
              "    <path d=\"M18.56 5.44l.94 2.06.94-2.06 2.06-.94-2.06-.94-.94-2.06-.94 2.06-2.06.94zm-11 1L8.5 8.5l.94-2.06 2.06-.94-2.06-.94L8.5 2.5l-.94 2.06-2.06.94zm10 10l.94 2.06.94-2.06 2.06-.94-2.06-.94-.94-2.06-.94 2.06-2.06.94z\"/><path d=\"M17.41 7.96l-1.37-1.37c-.4-.4-.92-.59-1.43-.59-.52 0-1.04.2-1.43.59L10.3 9.45l-7.72 7.72c-.78.78-.78 2.05 0 2.83L4 21.41c.39.39.9.59 1.41.59.51 0 1.02-.2 1.41-.59l7.78-7.78 2.81-2.81c.8-.78.8-2.07 0-2.86zM5.41 20L4 18.59l7.72-7.72 1.47 1.35L5.41 20z\"/>\n",
              "  </svg>\n",
              "      </button>\n",
              "      \n",
              "  <style>\n",
              "    .colab-df-container {\n",
              "      display:flex;\n",
              "      flex-wrap:wrap;\n",
              "      gap: 12px;\n",
              "    }\n",
              "\n",
              "    .colab-df-convert {\n",
              "      background-color: #E8F0FE;\n",
              "      border: none;\n",
              "      border-radius: 50%;\n",
              "      cursor: pointer;\n",
              "      display: none;\n",
              "      fill: #1967D2;\n",
              "      height: 32px;\n",
              "      padding: 0 0 0 0;\n",
              "      width: 32px;\n",
              "    }\n",
              "\n",
              "    .colab-df-convert:hover {\n",
              "      background-color: #E2EBFA;\n",
              "      box-shadow: 0px 1px 2px rgba(60, 64, 67, 0.3), 0px 1px 3px 1px rgba(60, 64, 67, 0.15);\n",
              "      fill: #174EA6;\n",
              "    }\n",
              "\n",
              "    [theme=dark] .colab-df-convert {\n",
              "      background-color: #3B4455;\n",
              "      fill: #D2E3FC;\n",
              "    }\n",
              "\n",
              "    [theme=dark] .colab-df-convert:hover {\n",
              "      background-color: #434B5C;\n",
              "      box-shadow: 0px 1px 3px 1px rgba(0, 0, 0, 0.15);\n",
              "      filter: drop-shadow(0px 1px 2px rgba(0, 0, 0, 0.3));\n",
              "      fill: #FFFFFF;\n",
              "    }\n",
              "  </style>\n",
              "\n",
              "      <script>\n",
              "        const buttonEl =\n",
              "          document.querySelector('#df-d1f9fd90-1d22-473c-ba45-f8cb91459d28 button.colab-df-convert');\n",
              "        buttonEl.style.display =\n",
              "          google.colab.kernel.accessAllowed ? 'block' : 'none';\n",
              "\n",
              "        async function convertToInteractive(key) {\n",
              "          const element = document.querySelector('#df-d1f9fd90-1d22-473c-ba45-f8cb91459d28');\n",
              "          const dataTable =\n",
              "            await google.colab.kernel.invokeFunction('convertToInteractive',\n",
              "                                                     [key], {});\n",
              "          if (!dataTable) return;\n",
              "\n",
              "          const docLinkHtml = 'Like what you see? Visit the ' +\n",
              "            '<a target=\"_blank\" href=https://colab.research.google.com/notebooks/data_table.ipynb>data table notebook</a>'\n",
              "            + ' to learn more about interactive tables.';\n",
              "          element.innerHTML = '';\n",
              "          dataTable['output_type'] = 'display_data';\n",
              "          await google.colab.output.renderOutput(dataTable, element);\n",
              "          const docLink = document.createElement('div');\n",
              "          docLink.innerHTML = docLinkHtml;\n",
              "          element.appendChild(docLink);\n",
              "        }\n",
              "      </script>\n",
              "    </div>\n",
              "  </div>\n",
              "  "
            ]
          },
          "metadata": {},
          "execution_count": 95
        }
      ]
    },
    {
      "cell_type": "code",
      "source": [
        "y"
      ],
      "metadata": {
        "colab": {
          "base_uri": "https://localhost:8080/"
        },
        "id": "jTJeNJr6CnbK",
        "outputId": "6bdb240b-b152-41a5-f93e-6d71eb05c4fb"
      },
      "execution_count": 96,
      "outputs": [
        {
          "output_type": "execute_result",
          "data": {
            "text/plain": [
              "0     2.40\n",
              "1     2.52\n",
              "2     2.54\n",
              "3     2.74\n",
              "4     2.83\n",
              "      ... \n",
              "79    3.71\n",
              "80    3.71\n",
              "81    3.73\n",
              "82    3.76\n",
              "83    3.81\n",
              "Name: GPA, Length: 84, dtype: float64"
            ]
          },
          "metadata": {},
          "execution_count": 96
        }
      ]
    },
    {
      "cell_type": "code",
      "source": [
        "from sklearn.model_selection import train_test_split\n",
        "x_train, x_test, y_train, y_test= train_test_split(x,y, test_size=0.2, random_state=2)"
      ],
      "metadata": {
        "id": "32iWzTifCo3p"
      },
      "execution_count": 97,
      "outputs": []
    },
    {
      "cell_type": "code",
      "source": [
        "from sklearn.linear_model import LinearRegression\n",
        "lr= LinearRegression()"
      ],
      "metadata": {
        "id": "7qGfaYL3CqQ_"
      },
      "execution_count": 98,
      "outputs": []
    },
    {
      "cell_type": "code",
      "source": [
        "lr.fit(x_train, y_train)"
      ],
      "metadata": {
        "colab": {
          "base_uri": "https://localhost:8080/"
        },
        "id": "_01Og7rZDLd5",
        "outputId": "f524a6c4-e590-40e5-a707-d215c1b8a120"
      },
      "execution_count": 99,
      "outputs": [
        {
          "output_type": "execute_result",
          "data": {
            "text/plain": [
              "LinearRegression()"
            ]
          },
          "metadata": {},
          "execution_count": 99
        }
      ]
    },
    {
      "cell_type": "code",
      "source": [
        "plt.scatter(df['SAT'],df['GPA'])\n",
        "plt.plot(x_train, lr.predict(x_train),color='red')\n",
        "plt.xlabel('SAT')\n",
        "plt.ylabel('GPA')"
      ],
      "metadata": {
        "colab": {
          "base_uri": "https://localhost:8080/",
          "height": 296
        },
        "id": "MRtI8vn0DTG3",
        "outputId": "206b9d16-4bc0-4f6e-c96b-b653d44e2397"
      },
      "execution_count": 103,
      "outputs": [
        {
          "output_type": "execute_result",
          "data": {
            "text/plain": [
              "Text(0, 0.5, 'GPA')"
            ]
          },
          "metadata": {},
          "execution_count": 103
        },
        {
          "output_type": "display_data",
          "data": {
            "text/plain": [
              "<Figure size 432x288 with 1 Axes>"
            ],
            "image/png": "[encoded data removed]"
          },
          "metadata": {
            "needs_background": "light"
          }
        }
      ]
    },
    {
      "cell_type": "code",
      "source": [
        "from sklearn.metrics import mean_absolute_error, mean_squared_error, r2_score"
      ],
      "metadata": {
        "id": "guWUty8uDrCP"
      },
      "execution_count": 104,
      "outputs": []
    },
    {
      "cell_type": "code",
      "source": [
        "y_pred= lr.predict(x_test)"
      ],
      "metadata": {
        "id": "VWM8ydBED9lY"
      },
      "execution_count": 105,
      "outputs": []
    },
    {
      "cell_type": "code",
      "source": [
        "y_test.values"
      ],
      "metadata": {
        "colab": {
          "base_uri": "https://localhost:8080/"
        },
        "id": "zG4DRtL6EDdi",
        "outputId": "cd98fb2d-6b38-4dac-91ff-bb48d1f8baff"
      },
      "execution_count": 106,
      "outputs": [
        {
          "output_type": "execute_result",
          "data": {
            "text/plain": [
              "array([3.07, 2.4 , 3.65, 3.28, 3.71, 3.48, 3.12, 3.28, 3.71, 3.5 , 3.38,\n",
              "       3.21, 3.28, 3.19, 3.08, 3.59, 3.28])"
            ]
          },
          "metadata": {},
          "execution_count": 106
        }
      ]
    },
    {
      "cell_type": "code",
      "source": [
        "print('MAE ',mean_absolute_error(y_test,y_pred))"
      ],
      "metadata": {
        "colab": {
          "base_uri": "https://localhost:8080/"
        },
        "id": "APhWsL-BEE8w",
        "outputId": "6fda4d73-0718-4e9f-d009-16939e7c30ba"
      },
      "execution_count": 107,
      "outputs": [
        {
          "output_type": "stream",
          "name": "stdout",
          "text": [
            "MAE  0.16595330826339283\n"
          ]
        }
      ]
    },
    {
      "cell_type": "code",
      "source": [
        "print('MSE ',mean_squared_error(y_test,y_pred))"
      ],
      "metadata": {
        "colab": {
          "base_uri": "https://localhost:8080/"
        },
        "id": "KV-Q5cQIEE_E",
        "outputId": "57bbcc16-1371-4e30-a1f0-b886a52bd6f0"
      },
      "execution_count": 108,
      "outputs": [
        {
          "output_type": "stream",
          "name": "stdout",
          "text": [
            "MSE  0.06096204250877628\n"
          ]
        }
      ]
    },
    {
      "cell_type": "code",
      "source": [
        "print('RMSE ',np.sqrt(mean_squared_error(y_test,y_pred)))"
      ],
      "metadata": {
        "colab": {
          "base_uri": "https://localhost:8080/"
        },
        "id": "vuHBAJOjEi_q",
        "outputId": "6fc8b8ff-f016-4e8a-ed07-2fc91c45c917"
      },
      "execution_count": 109,
      "outputs": [
        {
          "output_type": "stream",
          "name": "stdout",
          "text": [
            "RMSE  0.2469049260520662\n"
          ]
        }
      ]
    },
    {
      "cell_type": "code",
      "source": [
        "print('r2 score ',r2_score(y_test,y_pred))             \n",
        "r2= r2_score(y_test,y_pred)              #0.34 is pretty badd:("
      ],
      "metadata": {
        "colab": {
          "base_uri": "https://localhost:8080/"
        },
        "id": "Kxkj50aNExZe",
        "outputId": "25d15bd9-d4fb-445b-e639-b0305d9225a7"
      },
      "execution_count": 110,
      "outputs": [
        {
          "output_type": "stream",
          "name": "stdout",
          "text": [
            "r2 score  0.34672062009016613\n"
          ]
        }
      ]
    },
    {
      "cell_type": "code",
      "source": [
        "#adjusted r2score\n",
        "x_test.shape"
      ],
      "metadata": {
        "colab": {
          "base_uri": "https://localhost:8080/"
        },
        "id": "OnXdxWObE9vL",
        "outputId": "5b157628-b445-4395-a0fe-697962e63977"
      },
      "execution_count": 111,
      "outputs": [
        {
          "output_type": "execute_result",
          "data": {
            "text/plain": [
              "(17, 1)"
            ]
          },
          "metadata": {},
          "execution_count": 111
        }
      ]
    },
    {
      "cell_type": "code",
      "source": [
        "#using formula of adjusted r2score\n",
        "1 - ((1-r2)*(17-1)/(17-1-1))"
      ],
      "metadata": {
        "colab": {
          "base_uri": "https://localhost:8080/"
        },
        "id": "HcEd9JWRFGuf",
        "outputId": "d0d8bb70-b29c-450d-9508-60f948c2092a"
      },
      "execution_count": 112,
      "outputs": [
        {
          "output_type": "execute_result",
          "data": {
            "text/plain": [
              "0.3031686614295105"
            ]
          },
          "metadata": {},
          "execution_count": 112
        }
      ]
    },
    {
      "cell_type": "code",
      "source": [
        "#adding a random column to note changes in r2score and adjusted r2 score\n",
        "new_df= df.copy()\n",
        "new_df['random_feature']= np.random.random(84)\n",
        "\n",
        "new_df= new_df[['SAT','random_feature','GPA']]\n",
        "new_df.head()"
      ],
      "metadata": {
        "colab": {
          "base_uri": "https://localhost:8080/",
          "height": 206
        },
        "id": "TYiYta2uFZFa",
        "outputId": "13199e62-7312-44b2-f929-4933b0d6c86a"
      },
      "execution_count": 113,
      "outputs": [
        {
          "output_type": "execute_result",
          "data": {
            "text/plain": [
              "    SAT  random_feature   GPA\n",
              "0  1714        0.921070  2.40\n",
              "1  1664        0.128400  2.52\n",
              "2  1760        0.855827  2.54\n",
              "3  1685        0.122117  2.74\n",
              "4  1693        0.905028  2.83"
            ],
            "text/html": [
              "\n",
              "  <div id=\"df-d23529f7-f8b5-4e2f-85a4-e531f089a0c3\">\n",
              "    <div class=\"colab-df-container\">\n",
              "      <div>\n",
              "<style scoped>\n",
              "    .dataframe tbody tr th:only-of-type {\n",
              "        vertical-align: middle;\n",
              "    }\n",
              "\n",
              "    .dataframe tbody tr th {\n",
              "        vertical-align: top;\n",
              "    }\n",
              "\n",
              "    .dataframe thead th {\n",
              "        text-align: right;\n",
              "    }\n",
              "</style>\n",
              "<table border=\"1\" class=\"dataframe\">\n",
              "  <thead>\n",
              "    <tr style=\"text-align: right;\">\n",
              "      <th></th>\n",
              "      <th>SAT</th>\n",
              "      <th>random_feature</th>\n",
              "      <th>GPA</th>\n",
              "    </tr>\n",
              "  </thead>\n",
              "  <tbody>\n",
              "    <tr>\n",
              "      <th>0</th>\n",
              "      <td>1714</td>\n",
              "      <td>0.921070</td>\n",
              "      <td>2.40</td>\n",
              "    </tr>\n",
              "    <tr>\n",
              "      <th>1</th>\n",
              "      <td>1664</td>\n",
              "      <td>0.128400</td>\n",
              "      <td>2.52</td>\n",
              "    </tr>\n",
              "    <tr>\n",
              "      <th>2</th>\n",
              "      <td>1760</td>\n",
              "      <td>0.855827</td>\n",
              "      <td>2.54</td>\n",
              "    </tr>\n",
              "    <tr>\n",
              "      <th>3</th>\n",
              "      <td>1685</td>\n",
              "      <td>0.122117</td>\n",
              "      <td>2.74</td>\n",
              "    </tr>\n",
              "    <tr>\n",
              "      <th>4</th>\n",
              "      <td>1693</td>\n",
              "      <td>0.905028</td>\n",
              "      <td>2.83</td>\n",
              "    </tr>\n",
              "  </tbody>\n",
              "</table>\n",
              "</div>\n",
              "      <button class=\"colab-df-convert\" onclick=\"convertToInteractive('df-d23529f7-f8b5-4e2f-85a4-e531f089a0c3')\"\n",
              "              title=\"Convert this dataframe to an interactive table.\"\n",
              "              style=\"display:none;\">\n",
              "        \n",
              "  <svg xmlns=\"http://www.w3.org/2000/svg\" height=\"24px\"viewBox=\"0 0 24 24\"\n",
              "       width=\"24px\">\n",
              "    <path d=\"M0 0h24v24H0V0z\" fill=\"none\"/>\n",
              "    <path d=\"M18.56 5.44l.94 2.06.94-2.06 2.06-.94-2.06-.94-.94-2.06-.94 2.06-2.06.94zm-11 1L8.5 8.5l.94-2.06 2.06-.94-2.06-.94L8.5 2.5l-.94 2.06-2.06.94zm10 10l.94 2.06.94-2.06 2.06-.94-2.06-.94-.94-2.06-.94 2.06-2.06.94z\"/><path d=\"M17.41 7.96l-1.37-1.37c-.4-.4-.92-.59-1.43-.59-.52 0-1.04.2-1.43.59L10.3 9.45l-7.72 7.72c-.78.78-.78 2.05 0 2.83L4 21.41c.39.39.9.59 1.41.59.51 0 1.02-.2 1.41-.59l7.78-7.78 2.81-2.81c.8-.78.8-2.07 0-2.86zM5.41 20L4 18.59l7.72-7.72 1.47 1.35L5.41 20z\"/>\n",
              "  </svg>\n",
              "      </button>\n",
              "      \n",
              "  <style>\n",
              "    .colab-df-container {\n",
              "      display:flex;\n",
              "      flex-wrap:wrap;\n",
              "      gap: 12px;\n",
              "    }\n",
              "\n",
              "    .colab-df-convert {\n",
              "      background-color: #E8F0FE;\n",
              "      border: none;\n",
              "      border-radius: 50%;\n",
              "      cursor: pointer;\n",
              "      display: none;\n",
              "      fill: #1967D2;\n",
              "      height: 32px;\n",
              "      padding: 0 0 0 0;\n",
              "      width: 32px;\n",
              "    }\n",
              "\n",
              "    .colab-df-convert:hover {\n",
              "      background-color: #E2EBFA;\n",
              "      box-shadow: 0px 1px 2px rgba(60, 64, 67, 0.3), 0px 1px 3px 1px rgba(60, 64, 67, 0.15);\n",
              "      fill: #174EA6;\n",
              "    }\n",
              "\n",
              "    [theme=dark] .colab-df-convert {\n",
              "      background-color: #3B4455;\n",
              "      fill: #D2E3FC;\n",
              "    }\n",
              "\n",
              "    [theme=dark] .colab-df-convert:hover {\n",
              "      background-color: #434B5C;\n",
              "      box-shadow: 0px 1px 3px 1px rgba(0, 0, 0, 0.15);\n",
              "      filter: drop-shadow(0px 1px 2px rgba(0, 0, 0, 0.3));\n",
              "      fill: #FFFFFF;\n",
              "    }\n",
              "  </style>\n",
              "\n",
              "      <script>\n",
              "        const buttonEl =\n",
              "          document.querySelector('#df-d23529f7-f8b5-4e2f-85a4-e531f089a0c3 button.colab-df-convert');\n",
              "        buttonEl.style.display =\n",
              "          google.colab.kernel.accessAllowed ? 'block' : 'none';\n",
              "\n",
              "        async function convertToInteractive(key) {\n",
              "          const element = document.querySelector('#df-d23529f7-f8b5-4e2f-85a4-e531f089a0c3');\n",
              "          const dataTable =\n",
              "            await google.colab.kernel.invokeFunction('convertToInteractive',\n",
              "                                                     [key], {});\n",
              "          if (!dataTable) return;\n",
              "\n",
              "          const docLinkHtml = 'Like what you see? Visit the ' +\n",
              "            '<a target=\"_blank\" href=https://colab.research.google.com/notebooks/data_table.ipynb>data table notebook</a>'\n",
              "            + ' to learn more about interactive tables.';\n",
              "          element.innerHTML = '';\n",
              "          dataTable['output_type'] = 'display_data';\n",
              "          await google.colab.output.renderOutput(dataTable, element);\n",
              "          const docLink = document.createElement('div');\n",
              "          docLink.innerHTML = docLinkHtml;\n",
              "          element.appendChild(docLink);\n",
              "        }\n",
              "      </script>\n",
              "    </div>\n",
              "  </div>\n",
              "  "
            ]
          },
          "metadata": {},
          "execution_count": 113
        }
      ]
    },
    {
      "cell_type": "code",
      "source": [
        "#plotting the graph again\n",
        "plt.scatter(new_df['random_feature'],df['GPA'])\n",
        "\n",
        "plt.xlabel('random_feature')\n",
        "plt.ylabel('GPA')"
      ],
      "metadata": {
        "colab": {
          "base_uri": "https://localhost:8080/",
          "height": 297
        },
        "id": "nhsiJkV7GzHG",
        "outputId": "3abd99d5-b9b5-4b34-d93a-88796d97da27"
      },
      "execution_count": 114,
      "outputs": [
        {
          "output_type": "execute_result",
          "data": {
            "text/plain": [
              "Text(0, 0.5, 'GPA')"
            ]
          },
          "metadata": {},
          "execution_count": 114
        },
        {
          "output_type": "display_data",
          "data": {
            "text/plain": [
              "<Figure size 432x288 with 1 Axes>"
            ],
            "image/png": "[encoded data removed]"
          },
          "metadata": {
            "needs_background": "light"
          }
        }
      ]
    },
    {
      "cell_type": "code",
      "source": [
        "x= new_df.iloc[:,0:2]\n",
        "y= new_df.iloc[:,-1]"
      ],
      "metadata": {
        "id": "wycu7-7YHmbI"
      },
      "execution_count": 115,
      "outputs": []
    },
    {
      "cell_type": "code",
      "source": [
        "x_train, x_test, y_train, y_test= train_test_split(x,y, test_size=0.2, random_state=2)"
      ],
      "metadata": {
        "id": "mtlcIaouH0Q-"
      },
      "execution_count": 116,
      "outputs": []
    },
    {
      "cell_type": "code",
      "source": [
        "lr= LinearRegression()\n",
        "lr.fit(x_train,y_train)"
      ],
      "metadata": {
        "colab": {
          "base_uri": "https://localhost:8080/"
        },
        "id": "BjJcWmxpIFJc",
        "outputId": "637b3760-8f03-4018-e93d-f381970328f0"
      },
      "execution_count": 117,
      "outputs": [
        {
          "output_type": "execute_result",
          "data": {
            "text/plain": [
              "LinearRegression()"
            ]
          },
          "metadata": {},
          "execution_count": 117
        }
      ]
    },
    {
      "cell_type": "code",
      "source": [
        "y_pred=lr.predict(x_test)"
      ],
      "metadata": {
        "id": "mpx1zE0nILfS"
      },
      "execution_count": 118,
      "outputs": []
    },
    {
      "cell_type": "code",
      "source": [
        "print('r2 score ',r2_score(y_test,y_pred))             #it increased from 0.34672062009016613 to  0.37649730344168864 which should not happen because that\n",
        "r2= r2_score(y_test,y_pred)                            #column was totally irrelevent."
      ],
      "metadata": {
        "colab": {
          "base_uri": "https://localhost:8080/"
        },
        "id": "JLOZ8lgMIWPI",
        "outputId": "a2d37268-5c6a-4818-9dd5-4a455b870729"
      },
      "execution_count": 119,
      "outputs": [
        {
          "output_type": "stream",
          "name": "stdout",
          "text": [
            "r2 score  0.38135053084997683\n"
          ]
        }
      ]
    },
    {
      "cell_type": "code",
      "source": [
        "#using formula of adjusted r2score\n",
        "1 - ((1-r2)*(17-1)/(17-1-1))               #it also increased a bit from 0.3031686614295105 to 0.3349304570044679\n"
      ],
      "metadata": {
        "colab": {
          "base_uri": "https://localhost:8080/"
        },
        "id": "j5XmBetKIgYb",
        "outputId": "70b73651-3e31-4957-a002-54989e26e031"
      },
      "execution_count": 120,
      "outputs": [
        {
          "output_type": "execute_result",
          "data": {
            "text/plain": [
              "0.3401072329066419"
            ]
          },
          "metadata": {},
          "execution_count": 120
        }
      ]
    },
    {
      "cell_type": "code",
      "source": [
        "print('MSE ',mean_squared_error(y_test,y_pred))"
      ],
      "metadata": {
        "colab": {
          "base_uri": "https://localhost:8080/"
        },
        "id": "fVqbmTJkLFsV",
        "outputId": "5b324ded-7f0d-4edd-92aa-d20627aadd63"
      },
      "execution_count": 121,
      "outputs": [
        {
          "output_type": "stream",
          "name": "stdout",
          "text": [
            "MSE  0.057730484684149874\n"
          ]
        }
      ]
    },
    {
      "cell_type": "markdown",
      "source": [
        "simple linear regression \n",
        "\n",
        "example 2 "
      ],
      "metadata": {
        "id": "bcVBaE9wKPFE"
      }
    },
    {
      "cell_type": "code",
      "source": [
        "upload_data= files.upload()"
      ],
      "metadata": {
        "colab": {
          "base_uri": "https://localhost:8080/",
          "height": 73
        },
        "id": "IpN2glWNJEDS",
        "outputId": "ab9d924f-fde8-4332-8556-88ffce311398"
      },
      "execution_count": 122,
      "outputs": [
        {
          "output_type": "display_data",
          "data": {
            "text/plain": [
              "<IPython.core.display.HTML object>"
            ],
            "text/html": [
              "\n",
              "     <input type=\"file\" id=\"files-36d6cf6a-1918-455f-ba09-c03bf70a9352\" name=\"files[]\" multiple disabled\n",
              "        style=\"border:none\" />\n",
              "     <output id=\"result-36d6cf6a-1918-455f-ba09-c03bf70a9352\">\n",
              "      Upload widget is only available when the cell has been executed in the\n",
              "      current browser session. Please rerun this cell to enable.\n",
              "      </output>\n",
              "      <script>// Copyright 2017 Google LLC\n",
              "//\n",
              "// Licensed under the Apache License, Version 2.0 (the \"License\");\n",
              "// you may not use this file except in compliance with the License.\n",
              "// You may obtain a copy of the License at\n",
              "//\n",
              "//      http://www.apache.org/licenses/LICENSE-2.0\n",
              "//\n",
              "// Unless required by applicable law or agreed to in writing, software\n",
              "// distributed under the License is distributed on an \"AS IS\" BASIS,\n",
              "// WITHOUT WARRANTIES OR CONDITIONS OF ANY KIND, either express or implied.\n",
              "// See the License for the specific language governing permissions and\n",
              "// limitations under the License.\n",
              "\n",
              "/**\n",
              " * @fileoverview Helpers for google.colab Python module.\n",
              " */\n",
              "(function(scope) {\n",
              "function span(text, styleAttributes = {}) {\n",
              "  const element = document.createElement('span');\n",
              "  element.textContent = text;\n",
              "  for (const key of Object.keys(styleAttributes)) {\n",
              "    element.style[key] = styleAttributes[key];\n",
              "  }\n",
              "  return element;\n",
              "}\n",
              "\n",
              "// Max number of bytes which will be uploaded at a time.\n",
              "const MAX_PAYLOAD_SIZE = 100 * 1024;\n",
              "\n",
              "function _uploadFiles(inputId, outputId) {\n",
              "  const steps = uploadFilesStep(inputId, outputId);\n",
              "  const outputElement = document.getElementById(outputId);\n",
              "  // Cache steps on the outputElement to make it available for the next call\n",
              "  // to uploadFilesContinue from Python.\n",
              "  outputElement.steps = steps;\n",
              "\n",
              "  return _uploadFilesContinue(outputId);\n",
              "}\n",
              "\n",
              "// This is roughly an async generator (not supported in the browser yet),\n",
              "// where there are multiple asynchronous steps and the Python side is going\n",
              "// to poll for completion of each step.\n",
              "// This uses a Promise to block the python side on completion of each step,\n",
              "// then passes the result of the previous step as the input to the next step.\n",
              "function _uploadFilesContinue(outputId) {\n",
              "  const outputElement = document.getElementById(outputId);\n",
              "  const steps = outputElement.steps;\n",
              "\n",
              "  const next = steps.next(outputElement.lastPromiseValue);\n",
              "  return Promise.resolve(next.value.promise).then((value) => {\n",
              "    // Cache the last promise value to make it available to the next\n",
              "    // step of the generator.\n",
              "    outputElement.lastPromiseValue = value;\n",
              "    return next.value.response;\n",
              "  });\n",
              "}\n",
              "\n",
              "/**\n",
              " * Generator function which is called between each async step of the upload\n",
              " * process.\n",
              " * @param {string} inputId Element ID of the input file picker element.\n",
              " * @param {string} outputId Element ID of the output display.\n",
              " * @return {!Iterable<!Object>} Iterable of next steps.\n",
              " */\n",
              "function* uploadFilesStep(inputId, outputId) {\n",
              "  const inputElement = document.getElementById(inputId);\n",
              "  inputElement.disabled = false;\n",
              "\n",
              "  const outputElement = document.getElementById(outputId);\n",
              "  outputElement.innerHTML = '';\n",
              "\n",
              "  const pickedPromise = new Promise((resolve) => {\n",
              "    inputElement.addEventListener('change', (e) => {\n",
              "      resolve(e.target.files);\n",
              "    });\n",
              "  });\n",
              "\n",
              "  const cancel = document.createElement('button');\n",
              "  inputElement.parentElement.appendChild(cancel);\n",
              "  cancel.textContent = 'Cancel upload';\n",
              "  const cancelPromise = new Promise((resolve) => {\n",
              "    cancel.onclick = () => {\n",
              "      resolve(null);\n",
              "    };\n",
              "  });\n",
              "\n",
              "  // Wait for the user to pick the files.\n",
              "  const files = yield {\n",
              "    promise: Promise.race([pickedPromise, cancelPromise]),\n",
              "    response: {\n",
              "      action: 'starting',\n",
              "    }\n",
              "  };\n",
              "\n",
              "  cancel.remove();\n",
              "\n",
              "  // Disable the input element since further picks are not allowed.\n",
              "  inputElement.disabled = true;\n",
              "\n",
              "  if (!files) {\n",
              "    return {\n",
              "      response: {\n",
              "        action: 'complete',\n",
              "      }\n",
              "    };\n",
              "  }\n",
              "\n",
              "  for (const file of files) {\n",
              "    const li = document.createElement('li');\n",
              "    li.append(span(file.name, {fontWeight: 'bold'}));\n",
              "    li.append(span(\n",
              "        `(${file.type || 'n/a'}) - ${file.size} bytes, ` +\n",
              "        `last modified: ${\n",
              "            file.lastModifiedDate ? file.lastModifiedDate.toLocaleDateString() :\n",
              "                                    'n/a'} - `));\n",
              "    const percent = span('0% done');\n",
              "    li.appendChild(percent);\n",
              "\n",
              "    outputElement.appendChild(li);\n",
              "\n",
              "    const fileDataPromise = new Promise((resolve) => {\n",
              "      const reader = new FileReader();\n",
              "      reader.onload = (e) => {\n",
              "        resolve(e.target.result);\n",
              "      };\n",
              "      reader.readAsArrayBuffer(file);\n",
              "    });\n",
              "    // Wait for the data to be ready.\n",
              "    let fileData = yield {\n",
              "      promise: fileDataPromise,\n",
              "      response: {\n",
              "        action: 'continue',\n",
              "      }\n",
              "    };\n",
              "\n",
              "    // Use a chunked sending to avoid message size limits. See b/62115660.\n",
              "    let position = 0;\n",
              "    do {\n",
              "      const length = Math.min(fileData.byteLength - position, MAX_PAYLOAD_SIZE);\n",
              "      const chunk = new Uint8Array(fileData, position, length);\n",
              "      position += length;\n",
              "\n",
              "      const base64 = btoa(String.fromCharCode.apply(null, chunk));\n",
              "      yield {\n",
              "        response: {\n",
              "          action: 'append',\n",
              "          file: file.name,\n",
              "          data: base64,\n",
              "        },\n",
              "      };\n",
              "\n",
              "      let percentDone = fileData.byteLength === 0 ?\n",
              "          100 :\n",
              "          Math.round((position / fileData.byteLength) * 100);\n",
              "      percent.textContent = `${percentDone}% done`;\n",
              "\n",
              "    } while (position < fileData.byteLength);\n",
              "  }\n",
              "\n",
              "  // All done.\n",
              "  yield {\n",
              "    response: {\n",
              "      action: 'complete',\n",
              "    }\n",
              "  };\n",
              "}\n",
              "\n",
              "scope.google = scope.google || {};\n",
              "scope.google.colab = scope.google.colab || {};\n",
              "scope.google.colab._files = {\n",
              "  _uploadFiles,\n",
              "  _uploadFilesContinue,\n",
              "};\n",
              "})(self);\n",
              "</script> "
            ]
          },
          "metadata": {}
        },
        {
          "output_type": "stream",
          "name": "stdout",
          "text": [
            "Saving score.csv to score.csv\n"
          ]
        }
      ]
    },
    {
      "cell_type": "code",
      "source": [
        "df_1= pd.read_csv('score.csv')\n",
        "df_1.shape"
      ],
      "metadata": {
        "colab": {
          "base_uri": "https://localhost:8080/"
        },
        "id": "jeElWCpjOVf9",
        "outputId": "4667b668-89da-4125-a2c4-91346a407746"
      },
      "execution_count": 123,
      "outputs": [
        {
          "output_type": "execute_result",
          "data": {
            "text/plain": [
              "(25, 2)"
            ]
          },
          "metadata": {},
          "execution_count": 123
        }
      ]
    },
    {
      "cell_type": "code",
      "source": [
        "df_1.head()"
      ],
      "metadata": {
        "colab": {
          "base_uri": "https://localhost:8080/",
          "height": 206
        },
        "id": "Z5EWAY44Oj_m",
        "outputId": "ee9e2019-9a28-4a66-f6c4-09c11a79ddcd"
      },
      "execution_count": 124,
      "outputs": [
        {
          "output_type": "execute_result",
          "data": {
            "text/plain": [
              "   Hours  Scores\n",
              "0    2.5      21\n",
              "1    5.1      47\n",
              "2    3.2      27\n",
              "3    8.5      75\n",
              "4    3.5      30"
            ],
            "text/html": [
              "\n",
              "  <div id=\"df-51ed19a2-fde4-44df-b34c-f8c9d04e04a8\">\n",
              "    <div class=\"colab-df-container\">\n",
              "      <div>\n",
              "<style scoped>\n",
              "    .dataframe tbody tr th:only-of-type {\n",
              "        vertical-align: middle;\n",
              "    }\n",
              "\n",
              "    .dataframe tbody tr th {\n",
              "        vertical-align: top;\n",
              "    }\n",
              "\n",
              "    .dataframe thead th {\n",
              "        text-align: right;\n",
              "    }\n",
              "</style>\n",
              "<table border=\"1\" class=\"dataframe\">\n",
              "  <thead>\n",
              "    <tr style=\"text-align: right;\">\n",
              "      <th></th>\n",
              "      <th>Hours</th>\n",
              "      <th>Scores</th>\n",
              "    </tr>\n",
              "  </thead>\n",
              "  <tbody>\n",
              "    <tr>\n",
              "      <th>0</th>\n",
              "      <td>2.5</td>\n",
              "      <td>21</td>\n",
              "    </tr>\n",
              "    <tr>\n",
              "      <th>1</th>\n",
              "      <td>5.1</td>\n",
              "      <td>47</td>\n",
              "    </tr>\n",
              "    <tr>\n",
              "      <th>2</th>\n",
              "      <td>3.2</td>\n",
              "      <td>27</td>\n",
              "    </tr>\n",
              "    <tr>\n",
              "      <th>3</th>\n",
              "      <td>8.5</td>\n",
              "      <td>75</td>\n",
              "    </tr>\n",
              "    <tr>\n",
              "      <th>4</th>\n",
              "      <td>3.5</td>\n",
              "      <td>30</td>\n",
              "    </tr>\n",
              "  </tbody>\n",
              "</table>\n",
              "</div>\n",
              "      <button class=\"colab-df-convert\" onclick=\"convertToInteractive('df-51ed19a2-fde4-44df-b34c-f8c9d04e04a8')\"\n",
              "              title=\"Convert this dataframe to an interactive table.\"\n",
              "              style=\"display:none;\">\n",
              "        \n",
              "  <svg xmlns=\"http://www.w3.org/2000/svg\" height=\"24px\"viewBox=\"0 0 24 24\"\n",
              "       width=\"24px\">\n",
              "    <path d=\"M0 0h24v24H0V0z\" fill=\"none\"/>\n",
              "    <path d=\"M18.56 5.44l.94 2.06.94-2.06 2.06-.94-2.06-.94-.94-2.06-.94 2.06-2.06.94zm-11 1L8.5 8.5l.94-2.06 2.06-.94-2.06-.94L8.5 2.5l-.94 2.06-2.06.94zm10 10l.94 2.06.94-2.06 2.06-.94-2.06-.94-.94-2.06-.94 2.06-2.06.94z\"/><path d=\"M17.41 7.96l-1.37-1.37c-.4-.4-.92-.59-1.43-.59-.52 0-1.04.2-1.43.59L10.3 9.45l-7.72 7.72c-.78.78-.78 2.05 0 2.83L4 21.41c.39.39.9.59 1.41.59.51 0 1.02-.2 1.41-.59l7.78-7.78 2.81-2.81c.8-.78.8-2.07 0-2.86zM5.41 20L4 18.59l7.72-7.72 1.47 1.35L5.41 20z\"/>\n",
              "  </svg>\n",
              "      </button>\n",
              "      \n",
              "  <style>\n",
              "    .colab-df-container {\n",
              "      display:flex;\n",
              "      flex-wrap:wrap;\n",
              "      gap: 12px;\n",
              "    }\n",
              "\n",
              "    .colab-df-convert {\n",
              "      background-color: #E8F0FE;\n",
              "      border: none;\n",
              "      border-radius: 50%;\n",
              "      cursor: pointer;\n",
              "      display: none;\n",
              "      fill: #1967D2;\n",
              "      height: 32px;\n",
              "      padding: 0 0 0 0;\n",
              "      width: 32px;\n",
              "    }\n",
              "\n",
              "    .colab-df-convert:hover {\n",
              "      background-color: #E2EBFA;\n",
              "      box-shadow: 0px 1px 2px rgba(60, 64, 67, 0.3), 0px 1px 3px 1px rgba(60, 64, 67, 0.15);\n",
              "      fill: #174EA6;\n",
              "    }\n",
              "\n",
              "    [theme=dark] .colab-df-convert {\n",
              "      background-color: #3B4455;\n",
              "      fill: #D2E3FC;\n",
              "    }\n",
              "\n",
              "    [theme=dark] .colab-df-convert:hover {\n",
              "      background-color: #434B5C;\n",
              "      box-shadow: 0px 1px 3px 1px rgba(0, 0, 0, 0.15);\n",
              "      filter: drop-shadow(0px 1px 2px rgba(0, 0, 0, 0.3));\n",
              "      fill: #FFFFFF;\n",
              "    }\n",
              "  </style>\n",
              "\n",
              "      <script>\n",
              "        const buttonEl =\n",
              "          document.querySelector('#df-51ed19a2-fde4-44df-b34c-f8c9d04e04a8 button.colab-df-convert');\n",
              "        buttonEl.style.display =\n",
              "          google.colab.kernel.accessAllowed ? 'block' : 'none';\n",
              "\n",
              "        async function convertToInteractive(key) {\n",
              "          const element = document.querySelector('#df-51ed19a2-fde4-44df-b34c-f8c9d04e04a8');\n",
              "          const dataTable =\n",
              "            await google.colab.kernel.invokeFunction('convertToInteractive',\n",
              "                                                     [key], {});\n",
              "          if (!dataTable) return;\n",
              "\n",
              "          const docLinkHtml = 'Like what you see? Visit the ' +\n",
              "            '<a target=\"_blank\" href=https://colab.research.google.com/notebooks/data_table.ipynb>data table notebook</a>'\n",
              "            + ' to learn more about interactive tables.';\n",
              "          element.innerHTML = '';\n",
              "          dataTable['output_type'] = 'display_data';\n",
              "          await google.colab.output.renderOutput(dataTable, element);\n",
              "          const docLink = document.createElement('div');\n",
              "          docLink.innerHTML = docLinkHtml;\n",
              "          element.appendChild(docLink);\n",
              "        }\n",
              "      </script>\n",
              "    </div>\n",
              "  </div>\n",
              "  "
            ]
          },
          "metadata": {},
          "execution_count": 124
        }
      ]
    },
    {
      "cell_type": "code",
      "source": [
        "plt.scatter(df_1['Hours'],df_1['Scores'])\n",
        "plt.xlabel('Hours')\n",
        "plt.ylabel('Scores')"
      ],
      "metadata": {
        "colab": {
          "base_uri": "https://localhost:8080/",
          "height": 296
        },
        "id": "AESZRgWpOqNX",
        "outputId": "5037d991-f501-4ed9-e277-7025ca70de49"
      },
      "execution_count": 125,
      "outputs": [
        {
          "output_type": "execute_result",
          "data": {
            "text/plain": [
              "Text(0, 0.5, 'Scores')"
            ]
          },
          "metadata": {},
          "execution_count": 125
        },
        {
          "output_type": "display_data",
          "data": {
            "text/plain": [
              "<Figure size 432x288 with 1 Axes>"
            ],
            "image/png": "[encoded data removed]"
          },
          "metadata": {
            "needs_background": "light"
          }
        }
      ]
    },
    {
      "cell_type": "code",
      "source": [
        "x=df_1.iloc[:,0:1]\n",
        "y=df_1.iloc[:,-1]"
      ],
      "metadata": {
        "id": "hg6BlzRmPBNI"
      },
      "execution_count": 126,
      "outputs": []
    },
    {
      "cell_type": "code",
      "source": [
        "x"
      ],
      "metadata": {
        "colab": {
          "base_uri": "https://localhost:8080/",
          "height": 833
        },
        "id": "lqnFsqlePh5p",
        "outputId": "3fb7c1cf-8f98-4137-c850-ca3b975c2147"
      },
      "execution_count": 127,
      "outputs": [
        {
          "output_type": "execute_result",
          "data": {
            "text/plain": [
              "    Hours\n",
              "0     2.5\n",
              "1     5.1\n",
              "2     3.2\n",
              "3     8.5\n",
              "4     3.5\n",
              "5     1.5\n",
              "6     9.2\n",
              "7     5.5\n",
              "8     8.3\n",
              "9     2.7\n",
              "10    7.7\n",
              "11    5.9\n",
              "12    4.5\n",
              "13    3.3\n",
              "14    1.1\n",
              "15    8.9\n",
              "16    2.5\n",
              "17    1.9\n",
              "18    6.1\n",
              "19    7.4\n",
              "20    2.7\n",
              "21    4.8\n",
              "22    3.8\n",
              "23    6.9\n",
              "24    7.8"
            ],
            "text/html": [
              "\n",
              "  <div id=\"df-e92f3a2e-64a6-44fa-85b1-defe34b10b12\">\n",
              "    <div class=\"colab-df-container\">\n",
              "      <div>\n",
              "<style scoped>\n",
              "    .dataframe tbody tr th:only-of-type {\n",
              "        vertical-align: middle;\n",
              "    }\n",
              "\n",
              "    .dataframe tbody tr th {\n",
              "        vertical-align: top;\n",
              "    }\n",
              "\n",
              "    .dataframe thead th {\n",
              "        text-align: right;\n",
              "    }\n",
              "</style>\n",
              "<table border=\"1\" class=\"dataframe\">\n",
              "  <thead>\n",
              "    <tr style=\"text-align: right;\">\n",
              "      <th></th>\n",
              "      <th>Hours</th>\n",
              "    </tr>\n",
              "  </thead>\n",
              "  <tbody>\n",
              "    <tr>\n",
              "      <th>0</th>\n",
              "      <td>2.5</td>\n",
              "    </tr>\n",
              "    <tr>\n",
              "      <th>1</th>\n",
              "      <td>5.1</td>\n",
              "    </tr>\n",
              "    <tr>\n",
              "      <th>2</th>\n",
              "      <td>3.2</td>\n",
              "    </tr>\n",
              "    <tr>\n",
              "      <th>3</th>\n",
              "      <td>8.5</td>\n",
              "    </tr>\n",
              "    <tr>\n",
              "      <th>4</th>\n",
              "      <td>3.5</td>\n",
              "    </tr>\n",
              "    <tr>\n",
              "      <th>5</th>\n",
              "      <td>1.5</td>\n",
              "    </tr>\n",
              "    <tr>\n",
              "      <th>6</th>\n",
              "      <td>9.2</td>\n",
              "    </tr>\n",
              "    <tr>\n",
              "      <th>7</th>\n",
              "      <td>5.5</td>\n",
              "    </tr>\n",
              "    <tr>\n",
              "      <th>8</th>\n",
              "      <td>8.3</td>\n",
              "    </tr>\n",
              "    <tr>\n",
              "      <th>9</th>\n",
              "      <td>2.7</td>\n",
              "    </tr>\n",
              "    <tr>\n",
              "      <th>10</th>\n",
              "      <td>7.7</td>\n",
              "    </tr>\n",
              "    <tr>\n",
              "      <th>11</th>\n",
              "      <td>5.9</td>\n",
              "    </tr>\n",
              "    <tr>\n",
              "      <th>12</th>\n",
              "      <td>4.5</td>\n",
              "    </tr>\n",
              "    <tr>\n",
              "      <th>13</th>\n",
              "      <td>3.3</td>\n",
              "    </tr>\n",
              "    <tr>\n",
              "      <th>14</th>\n",
              "      <td>1.1</td>\n",
              "    </tr>\n",
              "    <tr>\n",
              "      <th>15</th>\n",
              "      <td>8.9</td>\n",
              "    </tr>\n",
              "    <tr>\n",
              "      <th>16</th>\n",
              "      <td>2.5</td>\n",
              "    </tr>\n",
              "    <tr>\n",
              "      <th>17</th>\n",
              "      <td>1.9</td>\n",
              "    </tr>\n",
              "    <tr>\n",
              "      <th>18</th>\n",
              "      <td>6.1</td>\n",
              "    </tr>\n",
              "    <tr>\n",
              "      <th>19</th>\n",
              "      <td>7.4</td>\n",
              "    </tr>\n",
              "    <tr>\n",
              "      <th>20</th>\n",
              "      <td>2.7</td>\n",
              "    </tr>\n",
              "    <tr>\n",
              "      <th>21</th>\n",
              "      <td>4.8</td>\n",
              "    </tr>\n",
              "    <tr>\n",
              "      <th>22</th>\n",
              "      <td>3.8</td>\n",
              "    </tr>\n",
              "    <tr>\n",
              "      <th>23</th>\n",
              "      <td>6.9</td>\n",
              "    </tr>\n",
              "    <tr>\n",
              "      <th>24</th>\n",
              "      <td>7.8</td>\n",
              "    </tr>\n",
              "  </tbody>\n",
              "</table>\n",
              "</div>\n",
              "      <button class=\"colab-df-convert\" onclick=\"convertToInteractive('df-e92f3a2e-64a6-44fa-85b1-defe34b10b12')\"\n",
              "              title=\"Convert this dataframe to an interactive table.\"\n",
              "              style=\"display:none;\">\n",
              "        \n",
              "  <svg xmlns=\"http://www.w3.org/2000/svg\" height=\"24px\"viewBox=\"0 0 24 24\"\n",
              "       width=\"24px\">\n",
              "    <path d=\"M0 0h24v24H0V0z\" fill=\"none\"/>\n",
              "    <path d=\"M18.56 5.44l.94 2.06.94-2.06 2.06-.94-2.06-.94-.94-2.06-.94 2.06-2.06.94zm-11 1L8.5 8.5l.94-2.06 2.06-.94-2.06-.94L8.5 2.5l-.94 2.06-2.06.94zm10 10l.94 2.06.94-2.06 2.06-.94-2.06-.94-.94-2.06-.94 2.06-2.06.94z\"/><path d=\"M17.41 7.96l-1.37-1.37c-.4-.4-.92-.59-1.43-.59-.52 0-1.04.2-1.43.59L10.3 9.45l-7.72 7.72c-.78.78-.78 2.05 0 2.83L4 21.41c.39.39.9.59 1.41.59.51 0 1.02-.2 1.41-.59l7.78-7.78 2.81-2.81c.8-.78.8-2.07 0-2.86zM5.41 20L4 18.59l7.72-7.72 1.47 1.35L5.41 20z\"/>\n",
              "  </svg>\n",
              "      </button>\n",
              "      \n",
              "  <style>\n",
              "    .colab-df-container {\n",
              "      display:flex;\n",
              "      flex-wrap:wrap;\n",
              "      gap: 12px;\n",
              "    }\n",
              "\n",
              "    .colab-df-convert {\n",
              "      background-color: #E8F0FE;\n",
              "      border: none;\n",
              "      border-radius: 50%;\n",
              "      cursor: pointer;\n",
              "      display: none;\n",
              "      fill: #1967D2;\n",
              "      height: 32px;\n",
              "      padding: 0 0 0 0;\n",
              "      width: 32px;\n",
              "    }\n",
              "\n",
              "    .colab-df-convert:hover {\n",
              "      background-color: #E2EBFA;\n",
              "      box-shadow: 0px 1px 2px rgba(60, 64, 67, 0.3), 0px 1px 3px 1px rgba(60, 64, 67, 0.15);\n",
              "      fill: #174EA6;\n",
              "    }\n",
              "\n",
              "    [theme=dark] .colab-df-convert {\n",
              "      background-color: #3B4455;\n",
              "      fill: #D2E3FC;\n",
              "    }\n",
              "\n",
              "    [theme=dark] .colab-df-convert:hover {\n",
              "      background-color: #434B5C;\n",
              "      box-shadow: 0px 1px 3px 1px rgba(0, 0, 0, 0.15);\n",
              "      filter: drop-shadow(0px 1px 2px rgba(0, 0, 0, 0.3));\n",
              "      fill: #FFFFFF;\n",
              "    }\n",
              "  </style>\n",
              "\n",
              "      <script>\n",
              "        const buttonEl =\n",
              "          document.querySelector('#df-e92f3a2e-64a6-44fa-85b1-defe34b10b12 button.colab-df-convert');\n",
              "        buttonEl.style.display =\n",
              "          google.colab.kernel.accessAllowed ? 'block' : 'none';\n",
              "\n",
              "        async function convertToInteractive(key) {\n",
              "          const element = document.querySelector('#df-e92f3a2e-64a6-44fa-85b1-defe34b10b12');\n",
              "          const dataTable =\n",
              "            await google.colab.kernel.invokeFunction('convertToInteractive',\n",
              "                                                     [key], {});\n",
              "          if (!dataTable) return;\n",
              "\n",
              "          const docLinkHtml = 'Like what you see? Visit the ' +\n",
              "            '<a target=\"_blank\" href=https://colab.research.google.com/notebooks/data_table.ipynb>data table notebook</a>'\n",
              "            + ' to learn more about interactive tables.';\n",
              "          element.innerHTML = '';\n",
              "          dataTable['output_type'] = 'display_data';\n",
              "          await google.colab.output.renderOutput(dataTable, element);\n",
              "          const docLink = document.createElement('div');\n",
              "          docLink.innerHTML = docLinkHtml;\n",
              "          element.appendChild(docLink);\n",
              "        }\n",
              "      </script>\n",
              "    </div>\n",
              "  </div>\n",
              "  "
            ]
          },
          "metadata": {},
          "execution_count": 127
        }
      ]
    },
    {
      "cell_type": "code",
      "source": [
        "y"
      ],
      "metadata": {
        "colab": {
          "base_uri": "https://localhost:8080/"
        },
        "id": "EtBufXUHPoRS",
        "outputId": "99fb008e-2720-4d92-e507-d59e610dd8bc"
      },
      "execution_count": 128,
      "outputs": [
        {
          "output_type": "execute_result",
          "data": {
            "text/plain": [
              "0     21\n",
              "1     47\n",
              "2     27\n",
              "3     75\n",
              "4     30\n",
              "5     20\n",
              "6     88\n",
              "7     60\n",
              "8     81\n",
              "9     25\n",
              "10    85\n",
              "11    62\n",
              "12    41\n",
              "13    42\n",
              "14    17\n",
              "15    95\n",
              "16    30\n",
              "17    24\n",
              "18    67\n",
              "19    69\n",
              "20    30\n",
              "21    54\n",
              "22    35\n",
              "23    76\n",
              "24    86\n",
              "Name: Scores, dtype: int64"
            ]
          },
          "metadata": {},
          "execution_count": 128
        }
      ]
    },
    {
      "cell_type": "code",
      "source": [
        "from sklearn.model_selection import train_test_split\n",
        "x_train, x_test, y_train, y_test= train_test_split(x,y, test_size=0.2, random_state=2)"
      ],
      "metadata": {
        "id": "n5nuBEA7PqTp"
      },
      "execution_count": 129,
      "outputs": []
    },
    {
      "cell_type": "code",
      "source": [
        "lr_model= LinearRegression()"
      ],
      "metadata": {
        "id": "waklq6ABPzUi"
      },
      "execution_count": 130,
      "outputs": []
    },
    {
      "cell_type": "code",
      "source": [
        "lr_model.fit(x_train,y_train)"
      ],
      "metadata": {
        "colab": {
          "base_uri": "https://localhost:8080/"
        },
        "id": "bLtW_QlnQO5j",
        "outputId": "5e1ee456-0e73-456e-cf77-3c41abc60d2f"
      },
      "execution_count": 131,
      "outputs": [
        {
          "output_type": "execute_result",
          "data": {
            "text/plain": [
              "LinearRegression()"
            ]
          },
          "metadata": {},
          "execution_count": 131
        }
      ]
    },
    {
      "cell_type": "code",
      "source": [
        "x_test"
      ],
      "metadata": {
        "colab": {
          "base_uri": "https://localhost:8080/",
          "height": 206
        },
        "id": "-epDf1GaQbgR",
        "outputId": "e9ba65ec-26ec-43fa-c5df-560f97821d1c"
      },
      "execution_count": 132,
      "outputs": [
        {
          "output_type": "execute_result",
          "data": {
            "text/plain": [
              "    Hours\n",
              "14    1.1\n",
              "0     2.5\n",
              "17    1.9\n",
              "6     9.2\n",
              "23    6.9"
            ],
            "text/html": [
              "\n",
              "  <div id=\"df-fffe36a0-14ca-439c-a974-409fe2075209\">\n",
              "    <div class=\"colab-df-container\">\n",
              "      <div>\n",
              "<style scoped>\n",
              "    .dataframe tbody tr th:only-of-type {\n",
              "        vertical-align: middle;\n",
              "    }\n",
              "\n",
              "    .dataframe tbody tr th {\n",
              "        vertical-align: top;\n",
              "    }\n",
              "\n",
              "    .dataframe thead th {\n",
              "        text-align: right;\n",
              "    }\n",
              "</style>\n",
              "<table border=\"1\" class=\"dataframe\">\n",
              "  <thead>\n",
              "    <tr style=\"text-align: right;\">\n",
              "      <th></th>\n",
              "      <th>Hours</th>\n",
              "    </tr>\n",
              "  </thead>\n",
              "  <tbody>\n",
              "    <tr>\n",
              "      <th>14</th>\n",
              "      <td>1.1</td>\n",
              "    </tr>\n",
              "    <tr>\n",
              "      <th>0</th>\n",
              "      <td>2.5</td>\n",
              "    </tr>\n",
              "    <tr>\n",
              "      <th>17</th>\n",
              "      <td>1.9</td>\n",
              "    </tr>\n",
              "    <tr>\n",
              "      <th>6</th>\n",
              "      <td>9.2</td>\n",
              "    </tr>\n",
              "    <tr>\n",
              "      <th>23</th>\n",
              "      <td>6.9</td>\n",
              "    </tr>\n",
              "  </tbody>\n",
              "</table>\n",
              "</div>\n",
              "      <button class=\"colab-df-convert\" onclick=\"convertToInteractive('df-fffe36a0-14ca-439c-a974-409fe2075209')\"\n",
              "              title=\"Convert this dataframe to an interactive table.\"\n",
              "              style=\"display:none;\">\n",
              "        \n",
              "  <svg xmlns=\"http://www.w3.org/2000/svg\" height=\"24px\"viewBox=\"0 0 24 24\"\n",
              "       width=\"24px\">\n",
              "    <path d=\"M0 0h24v24H0V0z\" fill=\"none\"/>\n",
              "    <path d=\"M18.56 5.44l.94 2.06.94-2.06 2.06-.94-2.06-.94-.94-2.06-.94 2.06-2.06.94zm-11 1L8.5 8.5l.94-2.06 2.06-.94-2.06-.94L8.5 2.5l-.94 2.06-2.06.94zm10 10l.94 2.06.94-2.06 2.06-.94-2.06-.94-.94-2.06-.94 2.06-2.06.94z\"/><path d=\"M17.41 7.96l-1.37-1.37c-.4-.4-.92-.59-1.43-.59-.52 0-1.04.2-1.43.59L10.3 9.45l-7.72 7.72c-.78.78-.78 2.05 0 2.83L4 21.41c.39.39.9.59 1.41.59.51 0 1.02-.2 1.41-.59l7.78-7.78 2.81-2.81c.8-.78.8-2.07 0-2.86zM5.41 20L4 18.59l7.72-7.72 1.47 1.35L5.41 20z\"/>\n",
              "  </svg>\n",
              "      </button>\n",
              "      \n",
              "  <style>\n",
              "    .colab-df-container {\n",
              "      display:flex;\n",
              "      flex-wrap:wrap;\n",
              "      gap: 12px;\n",
              "    }\n",
              "\n",
              "    .colab-df-convert {\n",
              "      background-color: #E8F0FE;\n",
              "      border: none;\n",
              "      border-radius: 50%;\n",
              "      cursor: pointer;\n",
              "      display: none;\n",
              "      fill: #1967D2;\n",
              "      height: 32px;\n",
              "      padding: 0 0 0 0;\n",
              "      width: 32px;\n",
              "    }\n",
              "\n",
              "    .colab-df-convert:hover {\n",
              "      background-color: #E2EBFA;\n",
              "      box-shadow: 0px 1px 2px rgba(60, 64, 67, 0.3), 0px 1px 3px 1px rgba(60, 64, 67, 0.15);\n",
              "      fill: #174EA6;\n",
              "    }\n",
              "\n",
              "    [theme=dark] .colab-df-convert {\n",
              "      background-color: #3B4455;\n",
              "      fill: #D2E3FC;\n",
              "    }\n",
              "\n",
              "    [theme=dark] .colab-df-convert:hover {\n",
              "      background-color: #434B5C;\n",
              "      box-shadow: 0px 1px 3px 1px rgba(0, 0, 0, 0.15);\n",
              "      filter: drop-shadow(0px 1px 2px rgba(0, 0, 0, 0.3));\n",
              "      fill: #FFFFFF;\n",
              "    }\n",
              "  </style>\n",
              "\n",
              "      <script>\n",
              "        const buttonEl =\n",
              "          document.querySelector('#df-fffe36a0-14ca-439c-a974-409fe2075209 button.colab-df-convert');\n",
              "        buttonEl.style.display =\n",
              "          google.colab.kernel.accessAllowed ? 'block' : 'none';\n",
              "\n",
              "        async function convertToInteractive(key) {\n",
              "          const element = document.querySelector('#df-fffe36a0-14ca-439c-a974-409fe2075209');\n",
              "          const dataTable =\n",
              "            await google.colab.kernel.invokeFunction('convertToInteractive',\n",
              "                                                     [key], {});\n",
              "          if (!dataTable) return;\n",
              "\n",
              "          const docLinkHtml = 'Like what you see? Visit the ' +\n",
              "            '<a target=\"_blank\" href=https://colab.research.google.com/notebooks/data_table.ipynb>data table notebook</a>'\n",
              "            + ' to learn more about interactive tables.';\n",
              "          element.innerHTML = '';\n",
              "          dataTable['output_type'] = 'display_data';\n",
              "          await google.colab.output.renderOutput(dataTable, element);\n",
              "          const docLink = document.createElement('div');\n",
              "          docLink.innerHTML = docLinkHtml;\n",
              "          element.appendChild(docLink);\n",
              "        }\n",
              "      </script>\n",
              "    </div>\n",
              "  </div>\n",
              "  "
            ]
          },
          "metadata": {},
          "execution_count": 132
        }
      ]
    },
    {
      "cell_type": "code",
      "source": [
        "y_test"
      ],
      "metadata": {
        "colab": {
          "base_uri": "https://localhost:8080/"
        },
        "id": "R9JkitvrQdcU",
        "outputId": "a75e1891-dc56-429f-80f9-b6576be45261"
      },
      "execution_count": 133,
      "outputs": [
        {
          "output_type": "execute_result",
          "data": {
            "text/plain": [
              "14    17\n",
              "0     21\n",
              "17    24\n",
              "6     88\n",
              "23    76\n",
              "Name: Scores, dtype: int64"
            ]
          },
          "metadata": {},
          "execution_count": 133
        }
      ]
    },
    {
      "cell_type": "code",
      "source": [
        "plt.scatter(df_1['Hours'],df_1['Scores'])\n",
        "plt.plot(x_train, lr_model.predict(x_train),color='red')\n",
        "plt.xlabel('Hours')\n",
        "plt.ylabel('Scores')"
      ],
      "metadata": {
        "colab": {
          "base_uri": "https://localhost:8080/",
          "height": 296
        },
        "id": "6ILgJFLHQlpQ",
        "outputId": "c6a9a4e3-6970-4db6-eb08-89f6c7663d06"
      },
      "execution_count": 134,
      "outputs": [
        {
          "output_type": "execute_result",
          "data": {
            "text/plain": [
              "Text(0, 0.5, 'Scores')"
            ]
          },
          "metadata": {},
          "execution_count": 134
        },
        {
          "output_type": "display_data",
          "data": {
            "text/plain": [
              "<Figure size 432x288 with 1 Axes>"
            ],
            "image/png": "[encoded data removed]"
          },
          "metadata": {
            "needs_background": "light"
          }
        }
      ]
    },
    {
      "cell_type": "code",
      "source": [
        "#slope and intercept\n",
        "m= lr_model.coef_\n",
        "m\n"
      ],
      "metadata": {
        "colab": {
          "base_uri": "https://localhost:8080/"
        },
        "id": "PHmI2V7qRIHK",
        "outputId": "ca6b3111-780e-4888-b0df-f237381c7dba"
      },
      "execution_count": 135,
      "outputs": [
        {
          "output_type": "execute_result",
          "data": {
            "text/plain": [
              "array([9.94061514])"
            ]
          },
          "metadata": {},
          "execution_count": 135
        }
      ]
    },
    {
      "cell_type": "code",
      "source": [
        "c= lr_model.intercept_\n",
        "c"
      ],
      "metadata": {
        "colab": {
          "base_uri": "https://localhost:8080/"
        },
        "id": "BNSbQ7WcRq9h",
        "outputId": "ab57352f-f0e6-4617-bc96-6a1a1b3fbb16"
      },
      "execution_count": 136,
      "outputs": [
        {
          "output_type": "execute_result",
          "data": {
            "text/plain": [
              "1.5079104828268939"
            ]
          },
          "metadata": {},
          "execution_count": 136
        }
      ]
    },
    {
      "cell_type": "code",
      "source": [
        "y_pred=lr_model.predict(x_test)"
      ],
      "metadata": {
        "id": "tapLZrKC63YZ"
      },
      "execution_count": 137,
      "outputs": []
    },
    {
      "cell_type": "code",
      "source": [
        "y_test.values"
      ],
      "metadata": {
        "colab": {
          "base_uri": "https://localhost:8080/"
        },
        "id": "VIkIfbQgt_zW",
        "outputId": "a80261c1-6303-4345-95f5-8467abdc4281"
      },
      "execution_count": 138,
      "outputs": [
        {
          "output_type": "execute_result",
          "data": {
            "text/plain": [
              "array([17, 21, 24, 88, 76])"
            ]
          },
          "metadata": {},
          "execution_count": 138
        }
      ]
    },
    {
      "cell_type": "code",
      "source": [
        "#calculating errors and r2 values\n",
        "from sklearn.metrics import mean_absolute_error,mean_squared_error, r2_score"
      ],
      "metadata": {
        "id": "AudA0hy4R-vY"
      },
      "execution_count": 139,
      "outputs": []
    },
    {
      "cell_type": "code",
      "source": [
        "print('MAE', mean_absolute_error(y_test,y_pred))"
      ],
      "metadata": {
        "id": "P93-8UVL7dhq",
        "colab": {
          "base_uri": "https://localhost:8080/"
        },
        "outputId": "02ecc36f-8c67-4394-c1dd-116b563a11b3"
      },
      "execution_count": 140,
      "outputs": [
        {
          "output_type": "stream",
          "name": "stdout",
          "text": [
            "MAE 4.877039354964476\n"
          ]
        }
      ]
    },
    {
      "cell_type": "code",
      "source": [
        "print('MSE',mean_squared_error(y_test,y_pred))"
      ],
      "metadata": {
        "id": "d74fA-M797fv",
        "colab": {
          "base_uri": "https://localhost:8080/"
        },
        "outputId": "ba31a129-d3d0-48e5-bef4-b0b1c24e8da6"
      },
      "execution_count": 141,
      "outputs": [
        {
          "output_type": "stream",
          "name": "stdout",
          "text": [
            "MSE 24.387620339856596\n"
          ]
        }
      ]
    },
    {
      "cell_type": "code",
      "source": [
        "print('RMSE',np.sqrt(mean_squared_error(y_test,y_pred)))"
      ],
      "metadata": {
        "colab": {
          "base_uri": "https://localhost:8080/"
        },
        "id": "_e3JzY6SuVju",
        "outputId": "303e669d-9be6-4bd5-a3b7-22a221a08eeb"
      },
      "execution_count": 142,
      "outputs": [
        {
          "output_type": "stream",
          "name": "stdout",
          "text": [
            "RMSE 4.9383823606376005\n"
          ]
        }
      ]
    },
    {
      "cell_type": "code",
      "source": [
        "print('r2 score',r2_score(y_test,y_pred))\n",
        "r2=r2_score(y_test,y_pred)"
      ],
      "metadata": {
        "colab": {
          "base_uri": "https://localhost:8080/"
        },
        "id": "acOfeNx-uVoi",
        "outputId": "4a261b17-0793-4a3b-bfb4-083cef43c818"
      },
      "execution_count": 143,
      "outputs": [
        {
          "output_type": "stream",
          "name": "stdout",
          "text": [
            "r2 score 0.9735538080811826\n"
          ]
        }
      ]
    },
    {
      "cell_type": "code",
      "source": [
        "#adjusted r2 score\n",
        "x_test.shape"
      ],
      "metadata": {
        "colab": {
          "base_uri": "https://localhost:8080/"
        },
        "id": "PMNR94E1uVtf",
        "outputId": "81b4e25d-fabc-483d-a599-237953a32a4d"
      },
      "execution_count": 144,
      "outputs": [
        {
          "output_type": "execute_result",
          "data": {
            "text/plain": [
              "(5, 1)"
            ]
          },
          "metadata": {},
          "execution_count": 144
        }
      ]
    },
    {
      "cell_type": "code",
      "source": [
        "1-((1-r2)*(5-1)/(5-1-1))"
      ],
      "metadata": {
        "colab": {
          "base_uri": "https://localhost:8080/"
        },
        "id": "X0oTMswyvAyC",
        "outputId": "3d7360b0-b31e-45be-9825-fe5c88f72d66"
      },
      "execution_count": 145,
      "outputs": [
        {
          "output_type": "execute_result",
          "data": {
            "text/plain": [
              "0.9647384107749102"
            ]
          },
          "metadata": {},
          "execution_count": 145
        }
      ]
    },
    {
      "cell_type": "code",
      "source": [
        "#adding a random feature to see change in r2 score and adj r2 score\n",
        "df_new= df_1.copy()\n",
        "df_new['new feature']= np.random.random(25)\n",
        "\n",
        "df_new= df_new[['Hours','Scores','new feature']]\n",
        "df_new.head()"
      ],
      "metadata": {
        "colab": {
          "base_uri": "https://localhost:8080/",
          "height": 206
        },
        "id": "UstYcd9IvA3R",
        "outputId": "26ebb5d0-a947-4118-bd80-68c24e6258d0"
      },
      "execution_count": 146,
      "outputs": [
        {
          "output_type": "execute_result",
          "data": {
            "text/plain": [
              "   Hours  Scores  new feature\n",
              "0    2.5      21     0.709159\n",
              "1    5.1      47     0.184140\n",
              "2    3.2      27     0.188103\n",
              "3    8.5      75     0.942094\n",
              "4    3.5      30     0.885209"
            ],
            "text/html": [
              "\n",
              "  <div id=\"df-25cc7333-a561-4194-b3ed-9391e96ec453\">\n",
              "    <div class=\"colab-df-container\">\n",
              "      <div>\n",
              "<style scoped>\n",
              "    .dataframe tbody tr th:only-of-type {\n",
              "        vertical-align: middle;\n",
              "    }\n",
              "\n",
              "    .dataframe tbody tr th {\n",
              "        vertical-align: top;\n",
              "    }\n",
              "\n",
              "    .dataframe thead th {\n",
              "        text-align: right;\n",
              "    }\n",
              "</style>\n",
              "<table border=\"1\" class=\"dataframe\">\n",
              "  <thead>\n",
              "    <tr style=\"text-align: right;\">\n",
              "      <th></th>\n",
              "      <th>Hours</th>\n",
              "      <th>Scores</th>\n",
              "      <th>new feature</th>\n",
              "    </tr>\n",
              "  </thead>\n",
              "  <tbody>\n",
              "    <tr>\n",
              "      <th>0</th>\n",
              "      <td>2.5</td>\n",
              "      <td>21</td>\n",
              "      <td>0.709159</td>\n",
              "    </tr>\n",
              "    <tr>\n",
              "      <th>1</th>\n",
              "      <td>5.1</td>\n",
              "      <td>47</td>\n",
              "      <td>0.184140</td>\n",
              "    </tr>\n",
              "    <tr>\n",
              "      <th>2</th>\n",
              "      <td>3.2</td>\n",
              "      <td>27</td>\n",
              "      <td>0.188103</td>\n",
              "    </tr>\n",
              "    <tr>\n",
              "      <th>3</th>\n",
              "      <td>8.5</td>\n",
              "      <td>75</td>\n",
              "      <td>0.942094</td>\n",
              "    </tr>\n",
              "    <tr>\n",
              "      <th>4</th>\n",
              "      <td>3.5</td>\n",
              "      <td>30</td>\n",
              "      <td>0.885209</td>\n",
              "    </tr>\n",
              "  </tbody>\n",
              "</table>\n",
              "</div>\n",
              "      <button class=\"colab-df-convert\" onclick=\"convertToInteractive('df-25cc7333-a561-4194-b3ed-9391e96ec453')\"\n",
              "              title=\"Convert this dataframe to an interactive table.\"\n",
              "              style=\"display:none;\">\n",
              "        \n",
              "  <svg xmlns=\"http://www.w3.org/2000/svg\" height=\"24px\"viewBox=\"0 0 24 24\"\n",
              "       width=\"24px\">\n",
              "    <path d=\"M0 0h24v24H0V0z\" fill=\"none\"/>\n",
              "    <path d=\"M18.56 5.44l.94 2.06.94-2.06 2.06-.94-2.06-.94-.94-2.06-.94 2.06-2.06.94zm-11 1L8.5 8.5l.94-2.06 2.06-.94-2.06-.94L8.5 2.5l-.94 2.06-2.06.94zm10 10l.94 2.06.94-2.06 2.06-.94-2.06-.94-.94-2.06-.94 2.06-2.06.94z\"/><path d=\"M17.41 7.96l-1.37-1.37c-.4-.4-.92-.59-1.43-.59-.52 0-1.04.2-1.43.59L10.3 9.45l-7.72 7.72c-.78.78-.78 2.05 0 2.83L4 21.41c.39.39.9.59 1.41.59.51 0 1.02-.2 1.41-.59l7.78-7.78 2.81-2.81c.8-.78.8-2.07 0-2.86zM5.41 20L4 18.59l7.72-7.72 1.47 1.35L5.41 20z\"/>\n",
              "  </svg>\n",
              "      </button>\n",
              "      \n",
              "  <style>\n",
              "    .colab-df-container {\n",
              "      display:flex;\n",
              "      flex-wrap:wrap;\n",
              "      gap: 12px;\n",
              "    }\n",
              "\n",
              "    .colab-df-convert {\n",
              "      background-color: #E8F0FE;\n",
              "      border: none;\n",
              "      border-radius: 50%;\n",
              "      cursor: pointer;\n",
              "      display: none;\n",
              "      fill: #1967D2;\n",
              "      height: 32px;\n",
              "      padding: 0 0 0 0;\n",
              "      width: 32px;\n",
              "    }\n",
              "\n",
              "    .colab-df-convert:hover {\n",
              "      background-color: #E2EBFA;\n",
              "      box-shadow: 0px 1px 2px rgba(60, 64, 67, 0.3), 0px 1px 3px 1px rgba(60, 64, 67, 0.15);\n",
              "      fill: #174EA6;\n",
              "    }\n",
              "\n",
              "    [theme=dark] .colab-df-convert {\n",
              "      background-color: #3B4455;\n",
              "      fill: #D2E3FC;\n",
              "    }\n",
              "\n",
              "    [theme=dark] .colab-df-convert:hover {\n",
              "      background-color: #434B5C;\n",
              "      box-shadow: 0px 1px 3px 1px rgba(0, 0, 0, 0.15);\n",
              "      filter: drop-shadow(0px 1px 2px rgba(0, 0, 0, 0.3));\n",
              "      fill: #FFFFFF;\n",
              "    }\n",
              "  </style>\n",
              "\n",
              "      <script>\n",
              "        const buttonEl =\n",
              "          document.querySelector('#df-25cc7333-a561-4194-b3ed-9391e96ec453 button.colab-df-convert');\n",
              "        buttonEl.style.display =\n",
              "          google.colab.kernel.accessAllowed ? 'block' : 'none';\n",
              "\n",
              "        async function convertToInteractive(key) {\n",
              "          const element = document.querySelector('#df-25cc7333-a561-4194-b3ed-9391e96ec453');\n",
              "          const dataTable =\n",
              "            await google.colab.kernel.invokeFunction('convertToInteractive',\n",
              "                                                     [key], {});\n",
              "          if (!dataTable) return;\n",
              "\n",
              "          const docLinkHtml = 'Like what you see? Visit the ' +\n",
              "            '<a target=\"_blank\" href=https://colab.research.google.com/notebooks/data_table.ipynb>data table notebook</a>'\n",
              "            + ' to learn more about interactive tables.';\n",
              "          element.innerHTML = '';\n",
              "          dataTable['output_type'] = 'display_data';\n",
              "          await google.colab.output.renderOutput(dataTable, element);\n",
              "          const docLink = document.createElement('div');\n",
              "          docLink.innerHTML = docLinkHtml;\n",
              "          element.appendChild(docLink);\n",
              "        }\n",
              "      </script>\n",
              "    </div>\n",
              "  </div>\n",
              "  "
            ]
          },
          "metadata": {},
          "execution_count": 146
        }
      ]
    },
    {
      "cell_type": "code",
      "source": [
        "x= df_1.iloc[:,0:2].values\n",
        "y=df_1.iloc[:,-1].values"
      ],
      "metadata": {
        "id": "DIdgrMFT1JTF"
      },
      "execution_count": 147,
      "outputs": []
    },
    {
      "cell_type": "code",
      "source": [
        "x_train,x_test,y_train,y_test=train_test_split(x,y,test_size=0.2,random_state=2)"
      ],
      "metadata": {
        "id": "Hhw2FE6ExfFG"
      },
      "execution_count": 148,
      "outputs": []
    },
    {
      "cell_type": "code",
      "source": [
        "lrz=LinearRegression()\n",
        "lrz.fit(x_train,y_train)\n",
        "y_pred=lrz.predict(x_test)"
      ],
      "metadata": {
        "id": "nZL14IKLwOPv"
      },
      "execution_count": 149,
      "outputs": []
    },
    {
      "cell_type": "code",
      "source": [
        "print('r2 score',r2_score(y_test,y_pred))\n",
        "r_2=r2_score(y_test,y_pred)\n",
        "#chnaged from  0.9735538080811826 to 1.0, there should not be an increase since the new feature is totally irrelevent column."
      ],
      "metadata": {
        "colab": {
          "base_uri": "https://localhost:8080/"
        },
        "id": "Z9ea-rIMwOTJ",
        "outputId": "8a84d305-57b0-437b-c522-0d893e5481b8"
      },
      "execution_count": 150,
      "outputs": [
        {
          "output_type": "stream",
          "name": "stdout",
          "text": [
            "r2 score 1.0\n"
          ]
        }
      ]
    },
    {
      "cell_type": "code",
      "source": [
        "#adjusted r2 score\n",
        "x_test.shape"
      ],
      "metadata": {
        "colab": {
          "base_uri": "https://localhost:8080/"
        },
        "id": "xvF25wDqwOWY",
        "outputId": "be30cf3d-5740-4c42-b234-0cb2ce904fa5"
      },
      "execution_count": 151,
      "outputs": [
        {
          "output_type": "execute_result",
          "data": {
            "text/plain": [
              "(5, 2)"
            ]
          },
          "metadata": {},
          "execution_count": 151
        }
      ]
    },
    {
      "cell_type": "code",
      "source": [
        "1-((1-r2)*(5-1)/(5-1-2))\n",
        "\n",
        "#the adjusted r2 score decreased from 0.9647384107749102 to 0.9471076161623653 which means that the column was irrelevent.\n"
      ],
      "metadata": {
        "colab": {
          "base_uri": "https://localhost:8080/"
        },
        "id": "JI6ZpK2K2ZtA",
        "outputId": "35eb6f1b-9920-45f5-ece3-b193f89668d3"
      },
      "execution_count": 152,
      "outputs": [
        {
          "output_type": "execute_result",
          "data": {
            "text/plain": [
              "0.9471076161623653"
            ]
          },
          "metadata": {},
          "execution_count": 152
        }
      ]
    },
    {
      "cell_type": "markdown",
      "source": [
        "MULTIPLE LINEAR REGRESSION"
      ],
      "metadata": {
        "id": "OWvqJG2O3Wto"
      }
    },
    {
      "cell_type": "code",
      "source": [
        "'''\n",
        "multiple linear regression: more than one input columns or independent columns.\n",
        "in real world data, multiple linear regression is used more often than simple linear regression.\n",
        "\n",
        "in other words, multiple linear regression is just an extension of simple linear regression.\n",
        "\n",
        "in linear regression, if we had 1 input column and 1 output column we can visualise it as 2D data, if we have  \n",
        "2 input column and 1 output column we can visualise it as 3D data and so on..\n",
        "\n",
        "\n",
        "in simple linear regression we had a best fit line and in multiple linear regression we have a plane that passes from the points.\n",
        "if the data is in 4D or 5D, the plane is then called a HYPERPLANE.\n",
        "'''"
      ],
      "metadata": {
        "id": "8atnJC_X2049"
      },
      "execution_count": null,
      "outputs": []
    },
    {
      "cell_type": "code",
      "source": [
        "'''\n",
        "equation for multiple linear regression\n",
        "\n",
        "for 3D: 2 inputs and 1 output\n",
        "\n",
        "Y = mX1+ nX2 + C\n",
        "Y = beta not+ beta1X1 + beta2X2\n",
        "\n",
        "comparing from Y= mX+C\n",
        "             m becomes beta1 , C becomes beta not and beta 2 is due to the another input column.\n",
        "             so here we need to find beta not, beta1 and beta2\n",
        "\n",
        "\n",
        "\n",
        "for 4D: 3 inputs and 1 output\n",
        "we have to find beta not, beta1, beta2 and beta3 \n",
        "\n",
        "\n",
        "\n",
        "for nth dimensinal data:\n",
        "\n",
        "Y = beta not+ beta1X1 + beta2X2 + ... + betanXn\n",
        "\n",
        "Y = beta not+ summation i=1 to n betaiXi\n",
        "\n",
        "\n",
        "\n",
        "so if we have n columns we will have n+1 coefficients.\n",
        "'''\n",
        "\n",
        "\n",
        "'''\n",
        "example:  lpa= beta not + beta1*cgpa + beta2*iq\n",
        "          so beta1, beta2 are weightages means, lpa calculate karne me cgpa aur iq ka kitna weightage hai.\n",
        "          to agar beta1 ka value kum hai, that means lpa calculate krne me cgpa ka utna zarurat nahi hai aur agar\n",
        "          agar beta2 ka value kum hai, that means lpa calculate krne me iq ka utna zarurat nahi hai.\n",
        "\n",
        "          and beta not represents the offset \n",
        "          which means if beta1 and beta2 are zero then the lpa will be decided by offset.\n",
        "          \n",
        "\n",
        "\n",
        "so to summarise:\n",
        "in multiple linear regression we have to find the equation of a hyperplane. esi equation find krna h jo sare points ke closest ho.\n",
        "'''"
      ],
      "metadata": {
        "id": "rrVONWh13zxQ"
      },
      "execution_count": null,
      "outputs": []
    },
    {
      "cell_type": "code",
      "source": [
        "import pandas as pd\n",
        "import numpy as np\n",
        "import matplotlib.pyplot as plt\n",
        "from sklearn.datasets import make_regression       #to make my own dataset\n",
        "import plotly.express as px            \n",
        "import plotly.graph_objects as go\n",
        "from sklearn.linear_model import LinearRegression\n",
        "from sklearn.model_selection import train_test_split\n",
        "from sklearn.metrics import mean_absolute_error, mean_squared_error, r2_score"
      ],
      "metadata": {
        "id": "YoHLzfoh30XN"
      },
      "execution_count": 155,
      "outputs": []
    },
    {
      "cell_type": "code",
      "source": [
        "'''\n",
        "The plotly. express module (usually imported as px ) contains functions that can create entire figures at once, and is referred to as Plotly Express or PX. \n",
        "Plotly Express is a built-in part of the plotly library, and is the recommended starting point for creating most common figures.\n",
        "\n",
        "\n",
        "The plotly. graph_objects module (typically imported as go ) contains an automatically-generated hierarchy of Python classes\n",
        "\n",
        "'''"
      ],
      "metadata": {
        "id": "R9DccPRir5CV"
      },
      "execution_count": null,
      "outputs": []
    },
    {
      "cell_type": "code",
      "source": [
        "#generating a dataset\n",
        "x,y = make_regression(n_samples=100, n_features=2, n_informative=2, n_targets=1, noise=50)        #2 inputs and 1 output"
      ],
      "metadata": {
        "id": "y_DF0774wpoH"
      },
      "execution_count": 157,
      "outputs": []
    },
    {
      "cell_type": "code",
      "source": [
        "df= pd.DataFrame({'feature1':x[:,0],'feature2': x[:,1], 'target': y})"
      ],
      "metadata": {
        "id": "no9o5YuGwps3"
      },
      "execution_count": 158,
      "outputs": []
    },
    {
      "cell_type": "code",
      "source": [
        "df.shape"
      ],
      "metadata": {
        "colab": {
          "base_uri": "https://localhost:8080/"
        },
        "id": "YyxgaPMRwpw5",
        "outputId": "ae437c8b-134c-4f90-e89e-601e1d5806c6"
      },
      "execution_count": 159,
      "outputs": [
        {
          "output_type": "execute_result",
          "data": {
            "text/plain": [
              "(100, 3)"
            ]
          },
          "metadata": {},
          "execution_count": 159
        }
      ]
    },
    {
      "cell_type": "code",
      "source": [
        "df.head()"
      ],
      "metadata": {
        "colab": {
          "base_uri": "https://localhost:8080/",
          "height": 206
        },
        "id": "yzfXNvJWr5GW",
        "outputId": "63abc193-1917-4d88-accd-3cb2638cabcb"
      },
      "execution_count": 160,
      "outputs": [
        {
          "output_type": "execute_result",
          "data": {
            "text/plain": [
              "   feature1  feature2     target\n",
              "0  1.022770  0.289971  76.233725\n",
              "1  0.766219  1.114078  26.535435\n",
              "2 -1.131816  0.058677 -84.466206\n",
              "3  1.632409  1.200449  28.840147\n",
              "4 -0.219756  0.496032  20.659657"
            ],
            "text/html": [
              "\n",
              "  <div id=\"df-d2392568-fc06-41a9-ab69-06f8666fd5ea\">\n",
              "    <div class=\"colab-df-container\">\n",
              "      <div>\n",
              "<style scoped>\n",
              "    .dataframe tbody tr th:only-of-type {\n",
              "        vertical-align: middle;\n",
              "    }\n",
              "\n",
              "    .dataframe tbody tr th {\n",
              "        vertical-align: top;\n",
              "    }\n",
              "\n",
              "    .dataframe thead th {\n",
              "        text-align: right;\n",
              "    }\n",
              "</style>\n",
              "<table border=\"1\" class=\"dataframe\">\n",
              "  <thead>\n",
              "    <tr style=\"text-align: right;\">\n",
              "      <th></th>\n",
              "      <th>feature1</th>\n",
              "      <th>feature2</th>\n",
              "      <th>target</th>\n",
              "    </tr>\n",
              "  </thead>\n",
              "  <tbody>\n",
              "    <tr>\n",
              "      <th>0</th>\n",
              "      <td>1.022770</td>\n",
              "      <td>0.289971</td>\n",
              "      <td>76.233725</td>\n",
              "    </tr>\n",
              "    <tr>\n",
              "      <th>1</th>\n",
              "      <td>0.766219</td>\n",
              "      <td>1.114078</td>\n",
              "      <td>26.535435</td>\n",
              "    </tr>\n",
              "    <tr>\n",
              "      <th>2</th>\n",
              "      <td>-1.131816</td>\n",
              "      <td>0.058677</td>\n",
              "      <td>-84.466206</td>\n",
              "    </tr>\n",
              "    <tr>\n",
              "      <th>3</th>\n",
              "      <td>1.632409</td>\n",
              "      <td>1.200449</td>\n",
              "      <td>28.840147</td>\n",
              "    </tr>\n",
              "    <tr>\n",
              "      <th>4</th>\n",
              "      <td>-0.219756</td>\n",
              "      <td>0.496032</td>\n",
              "      <td>20.659657</td>\n",
              "    </tr>\n",
              "  </tbody>\n",
              "</table>\n",
              "</div>\n",
              "      <button class=\"colab-df-convert\" onclick=\"convertToInteractive('df-d2392568-fc06-41a9-ab69-06f8666fd5ea')\"\n",
              "              title=\"Convert this dataframe to an interactive table.\"\n",
              "              style=\"display:none;\">\n",
              "        \n",
              "  <svg xmlns=\"http://www.w3.org/2000/svg\" height=\"24px\"viewBox=\"0 0 24 24\"\n",
              "       width=\"24px\">\n",
              "    <path d=\"M0 0h24v24H0V0z\" fill=\"none\"/>\n",
              "    <path d=\"M18.56 5.44l.94 2.06.94-2.06 2.06-.94-2.06-.94-.94-2.06-.94 2.06-2.06.94zm-11 1L8.5 8.5l.94-2.06 2.06-.94-2.06-.94L8.5 2.5l-.94 2.06-2.06.94zm10 10l.94 2.06.94-2.06 2.06-.94-2.06-.94-.94-2.06-.94 2.06-2.06.94z\"/><path d=\"M17.41 7.96l-1.37-1.37c-.4-.4-.92-.59-1.43-.59-.52 0-1.04.2-1.43.59L10.3 9.45l-7.72 7.72c-.78.78-.78 2.05 0 2.83L4 21.41c.39.39.9.59 1.41.59.51 0 1.02-.2 1.41-.59l7.78-7.78 2.81-2.81c.8-.78.8-2.07 0-2.86zM5.41 20L4 18.59l7.72-7.72 1.47 1.35L5.41 20z\"/>\n",
              "  </svg>\n",
              "      </button>\n",
              "      \n",
              "  <style>\n",
              "    .colab-df-container {\n",
              "      display:flex;\n",
              "      flex-wrap:wrap;\n",
              "      gap: 12px;\n",
              "    }\n",
              "\n",
              "    .colab-df-convert {\n",
              "      background-color: #E8F0FE;\n",
              "      border: none;\n",
              "      border-radius: 50%;\n",
              "      cursor: pointer;\n",
              "      display: none;\n",
              "      fill: #1967D2;\n",
              "      height: 32px;\n",
              "      padding: 0 0 0 0;\n",
              "      width: 32px;\n",
              "    }\n",
              "\n",
              "    .colab-df-convert:hover {\n",
              "      background-color: #E2EBFA;\n",
              "      box-shadow: 0px 1px 2px rgba(60, 64, 67, 0.3), 0px 1px 3px 1px rgba(60, 64, 67, 0.15);\n",
              "      fill: #174EA6;\n",
              "    }\n",
              "\n",
              "    [theme=dark] .colab-df-convert {\n",
              "      background-color: #3B4455;\n",
              "      fill: #D2E3FC;\n",
              "    }\n",
              "\n",
              "    [theme=dark] .colab-df-convert:hover {\n",
              "      background-color: #434B5C;\n",
              "      box-shadow: 0px 1px 3px 1px rgba(0, 0, 0, 0.15);\n",
              "      filter: drop-shadow(0px 1px 2px rgba(0, 0, 0, 0.3));\n",
              "      fill: #FFFFFF;\n",
              "    }\n",
              "  </style>\n",
              "\n",
              "      <script>\n",
              "        const buttonEl =\n",
              "          document.querySelector('#df-d2392568-fc06-41a9-ab69-06f8666fd5ea button.colab-df-convert');\n",
              "        buttonEl.style.display =\n",
              "          google.colab.kernel.accessAllowed ? 'block' : 'none';\n",
              "\n",
              "        async function convertToInteractive(key) {\n",
              "          const element = document.querySelector('#df-d2392568-fc06-41a9-ab69-06f8666fd5ea');\n",
              "          const dataTable =\n",
              "            await google.colab.kernel.invokeFunction('convertToInteractive',\n",
              "                                                     [key], {});\n",
              "          if (!dataTable) return;\n",
              "\n",
              "          const docLinkHtml = 'Like what you see? Visit the ' +\n",
              "            '<a target=\"_blank\" href=https://colab.research.google.com/notebooks/data_table.ipynb>data table notebook</a>'\n",
              "            + ' to learn more about interactive tables.';\n",
              "          element.innerHTML = '';\n",
              "          dataTable['output_type'] = 'display_data';\n",
              "          await google.colab.output.renderOutput(dataTable, element);\n",
              "          const docLink = document.createElement('div');\n",
              "          docLink.innerHTML = docLinkHtml;\n",
              "          element.appendChild(docLink);\n",
              "        }\n",
              "      </script>\n",
              "    </div>\n",
              "  </div>\n",
              "  "
            ]
          },
          "metadata": {},
          "execution_count": 160
        }
      ]
    },
    {
      "cell_type": "code",
      "source": [
        "#visualising the data in 3D using plotly library   (import plotly.express as px)\n",
        "figure= px.scatter_3d(df, x='feature1', y='feature2', z='target')\n",
        "\n",
        "figure.show()"
      ],
      "metadata": {
        "colab": {
          "base_uri": "https://localhost:8080/",
          "height": 542
        },
        "id": "eJtXXecZr5Js",
        "outputId": "e00067b4-b59d-45c0-d9f3-8677c0b2f249"
      },
      "execution_count": 161,
      "outputs": [
        {
          "output_type": "display_data",
          "data": {
            "text/html": [
              "<html>\n",
              "<head><meta charset=\"utf-8\" /></head>\n",
              "<body>\n",
              "    <div>            <script src=\"https://cdnjs.cloudflare.com/ajax/libs/mathjax/2.7.5/MathJax.js?config=TeX-AMS-MML_SVG\"></script><script type=\"text/javascript\">if (window.MathJax) {MathJax.Hub.Config({SVG: {font: \"STIX-Web\"}});}</script>                <script type=\"text/javascript\">window.PlotlyConfig = {MathJaxConfig: 'local'};</script>\n",
              "        <script src=\"https://cdn.plot.ly/plotly-2.8.3.min.js\"></script>                <div id=\"6e947b86-34b1-4c95-87d2-779f91289563\" class=\"plotly-graph-div\" style=\"height:525px; width:100%;\"></div>            <script type=\"text/javascript\">                                    window.PLOTLYENV=window.PLOTLYENV || {};                                    if (document.getElementById(\"6e947b86-34b1-4c95-87d2-779f91289563\")) {                    Plotly.newPlot(                        \"6e947b86-34b1-4c95-87d2-779f91289563\",                        [{\"hovertemplate\":\"feature1=%{x}<br>feature2=%{y}<br>target=%{z}<extra></extra>\",\"legendgroup\":\"\",\"marker\":{\"color\":\"#636efa\",\"symbol\":\"circle\"},\"mode\":\"markers\",\"name\":\"\",\"scene\":\"scene\",\"showlegend\":false,\"x\":[1.0227697959200341,0.7662186416450301,-1.1318160452407295,1.6324087291933618,-0.2197556716871584,-0.45375319350128757,0.7509322967027146,1.2469779268769023,-0.8922942523200159,-1.0740089046673034,-0.7745519822473746,1.6618568916556067,-0.03254937394684632,-0.13178793138016923,-1.1891111362082105,1.090395786115002,0.8576778735693827,-1.1054679964891814,-0.11338652206983192,-0.30309727109628015,-0.6933194098897268,0.9642526112524766,-0.2970857185880124,1.3641885649425167,-0.49973628282263416,-0.2353814682747328,0.07929815784782951,0.3071955954105164,-0.7856803200471297,-0.15601079925832678,-0.7545073864331813,-0.7680115019864682,0.760817705614703,-0.596386954934592,-0.44636068269476714,0.9510154847907757,-1.470632899175303,0.5216648780054159,-1.0829976583095848,-1.8013725768526139,0.7659948369136441,-0.09522402161531199,1.189218812338853,0.525415218283935,0.99348805412616,0.07273215446474149,0.07990255706046556,0.6144421811609859,1.7054830894623925,0.02920968199448908,2.076124087924838,-0.3739313593919312,-1.2718650570947185,1.5173752401441702,-0.44483525672149526,0.8436049878502547,1.1533244600623767,0.7678799438102428,0.5135942473519388,-0.5591082200533036,-0.3687905345366752,0.39865704910942473,0.6129210005896718,0.3396896037385453,-0.3815966548926328,-0.18854318492626168,-0.6786782972270685,3.447617145788032,-0.1051633349496139,-1.186297539708321,-0.49877171072197257,-1.4485786229069633,1.38290866609946,-3.3280016684239992,-0.2419147507283586,0.16433615253198555,0.19643695715333948,-1.1912695907020319,1.4150969825084942,-0.595116447519354,-0.6663706276328305,1.21130485166314,-1.9778915901225513,0.8872305901247213,-0.07165123878043288,-0.1331053987981804,-0.22244106653405138,0.9083930587887056,0.6225948005812015,0.19241442453525437,-0.034139069599888265,-0.3399069264839082,0.176748100411306,-0.020050165708091396,-0.8932697847713867,0.9081113856040878,-1.9300501355386515,-1.2589795710474305,-0.219267317019709,-0.11646579847030637],\"y\":[0.2899711106022117,1.1140784435355873,0.05867664924395448,1.200449327118035,0.49603219447006675,-0.8677755119896399,-2.671910875015605,0.4255708258772096,-1.9343483872270222,-0.02093692890995735,-0.08967797878898012,0.7071407252798542,0.21379684518482708,1.0581713912341348,-0.8238462543563467,1.0010196379024985,-0.1846058860144515,0.3590402014868577,0.3158743873512133,-1.2923030093872692,0.7717971558004695,2.006006285043799,-0.5356904446382328,-0.5151536321719278,-0.06798694573339734,-0.6355580807125935,-0.770678502532519,-0.7254722229281247,1.337589554454466,-0.5480902210169407,2.4510235557641034,1.0812007609385694,0.7150084142772105,1.719640651750495,0.9846663510395656,0.40063304662996085,0.822028910110381,-0.5036709957977829,0.7128284766081108,1.1479848266862793,-1.301907682932166,0.33264862970480114,-0.866450094528626,0.0856038755966174,1.4768527359866912,1.5490200007704449,0.19761319869639568,0.092946658022977,2.4220396129484723,0.6180905229915736,0.7932243453290143,0.3577669565710184,0.7644270565714705,-0.8268685281120354,-0.051456992946854005,-1.4424963434314975,-0.010286603416106696,0.040796229122448485,-0.1866929231768605,-0.5248295657639548,0.03706660240240502,1.621567894448868,0.3839353582942311,-0.09504769963569629,-0.21244449218999012,0.6008245681862571,-0.9452496855562841,0.32471832637059017,0.5107303456343921,-0.9805370994110809,-1.9687941023908135,0.7041844557318794,-1.8796470503798863,-0.5574560901117659,-0.46605545678115895,0.25553587620940665,1.2559464157575086,-0.1300064631698187,-0.3092391253082916,1.8129751012305346,-1.4877259377138976,-1.0178771473206842,-0.6734943577990092,-1.0429239577992695,0.1621942467503259,0.34778806327351725,1.3531920548649385,0.490405991244754,0.43531097840793237,0.9190774033605497,-1.8768969632391026,1.1663065500604455,0.4937650594356879,0.1630108575851156,0.22946819536789334,0.614148236196039,1.1264526849739656,0.644021297998129,-0.32214871999051914,0.02461726742167374],\"z\":[76.23372515013038,26.535434930505957,-84.4662061531889,28.84014677096941,20.659656878951658,-148.70213036074486,-153.80527502715435,18.413291533895084,-169.60753495664972,52.50381496581362,-24.563900245860662,135.46685374238763,90.6741800545771,-30.409825357396016,-19.494614247890816,83.32523166856475,56.80273203193413,-58.48733852773272,19.061960808038194,-86.57755363075864,55.967934054608094,235.41387038405165,-69.94996153932576,-26.107901364839915,27.127988269320724,-53.80197234781005,-1.4653825596082015,-4.260128260357931,73.4630106745521,-51.71652887625701,149.55064962520714,18.311662667496844,39.373886196742006,164.93978756070496,42.8043262621459,8.881873874417419,-37.91124110252545,-36.45951491858468,16.208058811954384,178.31976970309114,24.183117837411217,35.9750593145879,-96.0481085683924,85.327571848363,8.424253193202688,83.97112712538349,-35.483917094525125,-23.3318975383703,187.78934486257404,65.7907545563084,73.23800436668301,66.3462058703499,91.94383507146333,40.70802949495837,-28.778169678006343,-54.26986124631491,44.55165486886078,15.876848087465595,-8.440273896835114,-44.785675090219335,-81.17427281117698,90.28503018527303,65.4399010410772,-72.43808266009489,27.300185895739798,65.63974210353703,-42.94777618560822,90.64561081373674,-0.36166859524659856,-97.51506623590643,-249.42157772269644,13.314424429157066,-83.81120658357285,-39.06464720781984,29.812545890780648,11.657378531041765,38.23215580005012,9.569015398755347,-27.005922474453996,56.40728984019676,-110.99082156438551,-37.23543342430213,-65.54865012152615,-72.52548783960017,7.509903998135603,143.31025966937128,29.572464404284425,36.51318704181852,59.4399898583278,175.40423969651368,-118.21339662803238,33.382536908278965,-38.828909918131316,3.8832670674813876,-44.51653888428393,42.4274275871162,-13.010044815395922,68.75239867944367,-130.8140746550306,46.735187348921215],\"type\":\"scatter3d\"}],                        {\"template\":{\"data\":{\"bar\":[{\"error_x\":{\"color\":\"#2a3f5f\"},\"error_y\":{\"color\":\"#2a3f5f\"},\"marker\":{\"line\":{\"color\":\"#E5ECF6\",\"width\":0.5},\"pattern\":{\"fillmode\":\"overlay\",\"size\":10,\"solidity\":0.2}},\"type\":\"bar\"}],\"barpolar\":[{\"marker\":{\"line\":{\"color\":\"#E5ECF6\",\"width\":0.5},\"pattern\":{\"fillmode\":\"overlay\",\"size\":10,\"solidity\":0.2}},\"type\":\"barpolar\"}],\"carpet\":[{\"aaxis\":{\"endlinecolor\":\"#2a3f5f\",\"gridcolor\":\"white\",\"linecolor\":\"white\",\"minorgridcolor\":\"white\",\"startlinecolor\":\"#2a3f5f\"},\"baxis\":{\"endlinecolor\":\"#2a3f5f\",\"gridcolor\":\"white\",\"linecolor\":\"white\",\"minorgridcolor\":\"white\",\"startlinecolor\":\"#2a3f5f\"},\"type\":\"carpet\"}],\"choropleth\":[{\"colorbar\":{\"outlinewidth\":0,\"ticks\":\"\"},\"type\":\"choropleth\"}],\"contour\":[{\"colorbar\":{\"outlinewidth\":0,\"ticks\":\"\"},\"colorscale\":[[0.0,\"#0d0887\"],[0.1111111111111111,\"#46039f\"],[0.2222222222222222,\"#7201a8\"],[0.3333333333333333,\"#9c179e\"],[0.4444444444444444,\"#bd3786\"],[0.5555555555555556,\"#d8576b\"],[0.6666666666666666,\"#ed7953\"],[0.7777777777777778,\"#fb9f3a\"],[0.8888888888888888,\"#fdca26\"],[1.0,\"#f0f921\"]],\"type\":\"contour\"}],\"contourcarpet\":[{\"colorbar\":{\"outlinewidth\":0,\"ticks\":\"\"},\"type\":\"contourcarpet\"}],\"heatmap\":[{\"colorbar\":{\"outlinewidth\":0,\"ticks\":\"\"},\"colorscale\":[[0.0,\"#0d0887\"],[0.1111111111111111,\"#46039f\"],[0.2222222222222222,\"#7201a8\"],[0.3333333333333333,\"#9c179e\"],[0.4444444444444444,\"#bd3786\"],[0.5555555555555556,\"#d8576b\"],[0.6666666666666666,\"#ed7953\"],[0.7777777777777778,\"#fb9f3a\"],[0.8888888888888888,\"#fdca26\"],[1.0,\"#f0f921\"]],\"type\":\"heatmap\"}],\"heatmapgl\":[{\"colorbar\":{\"outlinewidth\":0,\"ticks\":\"\"},\"colorscale\":[[0.0,\"#0d0887\"],[0.1111111111111111,\"#46039f\"],[0.2222222222222222,\"#7201a8\"],[0.3333333333333333,\"#9c179e\"],[0.4444444444444444,\"#bd3786\"],[0.5555555555555556,\"#d8576b\"],[0.6666666666666666,\"#ed7953\"],[0.7777777777777778,\"#fb9f3a\"],[0.8888888888888888,\"#fdca26\"],[1.0,\"#f0f921\"]],\"type\":\"heatmapgl\"}],\"histogram\":[{\"marker\":{\"pattern\":{\"fillmode\":\"overlay\",\"size\":10,\"solidity\":0.2}},\"type\":\"histogram\"}],\"histogram2d\":[{\"colorbar\":{\"outlinewidth\":0,\"ticks\":\"\"},\"colorscale\":[[0.0,\"#0d0887\"],[0.1111111111111111,\"#46039f\"],[0.2222222222222222,\"#7201a8\"],[0.3333333333333333,\"#9c179e\"],[0.4444444444444444,\"#bd3786\"],[0.5555555555555556,\"#d8576b\"],[0.6666666666666666,\"#ed7953\"],[0.7777777777777778,\"#fb9f3a\"],[0.8888888888888888,\"#fdca26\"],[1.0,\"#f0f921\"]],\"type\":\"histogram2d\"}],\"histogram2dcontour\":[{\"colorbar\":{\"outlinewidth\":0,\"ticks\":\"\"},\"colorscale\":[[0.0,\"#0d0887\"],[0.1111111111111111,\"#46039f\"],[0.2222222222222222,\"#7201a8\"],[0.3333333333333333,\"#9c179e\"],[0.4444444444444444,\"#bd3786\"],[0.5555555555555556,\"#d8576b\"],[0.6666666666666666,\"#ed7953\"],[0.7777777777777778,\"#fb9f3a\"],[0.8888888888888888,\"#fdca26\"],[1.0,\"#f0f921\"]],\"type\":\"histogram2dcontour\"}],\"mesh3d\":[{\"colorbar\":{\"outlinewidth\":0,\"ticks\":\"\"},\"type\":\"mesh3d\"}],\"parcoords\":[{\"line\":{\"colorbar\":{\"outlinewidth\":0,\"ticks\":\"\"}},\"type\":\"parcoords\"}],\"pie\":[{\"automargin\":true,\"type\":\"pie\"}],\"scatter\":[{\"marker\":{\"colorbar\":{\"outlinewidth\":0,\"ticks\":\"\"}},\"type\":\"scatter\"}],\"scatter3d\":[{\"line\":{\"colorbar\":{\"outlinewidth\":0,\"ticks\":\"\"}},\"marker\":{\"colorbar\":{\"outlinewidth\":0,\"ticks\":\"\"}},\"type\":\"scatter3d\"}],\"scattercarpet\":[{\"marker\":{\"colorbar\":{\"outlinewidth\":0,\"ticks\":\"\"}},\"type\":\"scattercarpet\"}],\"scattergeo\":[{\"marker\":{\"colorbar\":{\"outlinewidth\":0,\"ticks\":\"\"}},\"type\":\"scattergeo\"}],\"scattergl\":[{\"marker\":{\"colorbar\":{\"outlinewidth\":0,\"ticks\":\"\"}},\"type\":\"scattergl\"}],\"scattermapbox\":[{\"marker\":{\"colorbar\":{\"outlinewidth\":0,\"ticks\":\"\"}},\"type\":\"scattermapbox\"}],\"scatterpolar\":[{\"marker\":{\"colorbar\":{\"outlinewidth\":0,\"ticks\":\"\"}},\"type\":\"scatterpolar\"}],\"scatterpolargl\":[{\"marker\":{\"colorbar\":{\"outlinewidth\":0,\"ticks\":\"\"}},\"type\":\"scatterpolargl\"}],\"scatterternary\":[{\"marker\":{\"colorbar\":{\"outlinewidth\":0,\"ticks\":\"\"}},\"type\":\"scatterternary\"}],\"surface\":[{\"colorbar\":{\"outlinewidth\":0,\"ticks\":\"\"},\"colorscale\":[[0.0,\"#0d0887\"],[0.1111111111111111,\"#46039f\"],[0.2222222222222222,\"#7201a8\"],[0.3333333333333333,\"#9c179e\"],[0.4444444444444444,\"#bd3786\"],[0.5555555555555556,\"#d8576b\"],[0.6666666666666666,\"#ed7953\"],[0.7777777777777778,\"#fb9f3a\"],[0.8888888888888888,\"#fdca26\"],[1.0,\"#f0f921\"]],\"type\":\"surface\"}],\"table\":[{\"cells\":{\"fill\":{\"color\":\"#EBF0F8\"},\"line\":{\"color\":\"white\"}},\"header\":{\"fill\":{\"color\":\"#C8D4E3\"},\"line\":{\"color\":\"white\"}},\"type\":\"table\"}]},\"layout\":{\"annotationdefaults\":{\"arrowcolor\":\"#2a3f5f\",\"arrowhead\":0,\"arrowwidth\":1},\"autotypenumbers\":\"strict\",\"coloraxis\":{\"colorbar\":{\"outlinewidth\":0,\"ticks\":\"\"}},\"colorscale\":{\"diverging\":[[0,\"#8e0152\"],[0.1,\"#c51b7d\"],[0.2,\"#de77ae\"],[0.3,\"#f1b6da\"],[0.4,\"#fde0ef\"],[0.5,\"#f7f7f7\"],[0.6,\"#e6f5d0\"],[0.7,\"#b8e186\"],[0.8,\"#7fbc41\"],[0.9,\"#4d9221\"],[1,\"#276419\"]],\"sequential\":[[0.0,\"#0d0887\"],[0.1111111111111111,\"#46039f\"],[0.2222222222222222,\"#7201a8\"],[0.3333333333333333,\"#9c179e\"],[0.4444444444444444,\"#bd3786\"],[0.5555555555555556,\"#d8576b\"],[0.6666666666666666,\"#ed7953\"],[0.7777777777777778,\"#fb9f3a\"],[0.8888888888888888,\"#fdca26\"],[1.0,\"#f0f921\"]],\"sequentialminus\":[[0.0,\"#0d0887\"],[0.1111111111111111,\"#46039f\"],[0.2222222222222222,\"#7201a8\"],[0.3333333333333333,\"#9c179e\"],[0.4444444444444444,\"#bd3786\"],[0.5555555555555556,\"#d8576b\"],[0.6666666666666666,\"#ed7953\"],[0.7777777777777778,\"#fb9f3a\"],[0.8888888888888888,\"#fdca26\"],[1.0,\"#f0f921\"]]},\"colorway\":[\"#636efa\",\"#EF553B\",\"#00cc96\",\"#ab63fa\",\"#FFA15A\",\"#19d3f3\",\"#FF6692\",\"#B6E880\",\"#FF97FF\",\"#FECB52\"],\"font\":{\"color\":\"#2a3f5f\"},\"geo\":{\"bgcolor\":\"white\",\"lakecolor\":\"white\",\"landcolor\":\"#E5ECF6\",\"showlakes\":true,\"showland\":true,\"subunitcolor\":\"white\"},\"hoverlabel\":{\"align\":\"left\"},\"hovermode\":\"closest\",\"mapbox\":{\"style\":\"light\"},\"paper_bgcolor\":\"white\",\"plot_bgcolor\":\"#E5ECF6\",\"polar\":{\"angularaxis\":{\"gridcolor\":\"white\",\"linecolor\":\"white\",\"ticks\":\"\"},\"bgcolor\":\"#E5ECF6\",\"radialaxis\":{\"gridcolor\":\"white\",\"linecolor\":\"white\",\"ticks\":\"\"}},\"scene\":{\"xaxis\":{\"backgroundcolor\":\"#E5ECF6\",\"gridcolor\":\"white\",\"gridwidth\":2,\"linecolor\":\"white\",\"showbackground\":true,\"ticks\":\"\",\"zerolinecolor\":\"white\"},\"yaxis\":{\"backgroundcolor\":\"#E5ECF6\",\"gridcolor\":\"white\",\"gridwidth\":2,\"linecolor\":\"white\",\"showbackground\":true,\"ticks\":\"\",\"zerolinecolor\":\"white\"},\"zaxis\":{\"backgroundcolor\":\"#E5ECF6\",\"gridcolor\":\"white\",\"gridwidth\":2,\"linecolor\":\"white\",\"showbackground\":true,\"ticks\":\"\",\"zerolinecolor\":\"white\"}},\"shapedefaults\":{\"line\":{\"color\":\"#2a3f5f\"}},\"ternary\":{\"aaxis\":{\"gridcolor\":\"white\",\"linecolor\":\"white\",\"ticks\":\"\"},\"baxis\":{\"gridcolor\":\"white\",\"linecolor\":\"white\",\"ticks\":\"\"},\"bgcolor\":\"#E5ECF6\",\"caxis\":{\"gridcolor\":\"white\",\"linecolor\":\"white\",\"ticks\":\"\"}},\"title\":{\"x\":0.05},\"xaxis\":{\"automargin\":true,\"gridcolor\":\"white\",\"linecolor\":\"white\",\"ticks\":\"\",\"title\":{\"standoff\":15},\"zerolinecolor\":\"white\",\"zerolinewidth\":2},\"yaxis\":{\"automargin\":true,\"gridcolor\":\"white\",\"linecolor\":\"white\",\"ticks\":\"\",\"title\":{\"standoff\":15},\"zerolinecolor\":\"white\",\"zerolinewidth\":2}}},\"scene\":{\"domain\":{\"x\":[0.0,1.0],\"y\":[0.0,1.0]},\"xaxis\":{\"title\":{\"text\":\"feature1\"}},\"yaxis\":{\"title\":{\"text\":\"feature2\"}},\"zaxis\":{\"title\":{\"text\":\"target\"}}},\"legend\":{\"tracegroupgap\":0},\"margin\":{\"t\":60}},                        {\"responsive\": true}                    ).then(function(){\n",
              "                            \n",
              "var gd = document.getElementById('6e947b86-34b1-4c95-87d2-779f91289563');\n",
              "var x = new MutationObserver(function (mutations, observer) {{\n",
              "        var display = window.getComputedStyle(gd).display;\n",
              "        if (!display || display === 'none') {{\n",
              "            console.log([gd, 'removed!']);\n",
              "            Plotly.purge(gd);\n",
              "            observer.disconnect();\n",
              "        }}\n",
              "}});\n",
              "\n",
              "// Listen for the removal of the full notebook cells\n",
              "var notebookContainer = gd.closest('#notebook-container');\n",
              "if (notebookContainer) {{\n",
              "    x.observe(notebookContainer, {childList: true});\n",
              "}}\n",
              "\n",
              "// Listen for the clearing of the current output cell\n",
              "var outputEl = gd.closest('.output');\n",
              "if (outputEl) {{\n",
              "    x.observe(outputEl, {childList: true});\n",
              "}}\n",
              "\n",
              "                        })                };                            </script>        </div>\n",
              "</body>\n",
              "</html>"
            ]
          },
          "metadata": {}
        }
      ]
    },
    {
      "cell_type": "code",
      "source": [
        "x_train,x_test, y_train,y_test = train_test_split(x,y,test_size=0.2, random_state=3)"
      ],
      "metadata": {
        "id": "Ln2lk80431aQ"
      },
      "execution_count": 162,
      "outputs": []
    },
    {
      "cell_type": "code",
      "source": [
        "lr= LinearRegression()"
      ],
      "metadata": {
        "id": "ky-u-H_03a_k"
      },
      "execution_count": 163,
      "outputs": []
    },
    {
      "cell_type": "code",
      "source": [
        "lr.fit(x_train,y_train)"
      ],
      "metadata": {
        "colab": {
          "base_uri": "https://localhost:8080/"
        },
        "id": "gQFvhWq5zISN",
        "outputId": "2ca32ab8-8bf4-4124-9e4e-37831cb24d4e"
      },
      "execution_count": 164,
      "outputs": [
        {
          "output_type": "execute_result",
          "data": {
            "text/plain": [
              "LinearRegression()"
            ]
          },
          "metadata": {},
          "execution_count": 164
        }
      ]
    },
    {
      "cell_type": "code",
      "source": [
        "y_pred= lr.predict(x_test)"
      ],
      "metadata": {
        "id": "ASBA2MjSzMIa"
      },
      "execution_count": 165,
      "outputs": []
    },
    {
      "cell_type": "code",
      "source": [
        "print('MAE',mean_absolute_error(y_test,y_pred))\n",
        "print('MSE',mean_squared_error(y_test,y_pred))\n",
        "print('R2 SCORE',r2_score(y_test,y_pred))               #80.2 this means both the input columns are able to explain 80% of variance."
      ],
      "metadata": {
        "colab": {
          "base_uri": "https://localhost:8080/"
        },
        "id": "11bRf-NdzlVa",
        "outputId": "2e274bd5-036a-4b15-f333-ddcf71c09402"
      },
      "execution_count": 166,
      "outputs": [
        {
          "output_type": "stream",
          "name": "stdout",
          "text": [
            "MAE 27.71566558221199\n",
            "MSE 1546.8305679047342\n",
            "R2 SCORE 0.679645398407341\n"
          ]
        }
      ]
    },
    {
      "cell_type": "code",
      "source": [
        "#generating a hyperplane\n",
        "x = np.linspace(-5, 5, 10)\n",
        "y = np.linspace(-5, 5, 10)\n",
        "xGrid, yGrid = np.meshgrid(y, x)\n",
        "\n",
        "final = np.vstack((xGrid.ravel().reshape(1,100),yGrid.ravel().reshape(1,100))).T\n",
        "z_final= lr.predict(final).reshape(10,10)\n",
        "\n",
        "z= z_final\n",
        "\n",
        "\n"
      ],
      "metadata": {
        "id": "Fk1GyYJWztTQ"
      },
      "execution_count": 167,
      "outputs": []
    },
    {
      "cell_type": "code",
      "source": [
        "figure = px.scatter_3d(df, x='feature1', y='feature2', z='target')\n",
        "\n",
        "figure.add_trace(go.Surface(x=x,y=y,z=z))\n",
        "\n",
        "figure.show()"
      ],
      "metadata": {
        "colab": {
          "base_uri": "https://localhost:8080/",
          "height": 542
        },
        "id": "8JY9qr_61N69",
        "outputId": "ca0a786c-9226-40e7-b570-f293fe80a1bf"
      },
      "execution_count": 168,
      "outputs": [
        {
          "output_type": "display_data",
          "data": {
            "text/html": [
              "<html>\n",
              "<head><meta charset=\"utf-8\" /></head>\n",
              "<body>\n",
              "    <div>            <script src=\"https://cdnjs.cloudflare.com/ajax/libs/mathjax/2.7.5/MathJax.js?config=TeX-AMS-MML_SVG\"></script><script type=\"text/javascript\">if (window.MathJax) {MathJax.Hub.Config({SVG: {font: \"STIX-Web\"}});}</script>                <script type=\"text/javascript\">window.PlotlyConfig = {MathJaxConfig: 'local'};</script>\n",
              "        <script src=\"https://cdn.plot.ly/plotly-2.8.3.min.js\"></script>                <div id=\"ec7be8e2-6275-4bd6-a1d7-182271c2e9e0\" class=\"plotly-graph-div\" style=\"height:525px; width:100%;\"></div>            <script type=\"text/javascript\">                                    window.PLOTLYENV=window.PLOTLYENV || {};                                    if (document.getElementById(\"ec7be8e2-6275-4bd6-a1d7-182271c2e9e0\")) {                    Plotly.newPlot(                        \"ec7be8e2-6275-4bd6-a1d7-182271c2e9e0\",                        [{\"hovertemplate\":\"feature1=%{x}<br>feature2=%{y}<br>target=%{z}<extra></extra>\",\"legendgroup\":\"\",\"marker\":{\"color\":\"#636efa\",\"symbol\":\"circle\"},\"mode\":\"markers\",\"name\":\"\",\"scene\":\"scene\",\"showlegend\":false,\"x\":[1.0227697959200341,0.7662186416450301,-1.1318160452407295,1.6324087291933618,-0.2197556716871584,-0.45375319350128757,0.7509322967027146,1.2469779268769023,-0.8922942523200159,-1.0740089046673034,-0.7745519822473746,1.6618568916556067,-0.03254937394684632,-0.13178793138016923,-1.1891111362082105,1.090395786115002,0.8576778735693827,-1.1054679964891814,-0.11338652206983192,-0.30309727109628015,-0.6933194098897268,0.9642526112524766,-0.2970857185880124,1.3641885649425167,-0.49973628282263416,-0.2353814682747328,0.07929815784782951,0.3071955954105164,-0.7856803200471297,-0.15601079925832678,-0.7545073864331813,-0.7680115019864682,0.760817705614703,-0.596386954934592,-0.44636068269476714,0.9510154847907757,-1.470632899175303,0.5216648780054159,-1.0829976583095848,-1.8013725768526139,0.7659948369136441,-0.09522402161531199,1.189218812338853,0.525415218283935,0.99348805412616,0.07273215446474149,0.07990255706046556,0.6144421811609859,1.7054830894623925,0.02920968199448908,2.076124087924838,-0.3739313593919312,-1.2718650570947185,1.5173752401441702,-0.44483525672149526,0.8436049878502547,1.1533244600623767,0.7678799438102428,0.5135942473519388,-0.5591082200533036,-0.3687905345366752,0.39865704910942473,0.6129210005896718,0.3396896037385453,-0.3815966548926328,-0.18854318492626168,-0.6786782972270685,3.447617145788032,-0.1051633349496139,-1.186297539708321,-0.49877171072197257,-1.4485786229069633,1.38290866609946,-3.3280016684239992,-0.2419147507283586,0.16433615253198555,0.19643695715333948,-1.1912695907020319,1.4150969825084942,-0.595116447519354,-0.6663706276328305,1.21130485166314,-1.9778915901225513,0.8872305901247213,-0.07165123878043288,-0.1331053987981804,-0.22244106653405138,0.9083930587887056,0.6225948005812015,0.19241442453525437,-0.034139069599888265,-0.3399069264839082,0.176748100411306,-0.020050165708091396,-0.8932697847713867,0.9081113856040878,-1.9300501355386515,-1.2589795710474305,-0.219267317019709,-0.11646579847030637],\"y\":[0.2899711106022117,1.1140784435355873,0.05867664924395448,1.200449327118035,0.49603219447006675,-0.8677755119896399,-2.671910875015605,0.4255708258772096,-1.9343483872270222,-0.02093692890995735,-0.08967797878898012,0.7071407252798542,0.21379684518482708,1.0581713912341348,-0.8238462543563467,1.0010196379024985,-0.1846058860144515,0.3590402014868577,0.3158743873512133,-1.2923030093872692,0.7717971558004695,2.006006285043799,-0.5356904446382328,-0.5151536321719278,-0.06798694573339734,-0.6355580807125935,-0.770678502532519,-0.7254722229281247,1.337589554454466,-0.5480902210169407,2.4510235557641034,1.0812007609385694,0.7150084142772105,1.719640651750495,0.9846663510395656,0.40063304662996085,0.822028910110381,-0.5036709957977829,0.7128284766081108,1.1479848266862793,-1.301907682932166,0.33264862970480114,-0.866450094528626,0.0856038755966174,1.4768527359866912,1.5490200007704449,0.19761319869639568,0.092946658022977,2.4220396129484723,0.6180905229915736,0.7932243453290143,0.3577669565710184,0.7644270565714705,-0.8268685281120354,-0.051456992946854005,-1.4424963434314975,-0.010286603416106696,0.040796229122448485,-0.1866929231768605,-0.5248295657639548,0.03706660240240502,1.621567894448868,0.3839353582942311,-0.09504769963569629,-0.21244449218999012,0.6008245681862571,-0.9452496855562841,0.32471832637059017,0.5107303456343921,-0.9805370994110809,-1.9687941023908135,0.7041844557318794,-1.8796470503798863,-0.5574560901117659,-0.46605545678115895,0.25553587620940665,1.2559464157575086,-0.1300064631698187,-0.3092391253082916,1.8129751012305346,-1.4877259377138976,-1.0178771473206842,-0.6734943577990092,-1.0429239577992695,0.1621942467503259,0.34778806327351725,1.3531920548649385,0.490405991244754,0.43531097840793237,0.9190774033605497,-1.8768969632391026,1.1663065500604455,0.4937650594356879,0.1630108575851156,0.22946819536789334,0.614148236196039,1.1264526849739656,0.644021297998129,-0.32214871999051914,0.02461726742167374],\"z\":[76.23372515013038,26.535434930505957,-84.4662061531889,28.84014677096941,20.659656878951658,-148.70213036074486,-153.80527502715435,18.413291533895084,-169.60753495664972,52.50381496581362,-24.563900245860662,135.46685374238763,90.6741800545771,-30.409825357396016,-19.494614247890816,83.32523166856475,56.80273203193413,-58.48733852773272,19.061960808038194,-86.57755363075864,55.967934054608094,235.41387038405165,-69.94996153932576,-26.107901364839915,27.127988269320724,-53.80197234781005,-1.4653825596082015,-4.260128260357931,73.4630106745521,-51.71652887625701,149.55064962520714,18.311662667496844,39.373886196742006,164.93978756070496,42.8043262621459,8.881873874417419,-37.91124110252545,-36.45951491858468,16.208058811954384,178.31976970309114,24.183117837411217,35.9750593145879,-96.0481085683924,85.327571848363,8.424253193202688,83.97112712538349,-35.483917094525125,-23.3318975383703,187.78934486257404,65.7907545563084,73.23800436668301,66.3462058703499,91.94383507146333,40.70802949495837,-28.778169678006343,-54.26986124631491,44.55165486886078,15.876848087465595,-8.440273896835114,-44.785675090219335,-81.17427281117698,90.28503018527303,65.4399010410772,-72.43808266009489,27.300185895739798,65.63974210353703,-42.94777618560822,90.64561081373674,-0.36166859524659856,-97.51506623590643,-249.42157772269644,13.314424429157066,-83.81120658357285,-39.06464720781984,29.812545890780648,11.657378531041765,38.23215580005012,9.569015398755347,-27.005922474453996,56.40728984019676,-110.99082156438551,-37.23543342430213,-65.54865012152615,-72.52548783960017,7.509903998135603,143.31025966937128,29.572464404284425,36.51318704181852,59.4399898583278,175.40423969651368,-118.21339662803238,33.382536908278965,-38.828909918131316,3.8832670674813876,-44.51653888428393,42.4274275871162,-13.010044815395922,68.75239867944367,-130.8140746550306,46.735187348921215],\"type\":\"scatter3d\"},{\"x\":[-5.0,-3.888888888888889,-2.7777777777777777,-1.6666666666666665,-0.5555555555555554,0.5555555555555554,1.666666666666667,2.7777777777777786,3.8888888888888893,5.0],\"y\":[-5.0,-3.888888888888889,-2.7777777777777777,-1.6666666666666665,-0.5555555555555554,0.5555555555555554,1.666666666666667,2.7777777777777786,3.8888888888888893,5.0],\"z\":[[-391.0123816460893,-372.53200407415187,-354.0516265022144,-335.5712489302769,-317.0908713583394,-298.610493786402,-280.1301162144645,-261.64973864252704,-243.1693610705896,-224.68898349865216],[-322.38545217392686,-303.9050746019894,-285.4246970300519,-266.9443194581145,-248.46394188617703,-229.98356431423954,-211.5031867423021,-193.0228091703646,-174.54243159842716,-156.06205402648968],[-253.7585227017644,-235.27814512982695,-216.7977675578895,-198.31738998595202,-179.83701241401457,-161.35663484207709,-142.87625727013963,-124.39587969820214,-105.91550212626467,-87.43512455432722],[-185.13159322960195,-166.6512156576645,-148.170838085727,-129.69046051378956,-111.21008294185206,-92.72970536991461,-74.24932779797713,-55.768950226039664,-37.288572654102204,-18.80819508216475],[-116.50466375743947,-98.02428618550199,-79.54390861356454,-61.06353104162708,-42.58315346968961,-24.102775897752146,-5.6223983258146735,12.857979246122804,31.338356818060262,49.818734389997715],[-47.87773428527703,-29.397356713339562,-10.916979141402093,7.56339843053537,26.04377600247284,44.5241535744103,63.004531146347766,81.48490871828525,99.96528629022272,118.44566386216017],[20.749195186885466,39.22957275882293,57.7099503307604,76.19032790269787,94.67070547463534,113.1510830465728,131.63146061851026,150.11183819044774,168.5922157623852,187.07259333432265],[89.37612465904797,107.85650223098544,126.33687980292291,144.81725737486036,163.2976349467978,181.7780125187353,200.25839009067275,218.73876766261023,237.2191452345477,255.69952280648513],[158.0030541312104,176.48343170314786,194.9638092750853,213.4441868470228,231.92456441896024,250.40494199089773,268.8853195628352,287.3656971347727,305.84607470671017,324.3264522786476],[226.62998360337284,245.1103611753103,263.59073874724777,282.07111631918525,300.55149389112273,319.03187146306016,337.51224903499764,355.9926266069351,374.4730041788726,392.95338175081]],\"type\":\"surface\"}],                        {\"template\":{\"data\":{\"bar\":[{\"error_x\":{\"color\":\"#2a3f5f\"},\"error_y\":{\"color\":\"#2a3f5f\"},\"marker\":{\"line\":{\"color\":\"#E5ECF6\",\"width\":0.5},\"pattern\":{\"fillmode\":\"overlay\",\"size\":10,\"solidity\":0.2}},\"type\":\"bar\"}],\"barpolar\":[{\"marker\":{\"line\":{\"color\":\"#E5ECF6\",\"width\":0.5},\"pattern\":{\"fillmode\":\"overlay\",\"size\":10,\"solidity\":0.2}},\"type\":\"barpolar\"}],\"carpet\":[{\"aaxis\":{\"endlinecolor\":\"#2a3f5f\",\"gridcolor\":\"white\",\"linecolor\":\"white\",\"minorgridcolor\":\"white\",\"startlinecolor\":\"#2a3f5f\"},\"baxis\":{\"endlinecolor\":\"#2a3f5f\",\"gridcolor\":\"white\",\"linecolor\":\"white\",\"minorgridcolor\":\"white\",\"startlinecolor\":\"#2a3f5f\"},\"type\":\"carpet\"}],\"choropleth\":[{\"colorbar\":{\"outlinewidth\":0,\"ticks\":\"\"},\"type\":\"choropleth\"}],\"contour\":[{\"colorbar\":{\"outlinewidth\":0,\"ticks\":\"\"},\"colorscale\":[[0.0,\"#0d0887\"],[0.1111111111111111,\"#46039f\"],[0.2222222222222222,\"#7201a8\"],[0.3333333333333333,\"#9c179e\"],[0.4444444444444444,\"#bd3786\"],[0.5555555555555556,\"#d8576b\"],[0.6666666666666666,\"#ed7953\"],[0.7777777777777778,\"#fb9f3a\"],[0.8888888888888888,\"#fdca26\"],[1.0,\"#f0f921\"]],\"type\":\"contour\"}],\"contourcarpet\":[{\"colorbar\":{\"outlinewidth\":0,\"ticks\":\"\"},\"type\":\"contourcarpet\"}],\"heatmap\":[{\"colorbar\":{\"outlinewidth\":0,\"ticks\":\"\"},\"colorscale\":[[0.0,\"#0d0887\"],[0.1111111111111111,\"#46039f\"],[0.2222222222222222,\"#7201a8\"],[0.3333333333333333,\"#9c179e\"],[0.4444444444444444,\"#bd3786\"],[0.5555555555555556,\"#d8576b\"],[0.6666666666666666,\"#ed7953\"],[0.7777777777777778,\"#fb9f3a\"],[0.8888888888888888,\"#fdca26\"],[1.0,\"#f0f921\"]],\"type\":\"heatmap\"}],\"heatmapgl\":[{\"colorbar\":{\"outlinewidth\":0,\"ticks\":\"\"},\"colorscale\":[[0.0,\"#0d0887\"],[0.1111111111111111,\"#46039f\"],[0.2222222222222222,\"#7201a8\"],[0.3333333333333333,\"#9c179e\"],[0.4444444444444444,\"#bd3786\"],[0.5555555555555556,\"#d8576b\"],[0.6666666666666666,\"#ed7953\"],[0.7777777777777778,\"#fb9f3a\"],[0.8888888888888888,\"#fdca26\"],[1.0,\"#f0f921\"]],\"type\":\"heatmapgl\"}],\"histogram\":[{\"marker\":{\"pattern\":{\"fillmode\":\"overlay\",\"size\":10,\"solidity\":0.2}},\"type\":\"histogram\"}],\"histogram2d\":[{\"colorbar\":{\"outlinewidth\":0,\"ticks\":\"\"},\"colorscale\":[[0.0,\"#0d0887\"],[0.1111111111111111,\"#46039f\"],[0.2222222222222222,\"#7201a8\"],[0.3333333333333333,\"#9c179e\"],[0.4444444444444444,\"#bd3786\"],[0.5555555555555556,\"#d8576b\"],[0.6666666666666666,\"#ed7953\"],[0.7777777777777778,\"#fb9f3a\"],[0.8888888888888888,\"#fdca26\"],[1.0,\"#f0f921\"]],\"type\":\"histogram2d\"}],\"histogram2dcontour\":[{\"colorbar\":{\"outlinewidth\":0,\"ticks\":\"\"},\"colorscale\":[[0.0,\"#0d0887\"],[0.1111111111111111,\"#46039f\"],[0.2222222222222222,\"#7201a8\"],[0.3333333333333333,\"#9c179e\"],[0.4444444444444444,\"#bd3786\"],[0.5555555555555556,\"#d8576b\"],[0.6666666666666666,\"#ed7953\"],[0.7777777777777778,\"#fb9f3a\"],[0.8888888888888888,\"#fdca26\"],[1.0,\"#f0f921\"]],\"type\":\"histogram2dcontour\"}],\"mesh3d\":[{\"colorbar\":{\"outlinewidth\":0,\"ticks\":\"\"},\"type\":\"mesh3d\"}],\"parcoords\":[{\"line\":{\"colorbar\":{\"outlinewidth\":0,\"ticks\":\"\"}},\"type\":\"parcoords\"}],\"pie\":[{\"automargin\":true,\"type\":\"pie\"}],\"scatter\":[{\"marker\":{\"colorbar\":{\"outlinewidth\":0,\"ticks\":\"\"}},\"type\":\"scatter\"}],\"scatter3d\":[{\"line\":{\"colorbar\":{\"outlinewidth\":0,\"ticks\":\"\"}},\"marker\":{\"colorbar\":{\"outlinewidth\":0,\"ticks\":\"\"}},\"type\":\"scatter3d\"}],\"scattercarpet\":[{\"marker\":{\"colorbar\":{\"outlinewidth\":0,\"ticks\":\"\"}},\"type\":\"scattercarpet\"}],\"scattergeo\":[{\"marker\":{\"colorbar\":{\"outlinewidth\":0,\"ticks\":\"\"}},\"type\":\"scattergeo\"}],\"scattergl\":[{\"marker\":{\"colorbar\":{\"outlinewidth\":0,\"ticks\":\"\"}},\"type\":\"scattergl\"}],\"scattermapbox\":[{\"marker\":{\"colorbar\":{\"outlinewidth\":0,\"ticks\":\"\"}},\"type\":\"scattermapbox\"}],\"scatterpolar\":[{\"marker\":{\"colorbar\":{\"outlinewidth\":0,\"ticks\":\"\"}},\"type\":\"scatterpolar\"}],\"scatterpolargl\":[{\"marker\":{\"colorbar\":{\"outlinewidth\":0,\"ticks\":\"\"}},\"type\":\"scatterpolargl\"}],\"scatterternary\":[{\"marker\":{\"colorbar\":{\"outlinewidth\":0,\"ticks\":\"\"}},\"type\":\"scatterternary\"}],\"surface\":[{\"colorbar\":{\"outlinewidth\":0,\"ticks\":\"\"},\"colorscale\":[[0.0,\"#0d0887\"],[0.1111111111111111,\"#46039f\"],[0.2222222222222222,\"#7201a8\"],[0.3333333333333333,\"#9c179e\"],[0.4444444444444444,\"#bd3786\"],[0.5555555555555556,\"#d8576b\"],[0.6666666666666666,\"#ed7953\"],[0.7777777777777778,\"#fb9f3a\"],[0.8888888888888888,\"#fdca26\"],[1.0,\"#f0f921\"]],\"type\":\"surface\"}],\"table\":[{\"cells\":{\"fill\":{\"color\":\"#EBF0F8\"},\"line\":{\"color\":\"white\"}},\"header\":{\"fill\":{\"color\":\"#C8D4E3\"},\"line\":{\"color\":\"white\"}},\"type\":\"table\"}]},\"layout\":{\"annotationdefaults\":{\"arrowcolor\":\"#2a3f5f\",\"arrowhead\":0,\"arrowwidth\":1},\"autotypenumbers\":\"strict\",\"coloraxis\":{\"colorbar\":{\"outlinewidth\":0,\"ticks\":\"\"}},\"colorscale\":{\"diverging\":[[0,\"#8e0152\"],[0.1,\"#c51b7d\"],[0.2,\"#de77ae\"],[0.3,\"#f1b6da\"],[0.4,\"#fde0ef\"],[0.5,\"#f7f7f7\"],[0.6,\"#e6f5d0\"],[0.7,\"#b8e186\"],[0.8,\"#7fbc41\"],[0.9,\"#4d9221\"],[1,\"#276419\"]],\"sequential\":[[0.0,\"#0d0887\"],[0.1111111111111111,\"#46039f\"],[0.2222222222222222,\"#7201a8\"],[0.3333333333333333,\"#9c179e\"],[0.4444444444444444,\"#bd3786\"],[0.5555555555555556,\"#d8576b\"],[0.6666666666666666,\"#ed7953\"],[0.7777777777777778,\"#fb9f3a\"],[0.8888888888888888,\"#fdca26\"],[1.0,\"#f0f921\"]],\"sequentialminus\":[[0.0,\"#0d0887\"],[0.1111111111111111,\"#46039f\"],[0.2222222222222222,\"#7201a8\"],[0.3333333333333333,\"#9c179e\"],[0.4444444444444444,\"#bd3786\"],[0.5555555555555556,\"#d8576b\"],[0.6666666666666666,\"#ed7953\"],[0.7777777777777778,\"#fb9f3a\"],[0.8888888888888888,\"#fdca26\"],[1.0,\"#f0f921\"]]},\"colorway\":[\"#636efa\",\"#EF553B\",\"#00cc96\",\"#ab63fa\",\"#FFA15A\",\"#19d3f3\",\"#FF6692\",\"#B6E880\",\"#FF97FF\",\"#FECB52\"],\"font\":{\"color\":\"#2a3f5f\"},\"geo\":{\"bgcolor\":\"white\",\"lakecolor\":\"white\",\"landcolor\":\"#E5ECF6\",\"showlakes\":true,\"showland\":true,\"subunitcolor\":\"white\"},\"hoverlabel\":{\"align\":\"left\"},\"hovermode\":\"closest\",\"mapbox\":{\"style\":\"light\"},\"paper_bgcolor\":\"white\",\"plot_bgcolor\":\"#E5ECF6\",\"polar\":{\"angularaxis\":{\"gridcolor\":\"white\",\"linecolor\":\"white\",\"ticks\":\"\"},\"bgcolor\":\"#E5ECF6\",\"radialaxis\":{\"gridcolor\":\"white\",\"linecolor\":\"white\",\"ticks\":\"\"}},\"scene\":{\"xaxis\":{\"backgroundcolor\":\"#E5ECF6\",\"gridcolor\":\"white\",\"gridwidth\":2,\"linecolor\":\"white\",\"showbackground\":true,\"ticks\":\"\",\"zerolinecolor\":\"white\"},\"yaxis\":{\"backgroundcolor\":\"#E5ECF6\",\"gridcolor\":\"white\",\"gridwidth\":2,\"linecolor\":\"white\",\"showbackground\":true,\"ticks\":\"\",\"zerolinecolor\":\"white\"},\"zaxis\":{\"backgroundcolor\":\"#E5ECF6\",\"gridcolor\":\"white\",\"gridwidth\":2,\"linecolor\":\"white\",\"showbackground\":true,\"ticks\":\"\",\"zerolinecolor\":\"white\"}},\"shapedefaults\":{\"line\":{\"color\":\"#2a3f5f\"}},\"ternary\":{\"aaxis\":{\"gridcolor\":\"white\",\"linecolor\":\"white\",\"ticks\":\"\"},\"baxis\":{\"gridcolor\":\"white\",\"linecolor\":\"white\",\"ticks\":\"\"},\"bgcolor\":\"#E5ECF6\",\"caxis\":{\"gridcolor\":\"white\",\"linecolor\":\"white\",\"ticks\":\"\"}},\"title\":{\"x\":0.05},\"xaxis\":{\"automargin\":true,\"gridcolor\":\"white\",\"linecolor\":\"white\",\"ticks\":\"\",\"title\":{\"standoff\":15},\"zerolinecolor\":\"white\",\"zerolinewidth\":2},\"yaxis\":{\"automargin\":true,\"gridcolor\":\"white\",\"linecolor\":\"white\",\"ticks\":\"\",\"title\":{\"standoff\":15},\"zerolinecolor\":\"white\",\"zerolinewidth\":2}}},\"scene\":{\"domain\":{\"x\":[0.0,1.0],\"y\":[0.0,1.0]},\"xaxis\":{\"title\":{\"text\":\"feature1\"}},\"yaxis\":{\"title\":{\"text\":\"feature2\"}},\"zaxis\":{\"title\":{\"text\":\"target\"}}},\"legend\":{\"tracegroupgap\":0},\"margin\":{\"t\":60}},                        {\"responsive\": true}                    ).then(function(){\n",
              "                            \n",
              "var gd = document.getElementById('ec7be8e2-6275-4bd6-a1d7-182271c2e9e0');\n",
              "var x = new MutationObserver(function (mutations, observer) {{\n",
              "        var display = window.getComputedStyle(gd).display;\n",
              "        if (!display || display === 'none') {{\n",
              "            console.log([gd, 'removed!']);\n",
              "            Plotly.purge(gd);\n",
              "            observer.disconnect();\n",
              "        }}\n",
              "}});\n",
              "\n",
              "// Listen for the removal of the full notebook cells\n",
              "var notebookContainer = gd.closest('#notebook-container');\n",
              "if (notebookContainer) {{\n",
              "    x.observe(notebookContainer, {childList: true});\n",
              "}}\n",
              "\n",
              "// Listen for the clearing of the current output cell\n",
              "var outputEl = gd.closest('.output');\n",
              "if (outputEl) {{\n",
              "    x.observe(outputEl, {childList: true});\n",
              "}}\n",
              "\n",
              "                        })                };                            </script>        </div>\n",
              "</body>\n",
              "</html>"
            ]
          },
          "metadata": {}
        }
      ]
    },
    {
      "cell_type": "code",
      "source": [
        "lr.coef_       #we are getting 2 values because we had 2 inputs, it could be n if inputs were n \n",
        "               #these are the values of beta1 and beta2"
      ],
      "metadata": {
        "colab": {
          "base_uri": "https://localhost:8080/"
        },
        "id": "1rfyMAq72F_R",
        "outputId": "bcf02d9d-f83f-469b-ff75-9971f55ef56e"
      },
      "execution_count": 169,
      "outputs": [
        {
          "output_type": "execute_result",
          "data": {
            "text/plain": [
              "array([16.63233981, 61.76423652])"
            ]
          },
          "metadata": {},
          "execution_count": 169
        }
      ]
    },
    {
      "cell_type": "code",
      "source": [
        "lr.intercept_         #this is the value of beta not"
      ],
      "metadata": {
        "colab": {
          "base_uri": "https://localhost:8080/"
        },
        "id": "AJp2GhEG33ix",
        "outputId": "90227d03-35c9-4d6c-8e9a-f07754004017"
      },
      "execution_count": 170,
      "outputs": [
        {
          "output_type": "execute_result",
          "data": {
            "text/plain": [
              "0.9705000523603449"
            ]
          },
          "metadata": {},
          "execution_count": 170
        }
      ]
    },
    {
      "cell_type": "markdown",
      "source": [
        "Mathematical formulation for Multiple Linear Regression"
      ],
      "metadata": {
        "id": "Xu-S0gL3e5KD"
      }
    },
    {
      "cell_type": "code",
      "source": [
        "'''\n",
        "Y= beta not+ beta1X1 + beta2X2 + .... + betanXn\n",
        "we find the value of beta not, beta1, beta2, ... , beta n\n",
        "\n",
        "\n",
        "Y hat = X matrix * beta matrix             eq(1)\n",
        "where Y hat is the predictive value, X matrix for all X values and beta matrix for all beta values.\n",
        "\n",
        "\n",
        "e= Y- Y hat\n",
        "Y for actual values and Y hat is the predictive values.\n",
        "'''"
      ],
      "metadata": {
        "id": "nYU1DrH8fUzI"
      },
      "execution_count": null,
      "outputs": []
    },
    {
      "cell_type": "markdown",
      "source": [
        "WHY GRADIENT DESCENT?\n",
        "\n",
        "the scikit learn solves the problem of linear regression in 2 ways: \n",
        "\n",
        "-closed form solution(formula) \n",
        "\n",
        "-another method is gradient descent. \n",
        "\n",
        "but still what is the need of Gradient Descent if there is a formula. it is because if we have a huge dataset ex. n=1000, then this formula takes a lot of time which makes our algorithm slow.\n",
        "\n",
        "therefore, we use a approximation technique without formula called gradient descent. The answer in both the ways will be nearly the same.\n",
        "\n",
        "\n",
        "\n",
        " -for closed form solution we use the direct formula, but for gradient descent we have a class available called SGD Regressor.\n",
        "\n",
        "-GRADIENT DESCENT is a faster technique to find out solutions to linear regression."
      ],
      "metadata": {
        "id": "WndHjxG1kYms"
      }
    },
    {
      "cell_type": "code",
      "source": [
        "import numpy as np\n",
        "from sklearn.datasets import load_diabetes"
      ],
      "metadata": {
        "id": "CFVy3dudfU6A"
      },
      "execution_count": 172,
      "outputs": []
    },
    {
      "cell_type": "code",
      "source": [
        "X,y= load_diabetes(return_X_y= True)"
      ],
      "metadata": {
        "id": "fOgyXvjofU-l"
      },
      "execution_count": 173,
      "outputs": []
    },
    {
      "cell_type": "code",
      "source": [
        "X"
      ],
      "metadata": {
        "id": "qPZjIbwF4K-7",
        "colab": {
          "base_uri": "https://localhost:8080/"
        },
        "outputId": "f10bc1f7-15ba-47b8-d29a-b1bf3c9c5e2d"
      },
      "execution_count": 174,
      "outputs": [
        {
          "output_type": "execute_result",
          "data": {
            "text/plain": [
              "array([[ 0.03807591,  0.05068012,  0.06169621, ..., -0.00259226,\n",
              "         0.01990842, -0.01764613],\n",
              "       [-0.00188202, -0.04464164, -0.05147406, ..., -0.03949338,\n",
              "        -0.06832974, -0.09220405],\n",
              "       [ 0.08529891,  0.05068012,  0.04445121, ..., -0.00259226,\n",
              "         0.00286377, -0.02593034],\n",
              "       ...,\n",
              "       [ 0.04170844,  0.05068012, -0.01590626, ..., -0.01107952,\n",
              "        -0.04687948,  0.01549073],\n",
              "       [-0.04547248, -0.04464164,  0.03906215, ...,  0.02655962,\n",
              "         0.04452837, -0.02593034],\n",
              "       [-0.04547248, -0.04464164, -0.0730303 , ..., -0.03949338,\n",
              "        -0.00421986,  0.00306441]])"
            ]
          },
          "metadata": {},
          "execution_count": 174
        }
      ]
    },
    {
      "cell_type": "code",
      "source": [
        "X.shape"
      ],
      "metadata": {
        "colab": {
          "base_uri": "https://localhost:8080/"
        },
        "id": "_CZLVhfAtC6G",
        "outputId": "c3c60917-c061-4820-fad1-a08e583a565f"
      },
      "execution_count": 175,
      "outputs": [
        {
          "output_type": "execute_result",
          "data": {
            "text/plain": [
              "(442, 10)"
            ]
          },
          "metadata": {},
          "execution_count": 175
        }
      ]
    },
    {
      "cell_type": "code",
      "source": [
        "y"
      ],
      "metadata": {
        "colab": {
          "base_uri": "https://localhost:8080/"
        },
        "id": "d-4YTAuFtEKM",
        "outputId": "be3e98de-ce59-4898-846c-79daa8ef096e"
      },
      "execution_count": 176,
      "outputs": [
        {
          "output_type": "execute_result",
          "data": {
            "text/plain": [
              "array([151.,  75., 141., 206., 135.,  97., 138.,  63., 110., 310., 101.,\n",
              "        69., 179., 185., 118., 171., 166., 144.,  97., 168.,  68.,  49.,\n",
              "        68., 245., 184., 202., 137.,  85., 131., 283., 129.,  59., 341.,\n",
              "        87.,  65., 102., 265., 276., 252.,  90., 100.,  55.,  61.,  92.,\n",
              "       259.,  53., 190., 142.,  75., 142., 155., 225.,  59., 104., 182.,\n",
              "       128.,  52.,  37., 170., 170.,  61., 144.,  52., 128.,  71., 163.,\n",
              "       150.,  97., 160., 178.,  48., 270., 202., 111.,  85.,  42., 170.,\n",
              "       200., 252., 113., 143.,  51.,  52., 210.,  65., 141.,  55., 134.,\n",
              "        42., 111.,  98., 164.,  48.,  96.,  90., 162., 150., 279.,  92.,\n",
              "        83., 128., 102., 302., 198.,  95.,  53., 134., 144., 232.,  81.,\n",
              "       104.,  59., 246., 297., 258., 229., 275., 281., 179., 200., 200.,\n",
              "       173., 180.,  84., 121., 161.,  99., 109., 115., 268., 274., 158.,\n",
              "       107.,  83., 103., 272.,  85., 280., 336., 281., 118., 317., 235.,\n",
              "        60., 174., 259., 178., 128.,  96., 126., 288.,  88., 292.,  71.,\n",
              "       197., 186.,  25.,  84.,  96., 195.,  53., 217., 172., 131., 214.,\n",
              "        59.,  70., 220., 268., 152.,  47.,  74., 295., 101., 151., 127.,\n",
              "       237., 225.,  81., 151., 107.,  64., 138., 185., 265., 101., 137.,\n",
              "       143., 141.,  79., 292., 178.,  91., 116.,  86., 122.,  72., 129.,\n",
              "       142.,  90., 158.,  39., 196., 222., 277.,  99., 196., 202., 155.,\n",
              "        77., 191.,  70.,  73.,  49.,  65., 263., 248., 296., 214., 185.,\n",
              "        78.,  93., 252., 150.,  77., 208.,  77., 108., 160.,  53., 220.,\n",
              "       154., 259.,  90., 246., 124.,  67.,  72., 257., 262., 275., 177.,\n",
              "        71.,  47., 187., 125.,  78.,  51., 258., 215., 303., 243.,  91.,\n",
              "       150., 310., 153., 346.,  63.,  89.,  50.,  39., 103., 308., 116.,\n",
              "       145.,  74.,  45., 115., 264.,  87., 202., 127., 182., 241.,  66.,\n",
              "        94., 283.,  64., 102., 200., 265.,  94., 230., 181., 156., 233.,\n",
              "        60., 219.,  80.,  68., 332., 248.,  84., 200.,  55.,  85.,  89.,\n",
              "        31., 129.,  83., 275.,  65., 198., 236., 253., 124.,  44., 172.,\n",
              "       114., 142., 109., 180., 144., 163., 147.,  97., 220., 190., 109.,\n",
              "       191., 122., 230., 242., 248., 249., 192., 131., 237.,  78., 135.,\n",
              "       244., 199., 270., 164.,  72.,  96., 306.,  91., 214.,  95., 216.,\n",
              "       263., 178., 113., 200., 139., 139.,  88., 148.,  88., 243.,  71.,\n",
              "        77., 109., 272.,  60.,  54., 221.,  90., 311., 281., 182., 321.,\n",
              "        58., 262., 206., 233., 242., 123., 167.,  63., 197.,  71., 168.,\n",
              "       140., 217., 121., 235., 245.,  40.,  52., 104., 132.,  88.,  69.,\n",
              "       219.,  72., 201., 110.,  51., 277.,  63., 118.,  69., 273., 258.,\n",
              "        43., 198., 242., 232., 175.,  93., 168., 275., 293., 281.,  72.,\n",
              "       140., 189., 181., 209., 136., 261., 113., 131., 174., 257.,  55.,\n",
              "        84.,  42., 146., 212., 233.,  91., 111., 152., 120.,  67., 310.,\n",
              "        94., 183.,  66., 173.,  72.,  49.,  64.,  48., 178., 104., 132.,\n",
              "       220.,  57.])"
            ]
          },
          "metadata": {},
          "execution_count": 176
        }
      ]
    },
    {
      "cell_type": "code",
      "source": [
        "y.shape"
      ],
      "metadata": {
        "colab": {
          "base_uri": "https://localhost:8080/"
        },
        "id": "PAWAhkdhtEOK",
        "outputId": "2bc233e9-a121-47d6-ed4a-0bea8a8c963e"
      },
      "execution_count": 177,
      "outputs": [
        {
          "output_type": "execute_result",
          "data": {
            "text/plain": [
              "(442,)"
            ]
          },
          "metadata": {},
          "execution_count": 177
        }
      ]
    },
    {
      "cell_type": "markdown",
      "source": [
        "Using sklearn's Linear Regression"
      ],
      "metadata": {
        "id": "PvvwLRGRtM64"
      }
    },
    {
      "cell_type": "code",
      "source": [
        "from sklearn.model_selection import train_test_split\n",
        "X_train, X_test, y_train, y_test = train_test_split(X,y, test_size=0.2, random_state=2)\n"
      ],
      "metadata": {
        "id": "hap4wWQjtJVI"
      },
      "execution_count": 178,
      "outputs": []
    },
    {
      "cell_type": "code",
      "source": [
        "print(X_train.shape)\n",
        "print(X_test.shape)"
      ],
      "metadata": {
        "colab": {
          "base_uri": "https://localhost:8080/"
        },
        "id": "-kuYdYA4tJY1",
        "outputId": "d6a92ac4-e9e5-40da-d0ff-0956fe472c5f"
      },
      "execution_count": 179,
      "outputs": [
        {
          "output_type": "stream",
          "name": "stdout",
          "text": [
            "(353, 10)\n",
            "(89, 10)\n"
          ]
        }
      ]
    },
    {
      "cell_type": "code",
      "source": [
        "from sklearn.linear_model import LinearRegression\n",
        "reg= LinearRegression()"
      ],
      "metadata": {
        "id": "DgMRczZqtJbt"
      },
      "execution_count": 180,
      "outputs": []
    },
    {
      "cell_type": "code",
      "source": [
        "reg.fit(X_train, y_train)"
      ],
      "metadata": {
        "colab": {
          "base_uri": "https://localhost:8080/"
        },
        "id": "MsquLTWQt5ul",
        "outputId": "8d66a4e1-69b8-4f97-e2c5-68eca368ddcb"
      },
      "execution_count": 181,
      "outputs": [
        {
          "output_type": "execute_result",
          "data": {
            "text/plain": [
              "LinearRegression()"
            ]
          },
          "metadata": {},
          "execution_count": 181
        }
      ]
    },
    {
      "cell_type": "code",
      "source": [
        "y_pred= reg.predict(X_test)"
      ],
      "metadata": {
        "id": "WIEA5hPeuBZH"
      },
      "execution_count": 182,
      "outputs": []
    },
    {
      "cell_type": "code",
      "source": [
        "from sklearn.metrics import r2_score\n",
        "r2_score(y_test,y_pred)"
      ],
      "metadata": {
        "colab": {
          "base_uri": "https://localhost:8080/"
        },
        "id": "Ey9O58NruFdo",
        "outputId": "05412de6-b13e-4e11-a421-299c72bff107"
      },
      "execution_count": 183,
      "outputs": [
        {
          "output_type": "execute_result",
          "data": {
            "text/plain": [
              "0.4399387660024645"
            ]
          },
          "metadata": {},
          "execution_count": 183
        }
      ]
    },
    {
      "cell_type": "code",
      "source": [
        "reg.coef_"
      ],
      "metadata": {
        "colab": {
          "base_uri": "https://localhost:8080/"
        },
        "id": "i2c-1nOHuMOL",
        "outputId": "6026831d-b191-43f5-c8e9-61d995c20693"
      },
      "execution_count": 184,
      "outputs": [
        {
          "output_type": "execute_result",
          "data": {
            "text/plain": [
              "array([  -9.16088483, -205.46225988,  516.68462383,  340.62734108,\n",
              "       -895.54360867,  561.21453306,  153.88478595,  126.73431596,\n",
              "        861.12139955,   52.41982836])"
            ]
          },
          "metadata": {},
          "execution_count": 184
        }
      ]
    },
    {
      "cell_type": "code",
      "source": [
        "reg.intercept_"
      ],
      "metadata": {
        "colab": {
          "base_uri": "https://localhost:8080/"
        },
        "id": "hs7JdZf5uSDg",
        "outputId": "04f7f3b8-1806-4649-a444-684629f3617b"
      },
      "execution_count": 185,
      "outputs": [
        {
          "output_type": "execute_result",
          "data": {
            "text/plain": [
              "151.88334520854633"
            ]
          },
          "metadata": {},
          "execution_count": 185
        }
      ]
    },
    {
      "cell_type": "markdown",
      "source": [
        "Making our own Linear Regression class"
      ],
      "metadata": {
        "id": "M-AQzUfOuiWg"
      }
    },
    {
      "cell_type": "code",
      "source": [
        "class MeraLR:\n",
        "\n",
        "  def __init__(self):\n",
        "    self.coef_ = None\n",
        "    self.intercept_ = None\n",
        "\n",
        "  def fit(self,X_train,y_train):\n",
        "    X_train = np.insert(X_train,0,1,axis=1)\n",
        "\n",
        "  def predict(self, X_test):\n",
        "    pass"
      ],
      "metadata": {
        "id": "DbHgAeVmuSF7"
      },
      "execution_count": 186,
      "outputs": []
    },
    {
      "cell_type": "code",
      "source": [
        "lr= MeraLR()"
      ],
      "metadata": {
        "id": "o2T0jv9vuSI6"
      },
      "execution_count": 187,
      "outputs": []
    },
    {
      "cell_type": "code",
      "source": [
        "lr.fit(X_train,y_train)"
      ],
      "metadata": {
        "id": "Wtg548CYuSMD"
      },
      "execution_count": 188,
      "outputs": []
    },
    {
      "cell_type": "code",
      "source": [
        "X_train"
      ],
      "metadata": {
        "colab": {
          "base_uri": "https://localhost:8080/"
        },
        "id": "XNaeTq6evJ6r",
        "outputId": "1fd91b93-c885-4c71-9557-f4e59880f850"
      },
      "execution_count": 189,
      "outputs": [
        {
          "output_type": "execute_result",
          "data": {
            "text/plain": [
              "array([[-0.00188202, -0.04464164, -0.06979687, ..., -0.03949338,\n",
              "        -0.06291295,  0.04034337],\n",
              "       [-0.00914709, -0.04464164,  0.01103904, ..., -0.03949338,\n",
              "         0.01703713, -0.0052198 ],\n",
              "       [ 0.02354575,  0.05068012, -0.02021751, ..., -0.03949338,\n",
              "        -0.09643322, -0.01764613],\n",
              "       ...,\n",
              "       [ 0.06350368,  0.05068012, -0.00405033, ..., -0.00259226,\n",
              "         0.08449528, -0.01764613],\n",
              "       [-0.05273755,  0.05068012, -0.01806189, ...,  0.1081111 ,\n",
              "         0.03605579, -0.04249877],\n",
              "       [ 0.00175052,  0.05068012,  0.05954058, ...,  0.1081111 ,\n",
              "         0.06898221,  0.12732762]])"
            ]
          },
          "metadata": {},
          "execution_count": 189
        }
      ]
    },
    {
      "cell_type": "code",
      "source": [
        "np.insert(X_train,0,1,axis=1)        #here we can see every row has got an additional 1 on it"
      ],
      "metadata": {
        "colab": {
          "base_uri": "https://localhost:8080/"
        },
        "id": "tby_KiKCvabI",
        "outputId": "2f6b16df-d210-4eda-bb86-d71c61970849"
      },
      "execution_count": 190,
      "outputs": [
        {
          "output_type": "execute_result",
          "data": {
            "text/plain": [
              "array([[ 1.        , -0.00188202, -0.04464164, ..., -0.03949338,\n",
              "        -0.06291295,  0.04034337],\n",
              "       [ 1.        , -0.00914709, -0.04464164, ..., -0.03949338,\n",
              "         0.01703713, -0.0052198 ],\n",
              "       [ 1.        ,  0.02354575,  0.05068012, ..., -0.03949338,\n",
              "        -0.09643322, -0.01764613],\n",
              "       ...,\n",
              "       [ 1.        ,  0.06350368,  0.05068012, ..., -0.00259226,\n",
              "         0.08449528, -0.01764613],\n",
              "       [ 1.        , -0.05273755,  0.05068012, ...,  0.1081111 ,\n",
              "         0.03605579, -0.04249877],\n",
              "       [ 1.        ,  0.00175052,  0.05068012, ...,  0.1081111 ,\n",
              "         0.06898221,  0.12732762]])"
            ]
          },
          "metadata": {},
          "execution_count": 190
        }
      ]
    },
    {
      "cell_type": "markdown",
      "source": [
        "GRADIENT DESCENT\n",
        "\n",
        "what is it?\n",
        "\n",
        "it is an optimization (to optimize means to gain the best possible results) algorithm.\n",
        "\n",
        "it is a faster way to calculate coefficients m and c.\n",
        "\n",
        "in short, gradient descent is a algorithm which when given a function that is differentiable at all points, then gradient descent gives you the minima of that function.\n",
        "\n",
        "\n",
        "\n",
        "Is gradient Descent only applicable on Linear Regression?\n",
        "\n",
        "no, it is used in Linear Regression, Logistic Regression, t-SNE and it is the backbone of Deep Learning."
      ],
      "metadata": {
        "id": "Yg1-VV7wwC3u"
      }
    },
    {
      "cell_type": "markdown",
      "source": [
        "Gradient Descent is nothing but a technique to minimize the loss function and find values for different parameters."
      ],
      "metadata": {
        "id": "PYSeVVWFpDgo"
      }
    },
    {
      "cell_type": "code",
      "source": [
        "'''\n",
        "we know that Yihat = mXi+C\n",
        "             L= Σ i=1 to n(Yi- Yi hat)\n",
        "             L= Σ i=1 to n(Yi- mXi- C)sq\n",
        "             L--> Csq\n",
        "\n",
        "\n",
        "'''"
      ],
      "metadata": {
        "id": "LyUsoeOXvewI"
      },
      "execution_count": null,
      "outputs": []
    },
    {
      "cell_type": "markdown",
      "source": [
        "![image.png](data:image/png;base64,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)"
      ],
      "metadata": {
        "id": "0GmvYARTVV_v"
      }
    },
    {
      "cell_type": "code",
      "source": [
        "'''\n",
        "L vs C curve   (L is on y axis and C is on x axis)\n",
        "this is the graph of loss function(L) and intercept C. since  L--> Csq is the relation between L and C, it is a parabolic graph.\n",
        "in this graph we need to find such a value of C such that L is minimum. \n",
        "\n",
        "if we had OLS(direct formula)we would have differentiated and found the minimum L value because we would face problem in higher dimensions.\n",
        "\n",
        "so we want to use gradient descent.\n",
        "\n",
        "STEP1. select a random C value (and we want to move towards the minimum value.)\n",
        "\n",
        "STEP2. at whatever point we are, we will find the slope of it. the direction of slope will guide us weather we have to move backward or\n",
        "forward. \n",
        "if the slope is negative we have to move forward on the curve (increament in C value) and \n",
        "if the slope is positive we have to move backward on the curve.(increament in C value)\n",
        "\n",
        "\n",
        "in all, the direction of the slope is guiding us to move towards the slope of the curve.\n",
        "\n",
        "so,\n",
        " C(new) = C(old)-slope           (equation for gradient descent.)\n",
        "\n",
        "ex: c(new)= -10-(-50) =>  40\n",
        "    c(new)=  10-(50) => -40\n",
        "\n",
        "but after using this equation we see that we are jumping from -ve to +ve values and vice versa after every iteration, so to avoid this we transform this eq:\n",
        "\n",
        "C(new) = C(old)- η slope      where η is the learning rate. in general the value of η = 0.01\n",
        "\n",
        "ex:  C(new) = -10-(0.01*-50)  =>  -10+ (0.01*50)  => -10+ 0.5 => -9.5\n",
        "\n",
        "-9.5 is very close to -10 from where we started and we did not have a big jump from -ves to +ves.\n",
        "\n",
        "second iteration:   C(new)= -9.5-(0.01*-40) => -9.5+(0.01*40) => -9.5+0.4 => -9.1   (we assumed that at -9.5 the slope would be -40)\n",
        "\n",
        "and -9.1 is again close to -9.5 so in this way learning rate helps us to skip jumping. the value of learning rate should be smaller than 1\n",
        " i.e. 0.01, 0.001,\n",
        "  \n",
        "'''\n"
      ],
      "metadata": {
        "id": "SFHh69UKvnRV"
      },
      "execution_count": null,
      "outputs": []
    },
    {
      "cell_type": "code",
      "source": [
        "'''\n",
        "Q) when to stop the iterations on the curve?\n",
        "\n",
        "1) if C(new) = C(old) = 0.0001 is a very small number and it would not cause any significant change in the next iteration then at that point we must stop.\n",
        "and if C(new) = C(old) = 0 then we should know that we are not making any movement and it also means that we are converging towards the solution.\n",
        "\n",
        "or \n",
        "\n",
        "2) we can stop when we limit the number of iterations and the loop will run that many times. for ex, 1000, 100.\n",
        "here the iterations are called epochs.\n",
        "'''"
      ],
      "metadata": {
        "id": "bWFogQzkvnV7"
      },
      "execution_count": null,
      "outputs": []
    },
    {
      "cell_type": "markdown",
      "source": [
        "mathematics formulation"
      ],
      "metadata": {
        "id": "ld2ty6VibnUG"
      }
    },
    {
      "cell_type": "code",
      "source": [
        "'''\n",
        "start with a random C value \n",
        "for i in epochs: (1000)\n",
        "η=0.01\n",
        "assuming slope= 78.35\n",
        "C(new) = C(old)- η*slope\n",
        "L= Σ i=1 to n(Yi- Yi hat)sq\n",
        "dL/dC = d/dC(Σ i=1 to n(Yi- Yi hat)sq)\n",
        "dL/dC = d/dC(Σ i=1 to n(Yi-mXi-C)sq       differentiating this equation\n",
        "\n",
        "dL/dC = 2Σ i=1 to n(Yi-mXi-C)(-1)\n",
        "      = -2 Σ i=1 to n(Yi-mXi-C) ***********this is the equation of slope and now we put C=0**********       IMPORTANT FORMULA\n",
        "      = -2 Σ i=1 to n(Yi-mXi-0)   rewriting this eq as \n",
        "      = -2 Σ i=1 to n(Yi-78.35*Xi-0)  after solving this equation for all points with Yi we get the slope at C=0\n",
        "\n",
        "\n",
        "C(new)= C(old)- η slope      (slope for c(old=0) and we get C(new) and the loop will run and the slope will be for c=1)\n",
        "                                                now this c(new) ↑ will become c(old) for the second iteration.\n",
        "\n",
        "****calculating η*slope is known as the STEP SIZE*******\n",
        "\n",
        "in short har baar jo C aaye uska value c(old) me daalte jana hai aur har baar uss particular point ke liye slope nikalte jana hai.\n",
        "learning rate se multiply karte jana hai aur c(old) se subtract krte jana hai aur c(new) ki value nikalti jayegi.\n",
        "\n",
        "\n",
        "this is how gradient descent works.\n",
        "'''\n"
      ],
      "metadata": {
        "id": "9M6B9KcDbboy"
      },
      "execution_count": null,
      "outputs": []
    },
    {
      "cell_type": "markdown",
      "source": [
        "writing a code for gradient descent"
      ],
      "metadata": {
        "id": "DxZQlPnOk7dH"
      }
    },
    {
      "cell_type": "code",
      "source": [
        "from sklearn.datasets import make_regression\n",
        "import numpy as np\n",
        "import matplotlib.pyplot as plt\n"
      ],
      "metadata": {
        "id": "vRp8q8klbbrM"
      },
      "execution_count": 197,
      "outputs": []
    },
    {
      "cell_type": "code",
      "source": [
        "X,y = make_regression(n_samples=4 , n_features=1 , n_informative=1 , n_targets=1 , noise=80 , random_state=13)"
      ],
      "metadata": {
        "id": "dcq8MS2avnZn"
      },
      "execution_count": 198,
      "outputs": []
    },
    {
      "cell_type": "code",
      "source": [
        "plt.scatter(X,y)"
      ],
      "metadata": {
        "id": "_K7DHR0kvndZ",
        "colab": {
          "base_uri": "https://localhost:8080/",
          "height": 283
        },
        "outputId": "f03a14df-ad2c-47cb-fdd6-a657b9840c94"
      },
      "execution_count": 199,
      "outputs": [
        {
          "output_type": "execute_result",
          "data": {
            "text/plain": [
              "<matplotlib.collections.PathCollection at 0x7f23da7e9fd0>"
            ]
          },
          "metadata": {},
          "execution_count": 199
        },
        {
          "output_type": "display_data",
          "data": {
            "text/plain": [
              "<Figure size 432x288 with 1 Axes>"
            ],
            "image/png": "[encoded data removed]"
          },
          "metadata": {
            "needs_background": "light"
          }
        }
      ]
    },
    {
      "cell_type": "code",
      "source": [
        "#lets apply OLS(direct formula)\n",
        "from sklearn.linear_model import LinearRegression\n",
        "reg= LinearRegression()\n",
        "reg.fit(X,y)"
      ],
      "metadata": {
        "id": "vHPVKd2JvnhQ",
        "colab": {
          "base_uri": "https://localhost:8080/"
        },
        "outputId": "010d2520-3f0d-4afa-c1db-4d80fa0a7245"
      },
      "execution_count": 200,
      "outputs": [
        {
          "output_type": "execute_result",
          "data": {
            "text/plain": [
              "LinearRegression()"
            ]
          },
          "metadata": {},
          "execution_count": 200
        }
      ]
    },
    {
      "cell_type": "code",
      "source": [
        "reg.coef_"
      ],
      "metadata": {
        "colab": {
          "base_uri": "https://localhost:8080/"
        },
        "id": "koEO9Q4Pln70",
        "outputId": "f60d046a-f9f4-4622-f9c6-c645047cec8a"
      },
      "execution_count": 201,
      "outputs": [
        {
          "output_type": "execute_result",
          "data": {
            "text/plain": [
              "array([78.35063668])"
            ]
          },
          "metadata": {},
          "execution_count": 201
        }
      ]
    },
    {
      "cell_type": "code",
      "source": [
        "reg.intercept_"
      ],
      "metadata": {
        "colab": {
          "base_uri": "https://localhost:8080/"
        },
        "id": "pMbggt-eloAS",
        "outputId": "f1a69232-9415-4580-ce8d-a0afe34bee63"
      },
      "execution_count": 202,
      "outputs": [
        {
          "output_type": "execute_result",
          "data": {
            "text/plain": [
              "26.15963284313262"
            ]
          },
          "metadata": {},
          "execution_count": 202
        }
      ]
    },
    {
      "cell_type": "code",
      "source": [
        "plt.scatter(X,y)\n",
        "plt.plot(X,reg.predict(X),color='red')"
      ],
      "metadata": {
        "colab": {
          "base_uri": "https://localhost:8080/",
          "height": 283
        },
        "id": "Iwa1I9uHloD4",
        "outputId": "f778ed52-267a-428b-88e9-a669337f33ec"
      },
      "execution_count": 203,
      "outputs": [
        {
          "output_type": "execute_result",
          "data": {
            "text/plain": [
              "[<matplotlib.lines.Line2D at 0x7f23da7caca0>]"
            ]
          },
          "metadata": {},
          "execution_count": 203
        },
        {
          "output_type": "display_data",
          "data": {
            "text/plain": [
              "<Figure size 432x288 with 1 Axes>"
            ],
            "image/png": "[encoded data removed]"
          },
          "metadata": {
            "needs_background": "light"
          }
        }
      ]
    },
    {
      "cell_type": "code",
      "source": [
        "#now lets apply Gradient Descent assuming the slope is constant m=78.35\n",
        "#and lets assume the starting value for intercept b=0\n",
        "y_pred = ((78.35*X)+0).reshape(4)"
      ],
      "metadata": {
        "id": "tq6EoFrhl8L4"
      },
      "execution_count": 204,
      "outputs": []
    },
    {
      "cell_type": "code",
      "source": [
        "plt.scatter(X,y)\n",
        "plt.plot(X,reg.predict(X),color='red',label='OLS')\n",
        "plt.plot(X,y_pred,color='#00a65a',label='c=0')          ##00a65a is a color code\n",
        "plt.legend()                                            #c for the red line is 26.159\n",
        "plt.show()"
      ],
      "metadata": {
        "colab": {
          "base_uri": "https://localhost:8080/",
          "height": 265
        },
        "id": "su3Jark3l8Pz",
        "outputId": "3fe09191-9080-4d3c-ed62-61b4cc609e6d"
      },
      "execution_count": 205,
      "outputs": [
        {
          "output_type": "display_data",
          "data": {
            "text/plain": [
              "<Figure size 432x288 with 1 Axes>"
            ],
            "image/png": "[encoded data removed]"
          },
          "metadata": {
            "needs_background": "light"
          }
        }
      ]
    },
    {
      "cell_type": "code",
      "source": [
        "#now we are applying gradient descent and we will see that the green line is moving towards the red line kyuki c ka value 26.15 ke pass jane lagega\n",
        "m= 78.35\n",
        "c= 0\n",
        "\n",
        "loss_slope = -2*np.sum(y-m*X.ravel()-c)\n",
        "loss_slope       #the slope at b=0 "
      ],
      "metadata": {
        "colab": {
          "base_uri": "https://localhost:8080/"
        },
        "id": "j_R51szCl8Uo",
        "outputId": "3b237b13-cb06-441b-d5a7-26f602717373"
      },
      "execution_count": 206,
      "outputs": [
        {
          "output_type": "execute_result",
          "data": {
            "text/plain": [
              "-209.27763408209216"
            ]
          },
          "metadata": {},
          "execution_count": 206
        }
      ]
    },
    {
      "cell_type": "code",
      "source": [
        "#taking learning rate=0.1\n",
        "lr=0.1\n",
        "\n",
        "step_size = loss_slope * lr         #calculating η*slope= step size\n",
        "step_size"
      ],
      "metadata": {
        "colab": {
          "base_uri": "https://localhost:8080/"
        },
        "id": "2MPf-dJuoq8H",
        "outputId": "0ea80def-43b4-4ab0-882e-aaa8665bec1d"
      },
      "execution_count": 207,
      "outputs": [
        {
          "output_type": "execute_result",
          "data": {
            "text/plain": [
              "-20.927763408209216"
            ]
          },
          "metadata": {},
          "execution_count": 207
        }
      ]
    },
    {
      "cell_type": "code",
      "source": [
        "#     calculating C(new):\n",
        "#     C(new)=C(old)-η*slope\n",
        "c = c-step_size\n",
        "c                                  #this is C(new), we had to go till 26.15 and we already reached from 0 to 20.92"
      ],
      "metadata": {
        "colab": {
          "base_uri": "https://localhost:8080/"
        },
        "id": "se8C81Kpo6-u",
        "outputId": "cf8aedf9-adff-4c24-acaa-0c4de2f86d59"
      },
      "execution_count": 208,
      "outputs": [
        {
          "output_type": "execute_result",
          "data": {
            "text/plain": [
              "20.927763408209216"
            ]
          },
          "metadata": {},
          "execution_count": 208
        }
      ]
    },
    {
      "cell_type": "code",
      "source": [
        "#since we have got the c(new) and slope is constant, calculating y again to plot the graph\n",
        "y_pred1 = ((78.35*X)+c).reshape(4) \n",
        "\n",
        "plt.scatter(X,y)\n",
        "plt.plot(X,reg.predict(X),color='red',label='OLS')\n",
        "plt.plot(X,y_pred1,color='#00a65a',label='c= {}'.format(c))\n",
        "plt.plot(X,y_pred, color='#A3E4D7',label='c= 0')\n",
        "plt.legend()\n",
        "plt.show()\n",
        "#light blue is for c=0 and c=20.92 is for present case. we can see that we are moving towards the correct red line"
      ],
      "metadata": {
        "colab": {
          "base_uri": "https://localhost:8080/",
          "height": 265
        },
        "id": "TtemXG-2prUV",
        "outputId": "32cf0518-1414-4208-f5ad-0c949c1467a3"
      },
      "execution_count": 209,
      "outputs": [
        {
          "output_type": "display_data",
          "data": {
            "text/plain": [
              "<Figure size 432x288 with 1 Axes>"
            ],
            "image/png": "[encoded data removed]"
          },
          "metadata": {
            "needs_background": "light"
          }
        }
      ]
    },
    {
      "cell_type": "code",
      "source": [
        "#iteration 2\n",
        "loss_slope = -2*np.sum(y-m*X.ravel()-c)\n",
        "loss_slope"
      ],
      "metadata": {
        "colab": {
          "base_uri": "https://localhost:8080/"
        },
        "id": "0o7XmnAbq_Gd",
        "outputId": "2f9f8386-4046-43dd-a27f-a858febbde89"
      },
      "execution_count": 210,
      "outputs": [
        {
          "output_type": "execute_result",
          "data": {
            "text/plain": [
              "-41.85552681641843"
            ]
          },
          "metadata": {},
          "execution_count": 210
        }
      ]
    },
    {
      "cell_type": "code",
      "source": [
        "step_size = loss_slope*lr\n",
        "step_size"
      ],
      "metadata": {
        "colab": {
          "base_uri": "https://localhost:8080/"
        },
        "id": "4wEmK4uEtF8N",
        "outputId": "252632f9-f7e7-4123-b926-2481d0e3cb0f"
      },
      "execution_count": 211,
      "outputs": [
        {
          "output_type": "execute_result",
          "data": {
            "text/plain": [
              "-4.185552681641844"
            ]
          },
          "metadata": {},
          "execution_count": 211
        }
      ]
    },
    {
      "cell_type": "code",
      "source": [
        "c=c-step_size\n",
        "c          #we are reaching closer to  26.15"
      ],
      "metadata": {
        "colab": {
          "base_uri": "https://localhost:8080/"
        },
        "id": "4v4oOlh6tPg8",
        "outputId": "b9fa9022-1cd7-44f3-b1ee-6eca8c2335f0"
      },
      "execution_count": 212,
      "outputs": [
        {
          "output_type": "execute_result",
          "data": {
            "text/plain": [
              "25.11331608985106"
            ]
          },
          "metadata": {},
          "execution_count": 212
        }
      ]
    },
    {
      "cell_type": "code",
      "source": [
        "y_pred2 = ((78.35* X)+c).reshape(4)\n",
        "\n",
        "plt.scatter(X,y)\n",
        "plt.plot(X,reg.predict(X),color='red',label='OLS')\n",
        "plt.plot(X,y_pred2,color='#00a65a',label='b={}'.format(c))\n",
        "plt.plot(X,y_pred1,color='#A3E4D7',label='b={}'.format(c))\n",
        "plt.plot(X,y_pred,color='#A3E4D7',label='b=0')\n",
        "plt.legend()\n",
        "plt.show()\n",
        "#we are almost near (25.11)the red line(26.15) which is the correct line."
      ],
      "metadata": {
        "colab": {
          "base_uri": "https://localhost:8080/",
          "height": 265
        },
        "id": "ehkPISUhtWOY",
        "outputId": "5a33f30e-cc25-4468-b41f-7da1b52252c1"
      },
      "execution_count": 213,
      "outputs": [
        {
          "output_type": "display_data",
          "data": {
            "text/plain": [
              "<Figure size 432x288 with 1 Axes>"
            ],
            "image/png": "[encoded data removed]"
          },
          "metadata": {
            "needs_background": "light"
          }
        }
      ]
    },
    {
      "cell_type": "code",
      "source": [
        "#iteration 3 \n",
        "loss_slope= -2*np.sum(y-m*X.ravel()-c)\n",
        "loss_slope"
      ],
      "metadata": {
        "colab": {
          "base_uri": "https://localhost:8080/"
        },
        "id": "XgdH3a5DuWuZ",
        "outputId": "8aebc1ba-ef18-4d70-f2ca-4acae9f31373"
      },
      "execution_count": 214,
      "outputs": [
        {
          "output_type": "execute_result",
          "data": {
            "text/plain": [
              "-8.371105363283675"
            ]
          },
          "metadata": {},
          "execution_count": 214
        }
      ]
    },
    {
      "cell_type": "code",
      "source": [
        "step_size= loss_slope*lr\n",
        "step_size"
      ],
      "metadata": {
        "colab": {
          "base_uri": "https://localhost:8080/"
        },
        "id": "-XxV9fteu1fy",
        "outputId": "2e9d523a-2c51-412f-ed77-75f43efc46e0"
      },
      "execution_count": 215,
      "outputs": [
        {
          "output_type": "execute_result",
          "data": {
            "text/plain": [
              "-0.8371105363283675"
            ]
          },
          "metadata": {},
          "execution_count": 215
        }
      ]
    },
    {
      "cell_type": "code",
      "source": [
        "c=c-step_size\n",
        "c\n",
        "#very close to 26.15\n",
        "#and similarly we can go for 2-3 more iterations and the it will almost overlap the red line."
      ],
      "metadata": {
        "colab": {
          "base_uri": "https://localhost:8080/"
        },
        "id": "7Qn9Xynbu3Vx",
        "outputId": "5952c2ac-d4a8-40ba-e80b-4ac4aad243db"
      },
      "execution_count": 216,
      "outputs": [
        {
          "output_type": "execute_result",
          "data": {
            "text/plain": [
              "25.95042662617943"
            ]
          },
          "metadata": {},
          "execution_count": 216
        }
      ]
    },
    {
      "cell_type": "code",
      "source": [
        "#the pattern is when you are very far away it takes big steps and when we are close to the red line it takes very small steps, this is due to the learning \n",
        "# rate."
      ],
      "metadata": {
        "id": "Yo7QCz3Lu3Yd"
      },
      "execution_count": 217,
      "outputs": []
    },
    {
      "cell_type": "code",
      "source": [
        "#performing this directly through loop.\n",
        "c=-100    #taking random c value\n",
        "m=78.35\n",
        "lr=0.1\n",
        "\n",
        "epochs=10  #iterations\n",
        "\n",
        "for i in range(epochs):\n",
        "  loss_slope=-2*np.sum(y-m*X.ravel()-c)\n",
        "  c=c-(lr*loss_slope)\n",
        "\n",
        "  y_pred= m*X+c\n",
        "\n",
        "  plt.plot(X,y_pred)\n",
        "\n",
        "plt.scatter(X,y)\n",
        "\n",
        "#after 10 iterations we reached the correct line.\n",
        "#if we take a very smaller learning rate then it starts taking very very small steps and possibly we wont reach the correct answer."
      ],
      "metadata": {
        "colab": {
          "base_uri": "https://localhost:8080/",
          "height": 282
        },
        "id": "UDeYRqqUu3bT",
        "outputId": "5a2c6d76-e8fd-44e3-f4be-d8ce4677575b"
      },
      "execution_count": 218,
      "outputs": [
        {
          "output_type": "execute_result",
          "data": {
            "text/plain": [
              "<matplotlib.collections.PathCollection at 0x7f23da5be580>"
            ]
          },
          "metadata": {},
          "execution_count": 218
        },
        {
          "output_type": "display_data",
          "data": {
            "text/plain": [
              "<Figure size 432x288 with 1 Axes>"
            ],
            "image/png": "[encoded data removed]"
          },
          "metadata": {
            "needs_background": "light"
          }
        }
      ]
    },
    {
      "cell_type": "markdown",
      "source": [
        "making a new class: GD Regressor\n"
      ],
      "metadata": {
        "id": "c6PS_5Bj9scu"
      }
    },
    {
      "cell_type": "code",
      "source": [
        "from sklearn.datasets import make_regression\n",
        "import matplotlib.pyplot as plt\n",
        "import numpy as np"
      ],
      "metadata": {
        "id": "-SXJk7JOw9uX"
      },
      "execution_count": 219,
      "outputs": []
    },
    {
      "cell_type": "code",
      "source": [
        "X,y = make_regression(n_samples=100, n_features=1, n_informative=1, n_targets=1, noise=20)"
      ],
      "metadata": {
        "id": "J7Yvum9U99_5"
      },
      "execution_count": 220,
      "outputs": []
    },
    {
      "cell_type": "code",
      "source": [
        "plt.scatter(X,y)"
      ],
      "metadata": {
        "colab": {
          "base_uri": "https://localhost:8080/",
          "height": 282
        },
        "id": "Iam8cu0W-PiU",
        "outputId": "b680ca8a-d96f-4905-b0af-55aae1cf4a13"
      },
      "execution_count": 221,
      "outputs": [
        {
          "output_type": "execute_result",
          "data": {
            "text/plain": [
              "<matplotlib.collections.PathCollection at 0x7f23da595fa0>"
            ]
          },
          "metadata": {},
          "execution_count": 221
        },
        {
          "output_type": "display_data",
          "data": {
            "text/plain": [
              "<Figure size 432x288 with 1 Axes>"
            ],
            "image/png": "[encoded data removed]"
          },
          "metadata": {
            "needs_background": "light"
          }
        }
      ]
    },
    {
      "cell_type": "code",
      "source": [
        "from sklearn.linear_model import LinearRegression\n",
        "lr= LinearRegression()\n",
        "lr.fit(X,y)\n",
        "print(lr.coef_)\n",
        "print(lr.intercept_)"
      ],
      "metadata": {
        "colab": {
          "base_uri": "https://localhost:8080/"
        },
        "id": "XAmnhhUK-ShH",
        "outputId": "242e436d-56da-47a2-c8ad-acf4c01ebc74"
      },
      "execution_count": 222,
      "outputs": [
        {
          "output_type": "stream",
          "name": "stdout",
          "text": [
            "[11.07685691]\n",
            "2.8400729690825415\n"
          ]
        }
      ]
    },
    {
      "cell_type": "code",
      "source": [
        "m= 29.19"
      ],
      "metadata": {
        "id": "ywBz5nGC-bty"
      },
      "execution_count": 223,
      "outputs": []
    },
    {
      "cell_type": "code",
      "source": [
        "class GDRegressor:\n",
        "\n",
        "  def __init__(self,learning_rate,epochs):\n",
        "    self.m=29.19\n",
        "    self.c=-120\n",
        "    self.lr=learning_rate\n",
        "    self.epochs = epochs\n",
        "\n",
        "  def fit(self,X,y):\n",
        "    #calculating c using GD\n",
        "    for i in range(self.epochs):\n",
        "      loss_slope= -2*np.sum(y-m*X.ravel()-self.c)\n",
        "      self.c= self.c-(self.lr*loss_slope)\n",
        "      print(loss_slope,self.c)\n",
        "    print(self.c)"
      ],
      "metadata": {
        "id": "M5uvQFgJ-tRi"
      },
      "execution_count": 224,
      "outputs": []
    },
    {
      "cell_type": "code",
      "source": [
        "gd= GDRegressor(0.1,10)      #0.1 is learning rate and 10 is epoch"
      ],
      "metadata": {
        "id": "1zpqPYxF-tfM"
      },
      "execution_count": 225,
      "outputs": []
    },
    {
      "cell_type": "code",
      "source": [
        "gd.fit(X,y)      #the slope is this value because we put the learning rate too high. lets fix it. "
      ],
      "metadata": {
        "colab": {
          "base_uri": "https://localhost:8080/"
        },
        "id": "jpavXTQsAJY_",
        "outputId": "0e4343d0-d81c-45b5-b856-332f9697b1ee"
      },
      "execution_count": 226,
      "outputs": [
        {
          "output_type": "stream",
          "name": "stdout",
          "text": [
            "-24743.84339183705 2354.3843391837054\n",
            "470133.02444490406 -44658.9181053067\n",
            "-8932527.464453178 848593.8283400111\n",
            "169718021.82461035 -16123208.354121024\n",
            "-3224642414.6675963 306341033.11263865\n",
            "61268205878.68434 -5820479554.755796\n",
            "-1164095911695.0024 110589111614.74445\n",
            "22117822322205.047 -2101193120605.7605\n",
            "-420238624121895.9 39922669291583.83\n",
            "7984533858316022.0 -758530716540018.4\n",
            "-758530716540018.4\n"
          ]
        }
      ]
    },
    {
      "cell_type": "code",
      "source": [
        "gd= GDRegressor(0.001,100)  \n",
        "gd.fit(X,y)"
      ],
      "metadata": {
        "colab": {
          "base_uri": "https://localhost:8080/"
        },
        "id": "fcmRHwsnAUEs",
        "outputId": "71e79f2b-195a-42c2-a787-42dbcb5629a8"
      },
      "execution_count": null,
      "outputs": [
        {
          "output_type": "stream",
          "name": "stdout",
          "text": [
            "-23834.553168535964 -96.16544683146404\n",
            "-19067.64253482877 -77.09780429663527\n",
            "-15254.11402786302 -61.84369026877226\n",
            "-12203.291222290414 -49.640399046481846\n",
            "-9762.632977832332 -39.877766068649514\n",
            "-7810.106382265867 -32.06765968638365\n",
            "-6248.085105812694 -25.819574580570958\n",
            "-4998.468084650155 -20.8211064959208\n",
            "-3998.7744677201235 -16.822332028200677\n",
            "-3199.019574176099 -13.623312454024578\n",
            "-2559.2156593408786 -11.0640967946837\n",
            "-2047.3725274727037 -9.016724267210996\n",
            "-1637.8980219781633 -7.378826245232833\n",
            "-1310.3184175825302 -6.068507827650303\n",
            "-1048.2547340660244 -5.020253093584278\n",
            "-838.6037872528193 -4.181649306331459\n",
            "-670.8830298022554 -3.510766276529204\n",
            "-536.7064238418045 -2.9740598526873994\n",
            "-429.3651390734436 -2.5446947136139557\n",
            "-343.49211125875496 -2.2012026023552007\n",
            "-274.7936890070039 -1.9264089133481967\n",
            "-219.83495120560312 -1.7065739621425937\n",
            "-175.86796096448228 -1.5307060011781115\n",
            "-140.69436877158603 -1.3900116324065255\n",
            "-112.55549501726878 -1.2774561373892568\n",
            "-90.04439601381509 -1.1874117413754417\n",
            "-72.0355168110521 -1.1153762245643897\n",
            "-57.62841344884168 -1.057747811115548\n",
            "-46.1027307590732 -1.011645080356475\n",
            "-36.882184607258566 -0.9747628957492164\n",
            "-29.50574768580701 -0.9452571480634093\n",
            "-23.60459814864556 -0.9216525499147638\n",
            "-18.883678518916444 -0.9027688713958473\n",
            "-15.10694281513312 -0.8876619285807141\n",
            "-12.085554252106409 -0.8755763743286077\n",
            "-9.668443401685217 -0.8659079309269224\n",
            "-7.734754721348288 -0.8581731762055741\n",
            "-6.187803777078521 -0.8519853724284956\n",
            "-4.950243021662786 -0.8470351294068328\n",
            "-3.9601944173302925 -0.8430749349895025\n",
            "-3.168155533864258 -0.8399067794556382\n",
            "-2.534524427091391 -0.8373722550285468\n",
            "-2.027619541673083 -0.8353446354868738\n",
            "-1.6220956333384393 -0.8337225398535353\n",
            "-1.2976765066707756 -0.8324248633468645\n",
            "-1.0381412053366077 -0.8313867221415279\n",
            "-0.8305129642692819 -0.8305562091772586\n",
            "-0.6644103714154852 -0.8298917988058431\n",
            "-0.5315282971323327 -0.8293602705087108\n",
            "-0.425222637705879 -0.8289350478710049\n",
            "-0.34017811016472876 -0.8285948697608402\n",
            "-0.27214248813181996 -0.8283227272727084\n",
            "-0.21771399050536644 -0.828105013282203\n",
            "-0.1741711924043301 -0.8279308420897986\n",
            "-0.13933695392351098 -0.8277915051358751\n",
            "-0.11146956313870504 -0.8276800355727364\n",
            "-0.08917565051093135 -0.8275908599222255\n",
            "-0.07134052040871808 -0.8275195194018168\n",
            "-0.05707241632707394 -0.8274624469854898\n",
            "-0.04565793306168331 -0.8274167890524281\n",
            "-0.03652634644939923 -0.8273802627059788\n",
            "-0.029221077159526487 -0.8273510416288192\n",
            "-0.023376861727577136 -0.8273276647670916\n",
            "-0.018701489382173975 -0.8273089632777094\n",
            "-0.014961191505484805 -0.827294002086204\n",
            "-0.011968953204494426 -0.8272820331329994\n",
            "-0.009575162563614015 -0.8272724579704358\n",
            "-0.007660130050950897 -0.8272647978403849\n",
            "-0.006128104040762139 -0.8272586697363441\n",
            "-0.004902483232534394 -0.8272537672531116\n",
            "-0.0039219865860857794 -0.8272498452665256\n",
            "-0.0031375892689382567 -0.8272467076772566\n",
            "-0.002510071415095183 -0.8272441976058416\n",
            "-0.0020080571320448826 -0.8272421895487095\n",
            "-0.0016064457056259585 -0.827240583103004\n",
            "-0.001285156564605927 -0.8272392979464394\n",
            "-0.0010281252515440542 -0.8272382698211879\n",
            "-0.0008225002012309801 -0.8272374473209866\n",
            "-0.0006580001610316799 -0.8272367893208256\n",
            "-0.0005264001287983433 -0.8272362629206967\n",
            "-0.0004211201030344114 -0.8272358418005937\n",
            "-0.00033689608248010927 -0.8272355049045113\n",
            "-0.00026951686607645797 -0.8272352353876452\n",
            "-0.00021561349260679208 -0.8272350197741526\n",
            "-0.00017249079420622593 -0.8272348472833584\n",
            "-0.00013799263534508555 -0.8272347092907231\n",
            "-0.00011039410835422814 -0.8272345988966148\n",
            "-8.831528673169942e-05 -0.827234510581328\n",
            "-7.06522292617251e-05 -0.8272344399290987\n",
            "-5.6521783463381325e-05 -0.8272343834073153\n",
            "-4.521742679486351e-05 -0.8272343381898885\n",
            "-3.617394148847097e-05 -0.8272343020159469\n",
            "-2.893915301172001e-05 -0.827234273076794\n",
            "-2.3151322530168272e-05 -0.8272342499254715\n",
            "-1.8521058088083464e-05 -0.8272342314044133\n",
            "-1.4816846437781805e-05 -0.8272342165875669\n",
            "-1.1853477083434427e-05 -0.8272342047340898\n",
            "-9.482781742065072e-06 -0.827234195251308\n",
            "-7.586225258648938e-06 -0.8272341876650828\n",
            "-6.0689802836577655e-06 -0.8272341815961025\n",
            "-0.8272341815961025\n"
          ]
        }
      ]
    },
    {
      "cell_type": "code",
      "source": [
        "#till now we had put m constant and we changed our c all the time, now we will see variation in both m and c\n",
        "'''\n",
        "\n",
        "step1) initialise random values for m and b;  m=1 and b=0\n",
        "step2) deciding the number of epochs; epochs=100, lr=0.01\n",
        "\n",
        "for i in epochs:\n",
        "  c=c-η*slope\n",
        "  m=m-η*slope                  #now there are 2 different slopes, and we will know what are these and how are they diff\n",
        "  '''"
      ],
      "metadata": {
        "id": "KE35op--Atxj"
      },
      "execution_count": null,
      "outputs": []
    },
    {
      "cell_type": "markdown",
      "source": [
        "![image.png](data:image/png;base64,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)"
      ],
      "metadata": {
        "id": "QAWBgMJAD9S8"
      }
    },
    {
      "cell_type": "code",
      "source": [
        "#the y axis is loss, x axis is m and z is c\n",
        "'''\n",
        "formulae: \n",
        "  \n",
        "  ************important************\n",
        "\n",
        "dL/dC = -2Σ(Yi-mXi-C)      this is slope w.r.t C at C=0\n",
        "dL/dm = -2Σ(Yi-mXi-C)Xi    this is slope w.r.t m at m=1\n",
        "'''"
      ],
      "metadata": {
        "id": "byi3i8g_CzR-"
      },
      "execution_count": null,
      "outputs": []
    },
    {
      "cell_type": "code",
      "source": [
        "#code for m and c variables\n",
        "from sklearn.datasets import make_regression\n",
        "import matplotlib.pyplot as plt\n",
        "import numpy as np\n",
        "from sklearn.model_selection import cross_val_score\n",
        "from sklearn.linear_model import LinearRegression"
      ],
      "metadata": {
        "id": "cc1AbxkxEwyh"
      },
      "execution_count": 229,
      "outputs": []
    },
    {
      "cell_type": "code",
      "source": [
        "X,y = make_regression(n_samples=100, n_features=1, n_informative=1, n_targets=1, noise=20, random_state=13)"
      ],
      "metadata": {
        "id": "sx5RrMsfG40u"
      },
      "execution_count": 230,
      "outputs": []
    },
    {
      "cell_type": "code",
      "source": [
        "plt.scatter(X,y)"
      ],
      "metadata": {
        "colab": {
          "base_uri": "https://localhost:8080/",
          "height": 282
        },
        "id": "J5SzQcc6HKMm",
        "outputId": "5a268161-c0c9-4ed4-826f-3cb2e9fe0c50"
      },
      "execution_count": null,
      "outputs": [
        {
          "output_type": "execute_result",
          "data": {
            "text/plain": [
              "<matplotlib.collections.PathCollection at 0x7f61190dc730>"
            ]
          },
          "metadata": {},
          "execution_count": 119
        },
        {
          "output_type": "display_data",
          "data": {
            "text/plain": [
              "<Figure size 432x288 with 1 Axes>"
            ],
            "image/png": "[encoded data removed]"
          },
          "metadata": {
            "needs_background": "light"
          }
        }
      ]
    },
    {
      "cell_type": "code",
      "source": [
        "lr=LinearRegression()\n",
        "lr.fit(X,y)\n",
        "print(lr.coef_)\n",
        "print(lr.intercept_)"
      ],
      "metadata": {
        "colab": {
          "base_uri": "https://localhost:8080/"
        },
        "id": "e-Bdx2sLHO-p",
        "outputId": "c1eecaf1-a12e-4bf7-8378-002592d847f3"
      },
      "execution_count": 231,
      "outputs": [
        {
          "output_type": "stream",
          "name": "stdout",
          "text": [
            "[27.82809103]\n",
            "-2.29474455867698\n"
          ]
        }
      ]
    },
    {
      "cell_type": "code",
      "source": [
        "np.mean(cross_val_score(lr,X,y,scoring='r2',cv=10))"
      ],
      "metadata": {
        "colab": {
          "base_uri": "https://localhost:8080/"
        },
        "id": "7ENSeY1sHujF",
        "outputId": "67c18c0b-88eb-473f-96b1-60551a6fed77"
      },
      "execution_count": 232,
      "outputs": [
        {
          "output_type": "execute_result",
          "data": {
            "text/plain": [
              "0.6375011587464419"
            ]
          },
          "metadata": {},
          "execution_count": 232
        }
      ]
    },
    {
      "cell_type": "code",
      "source": [
        "class GDRegressor:\n",
        "  def __init__(self,learning_rate,epochs):\n",
        "    self.m=100\n",
        "    self.c=-120\n",
        "    self.lr=learning_rate\n",
        "    self.epochs=epochs\n",
        "\n",
        "  def fit(self,X,y):\n",
        "    for i in range(self.epochs):\n",
        "      loss_slope_c= -2*np.sum(y-self.m*X.ravel()-self.c)\n",
        "      loss_slope_m= -2*np.sum((y-self.m*X.ravel()-self.c)*X.ravel())\n",
        "      \n",
        "      self.c= self.c-(self.lr*loss_slope_c)\n",
        "      self.m= self.m-(self.lr*loss_slope_m)\n",
        "    print(self.m,self.c)\n",
        "\n"
      ],
      "metadata": {
        "id": "J4aOvTO9H8h_"
      },
      "execution_count": 233,
      "outputs": []
    },
    {
      "cell_type": "code",
      "source": [
        "gd=GDRegressor(0.001,100)"
      ],
      "metadata": {
        "id": "UGyzbd10H8nI"
      },
      "execution_count": 234,
      "outputs": []
    },
    {
      "cell_type": "code",
      "source": [
        "gd.fit(X,y)     #these values are same as the above: [27.82809103] and -2.29474455867698\n"
      ],
      "metadata": {
        "colab": {
          "base_uri": "https://localhost:8080/"
        },
        "id": "mFCrjC2kJGQt",
        "outputId": "14cba716-ffcb-4ba4-e4a5-974ae3f9eccd"
      },
      "execution_count": 235,
      "outputs": [
        {
          "output_type": "stream",
          "name": "stdout",
          "text": [
            "27.828091872608653 -2.2947448944994893\n"
          ]
        }
      ]
    },
    {
      "cell_type": "markdown",
      "source": [
        "effect of loss function on gradient descent"
      ],
      "metadata": {
        "id": "jhDGga6FM1Jd"
      }
    },
    {
      "cell_type": "code",
      "source": [
        "'''\n",
        "the loss function we used was the mean squared error\n",
        "L = summation(Yi- Yi hat)sq\n",
        "this is a very useful loss function because it is a CONVEX LOSS FUNCTION.\n",
        "A convex function is a function in which when two points on the curve are plotted then the line drawn would never cross the function. A convex function is \n",
        "useful in gradient descent because it would not have any local minima but only a global minima.\n",
        "'''\n",
        "\n",
        "\n",
        "'''\n",
        "another problem is a Saddle point problem: In this type of problem if we had reached a plateau on the curve and the slope would change very slowly\n",
        "then it would take too long to reach to the actual solution or if we had set the no of epochs to be a few maybe 10 or 15 then possibly we would never reach \n",
        "the actual solution.\n",
        "'''"
      ],
      "metadata": {
        "id": "z8UBqxThJLXS"
      },
      "execution_count": null,
      "outputs": []
    },
    {
      "cell_type": "markdown",
      "source": [
        "![image.png](data:image/png;base64,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)\n",
        "\n",
        "\n",
        "saddle point problem\n",
        "\n",
        "![image.png](data:image/png;base64,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)"
      ],
      "metadata": {
        "id": "sULmeuQKE2WF"
      }
    },
    {
      "cell_type": "markdown",
      "source": [
        "Types of Gradient Descent:\n",
        "\n",
        "1.Batch Gradient Descent\n",
        "\n",
        "2.Stochastic Gradient Descent\n",
        "\n",
        "3.Mini batch Gradient Descent"
      ],
      "metadata": {
        "id": "N9dOweRcG5A9"
      }
    },
    {
      "cell_type": "code",
      "source": [
        "'''\n",
        "we know that the Gradient Descent is an optimization algorithm used in various ML algortihms to reach towards the solution\n",
        "\n",
        "Batch Gradient Descent:\n",
        "we know that we had,   m(new)= dL/dm = m(old)- η*slope  at m=0\n",
        "               and     c(new)= dL/dc = c(old)- η*slope  at c=0\n",
        "\n",
        "here, in batch gradient descent we use all our data to calculate the slope. in simpler words, if we had 300 rows we would see all the rows and then update \n",
        "the m(old).\n",
        "the code that we had written previously was an example of Batch Gradient Descent.\n",
        "this algorithm is very slow and it has many computational problems. \n",
        "to escape these, we have Stochastic Gradient Descent.\n",
        "\n",
        "\n",
        "In Stochastic Gradient Descent, the updates are taken on the basis of one row and not all 300 rows. it is fast and it especially suitable for large datasets\n",
        "\n",
        "\n",
        "Mini Batch Gradient Descent: it balances the things between Batch and Stochastic Gradient Descent. In this, we decide a Batch size, ex, out of 300 rows we \n",
        "decided a batch of 30 rows, so now the updates on m and c will be taken after seeing 30 rows.\n",
        "\n",
        "So for Batch Gradient Descent on 300 rows data, we had to update only ONCE, whereas in Stochastic Gradient Descent we have to update 300 times and in\n",
        "Mini Batch Gradient Descent we have to update 10 times.\n",
        "\n",
        "mostly Stochastic Gradient Descent and Mini Batch Gradient Descent are used and Batch Gradient Descent is quite rare.\n",
        "'''\n"
      ],
      "metadata": {
        "id": "BN-TY2UBJeY1"
      },
      "execution_count": null,
      "outputs": []
    },
    {
      "cell_type": "code",
      "source": [
        "'''\n",
        "1. Batch Gradient Descent:\n",
        "the code that we had written previously was an example of Batch Gradient Descent and we had seen for 2D data to find m and C.\n",
        "now we will see for nD data, and we will try to find n+1 coefficients.\n",
        "\n",
        "MATHEMATICAL FORMULATION:\n",
        "\n",
        "Y= βnot + β1X1 + β2X2...\n",
        "\n",
        "step1: set random values\n",
        "      βnot=0, β1,β2=1..\n",
        "\n",
        "step2: epochs=100, lr=0.1\n",
        "      βnot= βnot-η*slope\n",
        "      β1 = β1-η*slope\n",
        "      β2 = β2-η*slope\n",
        "\n",
        "so if we talk about  βnot, β1, β2 and loss function, it would be a 4D graph.\n",
        "we have to find slope on this graph, it will have three components, one in direction of βnot, another in direction of β1 and\n",
        "another in direction of β2.\n",
        "\n",
        "so simply we have to find the equation of loss and differentiate with respect to dL/dβnot , dL/dβ1, dL/dβ2 and we get the three slopes.\n",
        "\n",
        "L= 1/n Σ i=1 to n(Yi - Yi hat)sq       we have to find such values of βnot, β1, β2 that this loss is minimized.\n",
        "\n",
        "after some sick math,\n",
        "\n",
        "slope of βnot: -2/n Σ i=1 to n(Yi - Yi hat)= dL/dβnot  ------(1)\n",
        "\n",
        "slope of β1: -2/n Σ i=1 to n(Yi - Yi hat)Xi1 = dL/dβ1 -------(2)   #Xi1 represents the data of column 1 wrt to β1   \n",
        "\n",
        "slope of β2: -2/n Σ i=1 to n(Yi - Yi hat)Xi2 = dL/dβ2 -------(3)   #Xi2 represents the data of column 2 wrt to β2\n",
        "\n",
        "so if there are m columns, then\n",
        "\n",
        "slope of βm = dL/dβm =  -2/n Σ i=1 to n(Yi - Yi hat)Xim            #Xim represents the data of column m wrt to βm\n",
        "\n",
        "'''"
      ],
      "metadata": {
        "id": "8UDDTBc_JinD"
      },
      "execution_count": null,
      "outputs": []
    },
    {
      "cell_type": "markdown",
      "source": [
        "Batch Gradient Descent"
      ],
      "metadata": {
        "id": "i6TuPWALUj9m"
      }
    },
    {
      "cell_type": "code",
      "source": [
        "from sklearn.datasets import load_diabetes\n",
        "import numpy as np\n",
        "from sklearn.linear_model import LinearRegression\n",
        "from sklearn.metrics import r2_score\n",
        "from sklearn.model_selection import train_test_split"
      ],
      "metadata": {
        "id": "zc-WsKaFJnKA"
      },
      "execution_count": 239,
      "outputs": []
    },
    {
      "cell_type": "code",
      "source": [
        "X,y= load_diabetes(return_X_y=True)"
      ],
      "metadata": {
        "id": "2S4cw0A8Tfh7"
      },
      "execution_count": 240,
      "outputs": []
    },
    {
      "cell_type": "code",
      "source": [
        "print(X.shape)\n",
        "print(y.shape)"
      ],
      "metadata": {
        "colab": {
          "base_uri": "https://localhost:8080/"
        },
        "id": "lqfL560vTmSY",
        "outputId": "0648b77a-36fc-438c-e9d4-e10255a47be4"
      },
      "execution_count": 241,
      "outputs": [
        {
          "output_type": "stream",
          "name": "stdout",
          "text": [
            "(442, 10)\n",
            "(442,)\n"
          ]
        }
      ]
    },
    {
      "cell_type": "code",
      "source": [
        "X_train, X_test, y_train, y_test= train_test_split(X,y,test_size=0.2,random_state=2)"
      ],
      "metadata": {
        "id": "wUshgMtCToZ1"
      },
      "execution_count": 242,
      "outputs": []
    },
    {
      "cell_type": "code",
      "source": [
        "reg= LinearRegression()\n",
        "reg.fit(X_train,y_train)"
      ],
      "metadata": {
        "colab": {
          "base_uri": "https://localhost:8080/"
        },
        "id": "tCVzqajAT4GI",
        "outputId": "8904e02f-e63d-488e-ffbc-71874801ae02"
      },
      "execution_count": 243,
      "outputs": [
        {
          "output_type": "execute_result",
          "data": {
            "text/plain": [
              "LinearRegression()"
            ]
          },
          "metadata": {},
          "execution_count": 243
        }
      ]
    },
    {
      "cell_type": "code",
      "source": [
        "print(reg.coef_)\n",
        "print(reg.intercept_)\n",
        "#so when we will use gradient descent our target will be to fetch these values.\n",
        "#10 beta values β1,β2,........,β10 and the intercept is the βnot value."
      ],
      "metadata": {
        "colab": {
          "base_uri": "https://localhost:8080/"
        },
        "id": "kPJvF0WhT7Kr",
        "outputId": "4b508dae-e144-41cc-d0ed-45c08778a43a"
      },
      "execution_count": 244,
      "outputs": [
        {
          "output_type": "stream",
          "name": "stdout",
          "text": [
            "[  -9.16088483 -205.46225988  516.68462383  340.62734108 -895.54360867\n",
            "  561.21453306  153.88478595  126.73431596  861.12139955   52.41982836]\n",
            "151.88334520854633\n"
          ]
        }
      ]
    },
    {
      "cell_type": "code",
      "source": [
        "y_pred= reg.predict(X_test)\n",
        "r2_score(y_test,y_pred)"
      ],
      "metadata": {
        "colab": {
          "base_uri": "https://localhost:8080/"
        },
        "id": "kCi38rUuUPe8",
        "outputId": "dc354c23-3f2b-4996-8385-79120c4365b7"
      },
      "execution_count": 245,
      "outputs": [
        {
          "output_type": "execute_result",
          "data": {
            "text/plain": [
              "0.4399387660024645"
            ]
          },
          "metadata": {},
          "execution_count": 245
        }
      ]
    },
    {
      "cell_type": "code",
      "source": [
        "#making a class\n",
        "class GDRegressor:\n",
        "\n",
        "  def __init__(self,learning_rate=0.1,epochs=100):\n",
        "\n",
        "   self.coef_ =None\n",
        "   self.intercept_ =None\n",
        "   self.lr = learning_rate=0.1\n",
        "   self.epochs= epochs\n",
        "  \n",
        "  def fit(self,X_train,y_train):\n",
        "    #initialise your coefs\n",
        "    self.intercept_ =0\n",
        "    self.coef_ = np.ones(X_train.shape[1])\n",
        "    \n",
        "    for i in range(self.epochs):\n",
        "      #update all the coef and intercepts\n",
        "      y_hat= np.dot(X_train,self.coef_) + self.intercept_\n",
        "      intercept_der= -2* np.mean(y_train - y_hat)\n",
        "      self.intercept_ = self.intercept_ - (self.lr *intercept_der)\n",
        "\n",
        "      coef_der = -2* np.dot((y_train - y_hat),X_train)/X_train.shape[0]\n",
        "      self.coef_ = self.coef_ - (self.lr * coef_der)\n",
        "\n",
        "    print(self.intercept_ ,self.coef_)\n",
        "\n",
        "  def predict(self,X_test):\n",
        "    return np.dot(X_test,self.coef_) + self.intercept_ "
      ],
      "metadata": {
        "id": "sVXEuesoUQqP"
      },
      "execution_count": 246,
      "outputs": []
    },
    {
      "cell_type": "code",
      "source": [
        "gdr = GDRegressor(epochs=1000, learning_rate=0.5)"
      ],
      "metadata": {
        "id": "SXv4d0PaUQtd"
      },
      "execution_count": 247,
      "outputs": []
    },
    {
      "cell_type": "code",
      "source": [
        "gdr.fit(X_train, y_train)"
      ],
      "metadata": {
        "colab": {
          "base_uri": "https://localhost:8080/"
        },
        "id": "KIa-ZlKGUQwj",
        "outputId": "ade29064-8669-4e73-e8e9-ba7b0369cfa9"
      },
      "execution_count": 248,
      "outputs": [
        {
          "output_type": "stream",
          "name": "stdout",
          "text": [
            "151.94043481425678 [  62.27814169  -24.14066729  262.40222053  192.20902828   39.48791536\n",
            "   10.26869856 -142.5060393   124.33305283  244.33532841  119.34321317]\n"
          ]
        }
      ]
    },
    {
      "cell_type": "code",
      "source": [
        "y_pred = gdr.predict(X_test)"
      ],
      "metadata": {
        "id": "xo75XRZ2ZJHF"
      },
      "execution_count": 249,
      "outputs": []
    },
    {
      "cell_type": "code",
      "source": [
        "r2_score(y_test,y_pred)"
      ],
      "metadata": {
        "colab": {
          "base_uri": "https://localhost:8080/"
        },
        "id": "r1CzVlqOZMjK",
        "outputId": "745a044e-34a8-4e5d-be5b-d4903926c413"
      },
      "execution_count": 250,
      "outputs": [
        {
          "output_type": "execute_result",
          "data": {
            "text/plain": [
              "0.39717004786105725"
            ]
          },
          "metadata": {},
          "execution_count": 250
        }
      ]
    },
    {
      "cell_type": "markdown",
      "source": [
        "Stochastic Gradient Descent"
      ],
      "metadata": {
        "id": "ti3ZHGkLUfte"
      }
    },
    {
      "cell_type": "code",
      "source": [
        "'''\n",
        "the problem with batch gradient descent: it was that we had to calculate the derivate of loss function at every coefficient.\n",
        "                                         1.it becomes very slow on Big Data.\n",
        "                                         2.hardware\n",
        "basically we dont have any problem with batch gradient descent but we have problem with its implementation.\n",
        "so, we perform Stochastic Gradient Descent.\n",
        "'''"
      ],
      "metadata": {
        "id": "rZRx2q3YZMm1",
        "colab": {
          "base_uri": "https://localhost:8080/",
          "height": 70
        },
        "outputId": "a78ed963-88dd-45a2-e0eb-d70716f370f9"
      },
      "execution_count": 252,
      "outputs": [
        {
          "output_type": "execute_result",
          "data": {
            "text/plain": [
              "'\\nthe problem with batch gradient descent: it was that we had to calculate the derivate of loss function at every coefficient.\\n                                         1.it becomes very slow on Big Data.\\n                                         2.hardware\\nbasically we dont have any problem with batch gradient descent but we have problem with its implementation.\\nso, we perform Stochastic Gradient Descent.\\n'"
            ],
            "application/vnd.google.colaboratory.intrinsic+json": {
              "type": "string"
            }
          },
          "metadata": {},
          "execution_count": 252
        }
      ]
    },
    {
      "cell_type": "code",
      "source": [
        "'''\n",
        "Stochastic Gradient Descent: here, we update the coefficient after seeing a single row and we keep doing it n times for n rows.\n",
        "                             1. So in this, in a single epoch we do n updates which makes it very fast compared to batch gradient descent\n",
        "                                compared to  batch gradient descent where we could do only a single update in 1 epoch.\n",
        "                             2. the hardware requirement also doesnt fails here because even if we have very big data the updates will be done in a single \n",
        "                                epoch.\n",
        "\n",
        "in this, we pick one row at once to update but that doesnt go sequence wise, the rows are picked randomly.\n",
        "\n",
        "--> A disadvantage of Stochastic Gradient Descent is that it does not give steady solutions which means even if you use the same data again and again you \n",
        "would get different solutions due to the random picking of rows.\n",
        "\n",
        "those random updates would bring you close to the data but that does not mean they will give you the most accurate answers, you would get answers close to \n",
        "the actual answer but that would also vary.\n",
        "\n",
        "'''\n",
        "\n",
        "\n",
        "'''\n",
        "when to use Stochastic Gradient Descent:\n",
        "1. if you have got big data\n",
        "2. when you have a non-convex function because it escapes from the local minima and reaches the global minima which the Batch Gradient Descent is unable to do\n",
        "\n",
        "'''"
      ],
      "metadata": {
        "id": "wCAV1IxqZMqh"
      },
      "execution_count": null,
      "outputs": []
    },
    {
      "cell_type": "code",
      "source": [
        "#using the same dataset\n",
        "from sklearn.datasets import load_diabetes\n",
        "import numpy as np\n",
        "from sklearn.linear_model import LinearRegression\n",
        "from sklearn.metrics import r2_score\n",
        "from sklearn.model_selection import train_test_split"
      ],
      "metadata": {
        "id": "SksfidFteZ3J"
      },
      "execution_count": 254,
      "outputs": []
    },
    {
      "cell_type": "code",
      "source": [
        "X,y = load_diabetes(return_X_y=True)"
      ],
      "metadata": {
        "id": "8lTis0L8eZ6z"
      },
      "execution_count": 255,
      "outputs": []
    },
    {
      "cell_type": "code",
      "source": [
        "print(X.shape)\n",
        "print(y.shape)"
      ],
      "metadata": {
        "colab": {
          "base_uri": "https://localhost:8080/"
        },
        "id": "w4ogrhspeZ_7",
        "outputId": "ffd2e4c1-9c4a-47fc-cd6d-09db9b64ec7f"
      },
      "execution_count": 257,
      "outputs": [
        {
          "output_type": "stream",
          "name": "stdout",
          "text": [
            "(442, 10)\n",
            "(442,)\n"
          ]
        }
      ]
    },
    {
      "cell_type": "code",
      "source": [
        "X_train, X_test, y_train, y_test = train_test_split(X,y, test_size=0.2, random_state=2)"
      ],
      "metadata": {
        "id": "7mZwvP94ewmp"
      },
      "execution_count": 258,
      "outputs": []
    },
    {
      "cell_type": "code",
      "source": [
        "reg= LinearRegression()\n",
        "reg.fit(X_train,y_train)"
      ],
      "metadata": {
        "colab": {
          "base_uri": "https://localhost:8080/"
        },
        "id": "H2CcQ_BzeyLL",
        "outputId": "15647e66-cefd-4a6d-dd97-1c4202630ff1"
      },
      "execution_count": 259,
      "outputs": [
        {
          "output_type": "execute_result",
          "data": {
            "text/plain": [
              "LinearRegression()"
            ]
          },
          "metadata": {},
          "execution_count": 259
        }
      ]
    },
    {
      "cell_type": "code",
      "source": [
        "print(reg.coef_)\n",
        "print(reg.intercept_)"
      ],
      "metadata": {
        "colab": {
          "base_uri": "https://localhost:8080/"
        },
        "id": "6Md78IkreyO3",
        "outputId": "5b5d406d-c8a8-412c-cf49-ccda215b0827"
      },
      "execution_count": 260,
      "outputs": [
        {
          "output_type": "stream",
          "name": "stdout",
          "text": [
            "[  -9.16088483 -205.46225988  516.68462383  340.62734108 -895.54360867\n",
            "  561.21453306  153.88478595  126.73431596  861.12139955   52.41982836]\n",
            "151.88334520854633\n"
          ]
        }
      ]
    },
    {
      "cell_type": "code",
      "source": [
        "y_pred= reg.predict(X_test)\n",
        "r2_score(y_test,y_pred)"
      ],
      "metadata": {
        "colab": {
          "base_uri": "https://localhost:8080/"
        },
        "id": "o0oteH7aeyT_",
        "outputId": "25ebd0ad-905d-4d41-8729-43629cbd6ffa"
      },
      "execution_count": 261,
      "outputs": [
        {
          "output_type": "execute_result",
          "data": {
            "text/plain": [
              "0.4399387660024645"
            ]
          },
          "metadata": {},
          "execution_count": 261
        }
      ]
    },
    {
      "cell_type": "code",
      "source": [
        "X_train.shape"
      ],
      "metadata": {
        "colab": {
          "base_uri": "https://localhost:8080/"
        },
        "id": "HyZOvE75eyYU",
        "outputId": "b6ac98c7-d08d-4e86-acba-16b738daf6d5"
      },
      "execution_count": 262,
      "outputs": [
        {
          "output_type": "execute_result",
          "data": {
            "text/plain": [
              "(353, 10)"
            ]
          },
          "metadata": {},
          "execution_count": 262
        }
      ]
    },
    {
      "cell_type": "code",
      "source": [
        "#making a class for STOCHASTIC GRADIENT DESCENT\n",
        "class SGDRegressor:\n",
        "\n",
        "  def __init__(self,learning_rate=0.01,epochs=100):\n",
        "    self.coef_ = None\n",
        "    self.intercept_ = None\n",
        "    self.lr = learning_rate\n",
        "    self.epochs = epochs\n",
        "\n",
        "  def fit(self,X_train,y_train):\n",
        "    self.intercept_ = 0\n",
        "    self.coef_ = np.ones(X_train.shape[1])\n",
        "\n",
        "    for i in range(self.epochs):\n",
        "       for j in range(X_train.shape[0]):\n",
        "         idx = np.random.randint(0,X_train.shape[0]) #generating a random number\n",
        "\n",
        "         y_hat = np.dot(X_train[idx],self.coef_)+self.intercept_\n",
        "\n",
        "         intercept_der= -2*(y_train[idx]-y_hat)\n",
        "         self.intercept_ =self.intercept_ - (self.lr * intercept_der)\n",
        "         coef_der= -2*np.dot((y_train[idx] - y_hat),X_train[idx])\n",
        "         self.coef_ = self.coef_ -(self.lr*coef_der)\n",
        "    \n",
        "    \n",
        "    print(self.intercept_,self.coef_)\n",
        "\n",
        "  def predict(self,X_test):\n",
        "    return np.dot(X_test,self.coef_) + self.intercept_"
      ],
      "metadata": {
        "id": "dPa96UOSfaD5"
      },
      "execution_count": 263,
      "outputs": []
    },
    {
      "cell_type": "code",
      "source": [
        "np.random.randint(0,X_train.shape[0])  #X_train.shape = (353, 10) so this random number will be between 0 and 353"
      ],
      "metadata": {
        "colab": {
          "base_uri": "https://localhost:8080/"
        },
        "id": "V9GmNhAFfaHH",
        "outputId": "0dd21167-291c-426e-9e34-1b296f7b499d"
      },
      "execution_count": 264,
      "outputs": [
        {
          "output_type": "execute_result",
          "data": {
            "text/plain": [
              "342"
            ]
          },
          "metadata": {},
          "execution_count": 264
        }
      ]
    },
    {
      "cell_type": "code",
      "source": [
        "sgd = SGDRegressor(learning_rate=0.01,epochs=50)\n",
        "sgd.fit(X_train,y_train)"
      ],
      "metadata": {
        "colab": {
          "base_uri": "https://localhost:8080/"
        },
        "id": "cx-bvRrFiO4O",
        "outputId": "68295141-2f7e-4c16-8fea-4e748fba0444"
      },
      "execution_count": 265,
      "outputs": [
        {
          "output_type": "stream",
          "name": "stdout",
          "text": [
            "156.08476294772822 [  55.05576603  -68.5283994   355.50445193  244.1912929    16.70865028\n",
            "  -29.99892568 -179.89828546  133.69555605  325.69351886  127.80850556]\n"
          ]
        }
      ]
    },
    {
      "cell_type": "code",
      "source": [
        "y_pred= sgd.predict(X_test)"
      ],
      "metadata": {
        "id": "V0OVqtyEj5-k"
      },
      "execution_count": 266,
      "outputs": []
    },
    {
      "cell_type": "code",
      "source": [
        "r2_score(y_test,y_pred)"
      ],
      "metadata": {
        "colab": {
          "base_uri": "https://localhost:8080/"
        },
        "id": "_bBUAz2kkTDi",
        "outputId": "788c07d1-ed19-4109-a8d5-489ae33c5053"
      },
      "execution_count": 267,
      "outputs": [
        {
          "output_type": "execute_result",
          "data": {
            "text/plain": [
              "0.43252099325671955"
            ]
          },
          "metadata": {},
          "execution_count": 267
        }
      ]
    },
    {
      "cell_type": "code",
      "source": [
        "#comparing the running time of batch gradient descent versus stochastic gradient descent\n",
        "import time"
      ],
      "metadata": {
        "id": "i40acP7tkZjv"
      },
      "execution_count": 268,
      "outputs": []
    },
    {
      "cell_type": "code",
      "source": [
        "#batch gradient descent\n",
        "start = time.time()\n",
        "gdr.fit(X_train,y_train)\n",
        "print('time taken is : ',time.time() - start)"
      ],
      "metadata": {
        "colab": {
          "base_uri": "https://localhost:8080/"
        },
        "id": "F9uT-_K8lSBp",
        "outputId": "2df5011f-d5ca-4ac6-dff2-30e39db4e71a"
      },
      "execution_count": 269,
      "outputs": [
        {
          "output_type": "stream",
          "name": "stdout",
          "text": [
            "151.94043481425678 [  62.27814169  -24.14066729  262.40222053  192.20902828   39.48791536\n",
            "   10.26869856 -142.5060393   124.33305283  244.33532841  119.34321317]\n",
            "time taken is :  0.0405123233795166\n"
          ]
        }
      ]
    },
    {
      "cell_type": "code",
      "source": [
        "#stochastic gradient descent\n",
        "start = time.time()\n",
        "sgd.fit(X_train,y_train)\n",
        "print('time taken is : ',time.time() - start)"
      ],
      "metadata": {
        "colab": {
          "base_uri": "https://localhost:8080/"
        },
        "id": "zznpLMgRlvv_",
        "outputId": "17c022e3-75e9-43e3-ce78-65b1a8786c7d"
      },
      "execution_count": 270,
      "outputs": [
        {
          "output_type": "stream",
          "name": "stdout",
          "text": [
            "143.57094503262095 [  60.54840714  -65.32730729  355.68591948  250.8414434    14.44990994\n",
            "  -28.21177498 -178.9522026   135.9256269   319.40945389  128.60092872]\n",
            "time taken is :  0.23534154891967773\n"
          ]
        }
      ]
    },
    {
      "cell_type": "code",
      "source": [
        "#here faster was batch gradient descent over stochastic because it has fixed number of epochs on a smaller data but if it was big data \n",
        "#definately stochastic gradient descent will be faster."
      ],
      "metadata": {
        "id": "ZNJG8hyrmPng"
      },
      "execution_count": 271,
      "outputs": []
    },
    {
      "cell_type": "markdown",
      "source": [
        "Mini Batch Gradient Descent"
      ],
      "metadata": {
        "id": "3JhJXuUbpYlE"
      }
    },
    {
      "cell_type": "code",
      "source": [
        "'''\n",
        "Mini Batch Gradient Descent: it is in between stochastic and batch Gradient Descent.\n",
        "supose you had 1000 rows and we created 10 batches of 100 rows each, so in every epoch we will update 10 times because we had 10 batches i.e 10 \n",
        "batches update per epoch.\n",
        "\n",
        "when we say Mini Batch Gradient Descent is in between stochastic and batch Gradient Descent, we mean that if we had n rows and we set a batch size as n then \n",
        "we will have only 1 update or 1 epoch, this is exactly what happens in Batch Gradient Descent.\n",
        "but if we had n rows and we set the batch size to 1 then we will have n batches and we will do n updates per epoch and this is an example of  stochastic \n",
        "Gradient Descent. so mini batch Gradient Descent has the properties of both.\n",
        "\n",
        "--> we use mini batch Gradient Descent to reduce the randomness of stochastic Gradient Descent.\n",
        "'''\n"
      ],
      "metadata": {
        "id": "YD6D6s9Fm5CU"
      },
      "execution_count": null,
      "outputs": []
    },
    {
      "cell_type": "code",
      "source": [
        "#using the same code again\n",
        "from sklearn.datasets import load_diabetes\n",
        "import numpy as np\n",
        "from sklearn.linear_model import LinearRegression\n",
        "from sklearn.metrics import r2_score\n",
        "from sklearn.model_selection import train_test_split"
      ],
      "metadata": {
        "id": "ptY04JGApWhD"
      },
      "execution_count": 273,
      "outputs": []
    },
    {
      "cell_type": "code",
      "source": [
        "X,y = load_diabetes(return_X_y = True)"
      ],
      "metadata": {
        "id": "o3Lbx1WlpWpf"
      },
      "execution_count": 274,
      "outputs": []
    },
    {
      "cell_type": "code",
      "source": [
        "print(X.shape)\n",
        "print(y.shape)"
      ],
      "metadata": {
        "colab": {
          "base_uri": "https://localhost:8080/"
        },
        "id": "JOAnS2JYpWs3",
        "outputId": "1e52eff1-75f6-47c7-d53a-6cefaa7edef3"
      },
      "execution_count": 275,
      "outputs": [
        {
          "output_type": "stream",
          "name": "stdout",
          "text": [
            "(442, 10)\n",
            "(442,)\n"
          ]
        }
      ]
    },
    {
      "cell_type": "code",
      "source": [
        "X_train, X_test, y_train, y_test= train_test_split(X,y, test_size=0.2, random_state=2)"
      ],
      "metadata": {
        "id": "bwdXM_V5pWz_"
      },
      "execution_count": 276,
      "outputs": []
    },
    {
      "cell_type": "code",
      "source": [
        "reg = LinearRegression()\n",
        "reg.fit(X_train,y_train)"
      ],
      "metadata": {
        "colab": {
          "base_uri": "https://localhost:8080/"
        },
        "id": "DRggkqG1qJUs",
        "outputId": "ef9d3e65-d53e-4d31-ad71-415e0e3db821"
      },
      "execution_count": 277,
      "outputs": [
        {
          "output_type": "execute_result",
          "data": {
            "text/plain": [
              "LinearRegression()"
            ]
          },
          "metadata": {},
          "execution_count": 277
        }
      ]
    },
    {
      "cell_type": "code",
      "source": [
        "print(reg.coef_)\n",
        "print(reg.intercept_)"
      ],
      "metadata": {
        "colab": {
          "base_uri": "https://localhost:8080/"
        },
        "id": "dVBuxeOHqJY7",
        "outputId": "62f31189-3379-45a9-b9e5-296787fe3ed5"
      },
      "execution_count": 278,
      "outputs": [
        {
          "output_type": "stream",
          "name": "stdout",
          "text": [
            "[  -9.16088483 -205.46225988  516.68462383  340.62734108 -895.54360867\n",
            "  561.21453306  153.88478595  126.73431596  861.12139955   52.41982836]\n",
            "151.88334520854633\n"
          ]
        }
      ]
    },
    {
      "cell_type": "code",
      "source": [
        "y_pred= reg.predict(X_test)\n",
        "r2_score(y_test,y_pred)"
      ],
      "metadata": {
        "colab": {
          "base_uri": "https://localhost:8080/"
        },
        "id": "-qNgWHg7qjOm",
        "outputId": "a691e919-bd3f-4775-9027-68fcb1da652a"
      },
      "execution_count": 279,
      "outputs": [
        {
          "output_type": "execute_result",
          "data": {
            "text/plain": [
              "0.4399387660024645"
            ]
          },
          "metadata": {},
          "execution_count": 279
        }
      ]
    },
    {
      "cell_type": "code",
      "source": [
        "#making our own class for Mini Batch GRADIENT DESCENT\n",
        "import random\n",
        "class MBGDRegressor:\n",
        "\n",
        "  def __init__(self,batch_size,learning_rate=0.01,epochs=100):\n",
        "    self.coef_ = None\n",
        "    self.intercept_ = None\n",
        "    self.lr = learning_rate\n",
        "    self.epochs = epochs\n",
        "    self.batch_size= batch_size\n",
        "\n",
        "  def fit(self,X_train,y_train):\n",
        "    self.intercept_ = 0\n",
        "    self.coef_ = np.ones(X_train.shape[1])\n",
        "\n",
        "    for i in range(self.epochs):\n",
        "\n",
        "       for j in range(int(X_train.shape[0]/self.batch_size)):\n",
        "         idx = random.sample(range(X_train.shape[0]),self.batch_size) #generating a list of random numbers\n",
        "\n",
        "         y_hat = np.dot(X_train[idx],self.coef_)+ self.intercept_\n",
        "\n",
        "         intercept_der= -2*np.mean(y_train[idx] - y_hat)\n",
        "         self.intercept_ =self.intercept_ - (self.lr * intercept_der)\n",
        "\n",
        "         coef_der= -2*np.dot((y_train[idx] - y_hat),X_train[idx])\n",
        "         self.coef_ = self.coef_ -(self.lr*coef_der)\n",
        "    \n",
        "    \n",
        "    print(self.intercept_,self.coef_)\n",
        "\n",
        "  def predict(self,X_test):\n",
        "    return np.dot(X_test,self.coef_) + self.intercept_"
      ],
      "metadata": {
        "id": "FiZ3I4DhqjUY"
      },
      "execution_count": 280,
      "outputs": []
    },
    {
      "cell_type": "code",
      "source": [
        "mbr= MBGDRegressor(batch_size=int(X_train.shape[0]/10),learning_rate=0.1,epochs=50)\n",
        "mbr.fit(X_train,y_train)"
      ],
      "metadata": {
        "colab": {
          "base_uri": "https://localhost:8080/"
        },
        "id": "T2horlQWqjY6",
        "outputId": "22ec9225-038f-4f08-edaf-92265e4f0c7d"
      },
      "execution_count": 281,
      "outputs": [
        {
          "output_type": "stream",
          "name": "stdout",
          "text": [
            "151.92656854896964 [  -5.72924058 -221.80158863  521.78044154  336.03297483  -99.88956334\n",
            " -124.75352879 -187.2143885    99.58156008  538.03686335   61.89898419]\n"
          ]
        }
      ]
    },
    {
      "cell_type": "code",
      "source": [
        "y_pred=mbr.predict(X_test)"
      ],
      "metadata": {
        "id": "T8KBdyzMvOBH"
      },
      "execution_count": 282,
      "outputs": []
    },
    {
      "cell_type": "code",
      "source": [
        "r2_score(y_test,y_pred)"
      ],
      "metadata": {
        "colab": {
          "base_uri": "https://localhost:8080/"
        },
        "id": "apADIH12wEVL",
        "outputId": "4e4c3de4-03e0-4333-e6ff-de6ef04c089c"
      },
      "execution_count": 283,
      "outputs": [
        {
          "output_type": "execute_result",
          "data": {
            "text/plain": [
              "0.44759191308879165"
            ]
          },
          "metadata": {},
          "execution_count": 283
        }
      ]
    },
    {
      "cell_type": "code",
      "source": [],
      "metadata": {
        "id": "ovO_75qBwHqS"
      },
      "execution_count": null,
      "outputs": []
    }
  ]
}