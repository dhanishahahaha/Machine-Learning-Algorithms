{
  "nbformat": 4,
  "nbformat_minor": 0,
  "metadata": {
    "colab": {
      "provenance": []
    },
    "kernelspec": {
      "name": "python3",
      "display_name": "Python 3"
    },
    "language_info": {
      "name": "python"
    }
  },
  "cells": [
    {
      "cell_type": "markdown",
      "source": [
        "# **Regularised Linear Regression**"
      ],
      "metadata": {
        "id": "dZGGtTjYMZxr"
      }
    },
    {
      "cell_type": "markdown",
      "source": [
        "## What is Regularization?\n",
        "\n",
        " Regularization refers to techniques in which we can induce some information to our models in order to minimize the adjusted loss function and prevent overfitting.\n",
        "\n",
        " simply the word regularization also says to regulise something which is exceeding and bring back to its normal state.\n",
        "\n"
      ],
      "metadata": {
        "id": "2k7JnCKXO-qr"
      }
    },
    {
      "cell_type": "markdown",
      "source": [
        "## Types of Regularization: \n",
        " 1. Ridge Regression (L2 Regularization)\n",
        " 2. Lasso Regression (L1 Regularization) \n",
        " 3. Elastic Net (combination of L1 and L2)"
      ],
      "metadata": {
        "id": "fuwfEWPoQ6lO"
      }
    },
    {
      "cell_type": "markdown",
      "source": [
        "##  **1 Ridge Regression (L2 Regularization)**\n",
        "\n",
        "Whenever a model is The whole idea of Linear Regression is to find a best fit line i.e Y=mx + c and we find the value of m and c.\n",
        "\n",
        "\n",
        "Mathematically, if we want to reduce overfitting, then slope m should be decreased.\n",
        "\n",
        "if we have two datasets, training and testing (80:20) and our best fit line 1(Ln) focused on the training data and overfitting took place but if we had a best fit line 2 (Lr) that focused more on the test data then it could have better predictions.\n",
        "\n",
        "Then our aim is to make our model convince to choose best fit line 2 (Lr) instead of best fit line 1 (Ln). How would we do this? Simple....with the help of   **Ridge Regression or L2 Regularization.**"
      ],
      "metadata": {
        "id": "plxPQohHR0zy"
      }
    },
    {
      "cell_type": "markdown",
      "source": [
        "We know the LOSS FUNCTION for Linear Regression is:\n",
        "\n",
        "![image.png](data:image/png;base64,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)\n",
        "\n",
        "and since we already know that 'Regularization refers to a technique in which we can add some information in order to minimize the adjusted loss function and prevent overfitting.'\n",
        "\n",
        "so the extra thing/info we are adding to regularize the loss function is  λ(β^2)\n",
        "\n",
        "then the formula for LOSS FUNCTION becomes:\n",
        "\n",
        "![image.png](data:image/png;base64,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)"
      ],
      "metadata": {
        "id": "MJM3n8uZUBXI"
      }
    },
    {
      "cell_type": "markdown",
      "source": [
        "The comparision that the model makes between the loss of the two lines and then it has no choice but to choose Lr as the best fit line.\n",
        "\n",
        "Even though this line makes error in the training data but still the model will choose it as the best fit line due to the extra info that we added to it i.e λ(β^2)  also known as SHRINKAGE COEFFICIENT."
      ],
      "metadata": {
        "id": "XRz4FMnVfALE"
      }
    },
    {
      "cell_type": "markdown",
      "source": [
        "The whole idea was that although the Bias increased a little but the Variance decreased significantly and this is where we see Regularisation happening."
      ],
      "metadata": {
        "id": "HePkJY07g_RZ"
      }
    },
    {
      "cell_type": "markdown",
      "source": [
        "**Why is Ridge Regression called L2 Regularization?**\n",
        "\n",
        "here if we had 3 input columns we will add ,  λ(β1^2 + β2^2 + β3^2). Since we are always using squares to multiply (β1^2 , β2^2 , β3^2) it is called L2 Regularization."
      ],
      "metadata": {
        "id": "NGftOBxQhYgu"
      }
    },
    {
      "cell_type": "markdown",
      "source": [
        "**Inference:** \n",
        "\n",
        "In ridge regression we are addind a certain value to the loss function to decrease the slope of the best fit line which increases the bias but decreases the variance and gives good results with the test data and reduces the overfitting."
      ],
      "metadata": {
        "id": "7jVTA0CuiVza"
      }
    },
    {
      "cell_type": "markdown",
      "source": [
        "# Comparision between Ridge Regression and Linear Regression"
      ],
      "metadata": {
        "id": "W7Td7BWRoSkX"
      }
    },
    {
      "cell_type": "markdown",
      "source": [
        "## Code: Linear Regression"
      ],
      "metadata": {
        "id": "-ma2qtugjd7Q"
      }
    },
    {
      "cell_type": "code",
      "source": [
        "# importing libraries\n",
        "import numpy as np\n",
        "import pandas as pd\n",
        "import matplotlib.pyplot as plt\n",
        "\n",
        "# using a inbuilt dataset\n",
        "from sklearn.datasets import load_diabetes\n",
        "\n",
        "from sklearn.model_selection import train_test_split\n",
        "\n",
        "from sklearn.linear_model import LinearRegression\n",
        "\n",
        "from sklearn.metrics import accuracy_score, r2_score , mean_squared_error"
      ],
      "metadata": {
        "id": "b6XE263rMXmy"
      },
      "execution_count": 33,
      "outputs": []
    },
    {
      "cell_type": "code",
      "source": [
        "data = load_diabetes()\n",
        "\n",
        "#looking at the dataset\n",
        "print(data.DESCR)"
      ],
      "metadata": {
        "id": "odtreyDqIkkY",
        "colab": {
          "base_uri": "https://localhost:8080/"
        },
        "outputId": "fa1f70d6-86a2-4caa-b3ea-c851460b5732"
      },
      "execution_count": 34,
      "outputs": [
        {
          "output_type": "stream",
          "name": "stdout",
          "text": [
            ".. _diabetes_dataset:\n",
            "\n",
            "Diabetes dataset\n",
            "----------------\n",
            "\n",
            "Ten baseline variables, age, sex, body mass index, average blood\n",
            "pressure, and six blood serum measurements were obtained for each of n =\n",
            "442 diabetes patients, as well as the response of interest, a\n",
            "quantitative measure of disease progression one year after baseline.\n",
            "\n",
            "**Data Set Characteristics:**\n",
            "\n",
            "  :Number of Instances: 442\n",
            "\n",
            "  :Number of Attributes: First 10 columns are numeric predictive values\n",
            "\n",
            "  :Target: Column 11 is a quantitative measure of disease progression one year after baseline\n",
            "\n",
            "  :Attribute Information:\n",
            "      - age     age in years\n",
            "      - sex\n",
            "      - bmi     body mass index\n",
            "      - bp      average blood pressure\n",
            "      - s1      tc, total serum cholesterol\n",
            "      - s2      ldl, low-density lipoproteins\n",
            "      - s3      hdl, high-density lipoproteins\n",
            "      - s4      tch, total cholesterol / HDL\n",
            "      - s5      ltg, possibly log of serum triglycerides level\n",
            "      - s6      glu, blood sugar level\n",
            "\n",
            "Note: Each of these 10 feature variables have been mean centered and scaled by the standard deviation times `n_samples` (i.e. the sum of squares of each column totals 1).\n",
            "\n",
            "Source URL:\n",
            "https://www4.stat.ncsu.edu/~boos/var.select/diabetes.html\n",
            "\n",
            "For more information see:\n",
            "Bradley Efron, Trevor Hastie, Iain Johnstone and Robert Tibshirani (2004) \"Least Angle Regression,\" Annals of Statistics (with discussion), 407-499.\n",
            "(https://web.stanford.edu/~hastie/Papers/LARS/LeastAngle_2002.pdf)\n"
          ]
        }
      ]
    },
    {
      "cell_type": "code",
      "source": [
        "x = data.data\n",
        "y = data.target"
      ],
      "metadata": {
        "id": "AJfErLFyMXqf"
      },
      "execution_count": 35,
      "outputs": []
    },
    {
      "cell_type": "code",
      "source": [
        "x_train, x_test, y_train, y_test = train_test_split(x,y, test_size=0.2, random_state=2)"
      ],
      "metadata": {
        "id": "uzGdZCsJMXtK"
      },
      "execution_count": 36,
      "outputs": []
    },
    {
      "cell_type": "code",
      "source": [
        "model = LinearRegression()\n",
        "model.fit(x_train , y_train)"
      ],
      "metadata": {
        "colab": {
          "base_uri": "https://localhost:8080/"
        },
        "id": "cW_Kjpj-MXvv",
        "outputId": "e948de6d-f94f-460b-ecb1-10df30aafa29"
      },
      "execution_count": 37,
      "outputs": [
        {
          "output_type": "execute_result",
          "data": {
            "text/plain": [
              "LinearRegression()"
            ]
          },
          "metadata": {},
          "execution_count": 37
        }
      ]
    },
    {
      "cell_type": "code",
      "source": [
        "prediction = model.predict(x_test)"
      ],
      "metadata": {
        "id": "_3PYv5mRMX0Z"
      },
      "execution_count": 38,
      "outputs": []
    },
    {
      "cell_type": "code",
      "source": [
        "print('R2 score: ',r2_score(y_test,prediction))\n",
        "print('RMSE: ',np.sqrt(mean_squared_error(y_test,prediction)))"
      ],
      "metadata": {
        "colab": {
          "base_uri": "https://localhost:8080/"
        },
        "id": "CavmpjbWMX1t",
        "outputId": "db249802-722e-49ea-f1ca-5590ca64cd4d"
      },
      "execution_count": 39,
      "outputs": [
        {
          "output_type": "stream",
          "name": "stdout",
          "text": [
            "R2 score:  0.4399387660024645\n",
            "RMSE:  55.62759745954073\n"
          ]
        }
      ]
    },
    {
      "cell_type": "markdown",
      "source": [
        "## Code: Ridge Regression\n",
        "\n",
        "doing the same thing using  Ridge Regression to compare the results!"
      ],
      "metadata": {
        "id": "0tnxGj14mNyJ"
      }
    },
    {
      "cell_type": "code",
      "source": [
        "from sklearn.linear_model import Ridge"
      ],
      "metadata": {
        "id": "yOzxhmYvMX3S"
      },
      "execution_count": 40,
      "outputs": []
    },
    {
      "cell_type": "code",
      "source": [
        "Ridge_Regression = Ridge(alpha=0.0001)   #lambda in our formula"
      ],
      "metadata": {
        "id": "Bg901tEtMX5e"
      },
      "execution_count": 41,
      "outputs": []
    },
    {
      "cell_type": "code",
      "source": [
        "Ridge_Regression.fit(x_train,y_train)"
      ],
      "metadata": {
        "colab": {
          "base_uri": "https://localhost:8080/"
        },
        "id": "hA_9jUETm0JS",
        "outputId": "c6eeac1f-52a8-48de-a719-a2dfb5baf8b8"
      },
      "execution_count": 42,
      "outputs": [
        {
          "output_type": "execute_result",
          "data": {
            "text/plain": [
              "Ridge(alpha=0.0001)"
            ]
          },
          "metadata": {},
          "execution_count": 42
        }
      ]
    },
    {
      "cell_type": "code",
      "source": [
        "prediction2 = Ridge_Regression.predict(x_test)"
      ],
      "metadata": {
        "id": "Q6UaRqOgm0Mb"
      },
      "execution_count": 43,
      "outputs": []
    },
    {
      "cell_type": "code",
      "source": [
        "print('R2 score: ',r2_score(y_test,prediction2))\n",
        "print('RMSE: ',np.sqrt(mean_squared_error(y_test,prediction2)))"
      ],
      "metadata": {
        "colab": {
          "base_uri": "https://localhost:8080/"
        },
        "id": "AnQNbuB5m0Qj",
        "outputId": "009edd63-b547-4145-d377-0059c54cd925"
      },
      "execution_count": 44,
      "outputs": [
        {
          "output_type": "stream",
          "name": "stdout",
          "text": [
            "R2 score:  0.4400478299174273\n",
            "RMSE:  55.622180856334715\n"
          ]
        }
      ]
    },
    {
      "cell_type": "markdown",
      "source": [
        "The Ridge Regression is performing slightly better as compared to LinearRegression."
      ],
      "metadata": {
        "id": "KETIiVkpndFy"
      }
    },
    {
      "cell_type": "markdown",
      "source": [
        "## Choosing a Best Fit Line for a data using Ridge Regression "
      ],
      "metadata": {
        "id": "RHTUMRctomMl"
      }
    },
    {
      "cell_type": "code",
      "source": [
        "from sklearn.datasets import make_regression \n",
        "from sklearn.linear_model import LinearRegression\n",
        "from sklearn.linear_model import Ridge "
      ],
      "metadata": {
        "id": "yyfAz2LgnQyD"
      },
      "execution_count": 45,
      "outputs": []
    },
    {
      "cell_type": "code",
      "source": [
        "x,y = make_regression(n_samples = 100, n_features = 1, n_informative = 1, n_targets = 1, noise = 20, random_state = 13)"
      ],
      "metadata": {
        "id": "ralb4c6npNFz"
      },
      "execution_count": 46,
      "outputs": []
    },
    {
      "cell_type": "code",
      "source": [
        "plt.scatter(x,y)"
      ],
      "metadata": {
        "colab": {
          "base_uri": "https://localhost:8080/",
          "height": 282
        },
        "id": "pKCwRJqQpNI7",
        "outputId": "c2ba8604-b290-4f68-a2a8-af1c67aba39d"
      },
      "execution_count": 47,
      "outputs": [
        {
          "output_type": "execute_result",
          "data": {
            "text/plain": [
              "<matplotlib.collections.PathCollection at 0x7fc8d2141fa0>"
            ]
          },
          "metadata": {},
          "execution_count": 47
        },
        {
          "output_type": "display_data",
          "data": {
            "text/plain": [
              "<Figure size 432x288 with 1 Axes>"
            ],
            "image/png": "[encoded data removed]"
          },
          "metadata": {
            "needs_background": "light"
          }
        }
      ]
    },
    {
      "cell_type": "code",
      "source": [
        "lr = LinearRegression()\n",
        "lr.fit(x,y)\n",
        "print(lr.coef_)\n",
        "print(lr.intercept_)"
      ],
      "metadata": {
        "colab": {
          "base_uri": "https://localhost:8080/"
        },
        "id": "v4Wxc6LRpNNC",
        "outputId": "b84cee56-c25e-4ac3-8ca5-66c6baaf523b"
      },
      "execution_count": 48,
      "outputs": [
        {
          "output_type": "stream",
          "name": "stdout",
          "text": [
            "[27.82809103]\n",
            "-2.29474455867698\n"
          ]
        }
      ]
    },
    {
      "cell_type": "code",
      "source": [
        "#putting alpha as 10\n",
        "rr = Ridge(alpha=10)\n",
        "rr.fit(x,y)\n",
        "print(rr.coef_)\n",
        "print(rr.intercept_)"
      ],
      "metadata": {
        "colab": {
          "base_uri": "https://localhost:8080/"
        },
        "id": "-N8N2Jbcpm2w",
        "outputId": "b73223f6-794b-4e3d-b673-23d8c5fdc375"
      },
      "execution_count": 49,
      "outputs": [
        {
          "output_type": "stream",
          "name": "stdout",
          "text": [
            "[24.9546267]\n",
            "-2.1269130035235735\n"
          ]
        }
      ]
    },
    {
      "cell_type": "markdown",
      "source": [
        "We can see the value of slope has decrased from [27.82809103] to [24.9546267]"
      ],
      "metadata": {
        "id": "2kDgne3arcC-"
      }
    },
    {
      "cell_type": "code",
      "source": [
        "#puttng alpha as 100\n",
        "rr1 = Ridge(alpha=100)\n",
        "rr1.fit(x,y)\n",
        "print(rr1.coef_)\n",
        "print(rr1.intercept_)"
      ],
      "metadata": {
        "colab": {
          "base_uri": "https://localhost:8080/"
        },
        "id": "MMPCyU6Zpm5u",
        "outputId": "8b8c0a8a-c1f8-4f68-9b3c-c42996c2ea6f"
      },
      "execution_count": 50,
      "outputs": [
        {
          "output_type": "stream",
          "name": "stdout",
          "text": [
            "[12.93442104]\n",
            "-1.4248441496033308\n"
          ]
        }
      ]
    },
    {
      "cell_type": "markdown",
      "source": [
        "as the value of alpha increased the slope further decreased to [12.93442104]"
      ],
      "metadata": {
        "id": "ceIMbj1Ir-u3"
      }
    },
    {
      "cell_type": "markdown",
      "source": [
        "comparing the three regression lines by plotting them."
      ],
      "metadata": {
        "id": "h1DSBns1r3Ag"
      }
    },
    {
      "cell_type": "code",
      "source": [
        "plt.plot(x,y,'b.')\n",
        "plt.plot(x,lr.predict(x),color= 'red',label = 'alpha=0')\n",
        "plt.plot(x,rr.predict(x),color= 'green',label = 'alpha=10')\n",
        "plt.plot(x,rr1.predict(x),color= 'orange',label = 'alpha=100')\n",
        "plt.legend()"
      ],
      "metadata": {
        "colab": {
          "base_uri": "https://localhost:8080/",
          "height": 282
        },
        "id": "LIgXo0Mnpm-M",
        "outputId": "2018d922-0200-4fcc-96da-8aec4a88d183"
      },
      "execution_count": 51,
      "outputs": [
        {
          "output_type": "execute_result",
          "data": {
            "text/plain": [
              "<matplotlib.legend.Legend at 0x7fc8d22473a0>"
            ]
          },
          "metadata": {},
          "execution_count": 51
        },
        {
          "output_type": "display_data",
          "data": {
            "text/plain": [
              "<Figure size 432x288 with 1 Axes>"
            ],
            "image/png": "[encoded data removed]"
          },
          "metadata": {
            "needs_background": "light"
          }
        }
      ]
    },
    {
      "cell_type": "markdown",
      "source": [
        "**Inference:**\n",
        "\n",
        "the red line is the LinearRegression line with no regularisation.\n",
        "\n",
        "the green line is the RidgeRegression line with alpha=10\n",
        "\n",
        "the orange line is the RidgeRegression line with alpha=100 but it is reaching at the stage of underfitting.\n",
        "\n",
        "\n",
        "we can also say the optimum value of alpha should be between 1 to 10\n"
      ],
      "metadata": {
        "id": "OF-AzXLqnv2c"
      }
    },
    {
      "cell_type": "markdown",
      "source": [
        "##  takeaways from Ridge Regression\n",
        "\n",
        "1 How the coefficients get affected on increasing the value of lambda?\n",
        "\n",
        "\n",
        "--> all the coefficients shrinks and tends towards zero but not zero.\n",
        "\n",
        "2 Higher values are impacted more.\n",
        "\n",
        "3 Bias Variance Tradeoff.\n",
        "\n",
        "--> Bias and Variance both depend on Lambda so if the value of lambda is decreased, the Bias decreases but the Variance increases(overfitting) and if the value of lambda is increased  Bias increases but the Variance decreases(underfitting).\n",
        "\n",
        "4 Impact of regularization on the Loss Function.\n",
        "\n",
        "\n",
        "--> minimizes the loss function.\n",
        "\n"
      ],
      "metadata": {
        "id": "sk2Rwh1Fymxu"
      }
    },
    {
      "cell_type": "markdown",
      "source": [
        "## **2 Lasso Regression (L1 Regularization)** "
      ],
      "metadata": {
        "id": "XNmrQZv_3JQM"
      }
    },
    {
      "cell_type": "markdown",
      "source": [
        "Lasso Regression also helps us reducing overfitting, lets see how..\n",
        "\n",
        "\n",
        "The loss function in L2 regularization was written as\n",
        "\n",
        "![image.png](data:image/png;base64,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)\n",
        "\n",
        "Lasso regression is just one such variation of this loss function."
      ],
      "metadata": {
        "id": "x5Y_MEh3AgCR"
      }
    },
    {
      "cell_type": "markdown",
      "source": [
        "In Lasso Regression, we again have MSE and we again add a term to it i.e λ|β| \n",
        "\n",
        "which is also known as **Penalty**.\n",
        "\n",
        "so the formula becomes:\n",
        "\n",
        "![image.png](data:image/png;base64,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)"
      ],
      "metadata": {
        "id": "7eWYybvVAhqn"
      }
    },
    {
      "cell_type": "markdown",
      "source": [
        "The only difference between Ridge Regression and Lasso Regression is that we use square of the added value in Ridge Regression and we use an absolute value in Lasso Regression."
      ],
      "metadata": {
        "id": "12ex2bHDAhE4"
      }
    },
    {
      "cell_type": "markdown",
      "source": [
        "## Code: Lasso Regression"
      ],
      "metadata": {
        "id": "kRhfd5K5AiQq"
      }
    },
    {
      "cell_type": "code",
      "source": [
        "#importing important Libraries\n",
        "\n",
        "import numpy as np\n",
        "import pandas as pd\n",
        "import matplotlib.pyplot as plt\n",
        "\n",
        "from sklearn.linear_model import Lasso\n",
        "from sklearn.datasets import make_regression\n",
        "from sklearn.model_selection import train_test_split\n",
        "from sklearn.linear_model import LinearRegression"
      ],
      "metadata": {
        "id": "c6z_3S7ottl-"
      },
      "execution_count": 52,
      "outputs": []
    },
    {
      "cell_type": "code",
      "source": [
        "x,y = make_regression(n_samples = 100, n_features = 1,n_informative = 1, n_targets = 1, noise = 20, random_state=13 )\n",
        "\n",
        "x_train, x_test, y_train, y_test = train_test_split(x,y, test_size=0.2 )\n",
        "\n",
        "plt.scatter(x,y)\n",
        "\n",
        "reg = LinearRegression()\n",
        "reg.fit(x_train, y_train)\n",
        "print(reg.coef_)\n",
        "print(reg.intercept_)\n"
      ],
      "metadata": {
        "id": "tXQS15OQyu7u",
        "colab": {
          "base_uri": "https://localhost:8080/",
          "height": 300
        },
        "outputId": "ef0ab5c1-9aac-4d5d-f3a0-94bc0dfedb4f"
      },
      "execution_count": 53,
      "outputs": [
        {
          "output_type": "stream",
          "name": "stdout",
          "text": [
            "[27.26751275]\n",
            "-3.2338937304526896\n"
          ]
        },
        {
          "output_type": "display_data",
          "data": {
            "text/plain": [
              "<Figure size 432x288 with 1 Axes>"
            ],
            "image/png": "[encoded data removed]"
          },
          "metadata": {
            "needs_background": "light"
          }
        }
      ]
    },
    {
      "cell_type": "markdown",
      "source": [
        "If the value of lambda is much increased then the other term ω minimizes and it is a condition of underfitting.\n",
        "\n",
        " On the other hand if the value of lambda is much decreased or zero then the entire penalty term will be removed and it will behave as Linear Regression, case of overfitting. "
      ],
      "metadata": {
        "id": "KsMSTVFDJpbU"
      }
    },
    {
      "cell_type": "code",
      "source": [
        "alphas = [0,1,5,10,30]             #this is lambda in our formula\n",
        "plt.figure(figsize=(12,6))\n",
        "plt.scatter(x,y)\n",
        "for i in alphas:\n",
        "  L = Lasso(alpha = i)\n",
        "  L.fit(x_train , y_train)\n",
        "  plt.plot(x_test,L.predict(x_test),label= 'alpha={}'.format(i))\n",
        "plt.legend()\n",
        "plt.show()"
      ],
      "metadata": {
        "colab": {
          "base_uri": "https://localhost:8080/",
          "height": 498
        },
        "id": "QM2qoKliJFgm",
        "outputId": "bb8f1485-dd4c-4c3f-c34f-203aee5fbc06"
      },
      "execution_count": 54,
      "outputs": [
        {
          "output_type": "stream",
          "name": "stderr",
          "text": [
            "<ipython-input-54-5ee4dc1cfd5b>:6: UserWarning: With alpha=0, this algorithm does not converge well. You are advised to use the LinearRegression estimator\n",
            "  L.fit(x_train , y_train)\n",
            "/usr/local/lib/python3.8/dist-packages/sklearn/linear_model/_coordinate_descent.py:647: UserWarning: Coordinate descent with no regularization may lead to unexpected results and is discouraged.\n",
            "  model = cd_fast.enet_coordinate_descent(\n",
            "/usr/local/lib/python3.8/dist-packages/sklearn/linear_model/_coordinate_descent.py:647: ConvergenceWarning: Objective did not converge. You might want to increase the number of iterations, check the scale of the features or consider increasing regularisation. Duality gap: 1.185e+04, tolerance: 7.676e+00 Linear regression models with null weight for the l1 regularization term are more efficiently fitted using one of the solvers implemented in sklearn.linear_model.Ridge/RidgeCV instead.\n",
            "  model = cd_fast.enet_coordinate_descent(\n"
          ]
        },
        {
          "output_type": "display_data",
          "data": {
            "text/plain": [
              "<Figure size 864x432 with 1 Axes>"
            ],
            "image/png": "[encoded data removed]"
          },
          "metadata": {
            "needs_background": "light"
          }
        }
      ]
    },
    {
      "cell_type": "markdown",
      "source": [
        "**Inference:** We see the green line which refers to alpha = 0, but as the value of alpha(λ) is increased the slope tends to decrease. The slope = 0 for alpha(λ) = 30"
      ],
      "metadata": {
        "id": "Ol0LZ537Ai4x"
      }
    },
    {
      "cell_type": "markdown",
      "source": [
        " \n",
        "\n",
        "* Also note that in Ridge Regression, the coefficient can never be equal to zero, it can be close to zero but this is not the same in case of Lasso Regression,the coefficients can be close and equal to zero\n",
        "\n",
        "This is a huge advantage of Lasso Regression because when we work with high dimensional data, overfitting is very common , so if we apply Ridge Regression all coefficients will exist even after setting the value of lambda is very high.\n",
        "\n",
        "But in the case of Lasso Regression, in a high dimensional data when the value of lambda is very high, the unwanted coefficients turn out to be zero.\n",
        "\n",
        "So, we can also say that Lasso Regression performs **feature selection** and decreases the dimensionality of data.\n",
        "\n",
        "\n"
      ],
      "metadata": {
        "id": "ETAQztOjMAWE"
      }
    },
    {
      "cell_type": "markdown",
      "source": [
        "Therefore, if you are working with a high dimensional data, Lasso Regression can be preferred over Ridge Regression."
      ],
      "metadata": {
        "id": "fmHORkLoNjEr"
      }
    },
    {
      "cell_type": "markdown",
      "source": [
        "## Bias and Variance in Lasso Regression\n",
        "\n",
        "If you increase the value of lambda the Bias increases and the variance decreases, the slope decreases on increasing lambda and so does overfitting.\n",
        "\n",
        "![image.png](data:image/png;base64,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)\n",
        "\n",
        "(complexity is Lambda)"
      ],
      "metadata": {
        "id": "QEkKYySAW4-5"
      }
    },
    {
      "cell_type": "markdown",
      "source": [
        "#Why does Lasso Regression create sparcity?\n",
        "\n",
        "**What is sparcity?**\n",
        "\n",
        "sparcity is The lasso penalty that will force some of the coefficients quickly to turn out zero or simply increasing the value of alpha(λ) due to which some coefficients turn out to be zero. \n",
        "\n",
        "This means that variables are removed from the model, hence is known as sparsity.\n",
        "\n",
        "\n",
        "\n",
        "\n",
        "\n"
      ],
      "metadata": {
        "id": "B57__KmrY5W6"
      }
    },
    {
      "cell_type": "markdown",
      "source": [
        "Lasso regression is nothing but an ordinary least squares problem with a constraint that computes the L1 norm of the model parameters. For this reason, lasso regression adds constraints to the optimization problem which have corners. For a 2D case, the constraint region would look like a diamond. When the optimal values fall on the corners, then the model parameter becomes zero which leads to a sparse solution\n",
        "\n",
        "\n",
        "Or we can say the lambda is in the Numerator in Lasso Regression thus it can make the whole term zero"
      ],
      "metadata": {
        "id": "NyY803QSbTjs"
      }
    },
    {
      "cell_type": "markdown",
      "source": [
        "\n",
        "**Why does this not happen in Ridge Regression?**\n",
        "\n",
        "The lambda is in the denominator in Ridge Regression, thus it is not able to make the entire term zero."
      ],
      "metadata": {
        "id": "6BVjqYNSbYUI"
      }
    },
    {
      "cell_type": "markdown",
      "source": [
        "## **Elastic Net Regression(combination of L1 and L2)**"
      ],
      "metadata": {
        "id": "klTfbnaScYW_"
      }
    },
    {
      "cell_type": "markdown",
      "source": [
        "**Ridge Regression: Loss function + square of penalty term**\n",
        "\n",
        "![image.png](data:image/png;base64,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)\n",
        "\n",
        "\n",
        "**Lasso Regression:  Loss function + absolute value of penalty term**\n",
        "\n",
        "\n",
        "\n",
        "\n",
        "![image.png](data:image/png;base64,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)\n",
        "\n"
      ],
      "metadata": {
        "id": "2Bt0a9Lxcpt8"
      }
    },
    {
      "cell_type": "markdown",
      "source": [
        "## Then the Elastic Net Regression formula becomes: \n",
        "\n",
        "![image.png](data:image/png;base64,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)"
      ],
      "metadata": {
        "id": "VMFlF-zMfSsi"
      }
    },
    {
      "cell_type": "markdown",
      "source": [
        "## When is elastic net regression used?"
      ],
      "metadata": {
        "id": "nUMFwYw8gOG8"
      }
    },
    {
      "cell_type": "markdown",
      "source": [
        "1 whenever we are not able to predict weather to use L1 regularization or L2 regularization then Elastic Net Regression comes into use which is a combination of both L1 and L2.\n",
        "\n",
        "2  On huge datasets.\n",
        "\n",
        "3 whenever the input columns have multi-collinearity. (dependent on each other)\n"
      ],
      "metadata": {
        "id": "RWm2z8zGcqNE"
      }
    },
    {
      "cell_type": "markdown",
      "source": [
        "## Code: elastic net regression"
      ],
      "metadata": {
        "id": "0UFr9UFqgz-t"
      }
    },
    {
      "cell_type": "code",
      "source": [
        "from sklearn.datasets import load_diabetes\n",
        "from sklearn.linear_model import LinearRegression , Ridge , Lasso , ElasticNet\n",
        "from sklearn.model_selection import train_test_split\n",
        "from sklearn.metrics import r2_score"
      ],
      "metadata": {
        "id": "2fxBVOtTTplP"
      },
      "execution_count": 59,
      "outputs": []
    },
    {
      "cell_type": "code",
      "source": [
        "x,y = load_diabetes(return_X_y = True)"
      ],
      "metadata": {
        "id": "61BC5fGxTpoq"
      },
      "execution_count": 61,
      "outputs": []
    },
    {
      "cell_type": "code",
      "source": [
        "x_train, x_test, y_train, y_test = train_test_split(x,y,test_size=0.2,random_state=2)"
      ],
      "metadata": {
        "id": "JyWnLbxKTprw"
      },
      "execution_count": 62,
      "outputs": []
    },
    {
      "cell_type": "code",
      "source": [
        "#Linear Regression\n",
        "reg = LinearRegression()\n",
        "reg.fit(x_train,y_train)\n",
        "y_pred = reg.predict(x_test)\n",
        "r2_score(y_test,y_pred)"
      ],
      "metadata": {
        "colab": {
          "base_uri": "https://localhost:8080/"
        },
        "id": "BDvVr0AlhqP5",
        "outputId": "c563318e-cd82-4485-aa70-8e65cc6100b0"
      },
      "execution_count": 63,
      "outputs": [
        {
          "output_type": "execute_result",
          "data": {
            "text/plain": [
              "0.4399387660024645"
            ]
          },
          "metadata": {},
          "execution_count": 63
        }
      ]
    },
    {
      "cell_type": "code",
      "source": [
        "#Ridge\n",
        "reg = Ridge(alpha=0.1)\n",
        "reg.fit(x_train,y_train)\n",
        "y_pred = reg.predict(x_test)\n",
        "r2_score(y_test,y_pred)"
      ],
      "metadata": {
        "colab": {
          "base_uri": "https://localhost:8080/"
        },
        "id": "i1dfsyBCidJo",
        "outputId": "a5320352-ccbf-4244-81b7-3a5156274822"
      },
      "execution_count": 64,
      "outputs": [
        {
          "output_type": "execute_result",
          "data": {
            "text/plain": [
              "0.4519973816947851"
            ]
          },
          "metadata": {},
          "execution_count": 64
        }
      ]
    },
    {
      "cell_type": "code",
      "source": [
        "#Lasso\n",
        "reg = Lasso(alpha=0.01)\n",
        "reg.fit(x_train,y_train)\n",
        "y_pred = reg.predict(x_test)\n",
        "r2_score(y_test,y_pred)"
      ],
      "metadata": {
        "colab": {
          "base_uri": "https://localhost:8080/"
        },
        "id": "0SdiXMpwivLt",
        "outputId": "015a10a8-0ebd-409d-9152-df2697a3c10e"
      },
      "execution_count": 65,
      "outputs": [
        {
          "output_type": "execute_result",
          "data": {
            "text/plain": [
              "0.4411227990495633"
            ]
          },
          "metadata": {},
          "execution_count": 65
        }
      ]
    },
    {
      "cell_type": "code",
      "source": [
        "#elastic net\n",
        "reg = ElasticNet(alpha=0.005,l1_ratio=0.9)    # l1_ratio=0.9 means more weightage is given to Ridge as compared to Lasso\n",
        "reg.fit(x_train,y_train)\n",
        "y_pred = reg.predict(x_test)\n",
        "r2_score(y_test,y_pred)"
      ],
      "metadata": {
        "colab": {
          "base_uri": "https://localhost:8080/"
        },
        "id": "H1R-jCqci1Uf",
        "outputId": "f253b3fe-b19e-44b8-8c20-3e4010dca516"
      },
      "execution_count": 66,
      "outputs": [
        {
          "output_type": "execute_result",
          "data": {
            "text/plain": [
              "0.4531493801165679"
            ]
          },
          "metadata": {},
          "execution_count": 66
        }
      ]
    },
    {
      "cell_type": "code",
      "source": [],
      "metadata": {
        "id": "k-3kRt3njDF9"
      },
      "execution_count": null,
      "outputs": []
    }
  ]
}