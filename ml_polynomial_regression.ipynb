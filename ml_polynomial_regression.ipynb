{
  "cells": [
    {
      "cell_type": "markdown",
      "metadata": {
        "id": "mzwiZv1w3jq_"
      },
      "source": [
        "# POLYNONIMIAL REGRESSION"
      ]
    },
    {
      "cell_type": "markdown",
      "metadata": {
        "id": "PEslzfuxIpTG"
      },
      "source": [
        "\n",
        "\n",
        "Linear regression is all about a linear data, but what if the data is non linear?\n",
        "\n",
        "We try to put in a best fit line when the data is linear, but if the data is non linear adding a best fit line in any direction won't give correct predictions.\n",
        "This is a drawback of linear regression and we get to study the concept of polynomial regression.\n",
        "\n",
        "\n",
        "\n",
        "---\n",
        "\n",
        "\n",
        "\n",
        "---\n",
        "\n",
        "\n",
        "\n",
        " So, basically polynomial regression is a form of linear regression in which we find the same coefficients as linear regression but at the same time we add polynomial terms to the data.\n",
        "\n"
      ]
    },
    {
      "cell_type": "markdown",
      "metadata": {
        "id": "Eb6j5PxIKBH6"
      },
      "source": [
        "![image.png](data:image/png;base64,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)"
      ]
    },
    {
      "cell_type": "markdown",
      "metadata": {
        "id": "TsIZMOAALPDB"
      },
      "source": [
        "## How does it work?\n",
        "\n",
        "suppose we had input x=35 and output y=100. The degree of the polynomial is 2 so we will have  x^0, x^1, x^2.\n",
        "\n",
        "\n",
        "so now we will have x^0=1 , x^1= 35 , x^2 =1225 , y=100. we can see the shape changed from (1,2) to (1,4) and we calculate this for every row likewise. The new data that will be generated of shape (1,4) we will train it in our model.\n",
        "\n",
        "\n",
        "the polynomial features such as x^2 over here, actually try to extract a polynomial relationship in the data.\n",
        "\n",
        "\n",
        "then the formula for polynomial regression becomes Y= β0 + β1x1 + β2x1^2 for polynomial regression."
      ]
    },
    {
      "cell_type": "markdown",
      "metadata": {
        "id": "fEIwq4bgOucu"
      },
      "source": [
        "**How do you select the degree of the polynomial?**\n",
        "\n",
        "**problem statement:** \n",
        "The degree of a polynomial is a hyperparameter, if we set the degree to low it is a possibility that the graph would underfit on the other hand if we will set it too high, it will try to touch every point of data on the graph and overfitting takes place.\n",
        "\n"
      ]
    },
    {
      "cell_type": "markdown",
      "metadata": {
        "id": "cZG0vwwoRCpU"
      },
      "source": [
        "So to avoid these we need a optimum value to set the degree which lies in between.\n",
        "\n",
        "\n",
        "suppose, we had x1, x2 as input so we get Y=β0 + β1x1 + β2x1^2 + β3x2 + β4x2^2\n",
        "and we keep doing this if we have multiple input values. In all, the degree is decided from the number of input values."
      ]
    },
    {
      "cell_type": "markdown",
      "metadata": {
        "id": "jQPUA_zq30Di"
      },
      "source": [
        "# example code for polynomial regression\n",
        "\n",
        "Importing libraries"
      ]
    },
    {
      "cell_type": "code",
      "execution_count": null,
      "metadata": {
        "colab": {
          "background_save": true
        },
        "id": "8om0BMCFxb7n"
      },
      "outputs": [],
      "source": [
        "import numpy as np\n",
        "import matplotlib.pyplot as plt\n",
        "\n",
        "from sklearn.model_selection import train_test_split\n",
        "\n",
        "from sklearn.linear_model import LinearRegression, SGDRegressor\n",
        "\n",
        "from sklearn.preprocessing import PolynomialFeatures, StandardScaler\n",
        "\n",
        "from sklearn.metrics import r2_score\n",
        "\n",
        "from sklearn.pipeline import Pipeline\n"
      ]
    },
    {
      "cell_type": "markdown",
      "metadata": {
        "id": "wypNaUcsSzDK"
      },
      "source": [
        "Generating a dataset"
      ]
    },
    {
      "cell_type": "code",
      "execution_count": null,
      "metadata": {
        "colab": {
          "background_save": true
        },
        "id": "e9GyQWiT3yf8"
      },
      "outputs": [],
      "source": [
        "x = 6* np.random.rand(200,1) - 3\n",
        "y = 0.8 * x**2 + 0.9 * x + 2 + np.random.randn(200,1)\n",
        "\n",
        "# y=0.8x^2 + 0.9x + 2 \n",
        "# generated this polynomial equation of degree 2 with some random noise so that there would be a random distribution of points.\n"
      ]
    },
    {
      "cell_type": "markdown",
      "metadata": {
        "id": "Ju223l6Y31YR"
      },
      "source": [
        "The task of my model is to find these coefficients of x i.e 0.8 and 0.9\n",
        "\n",
        "\n",
        "y=0.8x^2 + 0.9x + 2 "
      ]
    },
    {
      "cell_type": "code",
      "execution_count": null,
      "metadata": {
        "colab": {
          "background_save": true,
          "base_uri": "https://localhost:8080/",
          "height": 279
        },
        "id": "tydXezFk3yi0",
        "outputId": "ca6df0f9-ba22-4fef-8be9-b0fca382eb3d"
      },
      "outputs": [
        {
          "data": {
            "image/png": "[encoded data removed]",
            "text/plain": [
              "<Figure size 432x288 with 1 Axes>"
            ]
          },
          "metadata": {},
          "output_type": "display_data"
        }
      ],
      "source": [
        "plt.plot(x,y, 'b.')\n",
        "plt.xlabel(\"x\")\n",
        "plt.ylabel(\"y\")\n",
        "plt.show()"
      ]
    },
    {
      "cell_type": "markdown",
      "metadata": {
        "id": "KDs9ceyh32Zp"
      },
      "source": [
        "## Training and Splitting the data"
      ]
    },
    {
      "cell_type": "code",
      "execution_count": null,
      "metadata": {
        "colab": {
          "background_save": true
        },
        "id": "hE6CrGGlUwws"
      },
      "outputs": [],
      "source": [
        "#train test split\n",
        "x_train, x_test, y_train, y_test = train_test_split(x,y, test_size=0.2, random_state=3)"
      ]
    },
    {
      "cell_type": "code",
      "execution_count": null,
      "metadata": {
        "colab": {
          "background_save": true
        },
        "id": "Vk11kjxvUw9J"
      },
      "outputs": [],
      "source": [
        "#applying linear regression\n",
        "lr = LinearRegression()"
      ]
    },
    {
      "cell_type": "code",
      "execution_count": null,
      "metadata": {
        "colab": {
          "background_save": true,
          "base_uri": "https://localhost:8080/"
        },
        "id": "Y6deFuW0UxAp",
        "outputId": "0771c6d6-cb52-4280-ac7d-35465e22d363"
      },
      "outputs": [
        {
          "data": {
            "text/plain": [
              "LinearRegression()"
            ]
          },
          "execution_count": 6,
          "metadata": {},
          "output_type": "execute_result"
        }
      ],
      "source": [
        "lr.fit(x_train,y_train)"
      ]
    },
    {
      "cell_type": "code",
      "execution_count": null,
      "metadata": {
        "colab": {
          "background_save": true,
          "base_uri": "https://localhost:8080/"
        },
        "id": "PZFnEW_F3ylk",
        "outputId": "18538bb2-7be1-4f58-c729-075aa381be1d"
      },
      "outputs": [
        {
          "data": {
            "text/plain": [
              "-6.0756671515156775"
            ]
          },
          "execution_count": 7,
          "metadata": {},
          "output_type": "execute_result"
        }
      ],
      "source": [
        "y_pred = lr.predict(x_test)\n",
        "r2_score(x_test,y_pred)"
      ]
    },
    {
      "cell_type": "markdown",
      "metadata": {
        "id": "qrBEWxUBfPTV"
      },
      "source": [
        "**Inference:**\n",
        "the r2_score is negative meaning it is too bad, which means the model will not be able to make accurate predictions\n",
        "because the data is polynomial and we tried to fit a linear best fit line."
      ]
    },
    {
      "cell_type": "code",
      "execution_count": null,
      "metadata": {
        "colab": {
          "background_save": true,
          "base_uri": "https://localhost:8080/",
          "height": 279
        },
        "id": "rHkN2S5lVfhN",
        "outputId": "43ba1b75-e99b-4a4c-b096-e89f51af7e63"
      },
      "outputs": [
        {
          "data": {
            "image/png": "[encoded data removed]",
            "text/plain": [
              "<Figure size 432x288 with 1 Axes>"
            ]
          },
          "metadata": {},
          "output_type": "display_data"
        }
      ],
      "source": [
        "plt.plot(x_train, lr.predict(x_train), color = 'r')\n",
        "plt.plot(x,y,'b.')\n",
        "plt.xlabel('x')\n",
        "plt.ylabel('y')\n",
        "plt.show()"
      ]
    },
    {
      "cell_type": "code",
      "execution_count": null,
      "metadata": {
        "colab": {
          "background_save": true
        },
        "id": "nqkIKteyWfHw"
      },
      "outputs": [],
      "source": [
        "#applying polynomial linear regression\n",
        "#degree 2\n",
        "poly = PolynomialFeatures(degree=2)   #till power 2\n",
        "\n",
        "x_train_trans = poly.fit_transform(x_train)\n",
        "x_test_trans = poly.transform(x_test)"
      ]
    },
    {
      "cell_type": "code",
      "execution_count": null,
      "metadata": {
        "colab": {
          "background_save": true,
          "base_uri": "https://localhost:8080/"
        },
        "id": "hZ1K3nAoWfU2",
        "outputId": "fe37466e-b752-45cd-a2b8-d8a4db841c0b"
      },
      "outputs": [
        {
          "name": "stdout",
          "output_type": "stream",
          "text": [
            "[0.16985682]\n",
            "[1.         0.16985682 0.02885134]\n"
          ]
        }
      ],
      "source": [
        "print(x_train[0])            #original\n",
        "print(x_train_trans[0])\n"
      ]
    },
    {
      "cell_type": "markdown",
      "metadata": {
        "id": "E463viwz33is"
      },
      "source": [
        "**Inference:**\n",
        "\n",
        "\n",
        "[2.76761433] this is original\n",
        "\n",
        "1 is x^0 \n",
        "\n",
        "2.76761433 is x^1\n",
        "\n",
        "7.65968907 is x^2"
      ]
    },
    {
      "cell_type": "code",
      "execution_count": null,
      "metadata": {
        "colab": {
          "background_save": true
        },
        "id": "DonmJ9Ev3yqW"
      },
      "outputs": [],
      "source": [
        "#include_bias parameter: this parameter removes x^0 if it is false, but bydefault it is True then it would show x^0\n",
        "poly = PolynomialFeatures(degree=2, include_bias =True)  \n",
        "\n",
        "x_train_trans = poly.fit_transform(x_train)\n",
        "x_test_trans = poly.transform(x_test)\n"
      ]
    },
    {
      "cell_type": "code",
      "execution_count": null,
      "metadata": {
        "colab": {
          "background_save": true,
          "base_uri": "https://localhost:8080/"
        },
        "id": "H2RK35LyeTym",
        "outputId": "2ecc3976-3104-4522-9577-d85599de3518"
      },
      "outputs": [
        {
          "name": "stdout",
          "output_type": "stream",
          "text": [
            "[0.16985682]\n",
            "[1.         0.16985682 0.02885134]\n"
          ]
        }
      ],
      "source": [
        "print(x_train[0])            #original\n",
        "print(x_train_trans[0])"
      ]
    },
    {
      "cell_type": "code",
      "execution_count": null,
      "metadata": {
        "colab": {
          "background_save": true,
          "base_uri": "https://localhost:8080/"
        },
        "id": "PQyqujXpe04_",
        "outputId": "7c87a763-c44c-4f51-8ddc-b63602d48627"
      },
      "outputs": [
        {
          "data": {
            "text/plain": [
              "LinearRegression()"
            ]
          },
          "execution_count": 13,
          "metadata": {},
          "output_type": "execute_result"
        }
      ],
      "source": [
        "lr = LinearRegression()\n",
        "lr.fit(x_train_trans,y_train)"
      ]
    },
    {
      "cell_type": "code",
      "execution_count": null,
      "metadata": {
        "colab": {
          "background_save": true
        },
        "id": "9XMxvqiYe086"
      },
      "outputs": [],
      "source": [
        "y_pred = lr.predict(x_test_trans)"
      ]
    },
    {
      "cell_type": "code",
      "execution_count": null,
      "metadata": {
        "colab": {
          "background_save": true,
          "base_uri": "https://localhost:8080/"
        },
        "id": "Q64I0wiCe1A9",
        "outputId": "6251767c-918e-4e19-d124-2fc0ef163fee"
      },
      "outputs": [
        {
          "data": {
            "text/plain": [
              "0.8338865471141972"
            ]
          },
          "execution_count": 15,
          "metadata": {},
          "output_type": "execute_result"
        }
      ],
      "source": [
        "r2_score(y_test,y_pred)"
      ]
    },
    {
      "cell_type": "markdown",
      "metadata": {
        "id": "ulmKh_K04BwI"
      },
      "source": [
        "**Inference:** This is a good r2_score as compared to the previous ones."
      ]
    },
    {
      "cell_type": "code",
      "execution_count": null,
      "metadata": {
        "colab": {
          "background_save": true,
          "base_uri": "https://localhost:8080/"
        },
        "id": "q4maebydeRh2",
        "outputId": "e33152f0-c2ef-4871-9cc3-9f302d4a42f7"
      },
      "outputs": [
        {
          "name": "stdout",
          "output_type": "stream",
          "text": [
            "[[0.         0.89087501 0.82138921]]\n",
            "[1.85130637]\n"
          ]
        }
      ],
      "source": [
        "#coefficients and intercept\n",
        "\n",
        "print(lr.coef_)\n",
        "print(lr.intercept_)"
      ]
    },
    {
      "cell_type": "markdown",
      "metadata": {
        "id": "K2FTMudh4C7V"
      },
      "source": [
        "## Polynomial best fit line"
      ]
    },
    {
      "cell_type": "code",
      "execution_count": null,
      "metadata": {
        "colab": {
          "background_save": true
        },
        "id": "WO-llv9U4DnU"
      },
      "outputs": [],
      "source": [
        "x_new= np.linspace(-3,3,200).reshape(200,1)\n",
        "x_new_poly= poly.transform(x_new)\n",
        "y_new= lr.predict(x_new_poly)"
      ]
    },
    {
      "cell_type": "code",
      "execution_count": null,
      "metadata": {
        "colab": {
          "background_save": true,
          "base_uri": "https://localhost:8080/",
          "height": 279
        },
        "id": "nuQAVNhs4Fi7",
        "outputId": "5964c811-00a4-44f2-d9a6-880d32e74c76"
      },
      "outputs": [
        {
          "data": {
            "image/png": "[encoded data removed]",
            "text/plain": [
              "<Figure size 432x288 with 1 Axes>"
            ]
          },
          "metadata": {},
          "output_type": "display_data"
        }
      ],
      "source": [
        "plt.plot(x_new,y_new,'r-',linewidth=2,label='Prediction')\n",
        "plt.plot(x_train,y_train,'b.',label='Training points')\n",
        "plt.plot(x_test,y_test,'g.',label='Testing points')\n",
        "plt.xlabel('x')\n",
        "plt.ylabel('y')\n",
        "plt.legend()\n",
        "plt.show()"
      ]
    },
    {
      "cell_type": "markdown",
      "metadata": {
        "id": "rRUtWE2Y5eQ8"
      },
      "source": [
        "## Multiple Polynomial Linear Regression"
      ]
    },
    {
      "cell_type": "code",
      "execution_count": null,
      "metadata": {
        "colab": {
          "background_save": true
        },
        "id": "dE6sMDmE5gmx"
      },
      "outputs": [],
      "source": [
        "#3D polynomial regression\n",
        "x= 7*np.random.rand(100,1) - 2.8\n",
        "y= 7*np.random.rand(100,1) - 2.8\n",
        "\n",
        "z= x**2 + y**2 + 0.2*x + 0.2*y + 0.1*x*y +2 +np.random.randn(100,1)\n",
        "# z=x^2 + y^2 + 0.2x + 0.2y + 0.1xy + 2"
      ]
    },
    {
      "cell_type": "code",
      "execution_count": null,
      "metadata": {
        "colab": {
          "background_save": true,
          "base_uri": "https://localhost:8080/",
          "height": 542
        },
        "id": "dFggSQRJk9nf",
        "outputId": "1b60c870-77de-4413-acbd-5ec89cbfc87d"
      },
      "outputs": [
        {
          "data": {
            "text/html": [
              "<html>\n",
              "<head><meta charset=\"utf-8\" /></head>\n",
              "<body>\n",
              "    <div>            <script src=\"https://cdnjs.cloudflare.com/ajax/libs/mathjax/2.7.5/MathJax.js?config=TeX-AMS-MML_SVG\"></script><script type=\"text/javascript\">if (window.MathJax) {MathJax.Hub.Config({SVG: {font: \"STIX-Web\"}});}</script>                <script type=\"text/javascript\">window.PlotlyConfig = {MathJaxConfig: 'local'};</script>\n",
              "        <script src=\"https://cdn.plot.ly/plotly-2.8.3.min.js\"></script>                <div id=\"1c75c925-6988-458f-93a2-82899e824ce1\" class=\"plotly-graph-div\" style=\"height:525px; width:100%;\"></div>            <script type=\"text/javascript\">                                    window.PLOTLYENV=window.PLOTLYENV || {};                                    if (document.getElementById(\"1c75c925-6988-458f-93a2-82899e824ce1\")) {                    Plotly.newPlot(                        \"1c75c925-6988-458f-93a2-82899e824ce1\",                        [{\"hovertemplate\":\"x=%{x}<br>y=%{y}<br>z=%{z}<extra></extra>\",\"legendgroup\":\"\",\"marker\":{\"color\":\"#636efa\",\"symbol\":\"circle\"},\"mode\":\"markers\",\"name\":\"\",\"scene\":\"scene\",\"showlegend\":false,\"x\":[0.13848044497030276,-1.7742770657289455,1.353286106311951,3.8943831710471626,3.015523971088281,-2.603358754785935,1.2950204217567762,2.043060068620308,2.5582335304513766,-1.719890474961642,2.8564260513028294,1.8723307119762174,1.5120734523669173,-1.6861140599767401,4.0551107466551,-0.8696599297402128,-1.0872197967644235,3.614385433482595,3.6170368119364005,2.205686477812617,2.1981446083322025,-0.24981533428061953,-2.697148138737021,2.9331773438419493,-1.231676858393162,2.1821873830528,-0.17836184814983946,2.8786885137347022,0.8527914123222367,0.4542591441895558,-2.4834225195698636,1.9849527370285855,0.2060622975448716,0.5722808111126754,1.9374458776336478,-2.6689959504465945,-2.0482315169065286,2.0946154772364833,0.7922095132993858,3.5587170585988295,1.6764616966463022,-0.9159253229667121,4.0106033331932425,-2.1890532918512644,-1.7007889778361691,-2.2819261907951276,0.6660264132616112,-0.24459804245115446,1.8086772145316736,0.5782520963800684,-1.133469340261462,1.3306618143456719,-0.7544672475182388,-0.9490674424793104,-2.0918774568857166,-2.5115840518402184,2.7836195820827667,-0.4692696238702214,4.186409328635353,-2.5514045837646138,2.5462298083472747,-0.2043592373996166,2.6725585610744504,-1.469635169079886,0.24709752835346244,-1.3238142442571599,-1.5962945154833923,3.4522024501064434,3.661002489765882,3.7476647189453303,2.053507716488137,-0.22959045246750653,-2.3837699740434015,3.1665223159513767,-2.420317737405744,-0.6897747199011031,2.081225325611281,3.1199031696031776,1.086010054710501,3.8710066587323997,1.7723852569337613,3.4374325324871498,0.6963342658955489,0.6624033950464332,0.8090802734333975,-1.4844045497502405,-2.491429493206827,-1.017877192715435,-1.7100748828711732,0.5815265160044145,-0.11162271050950512,2.1938110227048355,1.1824275750978015,-2.3641281630122974,0.5024268252159225,-0.40176739294086783,3.707322710943047,1.326985806337408,-1.877460383297218,-0.2974328433270861],\"y\":[2.12837169821366,-1.644647140772649,-2.521559136894756,-0.5316150823562791,1.1973780643791043,-0.029338064132199193,3.0292487051716197,-0.8077969663183664,-0.36237481462582544,3.842841011806782,1.9163019939466208,3.0728796405179066,-1.774149241977542,3.361551695408691,3.985658243697636,3.50323508185416,-0.4380464024574682,-0.7436889682535726,3.262237441914036,2.9316940949383126,-0.019014754484642182,0.7070910313314629,3.9839521374996227,-0.01237972511879848,1.616945291554889,2.4811964588825655,-0.8705460383279899,0.09811693513203901,-1.1581318385146881,-2.3010880835885907,0.20883735101331702,0.7912818817979943,-2.2203315760408002,1.0872527733781077,-0.39206837416300244,2.6941315426243415,-1.859575495531586,2.3246829059550134,3.2397182604995853,-0.592468844254237,0.07617653802389279,2.4112304099306776,2.5729069325620406,3.990160712032785,1.6973437465518124,1.2107876751740072,2.6511794175133447,1.8812055820015887,-2.1791569181960218,-0.05771912463579376,-0.0678014355537333,2.206426174769062,-1.1101033719229938,-2.370635341111199,-2.548846336317126,2.743417495896379,1.0533651123840668,0.4368267202200071,3.520389121293082,2.922596038539094,1.824529851291472,-0.6871290502333336,-2.4816604497220602,-1.9734269012372387,1.3822324033201703,-1.4286578821750808,-1.5130352739065824,-1.1770261085601104,1.2857329240355364,1.5963923951068626,-0.3313120245439216,-2.6998484680823744,1.627949805950391,-2.475940308697908,-1.6802061938278268,-0.14952663306822167,2.508092362850161,-2.264320131894203,1.1389596914340325,2.6516389710087758,2.292503559183495,-0.15760319043647408,-0.13681064626471695,0.5003468787182443,2.892509912691617,-0.0006004343180912031,3.834383159230595,1.3859066760144598,2.3107835038311766,1.5788000601853884,1.0130216786808814,2.9065463675625924,-1.09694751753683,2.8633646564029123,-2.1246782212697743,2.0824006549494234,2.6218798317480676,-0.08097493015012391,2.3387649694000094,1.0763949317468562],\"z\":[8.58620196329276,8.485548199992733,10.631900569845552,17.52229337322194,13.661872655799622,7.595473358719765,11.982283925701953,6.845526217456569,8.191555684147993,20.165443263374573,16.335466312240886,18.29229055259333,7.833669862748404,16.702088628235995,38.17546805316875,15.008013692763045,2.938881484615795,14.937217562581337,29.79021060543457,17.147524428652048,7.1814984240413375,1.4637119094496627,22.631116195122033,11.306271984369683,3.15168139433309,13.503510818747465,2.5133654190874193,10.269632177444624,3.630986164974545,4.555070172445088,7.6739407105064545,8.600125790859918,7.86798182101466,4.594013506124433,7.1941483729302735,17.29314981406545,9.379506944798242,13.335748086047898,15.358192147517448,16.39335628906204,5.430842191087356,9.569515739035339,27.35531197381776,22.573598512314522,4.809811128245845,7.408270642211109,11.0217805205595,5.747822499326907,8.521059702608474,3.7184578305579645,3.465345432001781,8.65871407874623,2.1326136864987584,7.0998844726883545,14.596704878187136,15.485692651782246,10.179204217848696,1.794390701014093,35.123462710494145,16.735308481429005,11.100504592590703,2.5952582030755,15.932615591773244,8.372778778751218,4.490493233560095,5.826481052934513,6.679788433270083,16.63822264365157,18.009885109817173,20.375660424710954,7.032195252249036,9.013958949070313,9.07475775569664,19.3111925418507,10.123671400533176,1.3134151651646853,13.741001220476104,16.873159071443247,6.011453302581657,26.467574196722154,11.698191554413775,13.070587008017649,3.3145893611912114,1.4144389172722502,11.457263279323708,3.4812197057666774,24.227782867973872,5.049758453803753,10.202602533696671,4.682015956157207,4.432384509793566,17.030950163356906,4.347704871192625,13.858414500990083,5.418965813555683,7.912495404972927,24.746219870892197,4.304276003493763,10.51418529141529,3.801308805302445],\"type\":\"scatter3d\"}],                        {\"template\":{\"data\":{\"bar\":[{\"error_x\":{\"color\":\"#2a3f5f\"},\"error_y\":{\"color\":\"#2a3f5f\"},\"marker\":{\"line\":{\"color\":\"#E5ECF6\",\"width\":0.5},\"pattern\":{\"fillmode\":\"overlay\",\"size\":10,\"solidity\":0.2}},\"type\":\"bar\"}],\"barpolar\":[{\"marker\":{\"line\":{\"color\":\"#E5ECF6\",\"width\":0.5},\"pattern\":{\"fillmode\":\"overlay\",\"size\":10,\"solidity\":0.2}},\"type\":\"barpolar\"}],\"carpet\":[{\"aaxis\":{\"endlinecolor\":\"#2a3f5f\",\"gridcolor\":\"white\",\"linecolor\":\"white\",\"minorgridcolor\":\"white\",\"startlinecolor\":\"#2a3f5f\"},\"baxis\":{\"endlinecolor\":\"#2a3f5f\",\"gridcolor\":\"white\",\"linecolor\":\"white\",\"minorgridcolor\":\"white\",\"startlinecolor\":\"#2a3f5f\"},\"type\":\"carpet\"}],\"choropleth\":[{\"colorbar\":{\"outlinewidth\":0,\"ticks\":\"\"},\"type\":\"choropleth\"}],\"contour\":[{\"colorbar\":{\"outlinewidth\":0,\"ticks\":\"\"},\"colorscale\":[[0.0,\"#0d0887\"],[0.1111111111111111,\"#46039f\"],[0.2222222222222222,\"#7201a8\"],[0.3333333333333333,\"#9c179e\"],[0.4444444444444444,\"#bd3786\"],[0.5555555555555556,\"#d8576b\"],[0.6666666666666666,\"#ed7953\"],[0.7777777777777778,\"#fb9f3a\"],[0.8888888888888888,\"#fdca26\"],[1.0,\"#f0f921\"]],\"type\":\"contour\"}],\"contourcarpet\":[{\"colorbar\":{\"outlinewidth\":0,\"ticks\":\"\"},\"type\":\"contourcarpet\"}],\"heatmap\":[{\"colorbar\":{\"outlinewidth\":0,\"ticks\":\"\"},\"colorscale\":[[0.0,\"#0d0887\"],[0.1111111111111111,\"#46039f\"],[0.2222222222222222,\"#7201a8\"],[0.3333333333333333,\"#9c179e\"],[0.4444444444444444,\"#bd3786\"],[0.5555555555555556,\"#d8576b\"],[0.6666666666666666,\"#ed7953\"],[0.7777777777777778,\"#fb9f3a\"],[0.8888888888888888,\"#fdca26\"],[1.0,\"#f0f921\"]],\"type\":\"heatmap\"}],\"heatmapgl\":[{\"colorbar\":{\"outlinewidth\":0,\"ticks\":\"\"},\"colorscale\":[[0.0,\"#0d0887\"],[0.1111111111111111,\"#46039f\"],[0.2222222222222222,\"#7201a8\"],[0.3333333333333333,\"#9c179e\"],[0.4444444444444444,\"#bd3786\"],[0.5555555555555556,\"#d8576b\"],[0.6666666666666666,\"#ed7953\"],[0.7777777777777778,\"#fb9f3a\"],[0.8888888888888888,\"#fdca26\"],[1.0,\"#f0f921\"]],\"type\":\"heatmapgl\"}],\"histogram\":[{\"marker\":{\"pattern\":{\"fillmode\":\"overlay\",\"size\":10,\"solidity\":0.2}},\"type\":\"histogram\"}],\"histogram2d\":[{\"colorbar\":{\"outlinewidth\":0,\"ticks\":\"\"},\"colorscale\":[[0.0,\"#0d0887\"],[0.1111111111111111,\"#46039f\"],[0.2222222222222222,\"#7201a8\"],[0.3333333333333333,\"#9c179e\"],[0.4444444444444444,\"#bd3786\"],[0.5555555555555556,\"#d8576b\"],[0.6666666666666666,\"#ed7953\"],[0.7777777777777778,\"#fb9f3a\"],[0.8888888888888888,\"#fdca26\"],[1.0,\"#f0f921\"]],\"type\":\"histogram2d\"}],\"histogram2dcontour\":[{\"colorbar\":{\"outlinewidth\":0,\"ticks\":\"\"},\"colorscale\":[[0.0,\"#0d0887\"],[0.1111111111111111,\"#46039f\"],[0.2222222222222222,\"#7201a8\"],[0.3333333333333333,\"#9c179e\"],[0.4444444444444444,\"#bd3786\"],[0.5555555555555556,\"#d8576b\"],[0.6666666666666666,\"#ed7953\"],[0.7777777777777778,\"#fb9f3a\"],[0.8888888888888888,\"#fdca26\"],[1.0,\"#f0f921\"]],\"type\":\"histogram2dcontour\"}],\"mesh3d\":[{\"colorbar\":{\"outlinewidth\":0,\"ticks\":\"\"},\"type\":\"mesh3d\"}],\"parcoords\":[{\"line\":{\"colorbar\":{\"outlinewidth\":0,\"ticks\":\"\"}},\"type\":\"parcoords\"}],\"pie\":[{\"automargin\":true,\"type\":\"pie\"}],\"scatter\":[{\"marker\":{\"colorbar\":{\"outlinewidth\":0,\"ticks\":\"\"}},\"type\":\"scatter\"}],\"scatter3d\":[{\"line\":{\"colorbar\":{\"outlinewidth\":0,\"ticks\":\"\"}},\"marker\":{\"colorbar\":{\"outlinewidth\":0,\"ticks\":\"\"}},\"type\":\"scatter3d\"}],\"scattercarpet\":[{\"marker\":{\"colorbar\":{\"outlinewidth\":0,\"ticks\":\"\"}},\"type\":\"scattercarpet\"}],\"scattergeo\":[{\"marker\":{\"colorbar\":{\"outlinewidth\":0,\"ticks\":\"\"}},\"type\":\"scattergeo\"}],\"scattergl\":[{\"marker\":{\"colorbar\":{\"outlinewidth\":0,\"ticks\":\"\"}},\"type\":\"scattergl\"}],\"scattermapbox\":[{\"marker\":{\"colorbar\":{\"outlinewidth\":0,\"ticks\":\"\"}},\"type\":\"scattermapbox\"}],\"scatterpolar\":[{\"marker\":{\"colorbar\":{\"outlinewidth\":0,\"ticks\":\"\"}},\"type\":\"scatterpolar\"}],\"scatterpolargl\":[{\"marker\":{\"colorbar\":{\"outlinewidth\":0,\"ticks\":\"\"}},\"type\":\"scatterpolargl\"}],\"scatterternary\":[{\"marker\":{\"colorbar\":{\"outlinewidth\":0,\"ticks\":\"\"}},\"type\":\"scatterternary\"}],\"surface\":[{\"colorbar\":{\"outlinewidth\":0,\"ticks\":\"\"},\"colorscale\":[[0.0,\"#0d0887\"],[0.1111111111111111,\"#46039f\"],[0.2222222222222222,\"#7201a8\"],[0.3333333333333333,\"#9c179e\"],[0.4444444444444444,\"#bd3786\"],[0.5555555555555556,\"#d8576b\"],[0.6666666666666666,\"#ed7953\"],[0.7777777777777778,\"#fb9f3a\"],[0.8888888888888888,\"#fdca26\"],[1.0,\"#f0f921\"]],\"type\":\"surface\"}],\"table\":[{\"cells\":{\"fill\":{\"color\":\"#EBF0F8\"},\"line\":{\"color\":\"white\"}},\"header\":{\"fill\":{\"color\":\"#C8D4E3\"},\"line\":{\"color\":\"white\"}},\"type\":\"table\"}]},\"layout\":{\"annotationdefaults\":{\"arrowcolor\":\"#2a3f5f\",\"arrowhead\":0,\"arrowwidth\":1},\"autotypenumbers\":\"strict\",\"coloraxis\":{\"colorbar\":{\"outlinewidth\":0,\"ticks\":\"\"}},\"colorscale\":{\"diverging\":[[0,\"#8e0152\"],[0.1,\"#c51b7d\"],[0.2,\"#de77ae\"],[0.3,\"#f1b6da\"],[0.4,\"#fde0ef\"],[0.5,\"#f7f7f7\"],[0.6,\"#e6f5d0\"],[0.7,\"#b8e186\"],[0.8,\"#7fbc41\"],[0.9,\"#4d9221\"],[1,\"#276419\"]],\"sequential\":[[0.0,\"#0d0887\"],[0.1111111111111111,\"#46039f\"],[0.2222222222222222,\"#7201a8\"],[0.3333333333333333,\"#9c179e\"],[0.4444444444444444,\"#bd3786\"],[0.5555555555555556,\"#d8576b\"],[0.6666666666666666,\"#ed7953\"],[0.7777777777777778,\"#fb9f3a\"],[0.8888888888888888,\"#fdca26\"],[1.0,\"#f0f921\"]],\"sequentialminus\":[[0.0,\"#0d0887\"],[0.1111111111111111,\"#46039f\"],[0.2222222222222222,\"#7201a8\"],[0.3333333333333333,\"#9c179e\"],[0.4444444444444444,\"#bd3786\"],[0.5555555555555556,\"#d8576b\"],[0.6666666666666666,\"#ed7953\"],[0.7777777777777778,\"#fb9f3a\"],[0.8888888888888888,\"#fdca26\"],[1.0,\"#f0f921\"]]},\"colorway\":[\"#636efa\",\"#EF553B\",\"#00cc96\",\"#ab63fa\",\"#FFA15A\",\"#19d3f3\",\"#FF6692\",\"#B6E880\",\"#FF97FF\",\"#FECB52\"],\"font\":{\"color\":\"#2a3f5f\"},\"geo\":{\"bgcolor\":\"white\",\"lakecolor\":\"white\",\"landcolor\":\"#E5ECF6\",\"showlakes\":true,\"showland\":true,\"subunitcolor\":\"white\"},\"hoverlabel\":{\"align\":\"left\"},\"hovermode\":\"closest\",\"mapbox\":{\"style\":\"light\"},\"paper_bgcolor\":\"white\",\"plot_bgcolor\":\"#E5ECF6\",\"polar\":{\"angularaxis\":{\"gridcolor\":\"white\",\"linecolor\":\"white\",\"ticks\":\"\"},\"bgcolor\":\"#E5ECF6\",\"radialaxis\":{\"gridcolor\":\"white\",\"linecolor\":\"white\",\"ticks\":\"\"}},\"scene\":{\"xaxis\":{\"backgroundcolor\":\"#E5ECF6\",\"gridcolor\":\"white\",\"gridwidth\":2,\"linecolor\":\"white\",\"showbackground\":true,\"ticks\":\"\",\"zerolinecolor\":\"white\"},\"yaxis\":{\"backgroundcolor\":\"#E5ECF6\",\"gridcolor\":\"white\",\"gridwidth\":2,\"linecolor\":\"white\",\"showbackground\":true,\"ticks\":\"\",\"zerolinecolor\":\"white\"},\"zaxis\":{\"backgroundcolor\":\"#E5ECF6\",\"gridcolor\":\"white\",\"gridwidth\":2,\"linecolor\":\"white\",\"showbackground\":true,\"ticks\":\"\",\"zerolinecolor\":\"white\"}},\"shapedefaults\":{\"line\":{\"color\":\"#2a3f5f\"}},\"ternary\":{\"aaxis\":{\"gridcolor\":\"white\",\"linecolor\":\"white\",\"ticks\":\"\"},\"baxis\":{\"gridcolor\":\"white\",\"linecolor\":\"white\",\"ticks\":\"\"},\"bgcolor\":\"#E5ECF6\",\"caxis\":{\"gridcolor\":\"white\",\"linecolor\":\"white\",\"ticks\":\"\"}},\"title\":{\"x\":0.05},\"xaxis\":{\"automargin\":true,\"gridcolor\":\"white\",\"linecolor\":\"white\",\"ticks\":\"\",\"title\":{\"standoff\":15},\"zerolinecolor\":\"white\",\"zerolinewidth\":2},\"yaxis\":{\"automargin\":true,\"gridcolor\":\"white\",\"linecolor\":\"white\",\"ticks\":\"\",\"title\":{\"standoff\":15},\"zerolinecolor\":\"white\",\"zerolinewidth\":2}}},\"scene\":{\"domain\":{\"x\":[0.0,1.0],\"y\":[0.0,1.0]},\"xaxis\":{\"title\":{\"text\":\"x\"}},\"yaxis\":{\"title\":{\"text\":\"y\"}},\"zaxis\":{\"title\":{\"text\":\"z\"}}},\"legend\":{\"tracegroupgap\":0},\"margin\":{\"t\":60}},                        {\"responsive\": true}                    ).then(function(){\n",
              "                            \n",
              "var gd = document.getElementById('1c75c925-6988-458f-93a2-82899e824ce1');\n",
              "var x = new MutationObserver(function (mutations, observer) {{\n",
              "        var display = window.getComputedStyle(gd).display;\n",
              "        if (!display || display === 'none') {{\n",
              "            console.log([gd, 'removed!']);\n",
              "            Plotly.purge(gd);\n",
              "            observer.disconnect();\n",
              "        }}\n",
              "}});\n",
              "\n",
              "// Listen for the removal of the full notebook cells\n",
              "var notebookContainer = gd.closest('#notebook-container');\n",
              "if (notebookContainer) {{\n",
              "    x.observe(notebookContainer, {childList: true});\n",
              "}}\n",
              "\n",
              "// Listen for the clearing of the current output cell\n",
              "var outputEl = gd.closest('.output');\n",
              "if (outputEl) {{\n",
              "    x.observe(outputEl, {childList: true});\n",
              "}}\n",
              "\n",
              "                        })                };                            </script>        </div>\n",
              "</body>\n",
              "</html>"
            ]
          },
          "metadata": {},
          "output_type": "display_data"
        }
      ],
      "source": [
        "import plotly.express as px\n",
        "df = px.data.iris()\n",
        "fig = px.scatter_3d(df, x=x.ravel(), y=y.ravel(), z=z.ravel())\n",
        "fig.show()"
      ]
    },
    {
      "cell_type": "markdown",
      "metadata": {
        "id": "i--hsbBD5fM6"
      },
      "source": [
        "## Generating a Hyperplane"
      ]
    },
    {
      "cell_type": "code",
      "execution_count": null,
      "metadata": {
        "colab": {
          "background_save": true
        },
        "id": "BSX3ILbRlcad"
      },
      "outputs": [],
      "source": [
        "lr= LinearRegression()\n",
        "lr.fit(np.array([x,y]).reshape(100,2),z)\n",
        "\n",
        "x_input = np.linspace(x.min(),x.max(),10)\n",
        "y_input = np.linspace(y.min(),y.max(),10)\n",
        "xGrid, yGrid = np.meshgrid(x_input, y_input)\n",
        "\n",
        "final = np.vstack((xGrid.ravel().reshape(1,100),yGrid.ravel().reshape(1,100))).T\n",
        "\n",
        "z_final = lr.predict(final).reshape(10,10)"
      ]
    },
    {
      "cell_type": "code",
      "execution_count": null,
      "metadata": {
        "colab": {
          "background_save": true,
          "base_uri": "https://localhost:8080/",
          "height": 542
        },
        "id": "N2miuBaJ5hOJ",
        "outputId": "b61e2eea-b96e-4299-ffe7-617b9352cda5"
      },
      "outputs": [
        {
          "data": {
            "text/html": [
              "<html>\n",
              "<head><meta charset=\"utf-8\" /></head>\n",
              "<body>\n",
              "    <div>            <script src=\"https://cdnjs.cloudflare.com/ajax/libs/mathjax/2.7.5/MathJax.js?config=TeX-AMS-MML_SVG\"></script><script type=\"text/javascript\">if (window.MathJax) {MathJax.Hub.Config({SVG: {font: \"STIX-Web\"}});}</script>                <script type=\"text/javascript\">window.PlotlyConfig = {MathJaxConfig: 'local'};</script>\n",
              "        <script src=\"https://cdn.plot.ly/plotly-2.8.3.min.js\"></script>                <div id=\"f502d18d-d437-4207-834c-4c5ee14aa0d3\" class=\"plotly-graph-div\" style=\"height:525px; width:100%;\"></div>            <script type=\"text/javascript\">                                    window.PLOTLYENV=window.PLOTLYENV || {};                                    if (document.getElementById(\"f502d18d-d437-4207-834c-4c5ee14aa0d3\")) {                    Plotly.newPlot(                        \"f502d18d-d437-4207-834c-4c5ee14aa0d3\",                        [{\"hovertemplate\":\"x=%{x}<br>y=%{y}<br>z=%{z}<extra></extra>\",\"legendgroup\":\"\",\"marker\":{\"color\":\"#636efa\",\"symbol\":\"circle\"},\"mode\":\"markers\",\"name\":\"\",\"scene\":\"scene\",\"showlegend\":false,\"x\":[0.13848044497030276,-1.7742770657289455,1.353286106311951,3.8943831710471626,3.015523971088281,-2.603358754785935,1.2950204217567762,2.043060068620308,2.5582335304513766,-1.719890474961642,2.8564260513028294,1.8723307119762174,1.5120734523669173,-1.6861140599767401,4.0551107466551,-0.8696599297402128,-1.0872197967644235,3.614385433482595,3.6170368119364005,2.205686477812617,2.1981446083322025,-0.24981533428061953,-2.697148138737021,2.9331773438419493,-1.231676858393162,2.1821873830528,-0.17836184814983946,2.8786885137347022,0.8527914123222367,0.4542591441895558,-2.4834225195698636,1.9849527370285855,0.2060622975448716,0.5722808111126754,1.9374458776336478,-2.6689959504465945,-2.0482315169065286,2.0946154772364833,0.7922095132993858,3.5587170585988295,1.6764616966463022,-0.9159253229667121,4.0106033331932425,-2.1890532918512644,-1.7007889778361691,-2.2819261907951276,0.6660264132616112,-0.24459804245115446,1.8086772145316736,0.5782520963800684,-1.133469340261462,1.3306618143456719,-0.7544672475182388,-0.9490674424793104,-2.0918774568857166,-2.5115840518402184,2.7836195820827667,-0.4692696238702214,4.186409328635353,-2.5514045837646138,2.5462298083472747,-0.2043592373996166,2.6725585610744504,-1.469635169079886,0.24709752835346244,-1.3238142442571599,-1.5962945154833923,3.4522024501064434,3.661002489765882,3.7476647189453303,2.053507716488137,-0.22959045246750653,-2.3837699740434015,3.1665223159513767,-2.420317737405744,-0.6897747199011031,2.081225325611281,3.1199031696031776,1.086010054710501,3.8710066587323997,1.7723852569337613,3.4374325324871498,0.6963342658955489,0.6624033950464332,0.8090802734333975,-1.4844045497502405,-2.491429493206827,-1.017877192715435,-1.7100748828711732,0.5815265160044145,-0.11162271050950512,2.1938110227048355,1.1824275750978015,-2.3641281630122974,0.5024268252159225,-0.40176739294086783,3.707322710943047,1.326985806337408,-1.877460383297218,-0.2974328433270861],\"y\":[2.12837169821366,-1.644647140772649,-2.521559136894756,-0.5316150823562791,1.1973780643791043,-0.029338064132199193,3.0292487051716197,-0.8077969663183664,-0.36237481462582544,3.842841011806782,1.9163019939466208,3.0728796405179066,-1.774149241977542,3.361551695408691,3.985658243697636,3.50323508185416,-0.4380464024574682,-0.7436889682535726,3.262237441914036,2.9316940949383126,-0.019014754484642182,0.7070910313314629,3.9839521374996227,-0.01237972511879848,1.616945291554889,2.4811964588825655,-0.8705460383279899,0.09811693513203901,-1.1581318385146881,-2.3010880835885907,0.20883735101331702,0.7912818817979943,-2.2203315760408002,1.0872527733781077,-0.39206837416300244,2.6941315426243415,-1.859575495531586,2.3246829059550134,3.2397182604995853,-0.592468844254237,0.07617653802389279,2.4112304099306776,2.5729069325620406,3.990160712032785,1.6973437465518124,1.2107876751740072,2.6511794175133447,1.8812055820015887,-2.1791569181960218,-0.05771912463579376,-0.0678014355537333,2.206426174769062,-1.1101033719229938,-2.370635341111199,-2.548846336317126,2.743417495896379,1.0533651123840668,0.4368267202200071,3.520389121293082,2.922596038539094,1.824529851291472,-0.6871290502333336,-2.4816604497220602,-1.9734269012372387,1.3822324033201703,-1.4286578821750808,-1.5130352739065824,-1.1770261085601104,1.2857329240355364,1.5963923951068626,-0.3313120245439216,-2.6998484680823744,1.627949805950391,-2.475940308697908,-1.6802061938278268,-0.14952663306822167,2.508092362850161,-2.264320131894203,1.1389596914340325,2.6516389710087758,2.292503559183495,-0.15760319043647408,-0.13681064626471695,0.5003468787182443,2.892509912691617,-0.0006004343180912031,3.834383159230595,1.3859066760144598,2.3107835038311766,1.5788000601853884,1.0130216786808814,2.9065463675625924,-1.09694751753683,2.8633646564029123,-2.1246782212697743,2.0824006549494234,2.6218798317480676,-0.08097493015012391,2.3387649694000094,1.0763949317468562],\"z\":[8.58620196329276,8.485548199992733,10.631900569845552,17.52229337322194,13.661872655799622,7.595473358719765,11.982283925701953,6.845526217456569,8.191555684147993,20.165443263374573,16.335466312240886,18.29229055259333,7.833669862748404,16.702088628235995,38.17546805316875,15.008013692763045,2.938881484615795,14.937217562581337,29.79021060543457,17.147524428652048,7.1814984240413375,1.4637119094496627,22.631116195122033,11.306271984369683,3.15168139433309,13.503510818747465,2.5133654190874193,10.269632177444624,3.630986164974545,4.555070172445088,7.6739407105064545,8.600125790859918,7.86798182101466,4.594013506124433,7.1941483729302735,17.29314981406545,9.379506944798242,13.335748086047898,15.358192147517448,16.39335628906204,5.430842191087356,9.569515739035339,27.35531197381776,22.573598512314522,4.809811128245845,7.408270642211109,11.0217805205595,5.747822499326907,8.521059702608474,3.7184578305579645,3.465345432001781,8.65871407874623,2.1326136864987584,7.0998844726883545,14.596704878187136,15.485692651782246,10.179204217848696,1.794390701014093,35.123462710494145,16.735308481429005,11.100504592590703,2.5952582030755,15.932615591773244,8.372778778751218,4.490493233560095,5.826481052934513,6.679788433270083,16.63822264365157,18.009885109817173,20.375660424710954,7.032195252249036,9.013958949070313,9.07475775569664,19.3111925418507,10.123671400533176,1.3134151651646853,13.741001220476104,16.873159071443247,6.011453302581657,26.467574196722154,11.698191554413775,13.070587008017649,3.3145893611912114,1.4144389172722502,11.457263279323708,3.4812197057666774,24.227782867973872,5.049758453803753,10.202602533696671,4.682015956157207,4.432384509793566,17.030950163356906,4.347704871192625,13.858414500990083,5.418965813555683,7.912495404972927,24.746219870892197,4.304276003493763,10.51418529141529,3.801308805302445],\"type\":\"scatter3d\"},{\"x\":[-2.697148138737021,-1.9323084201400906,-1.1674687015431602,-0.40262898294622973,0.3622107356507005,1.1270504542476307,1.8918901728445614,2.656729891441491,3.421569610038422,4.186409328635353],\"y\":[-2.6998484680823744,-1.9565141147362457,-1.2131797613901167,-0.4698454080439878,0.27348894530214096,1.0168232986482697,1.7601576519943989,2.503492005340527,3.2468263586866564,3.990160712032785],\"z\":[[11.454697105594882,11.145170460150995,10.835643814707106,10.526117169263218,10.216590523819331,9.907063878375443,9.597537232931554,9.288010587487667,8.97848394204378,8.668957296599892],[11.693634416199544,11.384107770755655,11.074581125311767,10.76505447986788,10.455527834423991,10.146001188980105,9.836474543536216,9.526947898092327,9.217421252648439,8.907894607204552],[11.932571726804204,11.623045081360315,11.313518435916428,11.00399179047254,10.694465145028651,10.384938499584765,10.075411854140876,9.76588520869699,9.4563585632531,9.146831917809212],[12.171509037408864,11.861982391964977,11.552455746521089,11.2429291010772,10.933402455633313,10.623875810189425,10.314349164745536,10.00482251930165,9.695295873857761,9.385769228413873],[12.410446348013526,12.100919702569637,11.791393057125749,11.48186641168186,11.172339766237974,10.862813120794085,10.553286475350198,10.24375982990631,9.934233184462421,9.624706539018534],[12.649383658618186,12.339857013174298,12.030330367730409,11.720803722286522,11.411277076842634,11.101750431398747,10.792223785954858,10.48269714051097,10.173170495067083,9.863643849623195],[12.888320969222846,12.578794323778958,12.269267678335071,11.959741032891182,11.650214387447294,11.340687742003407,11.031161096559519,10.721634451115632,10.412107805671743,10.102581160227855],[13.127258279827506,12.81773163438362,12.508204988939731,12.198678343495843,11.889151698051956,11.579625052608067,11.270098407164179,10.960571761720292,10.651045116276403,10.341518470832515],[13.366195590432167,13.05666894498828,12.747142299544391,12.437615654100505,12.128089008656616,11.818562363212727,11.50903571776884,11.199509072324952,10.889982426881065,10.580455781437177],[13.605132901036828,13.29560625559294,12.986079610149051,12.676552964705165,12.367026319261276,12.05749967381739,11.7479730283735,11.438446382929612,11.128919737485726,10.819393092041837]],\"type\":\"surface\"}],                        {\"template\":{\"data\":{\"bar\":[{\"error_x\":{\"color\":\"#2a3f5f\"},\"error_y\":{\"color\":\"#2a3f5f\"},\"marker\":{\"line\":{\"color\":\"#E5ECF6\",\"width\":0.5},\"pattern\":{\"fillmode\":\"overlay\",\"size\":10,\"solidity\":0.2}},\"type\":\"bar\"}],\"barpolar\":[{\"marker\":{\"line\":{\"color\":\"#E5ECF6\",\"width\":0.5},\"pattern\":{\"fillmode\":\"overlay\",\"size\":10,\"solidity\":0.2}},\"type\":\"barpolar\"}],\"carpet\":[{\"aaxis\":{\"endlinecolor\":\"#2a3f5f\",\"gridcolor\":\"white\",\"linecolor\":\"white\",\"minorgridcolor\":\"white\",\"startlinecolor\":\"#2a3f5f\"},\"baxis\":{\"endlinecolor\":\"#2a3f5f\",\"gridcolor\":\"white\",\"linecolor\":\"white\",\"minorgridcolor\":\"white\",\"startlinecolor\":\"#2a3f5f\"},\"type\":\"carpet\"}],\"choropleth\":[{\"colorbar\":{\"outlinewidth\":0,\"ticks\":\"\"},\"type\":\"choropleth\"}],\"contour\":[{\"colorbar\":{\"outlinewidth\":0,\"ticks\":\"\"},\"colorscale\":[[0.0,\"#0d0887\"],[0.1111111111111111,\"#46039f\"],[0.2222222222222222,\"#7201a8\"],[0.3333333333333333,\"#9c179e\"],[0.4444444444444444,\"#bd3786\"],[0.5555555555555556,\"#d8576b\"],[0.6666666666666666,\"#ed7953\"],[0.7777777777777778,\"#fb9f3a\"],[0.8888888888888888,\"#fdca26\"],[1.0,\"#f0f921\"]],\"type\":\"contour\"}],\"contourcarpet\":[{\"colorbar\":{\"outlinewidth\":0,\"ticks\":\"\"},\"type\":\"contourcarpet\"}],\"heatmap\":[{\"colorbar\":{\"outlinewidth\":0,\"ticks\":\"\"},\"colorscale\":[[0.0,\"#0d0887\"],[0.1111111111111111,\"#46039f\"],[0.2222222222222222,\"#7201a8\"],[0.3333333333333333,\"#9c179e\"],[0.4444444444444444,\"#bd3786\"],[0.5555555555555556,\"#d8576b\"],[0.6666666666666666,\"#ed7953\"],[0.7777777777777778,\"#fb9f3a\"],[0.8888888888888888,\"#fdca26\"],[1.0,\"#f0f921\"]],\"type\":\"heatmap\"}],\"heatmapgl\":[{\"colorbar\":{\"outlinewidth\":0,\"ticks\":\"\"},\"colorscale\":[[0.0,\"#0d0887\"],[0.1111111111111111,\"#46039f\"],[0.2222222222222222,\"#7201a8\"],[0.3333333333333333,\"#9c179e\"],[0.4444444444444444,\"#bd3786\"],[0.5555555555555556,\"#d8576b\"],[0.6666666666666666,\"#ed7953\"],[0.7777777777777778,\"#fb9f3a\"],[0.8888888888888888,\"#fdca26\"],[1.0,\"#f0f921\"]],\"type\":\"heatmapgl\"}],\"histogram\":[{\"marker\":{\"pattern\":{\"fillmode\":\"overlay\",\"size\":10,\"solidity\":0.2}},\"type\":\"histogram\"}],\"histogram2d\":[{\"colorbar\":{\"outlinewidth\":0,\"ticks\":\"\"},\"colorscale\":[[0.0,\"#0d0887\"],[0.1111111111111111,\"#46039f\"],[0.2222222222222222,\"#7201a8\"],[0.3333333333333333,\"#9c179e\"],[0.4444444444444444,\"#bd3786\"],[0.5555555555555556,\"#d8576b\"],[0.6666666666666666,\"#ed7953\"],[0.7777777777777778,\"#fb9f3a\"],[0.8888888888888888,\"#fdca26\"],[1.0,\"#f0f921\"]],\"type\":\"histogram2d\"}],\"histogram2dcontour\":[{\"colorbar\":{\"outlinewidth\":0,\"ticks\":\"\"},\"colorscale\":[[0.0,\"#0d0887\"],[0.1111111111111111,\"#46039f\"],[0.2222222222222222,\"#7201a8\"],[0.3333333333333333,\"#9c179e\"],[0.4444444444444444,\"#bd3786\"],[0.5555555555555556,\"#d8576b\"],[0.6666666666666666,\"#ed7953\"],[0.7777777777777778,\"#fb9f3a\"],[0.8888888888888888,\"#fdca26\"],[1.0,\"#f0f921\"]],\"type\":\"histogram2dcontour\"}],\"mesh3d\":[{\"colorbar\":{\"outlinewidth\":0,\"ticks\":\"\"},\"type\":\"mesh3d\"}],\"parcoords\":[{\"line\":{\"colorbar\":{\"outlinewidth\":0,\"ticks\":\"\"}},\"type\":\"parcoords\"}],\"pie\":[{\"automargin\":true,\"type\":\"pie\"}],\"scatter\":[{\"marker\":{\"colorbar\":{\"outlinewidth\":0,\"ticks\":\"\"}},\"type\":\"scatter\"}],\"scatter3d\":[{\"line\":{\"colorbar\":{\"outlinewidth\":0,\"ticks\":\"\"}},\"marker\":{\"colorbar\":{\"outlinewidth\":0,\"ticks\":\"\"}},\"type\":\"scatter3d\"}],\"scattercarpet\":[{\"marker\":{\"colorbar\":{\"outlinewidth\":0,\"ticks\":\"\"}},\"type\":\"scattercarpet\"}],\"scattergeo\":[{\"marker\":{\"colorbar\":{\"outlinewidth\":0,\"ticks\":\"\"}},\"type\":\"scattergeo\"}],\"scattergl\":[{\"marker\":{\"colorbar\":{\"outlinewidth\":0,\"ticks\":\"\"}},\"type\":\"scattergl\"}],\"scattermapbox\":[{\"marker\":{\"colorbar\":{\"outlinewidth\":0,\"ticks\":\"\"}},\"type\":\"scattermapbox\"}],\"scatterpolar\":[{\"marker\":{\"colorbar\":{\"outlinewidth\":0,\"ticks\":\"\"}},\"type\":\"scatterpolar\"}],\"scatterpolargl\":[{\"marker\":{\"colorbar\":{\"outlinewidth\":0,\"ticks\":\"\"}},\"type\":\"scatterpolargl\"}],\"scatterternary\":[{\"marker\":{\"colorbar\":{\"outlinewidth\":0,\"ticks\":\"\"}},\"type\":\"scatterternary\"}],\"surface\":[{\"colorbar\":{\"outlinewidth\":0,\"ticks\":\"\"},\"colorscale\":[[0.0,\"#0d0887\"],[0.1111111111111111,\"#46039f\"],[0.2222222222222222,\"#7201a8\"],[0.3333333333333333,\"#9c179e\"],[0.4444444444444444,\"#bd3786\"],[0.5555555555555556,\"#d8576b\"],[0.6666666666666666,\"#ed7953\"],[0.7777777777777778,\"#fb9f3a\"],[0.8888888888888888,\"#fdca26\"],[1.0,\"#f0f921\"]],\"type\":\"surface\"}],\"table\":[{\"cells\":{\"fill\":{\"color\":\"#EBF0F8\"},\"line\":{\"color\":\"white\"}},\"header\":{\"fill\":{\"color\":\"#C8D4E3\"},\"line\":{\"color\":\"white\"}},\"type\":\"table\"}]},\"layout\":{\"annotationdefaults\":{\"arrowcolor\":\"#2a3f5f\",\"arrowhead\":0,\"arrowwidth\":1},\"autotypenumbers\":\"strict\",\"coloraxis\":{\"colorbar\":{\"outlinewidth\":0,\"ticks\":\"\"}},\"colorscale\":{\"diverging\":[[0,\"#8e0152\"],[0.1,\"#c51b7d\"],[0.2,\"#de77ae\"],[0.3,\"#f1b6da\"],[0.4,\"#fde0ef\"],[0.5,\"#f7f7f7\"],[0.6,\"#e6f5d0\"],[0.7,\"#b8e186\"],[0.8,\"#7fbc41\"],[0.9,\"#4d9221\"],[1,\"#276419\"]],\"sequential\":[[0.0,\"#0d0887\"],[0.1111111111111111,\"#46039f\"],[0.2222222222222222,\"#7201a8\"],[0.3333333333333333,\"#9c179e\"],[0.4444444444444444,\"#bd3786\"],[0.5555555555555556,\"#d8576b\"],[0.6666666666666666,\"#ed7953\"],[0.7777777777777778,\"#fb9f3a\"],[0.8888888888888888,\"#fdca26\"],[1.0,\"#f0f921\"]],\"sequentialminus\":[[0.0,\"#0d0887\"],[0.1111111111111111,\"#46039f\"],[0.2222222222222222,\"#7201a8\"],[0.3333333333333333,\"#9c179e\"],[0.4444444444444444,\"#bd3786\"],[0.5555555555555556,\"#d8576b\"],[0.6666666666666666,\"#ed7953\"],[0.7777777777777778,\"#fb9f3a\"],[0.8888888888888888,\"#fdca26\"],[1.0,\"#f0f921\"]]},\"colorway\":[\"#636efa\",\"#EF553B\",\"#00cc96\",\"#ab63fa\",\"#FFA15A\",\"#19d3f3\",\"#FF6692\",\"#B6E880\",\"#FF97FF\",\"#FECB52\"],\"font\":{\"color\":\"#2a3f5f\"},\"geo\":{\"bgcolor\":\"white\",\"lakecolor\":\"white\",\"landcolor\":\"#E5ECF6\",\"showlakes\":true,\"showland\":true,\"subunitcolor\":\"white\"},\"hoverlabel\":{\"align\":\"left\"},\"hovermode\":\"closest\",\"mapbox\":{\"style\":\"light\"},\"paper_bgcolor\":\"white\",\"plot_bgcolor\":\"#E5ECF6\",\"polar\":{\"angularaxis\":{\"gridcolor\":\"white\",\"linecolor\":\"white\",\"ticks\":\"\"},\"bgcolor\":\"#E5ECF6\",\"radialaxis\":{\"gridcolor\":\"white\",\"linecolor\":\"white\",\"ticks\":\"\"}},\"scene\":{\"xaxis\":{\"backgroundcolor\":\"#E5ECF6\",\"gridcolor\":\"white\",\"gridwidth\":2,\"linecolor\":\"white\",\"showbackground\":true,\"ticks\":\"\",\"zerolinecolor\":\"white\"},\"yaxis\":{\"backgroundcolor\":\"#E5ECF6\",\"gridcolor\":\"white\",\"gridwidth\":2,\"linecolor\":\"white\",\"showbackground\":true,\"ticks\":\"\",\"zerolinecolor\":\"white\"},\"zaxis\":{\"backgroundcolor\":\"#E5ECF6\",\"gridcolor\":\"white\",\"gridwidth\":2,\"linecolor\":\"white\",\"showbackground\":true,\"ticks\":\"\",\"zerolinecolor\":\"white\"}},\"shapedefaults\":{\"line\":{\"color\":\"#2a3f5f\"}},\"ternary\":{\"aaxis\":{\"gridcolor\":\"white\",\"linecolor\":\"white\",\"ticks\":\"\"},\"baxis\":{\"gridcolor\":\"white\",\"linecolor\":\"white\",\"ticks\":\"\"},\"bgcolor\":\"#E5ECF6\",\"caxis\":{\"gridcolor\":\"white\",\"linecolor\":\"white\",\"ticks\":\"\"}},\"title\":{\"x\":0.05},\"xaxis\":{\"automargin\":true,\"gridcolor\":\"white\",\"linecolor\":\"white\",\"ticks\":\"\",\"title\":{\"standoff\":15},\"zerolinecolor\":\"white\",\"zerolinewidth\":2},\"yaxis\":{\"automargin\":true,\"gridcolor\":\"white\",\"linecolor\":\"white\",\"ticks\":\"\",\"title\":{\"standoff\":15},\"zerolinecolor\":\"white\",\"zerolinewidth\":2}}},\"scene\":{\"domain\":{\"x\":[0.0,1.0],\"y\":[0.0,1.0]},\"xaxis\":{\"title\":{\"text\":\"x\"}},\"yaxis\":{\"title\":{\"text\":\"y\"}},\"zaxis\":{\"title\":{\"text\":\"z\"}}},\"legend\":{\"tracegroupgap\":0},\"margin\":{\"t\":60}},                        {\"responsive\": true}                    ).then(function(){\n",
              "                            \n",
              "var gd = document.getElementById('f502d18d-d437-4207-834c-4c5ee14aa0d3');\n",
              "var x = new MutationObserver(function (mutations, observer) {{\n",
              "        var display = window.getComputedStyle(gd).display;\n",
              "        if (!display || display === 'none') {{\n",
              "            console.log([gd, 'removed!']);\n",
              "            Plotly.purge(gd);\n",
              "            observer.disconnect();\n",
              "        }}\n",
              "}});\n",
              "\n",
              "// Listen for the removal of the full notebook cells\n",
              "var notebookContainer = gd.closest('#notebook-container');\n",
              "if (notebookContainer) {{\n",
              "    x.observe(notebookContainer, {childList: true});\n",
              "}}\n",
              "\n",
              "// Listen for the clearing of the current output cell\n",
              "var outputEl = gd.closest('.output');\n",
              "if (outputEl) {{\n",
              "    x.observe(outputEl, {childList: true});\n",
              "}}\n",
              "\n",
              "                        })                };                            </script>        </div>\n",
              "</body>\n",
              "</html>"
            ]
          },
          "metadata": {},
          "output_type": "display_data"
        }
      ],
      "source": [
        "import plotly.graph_objects as go \n",
        "\n",
        "fig = px.scatter_3d(df, x=x.ravel(), y=y.ravel(), z=z.ravel())\n",
        "\n",
        "fig.add_trace(go.Surface(x = x_input, y = y_input, z = z_final))\n",
        "\n",
        "fig.show()"
      ]
    },
    {
      "cell_type": "markdown",
      "metadata": {
        "id": "YXc051Lb5fvn"
      },
      "source": [
        "## Bias Variance TradeOff\n",
        "\n",
        "The bias–variance tradeoff is the property of a model that the variance of the parameter estimated across samples can be reduced by increasing the bias in the estimated parameters."
      ]
    },
    {
      "cell_type": "markdown",
      "metadata": {
        "id": "FPU2aM3NOnuI"
      },
      "source": [
        "**Bias**: the inability of the machine learning model to truly capture the relationship in the training data. In simple words, a high biased model has very poor predictions on the data.\n",
        "\n",
        "A good model has low bias."
      ]
    },
    {
      "cell_type": "markdown",
      "metadata": {
        "id": "TVm9mIV9eUb8"
      },
      "source": [
        "**Variance**: The difference of fits on various datasets.\n",
        "\n",
        "suppose, if the error on the training data is 10 and the error on the test data is 100, then the variance is 90. So, this is high variance or too much variability.\n",
        "\n",
        "\n",
        "An important point is, a model that has low bias that put all its effort to cover all points in the training data, but due to that the error in the test data increased, so that resulted in high variance in the data. (case of overfitting)\n",
        "\n",
        "\n",
        "\n",
        "1.   **Overfitting**: The model works good with the training data but not with the test data or in other words the training error is low but the test error is high and so the difference is very high between the two error. This is overfitting. \n",
        "\n",
        "2.   **Underfitting:** The model works poorly on the both, the test as well as the training data. Basically this has high bais and low variance.\n",
        "\n",
        "\n",
        "So, a good model should have **LOW BIAS and LOW VARIANCE**.\n",
        "\n",
        "![image.png](data:image/png;base64,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)"
      ]
    },
    {
      "cell_type": "markdown",
      "metadata": {
        "id": "waA34UhEh1sM"
      },
      "source": [
        "To create a model that has low bias and low variance, three techniques can be used:\n",
        "\n",
        "\n",
        "1.   Regularisation\n",
        "2.   Bagging \n",
        "3.   Boosting\n",
        "\n"
      ]
    }
  ],
  "metadata": {
    "colab": {
      "provenance": []
    },
    "kernelspec": {
      "display_name": "Python 3",
      "name": "python3"
    },
    "language_info": {
      "name": "python"
    }
  },
  "nbformat": 4,
  "nbformat_minor": 0
}